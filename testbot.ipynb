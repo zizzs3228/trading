{
 "cells": [
  {
   "cell_type": "code",
   "execution_count": 124,
   "metadata": {},
   "outputs": [],
   "source": [
    "from binance.client import Client\n",
    "import pandas as pd\n",
    "import plotly.graph_objects as go\n",
    "from pon import api,secret\n",
    "import numpy as np\n",
    "from datetime import timedelta\n",
    "import plotly.io as pio\n",
    "import schedule\n",
    "import time\n",
    "from plotly.subplots import make_subplots\n",
    "import pandas_ta as ta\n",
    "import matplotlib.pyplot as plt\n",
    "import warnings\n",
    "warnings.filterwarnings(\"ignore\")\n"
   ]
  },
  {
   "cell_type": "code",
   "execution_count": 125,
   "metadata": {},
   "outputs": [],
   "source": [
    "def get_price_data_binance(ticker:str,limit:int,start_str:str, end_str:str,interval = Client.KLINE_INTERVAL_1DAY)->pd.DataFrame:\n",
    "    client = Client(api, secret)\n",
    "    df = pd.DataFrame(client.get_historical_klines(symbol=ticker, interval=interval,start_str=start_str, end_str=end_str))\n",
    "    df.columns=['date','open','high','low','close','volume','close_time','d1','d2','d3','d4','d5']\n",
    "    df = df.drop(['close_time','d1','d2','d3','d4','d5'],axis=1)\n",
    "    df['date'] = pd.to_datetime(df['date']*1000000)\n",
    "    df['open'] = df['open'].astype(float)\n",
    "    df['high'] = df['high'].astype(float)\n",
    "    df['low'] = df['low'].astype(float)\n",
    "    df['close'] = df['close'].astype(float)\n",
    "    return df\n",
    "    \n",
    "def get_list_of_imbalances(df:pd.DataFrame)->list:\n",
    "    up_imbalances = []\n",
    "    down_imbalances = []\n",
    "    df['ATR'] = ta.atr(df['high'],df['low'],df['close'],14)\n",
    "    for i in range(5, len(df)-2):\n",
    "        prev_candle = df.iloc[i-2]\n",
    "        next_candle = df.iloc[i]\n",
    "        #if (df.iloc[i-1]['close'] - df.iloc[i-1]['open'])/3 < (next_candle['low'] - prev_candle['high']):\n",
    "        if (prev_candle['high'] < next_candle['low']) and df.iloc[i]['ATR']/(next_candle['low'] - prev_candle['high'])<20:\n",
    "            middle = round((prev_candle['high']+next_candle['low'])/2,2)\n",
    "            if df.iloc[i+1]['low'] > middle:\n",
    "                if df.iloc[i+2]['low'] > middle:\n",
    "                    if (df.iloc[i-1]['close']-next_candle['low']) > (next_candle['low']-middle) or (next_candle['close']-next_candle['low']) > (next_candle['low']-middle):\n",
    "                        up_imbalances.append([middle, \n",
    "                        prev_candle['high'],\n",
    "                        df.iloc[i-1]['date'],\n",
    "                        prev_candle['low']])\n",
    "\n",
    "        #if (df.iloc[i-1]['open'] - df.iloc[i]['open'])/3 < (prev_candle['low'] - next_candle['high']):\n",
    "        if (prev_candle['low'] > next_candle['high']) and df.iloc[i]['ATR']/(prev_candle['low'] - next_candle['high'])<20:\n",
    "            middle = round((prev_candle['low']+next_candle['high'])/2,2)\n",
    "            if df.iloc[i+1]['high'] < middle:\n",
    "                if df.iloc[i+2]['high'] < middle:\n",
    "                    if (next_candle['high']-df.iloc[i-1]['close']) > (middle-next_candle['high']) or (next_candle['high']-next_candle['close']) > (middle-next_candle['high']):\n",
    "                        down_imbalances.append([middle,\n",
    "                        prev_candle['low'],\n",
    "                        df.iloc[i-1]['date'],\n",
    "                        prev_candle['high']])\n",
    "\n",
    "    return up_imbalances, down_imbalances\n",
    "\n",
    "def check_within_imbalances(df:pd.DataFrame, up_imbalances:list, down_imbalances:list)->pd.DataFrame:\n",
    "    df['within_up_imbalance'] = False\n",
    "    df['within_down_imbalance'] = False\n",
    "    df['stop'] = 0\n",
    "    up_imbalancesCOPY = up_imbalances.copy()\n",
    "    down_imbalancesCOPY = down_imbalances.copy()\n",
    "    for i in range(2, len(df)):\n",
    "        for imbalance in up_imbalancesCOPY:\n",
    "            # if df.iloc[i]['low'] < imbalance[0] and df.iloc[i]['close'] > imbalance[1] and df.iloc[i]['date'] > imbalance[2]:\n",
    "            if hammer_up(df.loc[i, ['open', 'high', 'low', 'close']]) and df.iloc[i]['date'] > imbalance[2]:\n",
    "                if (df.iloc[i]['low']<imbalance[0] and df.iloc[i]['close']>imbalance[0] and df.iloc[i]['open']>imbalance[0]):\n",
    "                    df.loc[i, 'within_up_imbalance'] = True\n",
    "                    df.loc[i, 'stop'] = df.iloc[i]['low']\n",
    "                    \n",
    "            if hammer_up(df.loc[i, ['open', 'high', 'low', 'close']]) and df.iloc[i]['date'] > imbalance[2]:\n",
    "                if (df.iloc[i]['low']<imbalance[1] and df.iloc[i]['close']>imbalance[1] and df.iloc[i]['open']>imbalance[1]):\n",
    "                    df.loc[i, 'within_up_imbalance'] = True\n",
    "                    df.loc[i, 'stop'] = df.iloc[i]['low']\n",
    "\n",
    "        for imbalance in down_imbalancesCOPY:\n",
    "            # if df.iloc[i]['high'] > imbalance[0] and df.iloc[i]['close'] < imbalance[1] and df.iloc[i]['date'] > imbalance[2]:\n",
    "            if falling_star_down(df.loc[i, ['open', 'high', 'low', 'close']]) and df.iloc[i]['date']>imbalance[2]:\n",
    "                if df.iloc[i]['high']>imbalance[0] and df.iloc[i]['close']<imbalance[0] and df.iloc[i]['open']<imbalance[0]:\n",
    "                    df.loc[i, 'within_down_imbalance'] = True\n",
    "                    df.loc[i, 'stop'] = df.iloc[i]['high']\n",
    "                    \n",
    "            if falling_star_down(df.loc[i, ['open', 'high', 'low', 'close']]) and df.iloc[i]['date']>imbalance[2]:\n",
    "                if df.iloc[i]['high']>imbalance[1] and df.iloc[i]['close']<imbalance[1] and df.iloc[i]['open']<imbalance[1]:\n",
    "                    df.loc[i, 'within_down_imbalance'] = True\n",
    "                    df.loc[i, 'stop'] = df.iloc[i]['high']\n",
    "\n",
    "        for imbalance in up_imbalancesCOPY:\n",
    "            if df.iloc[i-2]['close'] < imbalance[1] and df.iloc[i-2]['date'] > imbalance[2]:\n",
    "                up_imbalancesCOPY.remove(imbalance)\n",
    "        \n",
    "        for imbalance in down_imbalancesCOPY:\n",
    "            if df.iloc[i-2]['close'] > imbalance[1] and df.iloc[i-2]['date'] > imbalance[2]:\n",
    "                down_imbalancesCOPY.remove(imbalance)\n",
    "\n",
    "    return df\n",
    "\n",
    "def delete_up_imbalance(up_imbalances, df:pd.DataFrame)->list:\n",
    "    for i in range(0, len(df)-10):\n",
    "        for imbalance in up_imbalances:\n",
    "            candle = df.iloc[i]\n",
    "            if candle['date']>imbalance[2]  and (candle['close'] < imbalance[0] or candle['low'] < imbalance[0]):\n",
    "                up_imbalances.remove(imbalance)\n",
    "    return up_imbalances[-3:]\n",
    "\n",
    "def delete_down_imbalance(down_imbalances, df:pd.DataFrame)->list:\n",
    "    for i in range(0, len(df)-10):\n",
    "        for imbalance in down_imbalances:\n",
    "            candle = df.iloc[i]\n",
    "            if candle['date']>imbalance[2] and (candle['close'] > imbalance[0] or candle['high'] > imbalance[0]):\n",
    "                down_imbalances.remove(imbalance)\n",
    "    \n",
    "    return down_imbalances[-3:]\n",
    "\n",
    "def get_list_of_levels(df:pd.DataFrame)->list:\n",
    "    levels = []\n",
    "    for i in range(len(df)):\n",
    "        levels.append([df.iloc[i]['high'],df.iloc[i]['date']])\n",
    "        levels.append([df.iloc[i]['low'],df.iloc[i]['date']])\n",
    "        \n",
    "    return levels\n",
    "\n",
    "def add_moving_average(df:pd.DataFrame)->pd.DataFrame:\n",
    "    \n",
    "    df['SMA9'] = df['Close'].rolling(9).mean()\n",
    "    df['SMA9slope'] = df['SMA9'].pct_change()*1000\n",
    "    \n",
    "    df['SMA12'] = df['Close'].rolling(12).mean()\n",
    "    df['SMA12slope'] = df['SMA12'].pct_change()*1000\n",
    "    \n",
    "    df['SMA25'] = df['Close'].rolling(25).mean()\n",
    "    df['SMA25slope'] = df['SMA25'].pct_change()*1000\n",
    "    \n",
    "    df['SMA200'] = df['Close'].rolling(200).mean()\n",
    "    df['SMA200slope'] = df['SMA200'].pct_change()*1000\n",
    "    df['SMA200sum'] = df['SMA200slope'].rolling(50).sum()\n",
    "    \n",
    "    df['crossunder'] = ((df['SMA12'].shift(1) < df['SMA25'].shift(1)) & (df['SMA12'] > df['SMA25'])).astype(int)\n",
    "    df['crossunder'] = df['crossunder'].apply(lambda x: 1 if x else 0)\n",
    "\n",
    "\n",
    "\n",
    "    \n",
    "\n",
    "    # df['up_reversal'] = ((df['SMAslope'].shift(1) < 0) & (df['SMAslope'] > 0))\n",
    "    # df['down_reversal'] = ((df['SMAslope'].shift(1) > 0) & (df['SMAslope'] < 0)) \n",
    "\n",
    "    return df\n",
    "\n",
    "def add_rsx_HF(period:int,df:pd.DataFrame)->pd.DataFrame:\n",
    "    df[\"RSX\"] = ta.rsx(round((df['close']+df['high']+df['low'])/3,2), period)\n",
    "    df['RSXslope'] = df['RSX'].pct_change()*100\n",
    "    df['RSX_up_reversal'] = ((df['RSXslope'].shift(1) < 0) & (df['RSXslope'] > 0)) & (df['RSX'] < 30)\n",
    "    df['RSX_down_reversal'] = ((df['RSXslope'].shift(1) > 0) & (df['RSXslope'] < 0)) & (df['RSX'] > 70)\n",
    "\n",
    "    up_reversals = []\n",
    "    down_reversals = []\n",
    "    # df['hidden_up_divergence'] = False\n",
    "    # df['hidden_down_divergence'] = False\n",
    "    df['classic_up_divergence'] = False\n",
    "    df['classic_down_divergence'] = False\n",
    "\n",
    "    for i in range(0, len(df)):\n",
    "        if df.iloc[i]['RSX_up_reversal']:\n",
    "            up_reversals.append(min((df.iloc[i]['low'],df.iloc[i-1]['RSX'],df.iloc[i]['date']),\n",
    "                (df.iloc[i-1]['low'],df.iloc[i-1]['RSX'],df.iloc[i-1]['date']),\n",
    "                (df.iloc[i-2]['low'],df.iloc[i-1]['RSX'],df.iloc[i-2]['date']),\n",
    "                (df.iloc[i-3]['low'],df.iloc[i-1]['RSX'],df.iloc[i-3]['date']),\n",
    "                (df.iloc[i-4]['low'],df.iloc[i-1]['RSX'],df.iloc[i-4]['date']),\n",
    "                (df.iloc[i-5]['low'],df.iloc[i-1]['RSX'],df.iloc[i-5]['date'])))\n",
    "\n",
    "        if df.iloc[i]['RSX_down_reversal']:\n",
    "            down_reversals.append(max((df.iloc[i]['high'],df.iloc[i-1]['RSX'],df.iloc[i]['date']),\n",
    "                (df.iloc[i-1]['high'],df.iloc[i-1]['RSX'],df.iloc[i-1]['date']),\n",
    "                (df.iloc[i-2]['high'],df.iloc[i-1]['RSX'],df.iloc[i-2]['date']),\n",
    "                (df.iloc[i-3]['high'],df.iloc[i-1]['RSX'],df.iloc[i-3]['date']),\n",
    "                (df.iloc[i-4]['high'],df.iloc[i-1]['RSX'],df.iloc[i-4]['date']),\n",
    "                (df.iloc[i-5]['high'],df.iloc[i-1]['RSX'],df.iloc[i-5]['date'])))\n",
    "\n",
    "        if up_reversals:\n",
    "            if df.iloc[i]['date']>up_reversals[-1][2]:\n",
    "                if df.iloc[i]['low'] < up_reversals[-1][0]:\n",
    "                    if df.iloc[i]['RSX'] > up_reversals[-1][1]:\n",
    "                        df.loc[i, 'classic_up_divergence'] = True\n",
    "\n",
    "        if down_reversals:\n",
    "            if df.iloc[i]['date']>down_reversals[-1][2]:\n",
    "                if df.iloc[i]['high'] > down_reversals[-1][0]:\n",
    "                    if df.iloc[i]['RSX'] < down_reversals[-1][1]:\n",
    "                        df.loc[i, 'classic_down_divergence'] = True\n",
    "\n",
    "        # if (up_reversals and down_reversals):\n",
    "        #     for up_reversal in up_reversals[-5:]:\n",
    "        #         if (up_reversal[0] < df.iloc[i]['low']) and (up_reversal[1] > df.iloc[i]['RSX']) and up_reversal[2] < df.iloc[i]['date']:\n",
    "        #             df.loc[i, 'hidden_up_divergence'] = True\n",
    "                \n",
    "        #     for down_reversal in down_reversals[-5:]:\n",
    "        #         if (down_reversal[0] > df.iloc[i]['high']) and (down_reversal[1] < df.iloc[i]['RSX']) and down_reversal[2] < df.iloc[i]['date']:\n",
    "        #             df.loc[i, 'hidden_down_divergence'] = True\n",
    "    return df\n",
    "\n",
    "def add_rsx_LF(period:int,df:pd.DataFrame)->pd.DataFrame:\n",
    "    df[\"RSX\"] = ta.rsx(round((df['close']+df['high']+df['low'])/3,2), period)\n",
    "    df['RSXslope'] = df['RSX'].pct_change()*100\n",
    "    df['RSX_up_reversal'] = ((df['RSXslope'].shift(1) < 0) & (df['RSXslope'] > 0)) & (df['RSXslope'].shift(1).rolling(5).sum()<-6)\n",
    "    df['RSX_down_reversal'] = ((df['RSXslope'].shift(1) > 0) & (df['RSXslope'] < 0)) & (df['RSXslope'].shift(1).rolling(5).sum()>6)\n",
    "\n",
    "    up_reversals = []\n",
    "    down_reversals = []\n",
    "    df['classic_up_divergence'] = False\n",
    "    df['classic_down_divergence'] = False\n",
    "\n",
    "    for i in range(len(df) - 200, len(df)):\n",
    "        if df.iloc[i]['RSX_up_reversal']:\n",
    "            up_reversals.append(min((df.iloc[i]['low'],df.iloc[i-1]['RSX'],df.iloc[i]['date']),\n",
    "                (df.iloc[i-1]['low'],df.iloc[i-1]['RSX'],df.iloc[i-1]['date']),\n",
    "                (df.iloc[i-2]['low'],df.iloc[i-1]['RSX'],df.iloc[i-2]['date']),\n",
    "                (df.iloc[i-3]['low'],df.iloc[i-1]['RSX'],df.iloc[i-3]['date']),\n",
    "                (df.iloc[i-4]['low'],df.iloc[i-1]['RSX'],df.iloc[i-4]['date']),\n",
    "                (df.iloc[i-5]['low'],df.iloc[i-1]['RSX'],df.iloc[i-5]['date'])))\n",
    "\n",
    "        if df.iloc[i]['RSX_down_reversal']:\n",
    "            down_reversals.append(max((df.iloc[i]['high'],df.iloc[i-1]['RSX'],df.iloc[i]['date']),\n",
    "                (df.iloc[i-1]['high'],df.iloc[i-1]['RSX'],df.iloc[i-1]['date']),\n",
    "                (df.iloc[i-2]['high'],df.iloc[i-1]['RSX'],df.iloc[i-2]['date']),\n",
    "                (df.iloc[i-3]['high'],df.iloc[i-1]['RSX'],df.iloc[i-3]['date']),\n",
    "                (df.iloc[i-4]['high'],df.iloc[i-1]['RSX'],df.iloc[i-4]['date']),\n",
    "                (df.iloc[i-5]['high'],df.iloc[i-1]['RSX'],df.iloc[i-5]['date'])))\n",
    "                \n",
    "        if (up_reversals and down_reversals):\n",
    "            for up_reversal in up_reversals[-1:]:    \n",
    "                if (up_reversal[0] > df.iloc[i]['low']) and (up_reversal[1] < df.iloc[i]['RSX']) and up_reversal[2] < df.iloc[i]['date']:\n",
    "                    df.loc[i, 'classic_up_divergence'] = True\n",
    "\n",
    "            for down_reversal in down_reversals[-1:]:       \n",
    "                if (down_reversal[0] < df.iloc[i]['high']) and (down_reversal[1] > df.iloc[i]['RSX']) and down_reversal[2] < df.iloc[i]['date']:\n",
    "                    df.loc[i, 'classic_down_divergence'] = True\n",
    "                \n",
    "    return df\n",
    "\n",
    "def add_rsx(period:int,df:pd.DataFrame)->pd.DataFrame:\n",
    "    df[\"RSX\"] = ta.rsx(round((df['close']+df['high']+df['low'])/3,2), period)\n",
    "    leftcounter = 5\n",
    "    rightcounter = 5\n",
    "    df['RSX_up_reversal'] = 110\n",
    "    df['RSX_down_reversal'] = -10\n",
    "    df['local_low'] = 100_000\n",
    "    df['local_high'] = -10\n",
    "    df['down_classic_divergence'] = False\n",
    "    df['up_classic_divergence'] = False\n",
    "    for i in range(leftcounter,len(df)-rightcounter):\n",
    "        if min(df.loc[i-leftcounter:i-1,'RSX'])>=df.iloc[i]['RSX'] and min(df.loc[i+1:i+rightcounter,'RSX'])>=df.iloc[i]['RSX']:\n",
    "            # if df.iloc[i+1]['close']>df.iloc[i+1]['open'] and df.iloc[i+2]['close']>df.iloc[i+2]['open']:\n",
    "                df.loc[df.index[i],'RSX_up_reversal'] = df.loc[df.index[i],'RSX']\n",
    "                df.loc[df.index[i],'local_low'] = min(df.loc[i-10:i,'low'])\n",
    "            \n",
    "        if max(df.loc[i-leftcounter:i-1,'RSX'])<=df.iloc[i]['RSX'] and max(df.loc[i+1:i+rightcounter,'RSX'])<=df.iloc[i]['RSX']:\n",
    "            # if df.iloc[i+1]['close']<df.iloc[i+1]['open'] and df.iloc[i+2]['close']<df.iloc[i+2]['open']:\n",
    "                df.loc[df.index[i],'RSX_down_reversal'] = df.loc[df.index[i],'RSX']\n",
    "                df.loc[df.index[i],'local_high'] = max(df.loc[i-10:i,'high'])\n",
    "    leftcounter = 15\n",
    "    for i in range(leftcounter,len(df)):\n",
    "        if max(df.loc[i-leftcounter:i-5,'RSX_down_reversal'])>df.loc[df.index[i],'RSX']:\n",
    "            if max(df.loc[i-leftcounter:i-5,'local_high'])<df.loc[df.index[i],'high']:\n",
    "                df.loc[df.index[i],'down_classic_divergence'] = True\n",
    "        if min(df.loc[i-leftcounter:i-5,'RSX_up_reversal'])<df.loc[df.index[i],'RSX']:\n",
    "            if min(df.loc[i-leftcounter:i-5,'local_low'])>df.loc[df.index[i],'low']:\n",
    "                df.loc[df.index[i],'up_classic_divergence'] = True\n",
    "    return df\n",
    "\n",
    "def three_candle_up_fractal(left:list,medium:list,right:list):\n",
    "    #ohlc - 0123\n",
    "    if left[0] > left[3] and right[0] < right[3] and left[0] > medium[3] and left[0] < right[3] and (left[0]-left[3])*2 > (right[3]-right[0]):\n",
    "        return True\n",
    "        \n",
    "def three_candle_down_fractal(left:list,medium:list,right:list):\n",
    "    #ohlc - 0123\n",
    "    if left[0] < left[3] and right[0] > right[3] and left[0] < medium[3] and left[0] > right[3] and (left[3]-left[0])*2 > (right[0]-right[3]):\n",
    "        return True\n",
    " \n",
    "def add_MACD(df:pd.DataFrame)->pd.DataFrame:\n",
    "    macd = pd.DataFrame(ta.macd(df['close']))\n",
    "    macd = macd.drop('MACDh_12_26_9',axis=1)\n",
    "    macd = macd.rename(columns={'MACD_12_26_9':'MACD','MACDs_12_26_9':'MACDs'})\n",
    "    df['MACDs'] = macd['MACDs']\n",
    "    df['MACD'] = macd['MACD']\n",
    "    # df = pd.concat([df, macd])\n",
    "    return df\n",
    "  \n",
    "def add_bb(df:pd.DataFrame)->pd.DataFrame:\n",
    "    bb = ta.bbands(df['close'])\n",
    "    bb = bb.drop(['BBB_5_2.0','BBP_5_2.0'],axis=1)\n",
    "    bb = bb.rename(columns={'BBL_5_2.0':'BBL','BBM_5_2.0':'BBM','BBU_5_2.0':'BBU'})\n",
    "    df['BBL'] = bb['BBL'].round(2)\n",
    "    df['BBM'] = bb['BBM'].round(2)\n",
    "    df['BBU'] = bb['BBU'].round(2)\n",
    "    return df\n",
    "    \n",
    "def add_EMA(period:int,df:pd.DataFrame)->pd.DataFrame:\n",
    "    df['EMA'] = ta.ema(df['close'],period)\n",
    "    return df\n",
    "    \n",
    "def add_atr(period:int,df:pd.DataFrame)->pd.DataFrame:\n",
    "    df['ATR'] = ta.atr(df['high'],df['low'],df['close'],period)   \n",
    "    return df \n",
    "    \n",
    "def hammer_up(current:list):\n",
    "    #ohlc - 0123\n",
    "    #При первом множителе 2 винрейт почти такой же, но сделок больше, что увеличивает прибыль\n",
    "    if current[0]>current[3]:\n",
    "        if (current[0]-current[3])*3 < (current[1]-current[2]) and (current[1]-current[0])*4 < (current[0]-current[2]):\n",
    "            return True\n",
    "    if current[0]<current[3]:\n",
    "        if (current[3]-current[0])*3 < (current[1]-current[2]) and (current[1]-current[3])*4 < (current[3]-current[2]):\n",
    "            return True\n",
    "\n",
    "def falling_star_down(current:list):\n",
    "    if current[0]>current[3]:\n",
    "        if (current[0]-current[3])*3 < (current[1]-current[2]) and (current[3]-current[2])*2 < (current[1]-current[3]):\n",
    "            return True\n",
    "    \n",
    "    if current[0]<current[3]:\n",
    "        if (current[3]-current[0])*3 < (current[1]-current[2]) and (current[0]-current[2])*2 < (current[1]-current[0]):\n",
    "            return True\n",
    "    \n",
    "def down_engulfing(left:list,right:list):\n",
    "    #ohlc - 0123\n",
    "    if left[0]<left[3] and right[3]<left[0] and (left[3]-left[0])*2 > (right[0]-right[3]):\n",
    "        if (right[1]-right[2])<(right[0]-right[3])*2:\n",
    "            if (left[1]-left[2])<(left[3]-left[0])*2:\n",
    "                return True\n",
    "    \n",
    "def up_engulfing(left:list,right:list):\n",
    "    #ohlc - 0123\n",
    "    if left[0]>left[3] and right[3]>left[0] and (left[0]-left[3])*2 > (right[3]-right[0]):\n",
    "        if (right[1]-right[2])<(right[3]-right[0])*2:\n",
    "            if (left[1]-left[2])<(left[0]-left[3])*2:\n",
    "                return True\n",
    "\n",
    "def local_reversals(df:pd.DataFrame)->pd.DataFrame:\n",
    "    leftcounter = 3\n",
    "    rightcounter = 3\n",
    "    df['up_reversal'] = 100_000\n",
    "    df['down_reversal'] = 0\n",
    "    for i in range(leftcounter,len(df)-rightcounter):\n",
    "        if min(df.loc[i-leftcounter:i-1,'low'])>=df.iloc[i]['low'] and min(df.loc[i+1:i+rightcounter,'low'])>=df.iloc[i]['low']:\n",
    "            # if df.iloc[i+1]['close']>df.iloc[i+1]['open'] and df.iloc[i+2]['close']>df.iloc[i+2]['open']:\n",
    "                df.loc[df.index[i],'up_reversal'] = df.loc[df.index[i],'low']\n",
    "            \n",
    "        if max(df.loc[i-leftcounter:i-1,'high'])<=df.iloc[i]['high'] and max(df.loc[i+1:i+rightcounter,'high'])<=df.iloc[i]['high']:\n",
    "            # if df.iloc[i+1]['close']<df.iloc[i+1]['open'] and df.iloc[i+2]['close']<df.iloc[i+2]['open']:\n",
    "                df.loc[df.index[i],'down_reversal'] = df.loc[df.index[i],'high']\n",
    "    return df\n",
    "\n",
    "def backtest(df: pd.DataFrame, buy_orders: list, sell_orders: list,depo:int,risk:int,depositchart=False,savecharts=True):\n",
    "    # Initialize variables to store statistics\n",
    "    candlesleft = 25\n",
    "    candlesright = 14\n",
    "    startdepo = depo\n",
    "    counter = 0 \n",
    "    win_buy_trades = 0\n",
    "    lose_buy_trades = 0\n",
    "    win_sell_trades = 0\n",
    "    lose_sell_trades = 0\n",
    "    depolist = [depo]\n",
    "    RRlist = []\n",
    "    # Iterate through buy orders\n",
    "    for order in buy_orders:\n",
    "        lose = depo*0.01*risk\n",
    "        open_price = order[0]\n",
    "        stop_loss = order[1]\n",
    "        take_profit = order[2]\n",
    "        open_index = order[3]\n",
    "        for i in range(open_index, len(df)):\n",
    "            if df.iloc[i]['low'] <= stop_loss:\n",
    "                depo -= (1*lose+(lose*0.002))\n",
    "                lose_buy_trades += 1\n",
    "                depolist.append(depo)\n",
    "                if savecharts:\n",
    "                    fig = go.Figure(data=[go.Candlestick(x=df['date'][open_index-candlesleft:open_index+candlesright],\n",
    "                            open=df['open'][open_index-candlesleft:open_index+candlesright],\n",
    "                            high=df['high'][open_index-candlesleft:open_index+candlesright],\n",
    "                            low=df['low'][open_index-candlesleft:open_index+candlesright],\n",
    "                            close=df['close'][open_index-candlesleft:open_index+candlesright])])\n",
    "                    fig.update_layout(title='Убыток')        \n",
    "                    fig.add_trace(go.Scatter(x=[df.iloc[open_index]['date']],y=[open_price],mode='markers', marker=dict(size=4, color='white')))\n",
    "                    fig.add_trace(go.Scatter(x=[df.iloc[open_index]['date']],y=[stop_loss],mode='markers', marker=dict(size=4, color='red')))\n",
    "                    fig.add_trace(go.Scatter(x=[df.iloc[open_index]['date']],y=[take_profit],mode='markers', marker=dict(size=4, color='green')))\n",
    "                    counter+=1\n",
    "                    pio.write_image(fig, f'screens\\\\screen№{counter}-Убыток.jpg')\n",
    "                break\n",
    "            elif df.iloc[i]['high'] >= take_profit:\n",
    "                depo += (round((open_price - take_profit)/(stop_loss - open_price),2)*lose-(lose*0.002))\n",
    "                win_buy_trades += 1\n",
    "                depolist.append(depo)\n",
    "                RRlist.append(round((open_price - take_profit)/(stop_loss - open_price),2))\n",
    "                if savecharts:\n",
    "                    fig = go.Figure(data=[go.Candlestick(x=df['date'][open_index-candlesleft:open_index+candlesright],\n",
    "                            open=df['open'][open_index-candlesleft:open_index+candlesright],\n",
    "                            high=df['high'][open_index-candlesleft:open_index+candlesright],\n",
    "                            low=df['low'][open_index-candlesleft:open_index+candlesright],\n",
    "                            close=df['close'][open_index-candlesleft:open_index+candlesright])])\n",
    "                    fig.update_layout(title='Прибыль')        \n",
    "                    fig.add_trace(go.Scatter(x=[df.iloc[open_index]['date']],y=[open_price],mode='markers', marker=dict(size=4, color='white')))\n",
    "                    fig.add_trace(go.Scatter(x=[df.iloc[open_index]['date']],y=[stop_loss],mode='markers', marker=dict(size=4, color='red')))\n",
    "                    fig.add_trace(go.Scatter(x=[df.iloc[open_index]['date']],y=[take_profit],mode='markers', marker=dict(size=4, color='green')))\n",
    "                    counter+=1\n",
    "                    pio.write_image(fig, f'screens\\\\screen№{counter}-Прибыль.jpg')\n",
    "                break\n",
    "    \n",
    "    # Iterate through sell orders\n",
    "    for order in sell_orders:\n",
    "        lose = depo*0.01*risk\n",
    "        open_price = order[0]\n",
    "        stop_loss = order[1]\n",
    "        take_profit = order[2]\n",
    "        open_index = order[3]\n",
    "        \n",
    "        # round((open_price - take_profit)/(stop_loss - open_price),2)\n",
    "        \n",
    "        for i in range(open_index, len(df)):\n",
    "            if df.iloc[i]['high'] >= stop_loss:\n",
    "                depo -= (1*lose+(lose*0.002))\n",
    "                lose_sell_trades += 1\n",
    "                depolist.append(depo)\n",
    "                if savecharts:\n",
    "                    fig = go.Figure(data=[go.Candlestick(x=df['date'][open_index-candlesleft:open_index+candlesright],\n",
    "                            open=df['open'][open_index-candlesleft:open_index+candlesright],\n",
    "                            high=df['high'][open_index-candlesleft:open_index+candlesright],\n",
    "                            low=df['low'][open_index-candlesleft:open_index+candlesright],\n",
    "                            close=df['close'][open_index-candlesleft:open_index+candlesright])])\n",
    "                    fig.update_layout(title='Убыток')        \n",
    "                    fig.add_trace(go.Scatter(x=[df.iloc[open_index]['date']],y=[open_price],mode='markers', marker=dict(size=4, color='white')))\n",
    "                    fig.add_trace(go.Scatter(x=[df.iloc[open_index]['date']],y=[stop_loss],mode='markers', marker=dict(size=4, color='red')))\n",
    "                    fig.add_trace(go.Scatter(x=[df.iloc[open_index]['date']],y=[take_profit],mode='markers', marker=dict(size=4, color='green')))\n",
    "                    counter+=1\n",
    "                    pio.write_image(fig, f'screens\\\\screen№{counter}-Убыток.jpg')\n",
    "                break\n",
    "            elif df.iloc[i]['low'] <= take_profit:\n",
    "                depo += (round((open_price - take_profit)/(stop_loss - open_price),2)*lose-(lose*0.002))\n",
    "                win_sell_trades += 1\n",
    "                depolist.append(depo)\n",
    "                RRlist.append(round((open_price - take_profit)/(stop_loss - open_price),2))\n",
    "                if savecharts:\n",
    "                    fig = go.Figure(data=[go.Candlestick(x=df['date'][open_index-candlesleft:open_index+candlesright],\n",
    "                            open=df['open'][open_index-candlesleft:open_index+candlesright],\n",
    "                            high=df['high'][open_index-candlesleft:open_index+candlesright],\n",
    "                            low=df['low'][open_index-candlesleft:open_index+candlesright],\n",
    "                            close=df['close'][open_index-candlesleft:open_index+candlesright])])\n",
    "                    fig.update_layout(title='Прибыль')        \n",
    "                    fig.add_trace(go.Scatter(x=[df.iloc[open_index]['date']],y=[open_price],mode='markers', marker=dict(size=4, color='white')))\n",
    "                    fig.add_trace(go.Scatter(x=[df.iloc[open_index]['date']],y=[stop_loss],mode='markers', marker=dict(size=4, color='red')))\n",
    "                    fig.add_trace(go.Scatter(x=[df.iloc[open_index]['date']],y=[take_profit],mode='markers', marker=dict(size=4, color='green')))\n",
    "                    counter+=1\n",
    "                    pio.write_image(fig, f'screens\\\\screen№{counter}-Прибыль.jpg')\n",
    "                break\n",
    "    buy_winrate = 0\n",
    "    sell_winrate = 0\n",
    "    if len(buy_orders)>0:\n",
    "        buy_winrate = round((win_buy_trades)/len(buy_orders)*100,2)\n",
    "    if len(sell_orders)>0:\n",
    "        sell_winrate = round((win_sell_trades)/len(sell_orders)*100,2)\n",
    "    total_trades = win_buy_trades + win_sell_trades + lose_buy_trades + lose_sell_trades\n",
    "    \n",
    "    peak = depolist[0]\n",
    "    max_drawdown = 0\n",
    "    maxdrawdownpeak = 0\n",
    "    if total_trades:\n",
    "        winrate = round((win_buy_trades+win_sell_trades)/total_trades*100,2)\n",
    "    else:\n",
    "        winrate = 0\n",
    "    for deposit in depolist:\n",
    "        peak = max(peak, deposit)\n",
    "        drawdown = round((peak - deposit)/peak*100,2)\n",
    "        if max_drawdown < drawdown:\n",
    "            max_drawdown = max(max_drawdown, drawdown)\n",
    "            maxdrawdownpeak = peak\n",
    "\n",
    "    print(f\"\"\"\n",
    "        Total trades: {total_trades},\n",
    "        Total win trades: {win_buy_trades + win_sell_trades}\n",
    "        Total lose trades: {lose_buy_trades + lose_sell_trades}\n",
    "        Total buy trades: {win_buy_trades + lose_buy_trades}\n",
    "        Total sell trades: {win_sell_trades + lose_sell_trades}\n",
    "        Winrate: {winrate}%\n",
    "        Winrate buy trades: {buy_winrate}%\n",
    "        Winrate sell trades: {sell_winrate}%\n",
    "        Risk: {risk}%\n",
    "        Avg RR: {round(sum(RRlist)/len(RRlist),2)}\n",
    "        Start deposit: {startdepo}$\n",
    "        Deposit: {round(depo,3)}$\n",
    "        Max Drawdown(%): {max_drawdown}%\n",
    "        Max Drawdown($): {round(maxdrawdownpeak*0.01*max_drawdown,2)}$\"\"\"\n",
    "    )\n",
    "    if depositchart:\n",
    "        fig = go.Figure(data=[go.Scatter(x=list(range(len(depolist))), y=depolist,mode='lines')])\n",
    "        fig.show()\n",
    "\n",
    "def bigwick(current:list):\n",
    "    # ohlc\n",
    "    if (current[1]-current[2])/2 > abs(current[3]-current[0]):\n",
    "        return True\n",
    "\n",
    "def saveworkingfuncs(df):\n",
    "    # buy_orders = []\n",
    "    # sell_orders = []\n",
    "\n",
    "    # multiplier = 1.5\n",
    "    # counter = 0\n",
    "    # for i in range(35, len(df)-15):\n",
    "    #     if min(df.loc[i-candlesleft:i-6,'up_reversal'])>=df.iloc[i-1]['low']:\n",
    "    #         if min(df.loc[i-candlesleft:i-6,'up_reversal'])<df.iloc[i-1]['close'] and min(df.loc[i-candlesleft:i-6,'up_reversal'])<df.iloc[i-1]['open']:\n",
    "    #             if min(df.loc[i-8:i-2,'low'])<df.iloc[i-1]['low']:\n",
    "    #                 if bigwick(df.loc[i-1, ['open', 'high', 'low', 'close']]):\n",
    "    #                     buy_orders.append((df.iloc[i]['open'], df.iloc[i-1]['low'],\n",
    "    #                     round(df.iloc[i]['open'] + (df.iloc[i]['open']-df.iloc[i-1]['low'])*multiplier,2),\n",
    "    #                     df.iloc[i]['date']))\n",
    "        \n",
    "    #     if max(df.loc[i-candlesleft:i-8,'down_reversal'])<=df.iloc[i-1]['high']:\n",
    "    #         if max(df.loc[i-candlesleft:i-6,'down_reversal'])<=df.iloc[i-1]['high']:\n",
    "    #             if max(df.loc[i-candlesleft:i-6,'down_reversal'])>df.iloc[i-1]['close'] and max(df.loc[i-candlesleft:i-6,'down_reversal'])>df.iloc[i-1]['open']:\n",
    "    #                 if max(df.loc[i-8:i-2,'high'])<=df.iloc[i-1]['high']:\n",
    "    #                     if bigwick(df.loc[i-1, ['open', 'high', 'low', 'close']]):\n",
    "    #                         sell_orders.append((df.iloc[i]['open'], df.iloc[i-1]['high'],\n",
    "    #                         round(df.iloc[i]['open'] - (df.iloc[i-1]['high']-df.iloc[i]['open'])*multiplier,2),\n",
    "    #                         df.iloc[i]['date'])) \n",
    "        \n",
    "    #     for i in range(watchleft, len(df)-1):\n",
    "    # if (min(df.loc[i-watchleft:i-1,'up_reversal']) - df.iloc[i]['low'])>(df.iloc[i]['close'] - min(df.loc[i-watchleft:i-1,'up_reversal'])):\n",
    "    #     if min(df.loc[i-watchleft:i-1,'up_reversal'])>df.iloc[i]['low'] and min(df.loc[i-5:i-1,'low'])>df.iloc[i]['low']:\n",
    "    #         if min(df.loc[i-watchleft:i-1,'up_reversal'])<df.iloc[i]['close'] and min(df.loc[i-watchleft:i-1,'up_reversal'])<df.iloc[i]['open']:\n",
    "    #             if (max(df.loc[i-5:i-1,'high'])-min(df.loc[i-watchleft:i-1,'up_reversal']))>(df.iloc[i]['high']-df.iloc[i]['low']):\n",
    "    #                 buy_orders.append((df.iloc[i+1]['open'], df.iloc[i]['low'],\n",
    "    #                 round(df.iloc[i+1]['open'] + (df.iloc[i+1]['open']-df.iloc[i]['low'])*multiplier,2),\n",
    "    #                 i+1))\n",
    "            \n",
    "    # if (max(df.loc[i-watchleft:i-1,'down_reversal']) - df.iloc[i]['close'])<(df.iloc[i]['high'] - max(df.loc[i-watchleft:i-1,'down_reversal'])):\n",
    "    #     if max(df.loc[i-watchleft:i-1,'down_reversal'])<df.iloc[i]['high'] and max(df.loc[i-5:i-1,'high'])<df.iloc[i]['high']:\n",
    "    #         if max(df.loc[i-watchleft:i-1,'down_reversal'])>df.iloc[i]['close'] and max(df.loc[i-watchleft:i-1,'down_reversal'])>df.iloc[i]['open']:\n",
    "    #             if (max(df.loc[i-watchleft:i-1,'down_reversal'])-min(df.loc[i-watchleft:i-1,'low']))>(df.iloc[i]['high']-df.iloc[i]['low']):\n",
    "    #                 sell_orders.append((df.iloc[i+1]['open'], df.iloc[i]['high'],\n",
    "    #                 round(df.iloc[i+1]['open'] - (df.iloc[i]['high']-df.iloc[i+1]['open'])*multiplier,2),\n",
    "    #                 i+1)) \n",
    "    pass"
   ]
  },
  {
   "cell_type": "code",
   "execution_count": 126,
   "metadata": {},
   "outputs": [],
   "source": [
    "# df_higher_tf = get_price_data_binance('BTCUSDT',1000,start_str='1 Jan, 2023', end_str='25 Jan, 2023',interval=Client.KLINE_INTERVAL_30MINUTE)\n",
    "# df_lower_tf = get_price_data_binance('BTCUSDT',1000,start_str='1 Jan, 2023', end_str='25 Jan, 2023',interval=Client.KLINE_INTERVAL_15MINUTE)\n",
    "# df_higher_tf2 = get_price_data_binance('BTCUSDT',1000,start_str='18 Dec, 2022', end_str='7 Jan, 2023',interval=Client.KLINE_INTERVAL_30MINUTE)\n",
    "# df_higher_tf3 = get_price_data_binance('BTCUSDT',1000,start_str='28 Nov, 2022', end_str='18 Dec, 2022',interval=Client.KLINE_INTERVAL_30MINUTE)\n",
    "# df_higher_tf4 = get_price_data_binance('BTCUSDT',1000,start_str='7 Nov, 2022', end_str='28 Nov, 2022',interval=Client.KLINE_INTERVAL_30MINUTE)\n",
    "# enddf = pd.read_csv('enddf.csv')\n",
    "\n",
    "# stoch = ta.stoch(high=df['High'], low=df['Low'], close=df['Close'])\n",
    "#df_lower_tf = get_price_data_binance('BTCUSDT',1000,interval=Client.KLINE_INTERVAL_5MINUTE)\n",
    "\n",
    "# df = get_price_data_binance('BTCUSDT',1000,start_str='06:00 27 Mar, 2023 ', end_str='14:00 27 Mar, 2023',interval=Client.KLINE_INTERVAL_5MINUTE)\n",
    "df = get_price_data_binance('BTCUSDT',1000,start_str='21 Apr, 2023 ', end_str='26 Apr, 2023',interval=Client.KLINE_INTERVAL_1HOUR)"
   ]
  },
  {
   "cell_type": "code",
   "execution_count": 127,
   "metadata": {},
   "outputs": [
    {
     "data": {
      "application/vnd.plotly.v1+json": {
       "config": {
        "plotlyServerURL": "https://plot.ly"
       },
       "data": [
        {
         "close": [
          28291.26,
          28200.91,
          28247.5,
          28321.41,
          28236.16,
          28158.21,
          27916.88,
          28155.03,
          28071.9,
          28060.85,
          28001.96,
          28066.21,
          28218.64,
          28113.44,
          28060.86,
          28040.7,
          28042.71,
          27901.63,
          27783.96,
          27279.91,
          27270.88,
          27279.99,
          27266.08,
          27262.84,
          27225.08,
          27291.67,
          27241.52,
          27322.16,
          27347.99,
          27397.63,
          27346.5,
          27277.76,
          27211.42,
          27239.06,
          27250.04,
          27286.65,
          27338.04,
          27254.99,
          27476.09,
          27488.93,
          27586.57,
          27668.63,
          27601.29,
          27622.61,
          27634.45,
          27669.09,
          27853.28,
          27816.85,
          27541.8,
          27551.15,
          27592.02,
          27557.84,
          27605.82,
          27585.14,
          27588.14,
          27718.9,
          27710.51,
          27628.95,
          27527.61,
          27642.9,
          27605.99,
          27630.76,
          27552.51,
          27474.47,
          27584.42,
          27512.97,
          27455.7,
          27465.77,
          27504.62,
          27517.83,
          27591.73,
          27590.6,
          27807.49,
          27752.48,
          27745.17,
          27790.48,
          27702.34,
          27654.83,
          27546.68,
          27451.97,
          27185.75,
          27313.1,
          27418.91,
          27550.84,
          27443.85,
          27624.25,
          27430.19,
          27267.05,
          27110.55,
          27381.49,
          27339.9,
          27383.29,
          27460.44,
          27414.64,
          27463.87,
          27510.93,
          27459.04,
          27403.24,
          27402.81,
          27345.72,
          27410,
          27413.2,
          27357.31,
          27266.54,
          27430.87,
          27323,
          27331.01,
          27390.96,
          27394.26,
          27344.62,
          27294.69,
          27345,
          27393.27,
          27617.65,
          27577.66,
          27611.4,
          27975.01,
          28262.89,
          28233.25,
          28300.79,
          28299.63
         ],
         "high": [
          28374.02,
          28320.25,
          28248.46,
          28333.6,
          28348,
          28257.7,
          28216.1,
          28173.94,
          28237.3,
          28112.5,
          28152.62,
          28093.55,
          28230.43,
          28308.45,
          28225.93,
          28139.62,
          28090.54,
          28057.67,
          27989.68,
          27801,
          27409.62,
          27377.29,
          27351.29,
          27341.63,
          27331.99,
          27310,
          27321.69,
          27367.77,
          27371.01,
          27397.63,
          27397.63,
          27351.94,
          27308.07,
          27271.67,
          27267.99,
          27324.58,
          27359.06,
          27358.41,
          27497.99,
          27562.17,
          27696,
          27804.38,
          27676.64,
          27658.52,
          27700.07,
          27669.09,
          27875.06,
          27882.72,
          27816.85,
          27661.97,
          27600,
          27643.57,
          27627.44,
          27620.18,
          27624.95,
          27751.47,
          27777,
          27724.49,
          27642.89,
          27648.43,
          27735.25,
          27663.08,
          27680.03,
          27576.92,
          27689.83,
          27632.31,
          27543.49,
          27526.81,
          27546.83,
          27552.76,
          27642.03,
          27650.28,
          27871.69,
          28000,
          27827.53,
          27791.91,
          27800,
          27758.48,
          27703.85,
          27546.69,
          27519.74,
          27373.21,
          27436.13,
          27553.24,
          27580,
          27720.57,
          27700,
          27431.78,
          27394.52,
          27409.46,
          27579.8,
          27416.15,
          27483,
          27460.45,
          27518.2,
          27560.73,
          27590.28,
          27517,
          27429.99,
          27432.62,
          27445.99,
          27459.58,
          27446.13,
          27405.25,
          27443.63,
          27441.84,
          27350.56,
          27434.28,
          27478.5,
          27482.71,
          27396.84,
          27433.96,
          27419.06,
          27650.1,
          27790.19,
          27660.07,
          28047.39,
          28309.61,
          28399.99,
          28359.14,
          28481
         ],
         "low": [
          28090,
          28192.08,
          28136.63,
          28239.99,
          28226.38,
          28154.73,
          27815.89,
          27839.31,
          28015.71,
          27967.09,
          27936.8,
          27919.69,
          27962.65,
          28091.99,
          28034.64,
          27985.45,
          27951.9,
          27777.01,
          27712.75,
          27184.54,
          27166,
          27233.63,
          27125,
          27199.39,
          27217.16,
          27140.35,
          27233.71,
          27235.89,
          27303,
          27308,
          27303.27,
          27225,
          27188,
          27211.41,
          27184.24,
          27238.85,
          27283.18,
          27231,
          27244.56,
          27382.07,
          27484.63,
          27567.6,
          27523.67,
          27586.32,
          27622.61,
          27566.91,
          27650.63,
          27800.8,
          27415.56,
          27477.03,
          27483.68,
          27533.76,
          27547.04,
          27531.85,
          27555.7,
          27550.83,
          27669.27,
          27587.09,
          27482.79,
          27508.57,
          27589.44,
          27572.55,
          27500,
          27311.25,
          27368.72,
          27479.83,
          27330,
          27411.93,
          27402.88,
          27490,
          27423.46,
          27543.47,
          27427.3,
          27685,
          27670.28,
          27677.12,
          27696.12,
          27633.17,
          27466.75,
          27350,
          27157.14,
          27167.1,
          27307.66,
          27378.42,
          27425.95,
          27389.49,
          27280.09,
          27200,
          27028.64,
          26942.82,
          27290,
          27321.68,
          27340.15,
          27320.47,
          27382.6,
          27443.58,
          27432.01,
          27368.86,
          27321.58,
          27313.74,
          27331.41,
          27320.5,
          27345.39,
          27240.8,
          27192,
          27284.12,
          27286.9,
          27314.48,
          27357.2,
          27320.99,
          27199.17,
          27272.69,
          27316.2,
          27320,
          27553.3,
          27478.22,
          27611.01,
          27975.01,
          28195.6,
          28161.54,
          28266.17
         ],
         "open": [
          28243.65,
          28291.25,
          28200.91,
          28247.49,
          28321.42,
          28236.15,
          28158.22,
          27916.87,
          28155.02,
          28071.89,
          28060.85,
          28001.96,
          28066.22,
          28218.65,
          28113.44,
          28060.87,
          28040.7,
          28042.71,
          27901.64,
          27783.97,
          27279.9,
          27270.87,
          27279.99,
          27266.07,
          27262.84,
          27225.07,
          27291.66,
          27241.53,
          27322.15,
          27347.98,
          27397.62,
          27346.51,
          27277.75,
          27211.42,
          27239.07,
          27250.05,
          27286.65,
          27338.05,
          27255,
          27476.1,
          27488.93,
          27586.56,
          27668.62,
          27601.3,
          27622.61,
          27634.45,
          27669.09,
          27853.28,
          27816.85,
          27541.79,
          27551.14,
          27592.02,
          27557.83,
          27605.82,
          27585.13,
          27588.15,
          27718.89,
          27710.51,
          27628.95,
          27527.61,
          27642.89,
          27605.99,
          27630.76,
          27552.51,
          27474.47,
          27584.43,
          27512.97,
          27455.69,
          27465.78,
          27504.62,
          27517.83,
          27591.73,
          27590.59,
          27807.5,
          27752.47,
          27745.17,
          27790.49,
          27702.33,
          27654.83,
          27546.69,
          27451.98,
          27185.74,
          27313.1,
          27418.91,
          27550.83,
          27443.84,
          27624.24,
          27430.19,
          27267.06,
          27110.56,
          27381.48,
          27339.91,
          27383.28,
          27460.44,
          27414.64,
          27463.86,
          27510.93,
          27459.04,
          27403.25,
          27402.82,
          27345.71,
          27409.99,
          27413.2,
          27357.32,
          27266.54,
          27430.87,
          27323,
          27331.01,
          27390.96,
          27394.25,
          27344.62,
          27294.68,
          27345,
          27393.27,
          27617.66,
          27577.66,
          27611.39,
          27975.01,
          28262.89,
          28233.26,
          28300.8
         ],
         "type": "candlestick",
         "x": [
          "2023-04-21T00:00:00",
          "2023-04-21T01:00:00",
          "2023-04-21T02:00:00",
          "2023-04-21T03:00:00",
          "2023-04-21T04:00:00",
          "2023-04-21T05:00:00",
          "2023-04-21T06:00:00",
          "2023-04-21T07:00:00",
          "2023-04-21T08:00:00",
          "2023-04-21T09:00:00",
          "2023-04-21T10:00:00",
          "2023-04-21T11:00:00",
          "2023-04-21T12:00:00",
          "2023-04-21T13:00:00",
          "2023-04-21T14:00:00",
          "2023-04-21T15:00:00",
          "2023-04-21T16:00:00",
          "2023-04-21T17:00:00",
          "2023-04-21T18:00:00",
          "2023-04-21T19:00:00",
          "2023-04-21T20:00:00",
          "2023-04-21T21:00:00",
          "2023-04-21T22:00:00",
          "2023-04-21T23:00:00",
          "2023-04-22T00:00:00",
          "2023-04-22T01:00:00",
          "2023-04-22T02:00:00",
          "2023-04-22T03:00:00",
          "2023-04-22T04:00:00",
          "2023-04-22T05:00:00",
          "2023-04-22T06:00:00",
          "2023-04-22T07:00:00",
          "2023-04-22T08:00:00",
          "2023-04-22T09:00:00",
          "2023-04-22T10:00:00",
          "2023-04-22T11:00:00",
          "2023-04-22T12:00:00",
          "2023-04-22T13:00:00",
          "2023-04-22T14:00:00",
          "2023-04-22T15:00:00",
          "2023-04-22T16:00:00",
          "2023-04-22T17:00:00",
          "2023-04-22T18:00:00",
          "2023-04-22T19:00:00",
          "2023-04-22T20:00:00",
          "2023-04-22T21:00:00",
          "2023-04-22T22:00:00",
          "2023-04-22T23:00:00",
          "2023-04-23T00:00:00",
          "2023-04-23T01:00:00",
          "2023-04-23T02:00:00",
          "2023-04-23T03:00:00",
          "2023-04-23T04:00:00",
          "2023-04-23T05:00:00",
          "2023-04-23T06:00:00",
          "2023-04-23T07:00:00",
          "2023-04-23T08:00:00",
          "2023-04-23T09:00:00",
          "2023-04-23T10:00:00",
          "2023-04-23T11:00:00",
          "2023-04-23T12:00:00",
          "2023-04-23T13:00:00",
          "2023-04-23T14:00:00",
          "2023-04-23T15:00:00",
          "2023-04-23T16:00:00",
          "2023-04-23T17:00:00",
          "2023-04-23T18:00:00",
          "2023-04-23T19:00:00",
          "2023-04-23T20:00:00",
          "2023-04-23T21:00:00",
          "2023-04-23T22:00:00",
          "2023-04-23T23:00:00",
          "2023-04-24T00:00:00",
          "2023-04-24T01:00:00",
          "2023-04-24T02:00:00",
          "2023-04-24T03:00:00",
          "2023-04-24T04:00:00",
          "2023-04-24T05:00:00",
          "2023-04-24T06:00:00",
          "2023-04-24T07:00:00",
          "2023-04-24T08:00:00",
          "2023-04-24T09:00:00",
          "2023-04-24T10:00:00",
          "2023-04-24T11:00:00",
          "2023-04-24T12:00:00",
          "2023-04-24T13:00:00",
          "2023-04-24T14:00:00",
          "2023-04-24T15:00:00",
          "2023-04-24T16:00:00",
          "2023-04-24T17:00:00",
          "2023-04-24T18:00:00",
          "2023-04-24T19:00:00",
          "2023-04-24T20:00:00",
          "2023-04-24T21:00:00",
          "2023-04-24T22:00:00",
          "2023-04-24T23:00:00",
          "2023-04-25T00:00:00",
          "2023-04-25T01:00:00",
          "2023-04-25T02:00:00",
          "2023-04-25T03:00:00",
          "2023-04-25T04:00:00",
          "2023-04-25T05:00:00",
          "2023-04-25T06:00:00",
          "2023-04-25T07:00:00",
          "2023-04-25T08:00:00",
          "2023-04-25T09:00:00",
          "2023-04-25T10:00:00",
          "2023-04-25T11:00:00",
          "2023-04-25T12:00:00",
          "2023-04-25T13:00:00",
          "2023-04-25T14:00:00",
          "2023-04-25T15:00:00",
          "2023-04-25T16:00:00",
          "2023-04-25T17:00:00",
          "2023-04-25T18:00:00",
          "2023-04-25T19:00:00",
          "2023-04-25T20:00:00",
          "2023-04-25T21:00:00",
          "2023-04-25T22:00:00",
          "2023-04-25T23:00:00",
          "2023-04-26T00:00:00"
         ]
        },
        {
         "mode": "lines",
         "name": "New",
         "type": "scatter",
         "x": [
          "2023-04-23T16:00:00",
          "2023-04-23T17:00:00",
          "2023-04-23T18:00:00",
          "2023-04-23T19:00:00",
          "2023-04-23T20:00:00",
          "2023-04-23T21:00:00",
          "2023-04-23T22:00:00",
          "2023-04-23T23:00:00",
          "2023-04-24T00:00:00",
          "2023-04-24T01:00:00",
          "2023-04-24T02:00:00",
          "2023-04-24T03:00:00",
          "2023-04-24T04:00:00",
          "2023-04-24T05:00:00",
          "2023-04-24T06:00:00",
          "2023-04-24T07:00:00",
          "2023-04-24T08:00:00",
          "2023-04-24T09:00:00",
          "2023-04-24T10:00:00",
          "2023-04-24T11:00:00",
          "2023-04-24T12:00:00",
          "2023-04-24T13:00:00",
          "2023-04-24T14:00:00",
          "2023-04-24T15:00:00",
          "2023-04-24T16:00:00",
          "2023-04-24T17:00:00",
          "2023-04-24T18:00:00",
          "2023-04-24T19:00:00",
          "2023-04-24T20:00:00",
          "2023-04-24T21:00:00",
          "2023-04-24T22:00:00",
          "2023-04-24T23:00:00",
          "2023-04-25T00:00:00",
          "2023-04-25T01:00:00",
          "2023-04-25T02:00:00",
          "2023-04-25T03:00:00",
          "2023-04-25T04:00:00",
          "2023-04-25T05:00:00",
          "2023-04-25T06:00:00",
          "2023-04-25T07:00:00",
          "2023-04-25T08:00:00",
          "2023-04-25T09:00:00",
          "2023-04-25T10:00:00",
          "2023-04-25T11:00:00",
          "2023-04-25T12:00:00",
          "2023-04-25T13:00:00",
          "2023-04-25T14:00:00",
          "2023-04-25T15:00:00",
          "2023-04-25T16:00:00",
          "2023-04-25T17:00:00",
          "2023-04-25T18:00:00",
          "2023-04-25T19:00:00",
          "2023-04-25T20:00:00",
          "2023-04-25T21:00:00",
          "2023-04-25T22:00:00",
          "2023-04-25T23:00:00",
          "2023-04-26T00:00:00"
         ],
         "y": [
          27878.41,
          27868.72,
          27859.03,
          27849.34,
          27839.65,
          27829.96,
          27820.27,
          27810.579999999998,
          27800.89,
          27791.2,
          27781.51,
          27771.82,
          27762.13,
          27752.44,
          27742.75,
          27733.06,
          27723.37,
          27713.68,
          27703.989999999998,
          27694.3,
          27684.61,
          27674.92,
          27665.23,
          27655.54,
          27645.85,
          27636.16,
          27626.47,
          27616.78,
          27607.09,
          27597.4,
          27587.71,
          27578.02,
          27568.329999999998,
          27558.64,
          27548.95,
          27539.26,
          27529.57,
          27519.88,
          27510.19,
          27500.5,
          27490.81,
          27481.12,
          27471.43,
          27461.739999999998,
          27452.05,
          27442.36,
          27432.67,
          27422.98,
          27413.29,
          27403.6,
          27393.91,
          27384.22,
          27374.53,
          27364.84,
          27355.15,
          27345.46
         ]
        },
        {
         "marker": {
          "color": "red",
          "size": 4
         },
         "mode": "markers",
         "type": "scatter",
         "x": [
          "2023-04-21T04:00:00"
         ],
         "y": [
          28348
         ]
        },
        {
         "marker": {
          "color": "green",
          "size": 4
         },
         "mode": "markers",
         "type": "scatter",
         "x": [
          "2023-04-21T06:00:00"
         ],
         "y": [
          27815.89
         ]
        },
        {
         "marker": {
          "color": "green",
          "size": 4
         },
         "mode": "markers",
         "type": "scatter",
         "x": [
          "2023-04-21T11:00:00"
         ],
         "y": [
          27919.69
         ]
        },
        {
         "marker": {
          "color": "red",
          "size": 4
         },
         "mode": "markers",
         "type": "scatter",
         "x": [
          "2023-04-21T13:00:00"
         ],
         "y": [
          28308.45
         ]
        },
        {
         "marker": {
          "color": "green",
          "size": 4
         },
         "mode": "markers",
         "type": "scatter",
         "x": [
          "2023-04-21T22:00:00"
         ],
         "y": [
          27125
         ]
        },
        {
         "marker": {
          "color": "red",
          "size": 4
         },
         "mode": "markers",
         "type": "scatter",
         "x": [
          "2023-04-22T05:00:00"
         ],
         "y": [
          27397.63
         ]
        },
        {
         "marker": {
          "color": "red",
          "size": 4
         },
         "mode": "markers",
         "type": "scatter",
         "x": [
          "2023-04-22T06:00:00"
         ],
         "y": [
          27397.63
         ]
        },
        {
         "marker": {
          "color": "green",
          "size": 4
         },
         "mode": "markers",
         "type": "scatter",
         "x": [
          "2023-04-22T10:00:00"
         ],
         "y": [
          27184.24
         ]
        },
        {
         "marker": {
          "color": "red",
          "size": 4
         },
         "mode": "markers",
         "type": "scatter",
         "x": [
          "2023-04-22T17:00:00"
         ],
         "y": [
          27804.38
         ]
        },
        {
         "marker": {
          "color": "red",
          "size": 4
         },
         "mode": "markers",
         "type": "scatter",
         "x": [
          "2023-04-22T23:00:00"
         ],
         "y": [
          27882.72
         ]
        },
        {
         "marker": {
          "color": "green",
          "size": 4
         },
         "mode": "markers",
         "type": "scatter",
         "x": [
          "2023-04-23T00:00:00"
         ],
         "y": [
          27415.56
         ]
        },
        {
         "marker": {
          "color": "red",
          "size": 4
         },
         "mode": "markers",
         "type": "scatter",
         "x": [
          "2023-04-23T08:00:00"
         ],
         "y": [
          27777
         ]
        },
        {
         "marker": {
          "color": "green",
          "size": 4
         },
         "mode": "markers",
         "type": "scatter",
         "x": [
          "2023-04-23T10:00:00"
         ],
         "y": [
          27482.79
         ]
        },
        {
         "marker": {
          "color": "red",
          "size": 4
         },
         "mode": "markers",
         "type": "scatter",
         "x": [
          "2023-04-23T12:00:00"
         ],
         "y": [
          27735.25
         ]
        },
        {
         "marker": {
          "color": "green",
          "size": 4
         },
         "mode": "markers",
         "type": "scatter",
         "x": [
          "2023-04-23T15:00:00"
         ],
         "y": [
          27311.25
         ]
        },
        {
         "marker": {
          "color": "red",
          "size": 4
         },
         "mode": "markers",
         "type": "scatter",
         "x": [
          "2023-04-23T16:00:00"
         ],
         "y": [
          27689.83
         ]
        },
        {
         "marker": {
          "color": "red",
          "size": 4
         },
         "mode": "markers",
         "type": "scatter",
         "x": [
          "2023-04-24T01:00:00"
         ],
         "y": [
          28000
         ]
        },
        {
         "marker": {
          "color": "green",
          "size": 4
         },
         "mode": "markers",
         "type": "scatter",
         "x": [
          "2023-04-24T08:00:00"
         ],
         "y": [
          27157.14
         ]
        },
        {
         "marker": {
          "color": "red",
          "size": 4
         },
         "mode": "markers",
         "type": "scatter",
         "x": [
          "2023-04-24T13:00:00"
         ],
         "y": [
          27720.57
         ]
        },
        {
         "marker": {
          "color": "green",
          "size": 4
         },
         "mode": "markers",
         "type": "scatter",
         "x": [
          "2023-04-24T17:00:00"
         ],
         "y": [
          26942.82
         ]
        },
        {
         "marker": {
          "color": "red",
          "size": 4
         },
         "mode": "markers",
         "type": "scatter",
         "x": [
          "2023-04-24T18:00:00"
         ],
         "y": [
          27579.8
         ]
        },
        {
         "marker": {
          "color": "red",
          "size": 4
         },
         "mode": "markers",
         "type": "scatter",
         "x": [
          "2023-04-25T00:00:00"
         ],
         "y": [
          27590.28
         ]
        },
        {
         "marker": {
          "color": "green",
          "size": 4
         },
         "mode": "markers",
         "type": "scatter",
         "x": [
          "2023-04-25T03:00:00"
         ],
         "y": [
          27313.74
         ]
        },
        {
         "marker": {
          "color": "red",
          "size": 4
         },
         "mode": "markers",
         "type": "scatter",
         "x": [
          "2023-04-25T05:00:00"
         ],
         "y": [
          27459.58
         ]
        },
        {
         "marker": {
          "color": "green",
          "size": 4
         },
         "mode": "markers",
         "type": "scatter",
         "x": [
          "2023-04-25T08:00:00"
         ],
         "y": [
          27192
         ]
        },
        {
         "marker": {
          "color": "red",
          "size": 4
         },
         "mode": "markers",
         "type": "scatter",
         "x": [
          "2023-04-25T13:00:00"
         ],
         "y": [
          27482.71
         ]
        },
        {
         "marker": {
          "color": "green",
          "size": 4
         },
         "mode": "markers",
         "type": "scatter",
         "x": [
          "2023-04-25T14:00:00"
         ],
         "y": [
          27199.17
         ]
        }
       ],
       "layout": {
        "showlegend": false,
        "template": {
         "data": {
          "bar": [
           {
            "error_x": {
             "color": "#2a3f5f"
            },
            "error_y": {
             "color": "#2a3f5f"
            },
            "marker": {
             "line": {
              "color": "#E5ECF6",
              "width": 0.5
             },
             "pattern": {
              "fillmode": "overlay",
              "size": 10,
              "solidity": 0.2
             }
            },
            "type": "bar"
           }
          ],
          "barpolar": [
           {
            "marker": {
             "line": {
              "color": "#E5ECF6",
              "width": 0.5
             },
             "pattern": {
              "fillmode": "overlay",
              "size": 10,
              "solidity": 0.2
             }
            },
            "type": "barpolar"
           }
          ],
          "carpet": [
           {
            "aaxis": {
             "endlinecolor": "#2a3f5f",
             "gridcolor": "white",
             "linecolor": "white",
             "minorgridcolor": "white",
             "startlinecolor": "#2a3f5f"
            },
            "baxis": {
             "endlinecolor": "#2a3f5f",
             "gridcolor": "white",
             "linecolor": "white",
             "minorgridcolor": "white",
             "startlinecolor": "#2a3f5f"
            },
            "type": "carpet"
           }
          ],
          "choropleth": [
           {
            "colorbar": {
             "outlinewidth": 0,
             "ticks": ""
            },
            "type": "choropleth"
           }
          ],
          "contour": [
           {
            "colorbar": {
             "outlinewidth": 0,
             "ticks": ""
            },
            "colorscale": [
             [
              0,
              "#0d0887"
             ],
             [
              0.1111111111111111,
              "#46039f"
             ],
             [
              0.2222222222222222,
              "#7201a8"
             ],
             [
              0.3333333333333333,
              "#9c179e"
             ],
             [
              0.4444444444444444,
              "#bd3786"
             ],
             [
              0.5555555555555556,
              "#d8576b"
             ],
             [
              0.6666666666666666,
              "#ed7953"
             ],
             [
              0.7777777777777778,
              "#fb9f3a"
             ],
             [
              0.8888888888888888,
              "#fdca26"
             ],
             [
              1,
              "#f0f921"
             ]
            ],
            "type": "contour"
           }
          ],
          "contourcarpet": [
           {
            "colorbar": {
             "outlinewidth": 0,
             "ticks": ""
            },
            "type": "contourcarpet"
           }
          ],
          "heatmap": [
           {
            "colorbar": {
             "outlinewidth": 0,
             "ticks": ""
            },
            "colorscale": [
             [
              0,
              "#0d0887"
             ],
             [
              0.1111111111111111,
              "#46039f"
             ],
             [
              0.2222222222222222,
              "#7201a8"
             ],
             [
              0.3333333333333333,
              "#9c179e"
             ],
             [
              0.4444444444444444,
              "#bd3786"
             ],
             [
              0.5555555555555556,
              "#d8576b"
             ],
             [
              0.6666666666666666,
              "#ed7953"
             ],
             [
              0.7777777777777778,
              "#fb9f3a"
             ],
             [
              0.8888888888888888,
              "#fdca26"
             ],
             [
              1,
              "#f0f921"
             ]
            ],
            "type": "heatmap"
           }
          ],
          "heatmapgl": [
           {
            "colorbar": {
             "outlinewidth": 0,
             "ticks": ""
            },
            "colorscale": [
             [
              0,
              "#0d0887"
             ],
             [
              0.1111111111111111,
              "#46039f"
             ],
             [
              0.2222222222222222,
              "#7201a8"
             ],
             [
              0.3333333333333333,
              "#9c179e"
             ],
             [
              0.4444444444444444,
              "#bd3786"
             ],
             [
              0.5555555555555556,
              "#d8576b"
             ],
             [
              0.6666666666666666,
              "#ed7953"
             ],
             [
              0.7777777777777778,
              "#fb9f3a"
             ],
             [
              0.8888888888888888,
              "#fdca26"
             ],
             [
              1,
              "#f0f921"
             ]
            ],
            "type": "heatmapgl"
           }
          ],
          "histogram": [
           {
            "marker": {
             "pattern": {
              "fillmode": "overlay",
              "size": 10,
              "solidity": 0.2
             }
            },
            "type": "histogram"
           }
          ],
          "histogram2d": [
           {
            "colorbar": {
             "outlinewidth": 0,
             "ticks": ""
            },
            "colorscale": [
             [
              0,
              "#0d0887"
             ],
             [
              0.1111111111111111,
              "#46039f"
             ],
             [
              0.2222222222222222,
              "#7201a8"
             ],
             [
              0.3333333333333333,
              "#9c179e"
             ],
             [
              0.4444444444444444,
              "#bd3786"
             ],
             [
              0.5555555555555556,
              "#d8576b"
             ],
             [
              0.6666666666666666,
              "#ed7953"
             ],
             [
              0.7777777777777778,
              "#fb9f3a"
             ],
             [
              0.8888888888888888,
              "#fdca26"
             ],
             [
              1,
              "#f0f921"
             ]
            ],
            "type": "histogram2d"
           }
          ],
          "histogram2dcontour": [
           {
            "colorbar": {
             "outlinewidth": 0,
             "ticks": ""
            },
            "colorscale": [
             [
              0,
              "#0d0887"
             ],
             [
              0.1111111111111111,
              "#46039f"
             ],
             [
              0.2222222222222222,
              "#7201a8"
             ],
             [
              0.3333333333333333,
              "#9c179e"
             ],
             [
              0.4444444444444444,
              "#bd3786"
             ],
             [
              0.5555555555555556,
              "#d8576b"
             ],
             [
              0.6666666666666666,
              "#ed7953"
             ],
             [
              0.7777777777777778,
              "#fb9f3a"
             ],
             [
              0.8888888888888888,
              "#fdca26"
             ],
             [
              1,
              "#f0f921"
             ]
            ],
            "type": "histogram2dcontour"
           }
          ],
          "mesh3d": [
           {
            "colorbar": {
             "outlinewidth": 0,
             "ticks": ""
            },
            "type": "mesh3d"
           }
          ],
          "parcoords": [
           {
            "line": {
             "colorbar": {
              "outlinewidth": 0,
              "ticks": ""
             }
            },
            "type": "parcoords"
           }
          ],
          "pie": [
           {
            "automargin": true,
            "type": "pie"
           }
          ],
          "scatter": [
           {
            "fillpattern": {
             "fillmode": "overlay",
             "size": 10,
             "solidity": 0.2
            },
            "type": "scatter"
           }
          ],
          "scatter3d": [
           {
            "line": {
             "colorbar": {
              "outlinewidth": 0,
              "ticks": ""
             }
            },
            "marker": {
             "colorbar": {
              "outlinewidth": 0,
              "ticks": ""
             }
            },
            "type": "scatter3d"
           }
          ],
          "scattercarpet": [
           {
            "marker": {
             "colorbar": {
              "outlinewidth": 0,
              "ticks": ""
             }
            },
            "type": "scattercarpet"
           }
          ],
          "scattergeo": [
           {
            "marker": {
             "colorbar": {
              "outlinewidth": 0,
              "ticks": ""
             }
            },
            "type": "scattergeo"
           }
          ],
          "scattergl": [
           {
            "marker": {
             "colorbar": {
              "outlinewidth": 0,
              "ticks": ""
             }
            },
            "type": "scattergl"
           }
          ],
          "scattermapbox": [
           {
            "marker": {
             "colorbar": {
              "outlinewidth": 0,
              "ticks": ""
             }
            },
            "type": "scattermapbox"
           }
          ],
          "scatterpolar": [
           {
            "marker": {
             "colorbar": {
              "outlinewidth": 0,
              "ticks": ""
             }
            },
            "type": "scatterpolar"
           }
          ],
          "scatterpolargl": [
           {
            "marker": {
             "colorbar": {
              "outlinewidth": 0,
              "ticks": ""
             }
            },
            "type": "scatterpolargl"
           }
          ],
          "scatterternary": [
           {
            "marker": {
             "colorbar": {
              "outlinewidth": 0,
              "ticks": ""
             }
            },
            "type": "scatterternary"
           }
          ],
          "surface": [
           {
            "colorbar": {
             "outlinewidth": 0,
             "ticks": ""
            },
            "colorscale": [
             [
              0,
              "#0d0887"
             ],
             [
              0.1111111111111111,
              "#46039f"
             ],
             [
              0.2222222222222222,
              "#7201a8"
             ],
             [
              0.3333333333333333,
              "#9c179e"
             ],
             [
              0.4444444444444444,
              "#bd3786"
             ],
             [
              0.5555555555555556,
              "#d8576b"
             ],
             [
              0.6666666666666666,
              "#ed7953"
             ],
             [
              0.7777777777777778,
              "#fb9f3a"
             ],
             [
              0.8888888888888888,
              "#fdca26"
             ],
             [
              1,
              "#f0f921"
             ]
            ],
            "type": "surface"
           }
          ],
          "table": [
           {
            "cells": {
             "fill": {
              "color": "#EBF0F8"
             },
             "line": {
              "color": "white"
             }
            },
            "header": {
             "fill": {
              "color": "#C8D4E3"
             },
             "line": {
              "color": "white"
             }
            },
            "type": "table"
           }
          ]
         },
         "layout": {
          "annotationdefaults": {
           "arrowcolor": "#2a3f5f",
           "arrowhead": 0,
           "arrowwidth": 1
          },
          "autotypenumbers": "strict",
          "coloraxis": {
           "colorbar": {
            "outlinewidth": 0,
            "ticks": ""
           }
          },
          "colorscale": {
           "diverging": [
            [
             0,
             "#8e0152"
            ],
            [
             0.1,
             "#c51b7d"
            ],
            [
             0.2,
             "#de77ae"
            ],
            [
             0.3,
             "#f1b6da"
            ],
            [
             0.4,
             "#fde0ef"
            ],
            [
             0.5,
             "#f7f7f7"
            ],
            [
             0.6,
             "#e6f5d0"
            ],
            [
             0.7,
             "#b8e186"
            ],
            [
             0.8,
             "#7fbc41"
            ],
            [
             0.9,
             "#4d9221"
            ],
            [
             1,
             "#276419"
            ]
           ],
           "sequential": [
            [
             0,
             "#0d0887"
            ],
            [
             0.1111111111111111,
             "#46039f"
            ],
            [
             0.2222222222222222,
             "#7201a8"
            ],
            [
             0.3333333333333333,
             "#9c179e"
            ],
            [
             0.4444444444444444,
             "#bd3786"
            ],
            [
             0.5555555555555556,
             "#d8576b"
            ],
            [
             0.6666666666666666,
             "#ed7953"
            ],
            [
             0.7777777777777778,
             "#fb9f3a"
            ],
            [
             0.8888888888888888,
             "#fdca26"
            ],
            [
             1,
             "#f0f921"
            ]
           ],
           "sequentialminus": [
            [
             0,
             "#0d0887"
            ],
            [
             0.1111111111111111,
             "#46039f"
            ],
            [
             0.2222222222222222,
             "#7201a8"
            ],
            [
             0.3333333333333333,
             "#9c179e"
            ],
            [
             0.4444444444444444,
             "#bd3786"
            ],
            [
             0.5555555555555556,
             "#d8576b"
            ],
            [
             0.6666666666666666,
             "#ed7953"
            ],
            [
             0.7777777777777778,
             "#fb9f3a"
            ],
            [
             0.8888888888888888,
             "#fdca26"
            ],
            [
             1,
             "#f0f921"
            ]
           ]
          },
          "colorway": [
           "#636efa",
           "#EF553B",
           "#00cc96",
           "#ab63fa",
           "#FFA15A",
           "#19d3f3",
           "#FF6692",
           "#B6E880",
           "#FF97FF",
           "#FECB52"
          ],
          "font": {
           "color": "#2a3f5f"
          },
          "geo": {
           "bgcolor": "white",
           "lakecolor": "white",
           "landcolor": "#E5ECF6",
           "showlakes": true,
           "showland": true,
           "subunitcolor": "white"
          },
          "hoverlabel": {
           "align": "left"
          },
          "hovermode": "closest",
          "mapbox": {
           "style": "light"
          },
          "paper_bgcolor": "white",
          "plot_bgcolor": "#E5ECF6",
          "polar": {
           "angularaxis": {
            "gridcolor": "white",
            "linecolor": "white",
            "ticks": ""
           },
           "bgcolor": "#E5ECF6",
           "radialaxis": {
            "gridcolor": "white",
            "linecolor": "white",
            "ticks": ""
           }
          },
          "scene": {
           "xaxis": {
            "backgroundcolor": "#E5ECF6",
            "gridcolor": "white",
            "gridwidth": 2,
            "linecolor": "white",
            "showbackground": true,
            "ticks": "",
            "zerolinecolor": "white"
           },
           "yaxis": {
            "backgroundcolor": "#E5ECF6",
            "gridcolor": "white",
            "gridwidth": 2,
            "linecolor": "white",
            "showbackground": true,
            "ticks": "",
            "zerolinecolor": "white"
           },
           "zaxis": {
            "backgroundcolor": "#E5ECF6",
            "gridcolor": "white",
            "gridwidth": 2,
            "linecolor": "white",
            "showbackground": true,
            "ticks": "",
            "zerolinecolor": "white"
           }
          },
          "shapedefaults": {
           "line": {
            "color": "#2a3f5f"
           }
          },
          "ternary": {
           "aaxis": {
            "gridcolor": "white",
            "linecolor": "white",
            "ticks": ""
           },
           "baxis": {
            "gridcolor": "white",
            "linecolor": "white",
            "ticks": ""
           },
           "bgcolor": "#E5ECF6",
           "caxis": {
            "gridcolor": "white",
            "linecolor": "white",
            "ticks": ""
           }
          },
          "title": {
           "x": 0.05
          },
          "xaxis": {
           "automargin": true,
           "gridcolor": "white",
           "linecolor": "white",
           "ticks": "",
           "title": {
            "standoff": 15
           },
           "zerolinecolor": "white",
           "zerolinewidth": 2
          },
          "yaxis": {
           "automargin": true,
           "gridcolor": "white",
           "linecolor": "white",
           "ticks": "",
           "title": {
            "standoff": 15
           },
           "zerolinecolor": "white",
           "zerolinewidth": 2
          }
         }
        }
       }
      }
     },
     "metadata": {},
     "output_type": "display_data"
    }
   ],
   "source": [
    "df = local_reversals(df)\n",
    "# df = add_rsx(14,df)\n",
    "watchleft = 30\n",
    "counter = 0\n",
    "for i in range(watchleft,len(df)-5):\n",
    "    previous_values = df['down_reversal'].iloc[i-watchleft:i-1]  # get the last 60 values in the column\n",
    "    previous_values = previous_values[previous_values != 0]  # remove any values equal to 100_000\n",
    "    down_indexes = previous_values.index.to_list()\n",
    "    previous_values = previous_values.to_list()\n",
    "\n",
    "    # Вычисляем коэффициенты k и b\n",
    "    k, b = np.polyfit(down_indexes, previous_values, deg=1)\n",
    "    k, b = round(k,2),round(b,2)\n",
    "    if df.iloc[i]['close']>k*i+b and df.iloc[i]['low']<k*i+b and df.iloc[i]['open']<df.iloc[i]['close']:\n",
    "        fig = go.Figure(data=[go.Candlestick(x=df['date'][i-watchleft:i+5],\n",
    "                            open=df['open'][i-watchleft:i+5],\n",
    "                            high=df['high'][i-watchleft:i+5],\n",
    "                            low=df['low'][i-watchleft:i+5],\n",
    "                            close=df['close'][i-watchleft:i+5])])\n",
    "        y = [i*k+b for i in range(i-watchleft,i+5)]\n",
    "        fig.add_trace(go.Scatter(x=df.loc[i-watchleft:i+5,'date'], y=y, mode='lines', name='New'))   \n",
    "        fig.add_trace(go.Scatter(x=[df.iloc[i]['date']],y=[df.iloc[i]['close']],mode='markers', marker=dict(size=4, color='white')))\n",
    "        counter+=1\n",
    "        pio.write_image(fig, f'screens\\\\screen№{counter}.jpg')\n",
    "        \n",
    "\n",
    "\n",
    "\n",
    "\n",
    "\n",
    "\n",
    "\n",
    "\n",
    "# buy_orders = []\n",
    "# sell_orders = []\n",
    "\n",
    "# multiplier = 1.5\n",
    "# watchleft = 3\n",
    "# for i in range(25, len(df)-1):\n",
    "#     if df.iloc[i-1]['open']>df.iloc[i-1]['close'] and df.iloc[i]['open']<df.iloc[i]['close'] and df.iloc[i-1]['low']>df.iloc[i]['low']: \n",
    "#         if df.iloc[i]['up_classic_divergence'] or df.iloc[i-1]['up_classic_divergence'] or df.iloc[i-2]['up_classic_divergence']:\n",
    "#             buy_orders.append((df.iloc[i+1]['open'], df.iloc[i]['open'],\n",
    "#             round(df.iloc[i+1]['open'] + (df.iloc[i+1]['open']-df.iloc[i]['open'])*multiplier,2),\n",
    "#             i+1))\n",
    "                    \n",
    "#     if df.iloc[i-1]['open']<df.iloc[i-1]['close'] and df.iloc[i]['open']>df.iloc[i]['close'] and df.iloc[i-1]['high']<df.iloc[i]['high']:\n",
    "#         if df.iloc[i]['down_classic_divergence'] or df.iloc[i-1]['down_classic_divergence'] or df.iloc[i-2]['down_classic_divergence']:\n",
    "#             sell_orders.append((df.iloc[i+1]['open'], df.iloc[i]['open'],\n",
    "#             round(df.iloc[i+1]['open'] - (df.iloc[i]['open']-df.iloc[i+1]['open'])*multiplier,2),\n",
    "#             i+1)) \n",
    "\n",
    "                 \n",
    "# print('Переходим к бектесту')\n",
    "\n",
    "# backtest(df,buy_orders,sell_orders,100,1,depositchart=False,savecharts=False)\n",
    "\n",
    "# for order in buy_orders:\n",
    "    # fig.add_trace(go.Scatter(x=[order[3]],y=[order[0]],mode='markers', marker=dict(size=4, color='white')))\n",
    "    # fig.add_trace(go.Scatter(x=[order[3]],y=[order[1]],mode='markers', marker=dict(size=4, color='red')))\n",
    "    # fig.add_trace(go.Scatter(x=[order[3]],y=[order[2]],mode='markers', marker=dict(size=4, color='green')))\n",
    "\n",
    "# for order in sell_orders:\n",
    "#     fig.add_trace(go.Scatter(x=[order[3]],y=[order[0]],mode='markers', marker=dict(size=4, color='white')))\n",
    "#     fig.add_trace(go.Scatter(x=[order[3]],y=[order[1]],mode='markers', marker=dict(size=4, color='red')))\n",
    "#     fig.add_trace(go.Scatter(x=[order[3]],y=[order[2]],mode='markers', marker=dict(size=4, color='green')))\n",
    "\n",
    "\n",
    "# for i in range(3, len(df)):\n",
    "#     if hammer_up(df.loc[i-1, ['open', 'high', 'low', 'close']]):\n",
    "#         fig.add_trace(go.Scatter(x=[df.iloc[i-1]['date']],y=[df.iloc[i-1]['low']],mode='markers', marker=dict(size=4, color='green')))\n",
    "#         # fig.add_vline(x=df_higher_tf.iloc[i-1]['date'],line=dict(color='green'))\n",
    "\n",
    "#     if falling_star_down(df.loc[i-1, ['open', 'high', 'low', 'close']]):\n",
    "#         fig.add_trace(go.Scatter(x=[df.iloc[i-1]['date']],y=[df.iloc[i-1]['high']],mode='markers', marker=dict(size=4, color='red')))\n",
    "#         # fig.add_vline(x=df_higher_tf.iloc[i-1]['date'],line=dict(color='red'))\n",
    "\n",
    "fig = go.Figure(data=[go.Candlestick(x=df['date'],\n",
    "                                      open=df['open'],\n",
    "                                      high=df['high'],\n",
    "                                      low=df['low'],\n",
    "                                      close=df['close'])])\n",
    "y = [i*k+b for i in range(64,120)]\n",
    "fig.add_trace(go.Scatter(x=df.loc[64:120,'date'], y=y, mode='lines', name='New'))\n",
    "for i in range(3, len(df)):\n",
    "    if df.iloc[i]['up_reversal'] != 100_000:\n",
    "        fig.add_trace(go.Scatter(x=[df.iloc[i]['date']],y=[df.iloc[i]['up_reversal']],mode='markers', marker=dict(size=4, color='green')))\n",
    "        \n",
    "    if df.iloc[i]['down_reversal']:\n",
    "        fig.add_trace(go.Scatter(x=[df.iloc[i]['date']],y=[df.iloc[i]['down_reversal']],mode='markers', marker=dict(size=4, color='red')))\n",
    "\n",
    "# RSX = go.Figure(go.Scatter(\n",
    "#         x=df['date'],\n",
    "#         y=df['RSX']\n",
    "#     ))\n",
    "# for i in range(3, len(df)):\n",
    "#     if df.iloc[i]['up_classic_divergence']:\n",
    "#         RSX.add_trace(go.Scatter(x=[df.iloc[i]['date']],y=[df.iloc[i]['RSX']],mode='markers', marker=dict(size=4, color='green')))\n",
    "        \n",
    "#     if df.iloc[i]['down_classic_divergence']:\n",
    "#         RSX.add_trace(go.Scatter(x=[df.iloc[i]['date']],y=[df.iloc[i]['RSX']],mode='markers', marker=dict(size=4, color='red')))\n",
    "\n",
    "\n",
    "fig.update_layout(showlegend=False)\n",
    "fig.show()\n",
    "# fig1.update_layout(showlegend=False)\n",
    "# fig1.show()\n",
    "# fig2.update_layout(showlegend=False)\n",
    "# fig2.show()\n",
    "# RSX.update_layout(showlegend=False)\n",
    "# RSX.show()"
   ]
  }
 ],
 "metadata": {
  "kernelspec": {
   "display_name": "Python 3",
   "language": "python",
   "name": "python3"
  },
  "language_info": {
   "codemirror_mode": {
    "name": "ipython",
    "version": 3
   },
   "file_extension": ".py",
   "mimetype": "text/x-python",
   "name": "python",
   "nbconvert_exporter": "python",
   "pygments_lexer": "ipython3",
   "version": "3.10.9"
  },
  "orig_nbformat": 4,
  "vscode": {
   "interpreter": {
    "hash": "05a87d0cfdfbb752979dc8c3f53cb6c0c2a7c4b49c718c090facb8fa9d62de1e"
   }
  }
 },
 "nbformat": 4,
 "nbformat_minor": 2
}
