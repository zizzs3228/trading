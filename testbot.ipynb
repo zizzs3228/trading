{
 "cells": [
  {
   "cell_type": "code",
   "execution_count": 33,
   "metadata": {},
   "outputs": [],
   "source": [
    "from binance.client import Client\n",
    "import pandas as pd\n",
    "import plotly.graph_objects as go\n",
    "from pon import api,secret\n",
    "import numpy as np\n",
    "import schedule\n",
    "import time\n",
    "from plotly.subplots import make_subplots\n",
    "import pandas_ta as ta\n",
    "import warnings\n",
    "warnings.filterwarnings(\"ignore\")\n"
   ]
  },
  {
   "cell_type": "code",
   "execution_count": 34,
   "metadata": {},
   "outputs": [],
   "source": [
    "def get_price_data_binance(ticker:str,limit:int,interval = Client.KLINE_INTERVAL_1DAY)->pd.DataFrame:\n",
    "    client = Client(api, secret)\n",
    "    df = pd.DataFrame(client.get_historical_klines(symbol=ticker, interval=interval,start_str='22 Jan, 2023', end_str='24 Jan, 2023'))\n",
    "    df.columns=['date','open','high','low','close','volume','close_time','d1','d2','d3','d4','d5']\n",
    "    df = df.drop(['close_time','d1','d2','d3','d4','d5'],axis=1)\n",
    "    df['date'] = pd.to_datetime(df['date']*1000000)\n",
    "    df['open'] = df['open'].astype(float)\n",
    "    df['high'] = df['high'].astype(float)\n",
    "    df['low'] = df['low'].astype(float)\n",
    "    df['close'] = df['close'].astype(float)\n",
    "    return df\n",
    "    \n",
    "def get_list_of_imbalances(df:pd.DataFrame)->list:\n",
    "    up_imbalances = []\n",
    "    down_imbalances = []\n",
    "    df['within_up_imbalance'] = False\n",
    "    df['within_down_imbalance'] = False\n",
    "    for i in range(5, len(df)-1):\n",
    "        prev_candle = df.iloc[i-2]\n",
    "        next_candle = df.iloc[i]\n",
    "        if prev_candle['high'] < next_candle['low']:\n",
    "            up_imbalances.append([round((prev_candle['high']+next_candle['low'])/2,2), prev_candle['high'],df.iloc[i-1]['date']])\n",
    "\n",
    "        if prev_candle['low'] > next_candle['high']:\n",
    "            down_imbalances.append([round((prev_candle['low']+next_candle['high'])/2,2) , prev_candle['low'] , df.iloc[i-1]['date']])\n",
    "\n",
    "    return up_imbalances, down_imbalances\n",
    "\n",
    "def delete_up_imbalance(up_imbalances, df:pd.DataFrame)->list:\n",
    "    for i in range(0, len(df)-10):\n",
    "        for imbalance in up_imbalances:\n",
    "            candle = df.iloc[i]\n",
    "            if candle['date']>imbalance[2]  and (candle['close'] < imbalance[0] or candle['low'] < imbalance[0]):\n",
    "                up_imbalances.remove(imbalance)\n",
    "    return up_imbalances[-3:]\n",
    "\n",
    "def delete_down_imbalance(down_imbalances, df:pd.DataFrame)->list:\n",
    "    for i in range(0, len(df)-10):\n",
    "        for imbalance in down_imbalances:\n",
    "            candle = df.iloc[i]\n",
    "            if candle['date']>imbalance[2] and (candle['close'] > imbalance[0] or candle['high'] > imbalance[0]):\n",
    "                down_imbalances.remove(imbalance)\n",
    "    \n",
    "    return down_imbalances[-3:]\n",
    "\n",
    "def add_moving_average(period:int,df:pd.DataFrame)->pd.DataFrame:\n",
    "    df['SMA'] = df['close'].rolling(period).mean()\n",
    "    df['SMAslope'] = df['SMA'].pct_change()*100\n",
    "\n",
    "    df['up_reversal'] = ((df['SMAslope'].shift(1) < 0) & (df['SMAslope'] > 0))\n",
    "    df['down_reversal'] = ((df['SMAslope'].shift(1) > 0) & (df['SMAslope'] < 0)) \n",
    "    # df['charthighest'] = df['high'].rolling(6).max()[df['down_reversal'] == True]\n",
    "    # df['chartlowest'] = df['low'].rolling(6).min()[df['up_reversal'] == True]\n",
    "    # up_imbalances = get_list_of_up_imbalances(df)\n",
    "    # down_imbalances = get_list_of_down_imbalances(df)\n",
    "\n",
    "    # df['up_reversal'] = False\n",
    "    # df['down_reversal'] = False\n",
    "    # for i in range(5, len(df)-3):\n",
    "    #     for imbalance in up_imbalances:\n",
    "    #         if (df.iloc[i-1]['date'] < imbalance[2] < df.iloc[i+3]['date']):\n",
    "    #             if (df.iloc[i-1]['SMAslope'] < 0) & (df.iloc[i]['SMAslope'] > 0):\n",
    "    #                 if not (df.iloc[i-1]['up_reversal'] or df.iloc[i-2]['up_reversal'] or df.iloc[i-3]['up_reversal'] or df.iloc[i-4]['up_reversal']):\n",
    "    #                     df.loc[i, 'up_reversal'] = True\n",
    "    #     for imbalance in down_imbalances:\n",
    "    #         if (df.iloc[i-1]['date'] < imbalance[2] < df.iloc[i+3]['date']):\n",
    "    #             if ((df.iloc[i-1]['SMAslope'] > 0) & (df.iloc[i]['SMAslope'] < 0)):\n",
    "    #                 if not (df.iloc[i-1]['down_reversal'] or df.iloc[i-2]['down_reversal'] or df.iloc[i-3]['down_reversal'] or df.iloc[i-4]['down_reversal']):\n",
    "    #                     df.loc[i, 'down_reversal'] = True\n",
    "\n",
    "\n",
    "    # df['up_reversal'] = ((df['SMAslope'].shift(1) < 0) & (df['SMAslope'] > 0))\n",
    "    # df['down_reversal'] = ((df['SMAslope'].shift(1) > 0) & (df['SMAslope'] < 0))\n",
    "\n",
    "    return df\n",
    "\n",
    "def add_rsx_HF(period:int,df:pd.DataFrame)->pd.DataFrame:\n",
    "    df[\"RSX\"] = ta.rsx(round((df['close']+df['high']+df['low'])/3,2), period)\n",
    "    df['RSXslope'] = df['RSX'].pct_change()*100\n",
    "    df['RSX_up_reversal'] = ((df['RSXslope'].shift(1) < 0) & (df['RSXslope'] > 0)) & (df['RSX'] < 30)\n",
    "    df['RSX_down_reversal'] = ((df['RSXslope'].shift(1) > 0) & (df['RSXslope'] < 0)) & (df['RSX'] > 70)\n",
    "\n",
    "    up_reversals = []\n",
    "    down_reversals = []\n",
    "    # df['hidden_up_divergence'] = False\n",
    "    # df['hidden_down_divergence'] = False\n",
    "    df['classic_up_divergence'] = False\n",
    "    df['classic_down_divergence'] = False\n",
    "\n",
    "    for i in range(0, len(df)):\n",
    "        if df.iloc[i]['RSX_up_reversal']:\n",
    "            up_reversals.append(min((df.iloc[i]['low'],df.iloc[i-1]['RSX'],df.iloc[i]['date']),\n",
    "                (df.iloc[i-1]['low'],df.iloc[i-1]['RSX'],df.iloc[i-1]['date']),\n",
    "                (df.iloc[i-2]['low'],df.iloc[i-1]['RSX'],df.iloc[i-2]['date']),\n",
    "                (df.iloc[i-3]['low'],df.iloc[i-1]['RSX'],df.iloc[i-3]['date']),\n",
    "                (df.iloc[i-4]['low'],df.iloc[i-1]['RSX'],df.iloc[i-4]['date']),\n",
    "                (df.iloc[i-5]['low'],df.iloc[i-1]['RSX'],df.iloc[i-5]['date'])))\n",
    "\n",
    "        if df.iloc[i]['RSX_down_reversal']:\n",
    "            down_reversals.append(max((df.iloc[i]['high'],df.iloc[i-1]['RSX'],df.iloc[i]['date']),\n",
    "                (df.iloc[i-1]['high'],df.iloc[i-1]['RSX'],df.iloc[i-1]['date']),\n",
    "                (df.iloc[i-2]['high'],df.iloc[i-1]['RSX'],df.iloc[i-2]['date']),\n",
    "                (df.iloc[i-3]['high'],df.iloc[i-1]['RSX'],df.iloc[i-3]['date']),\n",
    "                (df.iloc[i-4]['high'],df.iloc[i-1]['RSX'],df.iloc[i-4]['date']),\n",
    "                (df.iloc[i-5]['high'],df.iloc[i-1]['RSX'],df.iloc[i-5]['date'])))\n",
    "\n",
    "        if up_reversals:\n",
    "            if df.iloc[i]['date']>up_reversals[-1][2]:\n",
    "                if df.iloc[i]['low'] < up_reversals[-1][0]:\n",
    "                    if df.iloc[i]['RSX'] > up_reversals[-1][1]:\n",
    "                        df.loc[i, 'classic_up_divergence'] = True\n",
    "\n",
    "        if down_reversals:\n",
    "            if df.iloc[i]['date']>down_reversals[-1][2]:\n",
    "                if df.iloc[i]['high'] > down_reversals[-1][0]:\n",
    "                    if df.iloc[i]['RSX'] < down_reversals[-1][1]:\n",
    "                        df.loc[i, 'classic_down_divergence'] = True\n",
    "\n",
    "        # if (up_reversals and down_reversals):\n",
    "        #     for up_reversal in up_reversals[-5:]:\n",
    "        #         if (up_reversal[0] < df.iloc[i]['low']) and (up_reversal[1] > df.iloc[i]['RSX']) and up_reversal[2] < df.iloc[i]['date']:\n",
    "        #             df.loc[i, 'hidden_up_divergence'] = True\n",
    "                \n",
    "        #     for down_reversal in down_reversals[-5:]:\n",
    "        #         if (down_reversal[0] > df.iloc[i]['high']) and (down_reversal[1] < df.iloc[i]['RSX']) and down_reversal[2] < df.iloc[i]['date']:\n",
    "        #             df.loc[i, 'hidden_down_divergence'] = True\n",
    "    return df\n",
    "\n",
    "def add_rsx_LF(period:int,df:pd.DataFrame)->pd.DataFrame:\n",
    "    df[\"RSX\"] = ta.rsx(round((df['close']+df['high']+df['low'])/3,2), period)\n",
    "    df['RSXslope'] = df['RSX'].pct_change()*100\n",
    "    df['RSX_up_reversal'] = ((df['RSXslope'].shift(1) < 0) & (df['RSXslope'] > 0)) & (df['RSXslope'].shift(1).rolling(5).sum()<-6)\n",
    "    df['RSX_down_reversal'] = ((df['RSXslope'].shift(1) > 0) & (df['RSXslope'] < 0)) & (df['RSXslope'].shift(1).rolling(5).sum()>6)\n",
    "\n",
    "    up_reversals = []\n",
    "    down_reversals = []\n",
    "    df['classic_up_divergence'] = False\n",
    "    df['classic_down_divergence'] = False\n",
    "\n",
    "    for i in range(len(df) - 200, len(df)):\n",
    "        if df.iloc[i]['RSX_up_reversal']:\n",
    "            up_reversals.append(min((df.iloc[i]['low'],df.iloc[i-1]['RSX'],df.iloc[i]['date']),\n",
    "                (df.iloc[i-1]['low'],df.iloc[i-1]['RSX'],df.iloc[i-1]['date']),\n",
    "                (df.iloc[i-2]['low'],df.iloc[i-1]['RSX'],df.iloc[i-2]['date']),\n",
    "                (df.iloc[i-3]['low'],df.iloc[i-1]['RSX'],df.iloc[i-3]['date']),\n",
    "                (df.iloc[i-4]['low'],df.iloc[i-1]['RSX'],df.iloc[i-4]['date']),\n",
    "                (df.iloc[i-5]['low'],df.iloc[i-1]['RSX'],df.iloc[i-5]['date'])))\n",
    "\n",
    "        if df.iloc[i]['RSX_down_reversal']:\n",
    "            down_reversals.append(max((df.iloc[i]['high'],df.iloc[i-1]['RSX'],df.iloc[i]['date']),\n",
    "                (df.iloc[i-1]['high'],df.iloc[i-1]['RSX'],df.iloc[i-1]['date']),\n",
    "                (df.iloc[i-2]['high'],df.iloc[i-1]['RSX'],df.iloc[i-2]['date']),\n",
    "                (df.iloc[i-3]['high'],df.iloc[i-1]['RSX'],df.iloc[i-3]['date']),\n",
    "                (df.iloc[i-4]['high'],df.iloc[i-1]['RSX'],df.iloc[i-4]['date']),\n",
    "                (df.iloc[i-5]['high'],df.iloc[i-1]['RSX'],df.iloc[i-5]['date'])))\n",
    "                \n",
    "        if (up_reversals and down_reversals):\n",
    "            for up_reversal in up_reversals[-1:]:    \n",
    "                if (up_reversal[0] > df.iloc[i]['low']) and (up_reversal[1] < df.iloc[i]['RSX']) and up_reversal[2] < df.iloc[i]['date']:\n",
    "                    df.loc[i, 'classic_up_divergence'] = True\n",
    "\n",
    "            for down_reversal in down_reversals[-1:]:       \n",
    "                if (down_reversal[0] < df.iloc[i]['high']) and (down_reversal[1] > df.iloc[i]['RSX']) and down_reversal[2] < df.iloc[i]['date']:\n",
    "                    df.loc[i, 'classic_down_divergence'] = True\n",
    "                \n",
    "    return df\n",
    "\n",
    "def backtest(data: pd.DataFrame, buy_orders: list, sell_orders: list,depo:int,risk:int):\n",
    "    # Initialize variables to store statistics\n",
    "    buy_profit = 0\n",
    "    buy_loss = 0\n",
    "    sell_profit = 0\n",
    "    sell_loss = 0\n",
    "    \n",
    "    total_trades = 0\n",
    "    \n",
    "    win_buy_trades = 0\n",
    "    lose_buy_trades = 0\n",
    "\n",
    "    win_sell_trades = 0\n",
    "    lose_sell_trades = 0\n",
    "    lose = depo*0.01*risk\n",
    "    \n",
    "    # Iterate through buy orders\n",
    "    for order in buy_orders:\n",
    "        open_price = order[0]\n",
    "        stop_loss = order[1]\n",
    "        take_profit = order[2]\n",
    "        open_date = order[3]\n",
    "        total_trades += 1\n",
    "\n",
    "        # Iterate through data starting from the open date\n",
    "        for i in range(1, len(data)):\n",
    "            if data.iloc[i]['date'] > open_date:\n",
    "                if data.iloc[i]['high'] >= take_profit:\n",
    "                    depo += round((take_profit - open_price)/(open_price - stop_loss),2)*lose-(depo*0.01*risk*0.04)\n",
    "                    win_buy_trades += 1\n",
    "                    break\n",
    "                elif data.iloc[i]['low'] <= stop_loss:\n",
    "                    depo -= 1*lose+(depo*0.01*0.04)\n",
    "                    lose_buy_trades += 1\n",
    "                    break\n",
    "    \n",
    "    # Iterate through sell orders\n",
    "    for order in sell_orders:\n",
    "        open_price = order[0]\n",
    "        stop_loss = order[1]\n",
    "        take_profit = order[2]\n",
    "        open_date = order[3]\n",
    "        total_trades += 1\n",
    "        \n",
    "        # Iterate through data starting from the open date\n",
    "        for i in range(1, len(data)):\n",
    "            if data.iloc[i]['date'] > open_date:\n",
    "                if data.iloc[i]['low'] <= take_profit:\n",
    "                    depo += round((open_price - take_profit)/(stop_loss - open_price),2)*lose-(depo*0.01*risk*0.04)\n",
    "                    win_sell_trades += 1\n",
    "                    break\n",
    "                elif data.iloc[i]['high'] >= stop_loss:\n",
    "                    depo -= 1*lose+(depo*0.01*0.04)\n",
    "                    lose_sell_trades += 1\n",
    "                    break\n",
    "    \n",
    "    print(f\"\"\"\n",
    "        Total trades: {total_trades},\n",
    "        Total win trades: {win_buy_trades + win_sell_trades}\n",
    "        Total lose trades: {lose_buy_trades + lose_sell_trades}\n",
    "        Winrate: {round((win_buy_trades+win_sell_trades)/total_trades*100,2)}%\n",
    "        Winrate buy trades: {round((win_buy_trades)/len(buy_orders)*100,2)}%\n",
    "        Winrate sell trades: {round((win_sell_trades)/len(sell_orders)*100,2)}%\n",
    "        Deposit: {depo}\"\"\"\n",
    "    )\n"
   ]
  },
  {
   "cell_type": "code",
   "execution_count": 35,
   "metadata": {},
   "outputs": [],
   "source": [
    "df_higher_tf = get_price_data_binance('BTCUSDT',1000,interval=Client.KLINE_INTERVAL_30MINUTE)\n",
    "#df_lower_tf = get_price_data_binance('BTCUSDT',1000,interval=Client.KLINE_INTERVAL_5MINUTE)"
   ]
  },
  {
   "cell_type": "code",
   "execution_count": 36,
   "metadata": {},
   "outputs": [
    {
     "data": {
      "application/vnd.plotly.v1+json": {
       "config": {
        "plotlyServerURL": "https://plot.ly"
       },
       "data": [
        {
         "close": [
          22924.81,
          22877.48,
          22788.62,
          22792.13,
          22792.37,
          22707.64,
          22760.98,
          22758.3,
          22789.74,
          22847.79,
          22857.38,
          22878.37,
          22921.08,
          22919.67,
          22913.75,
          22895.2,
          22865.53,
          22909.76,
          22929.47,
          22856.68,
          22855.72,
          22872.97,
          22765.18,
          22783.61,
          22718.13,
          22869.56,
          22897.69,
          22897.79,
          22931.95,
          22990.41,
          22778.43,
          22794.51,
          22831.53,
          22819.28,
          22892.04,
          22922.34,
          22876.55,
          22838,
          22807.42,
          22722.15,
          22570.42,
          22459.46,
          22439.79,
          22585.37,
          22566.72,
          22676.48,
          22686.05,
          22707.88,
          22775.68,
          22745.28,
          22784.11,
          22699.37,
          22743.45,
          22752.05,
          22715.19,
          22661.02,
          22690.18,
          22758.32,
          22750.77,
          22723.63,
          22735.28,
          22773.33,
          22680.35,
          22695.9,
          22693.19,
          22719.28,
          22781.65,
          22784.18,
          22895.64,
          22909.95,
          22835.64,
          22904.58,
          22863.55,
          22910.74,
          22873.4,
          22798.41,
          22793.63,
          22622.05,
          22864.28,
          22853.14,
          22811.38,
          22911.17,
          22905.29,
          23065.22,
          23105.33,
          22936.2,
          22845.11,
          22792.47,
          22852.4,
          23022.64,
          22983.75,
          22996,
          22981.37,
          22925.32,
          22923.82,
          22916.45,
          22977.46
         ],
         "high": [
          22979.88,
          22949.07,
          22877.91,
          22891.76,
          22825,
          22833.26,
          22766.12,
          22774.18,
          22791.59,
          22868.98,
          22891.97,
          22895.4,
          22943.36,
          22967.33,
          22959.68,
          22939.97,
          22902.43,
          22921.24,
          22938.12,
          22930.06,
          22883.87,
          22903.51,
          22884.91,
          22817.13,
          22800.34,
          22871.68,
          22919.07,
          22930.01,
          22938.12,
          23040,
          23078.71,
          22866.95,
          22836.18,
          22862.27,
          22913.5,
          22959.71,
          22936.84,
          22894.65,
          22856.75,
          22844,
          22736,
          22603.29,
          22490.66,
          22639.71,
          22624.96,
          22698,
          22754.99,
          22773.89,
          22781.05,
          22811.15,
          22826.46,
          22793.27,
          22757.65,
          22756.64,
          22771.14,
          22722,
          22719.83,
          22759.49,
          22769.71,
          22753,
          22760,
          22794.33,
          22786,
          22730.66,
          22769.53,
          22758.9,
          22783.99,
          22788,
          22940.69,
          22957.25,
          22930,
          22916.24,
          22921,
          22978,
          22939.49,
          22892,
          22829,
          23115,
          22873.37,
          22920,
          22935.78,
          22930,
          22923.33,
          23067.86,
          23180,
          23149.55,
          22967.99,
          22880.04,
          22874.97,
          23034.9,
          23044.56,
          23015.03,
          23034.46,
          23005.11,
          22937,
          22959.92,
          22988
         ],
         "low": [
          22700.06,
          22826.74,
          22760.8,
          22688.78,
          22708.6,
          22602.55,
          22668.48,
          22704.82,
          22716.72,
          22770,
          22835.18,
          22832.56,
          22862.7,
          22913.13,
          22875,
          22886.22,
          22809.56,
          22850,
          22879.41,
          22833.59,
          22839.09,
          22848.69,
          22744,
          22726.02,
          22700.01,
          22700.01,
          22846.82,
          22872.77,
          22866.81,
          22868.82,
          22645.59,
          22744.11,
          22689.72,
          22786.92,
          22780.5,
          22868.42,
          22870,
          22818.84,
          22766.01,
          22687.13,
          22430.66,
          22292.37,
          22317,
          22434.66,
          22560,
          22536.26,
          22641.11,
          22675.02,
          22660.67,
          22727.11,
          22743.82,
          22690.3,
          22690.3,
          22707.49,
          22692.38,
          22646.43,
          22659.12,
          22682.72,
          22720.57,
          22706.25,
          22691.66,
          22721.01,
          22600.14,
          22657.18,
          22662.38,
          22680,
          22703.26,
          22740.24,
          22764.91,
          22879.36,
          22826.23,
          22827.8,
          22808.9,
          22851.55,
          22834.58,
          22668.43,
          22674.91,
          22500,
          22586.68,
          22802,
          22803.03,
          22765.27,
          22852.59,
          22850.15,
          22990,
          22862.07,
          22796.57,
          22654,
          22753.71,
          22822.55,
          22937.54,
          22942.24,
          22959.72,
          22852.01,
          22869.12,
          22890.46,
          22864.67
         ],
         "open": [
          22783.35,
          22924.81,
          22877.48,
          22787.9,
          22793.12,
          22792.37,
          22706.9,
          22759.96,
          22759.08,
          22790.43,
          22847.31,
          22858.32,
          22878.37,
          22921.08,
          22920.74,
          22913.75,
          22895.49,
          22864.75,
          22908.2,
          22928.93,
          22857.48,
          22855.76,
          22872.21,
          22766.39,
          22784.74,
          22718.22,
          22869.56,
          22897.07,
          22897.79,
          22933.2,
          22990.42,
          22778.43,
          22794.63,
          22830.39,
          22819.38,
          22892.04,
          22922.34,
          22875.4,
          22838,
          22808.12,
          22721.88,
          22569.13,
          22459.46,
          22438.48,
          22585.38,
          22567.63,
          22676.48,
          22686.05,
          22706.02,
          22775.7,
          22744.83,
          22784.12,
          22699.37,
          22742.54,
          22752.71,
          22714.7,
          22661.02,
          22689.68,
          22758.32,
          22749.83,
          22724.48,
          22735.28,
          22773.92,
          22680.35,
          22696.61,
          22693.19,
          22719.28,
          22782.5,
          22784.85,
          22896.46,
          22909.95,
          22835.64,
          22904.58,
          22862.33,
          22911.6,
          22873.4,
          22799.89,
          22793.63,
          22627.71,
          22862.02,
          22855.44,
          22813.04,
          22911.86,
          22905.28,
          23065.22,
          23105.33,
          22935.95,
          22847.31,
          22792.47,
          22852.4,
          23020.53,
          22983.75,
          22996.82,
          22981.69,
          22925.32,
          22923.8,
          22917.81
         ],
         "type": "candlestick",
         "x": [
          "2023-01-22T00:00:00",
          "2023-01-22T00:30:00",
          "2023-01-22T01:00:00",
          "2023-01-22T01:30:00",
          "2023-01-22T02:00:00",
          "2023-01-22T02:30:00",
          "2023-01-22T03:00:00",
          "2023-01-22T03:30:00",
          "2023-01-22T04:00:00",
          "2023-01-22T04:30:00",
          "2023-01-22T05:00:00",
          "2023-01-22T05:30:00",
          "2023-01-22T06:00:00",
          "2023-01-22T06:30:00",
          "2023-01-22T07:00:00",
          "2023-01-22T07:30:00",
          "2023-01-22T08:00:00",
          "2023-01-22T08:30:00",
          "2023-01-22T09:00:00",
          "2023-01-22T09:30:00",
          "2023-01-22T10:00:00",
          "2023-01-22T10:30:00",
          "2023-01-22T11:00:00",
          "2023-01-22T11:30:00",
          "2023-01-22T12:00:00",
          "2023-01-22T12:30:00",
          "2023-01-22T13:00:00",
          "2023-01-22T13:30:00",
          "2023-01-22T14:00:00",
          "2023-01-22T14:30:00",
          "2023-01-22T15:00:00",
          "2023-01-22T15:30:00",
          "2023-01-22T16:00:00",
          "2023-01-22T16:30:00",
          "2023-01-22T17:00:00",
          "2023-01-22T17:30:00",
          "2023-01-22T18:00:00",
          "2023-01-22T18:30:00",
          "2023-01-22T19:00:00",
          "2023-01-22T19:30:00",
          "2023-01-22T20:00:00",
          "2023-01-22T20:30:00",
          "2023-01-22T21:00:00",
          "2023-01-22T21:30:00",
          "2023-01-22T22:00:00",
          "2023-01-22T22:30:00",
          "2023-01-22T23:00:00",
          "2023-01-22T23:30:00",
          "2023-01-23T00:00:00",
          "2023-01-23T00:30:00",
          "2023-01-23T01:00:00",
          "2023-01-23T01:30:00",
          "2023-01-23T02:00:00",
          "2023-01-23T02:30:00",
          "2023-01-23T03:00:00",
          "2023-01-23T03:30:00",
          "2023-01-23T04:00:00",
          "2023-01-23T04:30:00",
          "2023-01-23T05:00:00",
          "2023-01-23T05:30:00",
          "2023-01-23T06:00:00",
          "2023-01-23T06:30:00",
          "2023-01-23T07:00:00",
          "2023-01-23T07:30:00",
          "2023-01-23T08:00:00",
          "2023-01-23T08:30:00",
          "2023-01-23T09:00:00",
          "2023-01-23T09:30:00",
          "2023-01-23T10:00:00",
          "2023-01-23T10:30:00",
          "2023-01-23T11:00:00",
          "2023-01-23T11:30:00",
          "2023-01-23T12:00:00",
          "2023-01-23T12:30:00",
          "2023-01-23T13:00:00",
          "2023-01-23T13:30:00",
          "2023-01-23T14:00:00",
          "2023-01-23T14:30:00",
          "2023-01-23T15:00:00",
          "2023-01-23T15:30:00",
          "2023-01-23T16:00:00",
          "2023-01-23T16:30:00",
          "2023-01-23T17:00:00",
          "2023-01-23T17:30:00",
          "2023-01-23T18:00:00",
          "2023-01-23T18:30:00",
          "2023-01-23T19:00:00",
          "2023-01-23T19:30:00",
          "2023-01-23T20:00:00",
          "2023-01-23T20:30:00",
          "2023-01-23T21:00:00",
          "2023-01-23T21:30:00",
          "2023-01-23T22:00:00",
          "2023-01-23T22:30:00",
          "2023-01-23T23:00:00",
          "2023-01-23T23:30:00",
          "2023-01-24T00:00:00"
         ]
        },
        {
         "marker": {
          "color": "blue",
          "size": 5
         },
         "mode": "markers",
         "type": "scatter",
         "x": [
          "2023-01-22T04:30:00"
         ],
         "y": [
          22813.38
         ]
        },
        {
         "marker": {
          "color": "blue",
          "size": 5
         },
         "mode": "markers",
         "type": "scatter",
         "x": [
          "2023-01-22T06:00:00"
         ],
         "y": [
          22904.26
         ]
        },
        {
         "marker": {
          "color": "blue",
          "size": 5
         },
         "mode": "markers",
         "type": "scatter",
         "x": [
          "2023-01-22T12:30:00"
         ],
         "y": [
          22823.58
         ]
        },
        {
         "marker": {
          "color": "blue",
          "size": 5
         },
         "mode": "markers",
         "type": "scatter",
         "x": [
          "2023-01-22T13:00:00"
         ],
         "y": [
          22872.22
         ]
        },
        {
         "marker": {
          "color": "blue",
          "size": 5
         },
         "mode": "markers",
         "type": "scatter",
         "x": [
          "2023-01-22T17:00:00"
         ],
         "y": [
          22865.34
         ]
        },
        {
         "marker": {
          "color": "blue",
          "size": 5
         },
         "mode": "markers",
         "type": "scatter",
         "x": [
          "2023-01-22T21:30:00"
         ],
         "y": [
          22525.33
         ]
        },
        {
         "marker": {
          "color": "blue",
          "size": 5
         },
         "mode": "markers",
         "type": "scatter",
         "x": [
          "2023-01-22T22:30:00"
         ],
         "y": [
          22633.04
         ]
        },
        {
         "marker": {
          "color": "blue",
          "size": 5
         },
         "mode": "markers",
         "type": "scatter",
         "x": [
          "2023-01-23T04:30:00"
         ],
         "y": [
          22720.2
         ]
        },
        {
         "marker": {
          "color": "blue",
          "size": 5
         },
         "mode": "markers",
         "type": "scatter",
         "x": [
          "2023-01-23T10:00:00"
         ],
         "y": [
          22833.68
         ]
        },
        {
         "marker": {
          "color": "blue",
          "size": 5
         },
         "mode": "markers",
         "type": "scatter",
         "x": [
          "2023-01-23T17:30:00"
         ],
         "y": [
          22956.66
         ]
        },
        {
         "marker": {
          "color": "blue",
          "size": 5
         },
         "mode": "markers",
         "type": "scatter",
         "x": [
          "2023-01-23T20:30:00"
         ],
         "y": [
          22906.26
         ]
        },
        {
         "marker": {
          "color": "blue",
          "size": 5
         },
         "mode": "markers",
         "type": "scatter",
         "x": [
          "2023-01-22T11:00:00"
         ],
         "y": [
          22832.91
         ]
        },
        {
         "marker": {
          "color": "blue",
          "size": 5
         },
         "mode": "markers",
         "type": "scatter",
         "x": [
          "2023-01-22T15:00:00"
         ],
         "y": [
          22867.88
         ]
        },
        {
         "marker": {
          "color": "blue",
          "size": 5
         },
         "mode": "markers",
         "type": "scatter",
         "x": [
          "2023-01-22T18:30:00"
         ],
         "y": [
          22863.38
         ]
        },
        {
         "marker": {
          "color": "blue",
          "size": 5
         },
         "mode": "markers",
         "type": "scatter",
         "x": [
          "2023-01-22T19:30:00"
         ],
         "y": [
          22751
         ]
        },
        {
         "marker": {
          "color": "blue",
          "size": 5
         },
         "mode": "markers",
         "type": "scatter",
         "x": [
          "2023-01-22T20:00:00"
         ],
         "y": [
          22645.21
         ]
        },
        {
         "marker": {
          "color": "blue",
          "size": 5
         },
         "mode": "markers",
         "type": "scatter",
         "x": [
          "2023-01-23T13:30:00"
         ],
         "y": [
          22831.79
         ]
        },
        {
         "marker": {
          "color": "blue",
          "size": 5
         },
         "mode": "markers",
         "type": "scatter",
         "x": [
          "2023-01-23T18:30:00"
         ],
         "y": [
          22979
         ]
        },
        {
         "marker": {
          "color": "blue",
          "size": 5
         },
         "mode": "markers",
         "type": "scatter",
         "x": [
          "2023-01-23T22:30:00"
         ],
         "y": [
          22948.36
         ]
        }
       ],
       "layout": {
        "showlegend": false,
        "template": {
         "data": {
          "bar": [
           {
            "error_x": {
             "color": "#2a3f5f"
            },
            "error_y": {
             "color": "#2a3f5f"
            },
            "marker": {
             "line": {
              "color": "#E5ECF6",
              "width": 0.5
             },
             "pattern": {
              "fillmode": "overlay",
              "size": 10,
              "solidity": 0.2
             }
            },
            "type": "bar"
           }
          ],
          "barpolar": [
           {
            "marker": {
             "line": {
              "color": "#E5ECF6",
              "width": 0.5
             },
             "pattern": {
              "fillmode": "overlay",
              "size": 10,
              "solidity": 0.2
             }
            },
            "type": "barpolar"
           }
          ],
          "carpet": [
           {
            "aaxis": {
             "endlinecolor": "#2a3f5f",
             "gridcolor": "white",
             "linecolor": "white",
             "minorgridcolor": "white",
             "startlinecolor": "#2a3f5f"
            },
            "baxis": {
             "endlinecolor": "#2a3f5f",
             "gridcolor": "white",
             "linecolor": "white",
             "minorgridcolor": "white",
             "startlinecolor": "#2a3f5f"
            },
            "type": "carpet"
           }
          ],
          "choropleth": [
           {
            "colorbar": {
             "outlinewidth": 0,
             "ticks": ""
            },
            "type": "choropleth"
           }
          ],
          "contour": [
           {
            "colorbar": {
             "outlinewidth": 0,
             "ticks": ""
            },
            "colorscale": [
             [
              0,
              "#0d0887"
             ],
             [
              0.1111111111111111,
              "#46039f"
             ],
             [
              0.2222222222222222,
              "#7201a8"
             ],
             [
              0.3333333333333333,
              "#9c179e"
             ],
             [
              0.4444444444444444,
              "#bd3786"
             ],
             [
              0.5555555555555556,
              "#d8576b"
             ],
             [
              0.6666666666666666,
              "#ed7953"
             ],
             [
              0.7777777777777778,
              "#fb9f3a"
             ],
             [
              0.8888888888888888,
              "#fdca26"
             ],
             [
              1,
              "#f0f921"
             ]
            ],
            "type": "contour"
           }
          ],
          "contourcarpet": [
           {
            "colorbar": {
             "outlinewidth": 0,
             "ticks": ""
            },
            "type": "contourcarpet"
           }
          ],
          "heatmap": [
           {
            "colorbar": {
             "outlinewidth": 0,
             "ticks": ""
            },
            "colorscale": [
             [
              0,
              "#0d0887"
             ],
             [
              0.1111111111111111,
              "#46039f"
             ],
             [
              0.2222222222222222,
              "#7201a8"
             ],
             [
              0.3333333333333333,
              "#9c179e"
             ],
             [
              0.4444444444444444,
              "#bd3786"
             ],
             [
              0.5555555555555556,
              "#d8576b"
             ],
             [
              0.6666666666666666,
              "#ed7953"
             ],
             [
              0.7777777777777778,
              "#fb9f3a"
             ],
             [
              0.8888888888888888,
              "#fdca26"
             ],
             [
              1,
              "#f0f921"
             ]
            ],
            "type": "heatmap"
           }
          ],
          "heatmapgl": [
           {
            "colorbar": {
             "outlinewidth": 0,
             "ticks": ""
            },
            "colorscale": [
             [
              0,
              "#0d0887"
             ],
             [
              0.1111111111111111,
              "#46039f"
             ],
             [
              0.2222222222222222,
              "#7201a8"
             ],
             [
              0.3333333333333333,
              "#9c179e"
             ],
             [
              0.4444444444444444,
              "#bd3786"
             ],
             [
              0.5555555555555556,
              "#d8576b"
             ],
             [
              0.6666666666666666,
              "#ed7953"
             ],
             [
              0.7777777777777778,
              "#fb9f3a"
             ],
             [
              0.8888888888888888,
              "#fdca26"
             ],
             [
              1,
              "#f0f921"
             ]
            ],
            "type": "heatmapgl"
           }
          ],
          "histogram": [
           {
            "marker": {
             "pattern": {
              "fillmode": "overlay",
              "size": 10,
              "solidity": 0.2
             }
            },
            "type": "histogram"
           }
          ],
          "histogram2d": [
           {
            "colorbar": {
             "outlinewidth": 0,
             "ticks": ""
            },
            "colorscale": [
             [
              0,
              "#0d0887"
             ],
             [
              0.1111111111111111,
              "#46039f"
             ],
             [
              0.2222222222222222,
              "#7201a8"
             ],
             [
              0.3333333333333333,
              "#9c179e"
             ],
             [
              0.4444444444444444,
              "#bd3786"
             ],
             [
              0.5555555555555556,
              "#d8576b"
             ],
             [
              0.6666666666666666,
              "#ed7953"
             ],
             [
              0.7777777777777778,
              "#fb9f3a"
             ],
             [
              0.8888888888888888,
              "#fdca26"
             ],
             [
              1,
              "#f0f921"
             ]
            ],
            "type": "histogram2d"
           }
          ],
          "histogram2dcontour": [
           {
            "colorbar": {
             "outlinewidth": 0,
             "ticks": ""
            },
            "colorscale": [
             [
              0,
              "#0d0887"
             ],
             [
              0.1111111111111111,
              "#46039f"
             ],
             [
              0.2222222222222222,
              "#7201a8"
             ],
             [
              0.3333333333333333,
              "#9c179e"
             ],
             [
              0.4444444444444444,
              "#bd3786"
             ],
             [
              0.5555555555555556,
              "#d8576b"
             ],
             [
              0.6666666666666666,
              "#ed7953"
             ],
             [
              0.7777777777777778,
              "#fb9f3a"
             ],
             [
              0.8888888888888888,
              "#fdca26"
             ],
             [
              1,
              "#f0f921"
             ]
            ],
            "type": "histogram2dcontour"
           }
          ],
          "mesh3d": [
           {
            "colorbar": {
             "outlinewidth": 0,
             "ticks": ""
            },
            "type": "mesh3d"
           }
          ],
          "parcoords": [
           {
            "line": {
             "colorbar": {
              "outlinewidth": 0,
              "ticks": ""
             }
            },
            "type": "parcoords"
           }
          ],
          "pie": [
           {
            "automargin": true,
            "type": "pie"
           }
          ],
          "scatter": [
           {
            "fillpattern": {
             "fillmode": "overlay",
             "size": 10,
             "solidity": 0.2
            },
            "type": "scatter"
           }
          ],
          "scatter3d": [
           {
            "line": {
             "colorbar": {
              "outlinewidth": 0,
              "ticks": ""
             }
            },
            "marker": {
             "colorbar": {
              "outlinewidth": 0,
              "ticks": ""
             }
            },
            "type": "scatter3d"
           }
          ],
          "scattercarpet": [
           {
            "marker": {
             "colorbar": {
              "outlinewidth": 0,
              "ticks": ""
             }
            },
            "type": "scattercarpet"
           }
          ],
          "scattergeo": [
           {
            "marker": {
             "colorbar": {
              "outlinewidth": 0,
              "ticks": ""
             }
            },
            "type": "scattergeo"
           }
          ],
          "scattergl": [
           {
            "marker": {
             "colorbar": {
              "outlinewidth": 0,
              "ticks": ""
             }
            },
            "type": "scattergl"
           }
          ],
          "scattermapbox": [
           {
            "marker": {
             "colorbar": {
              "outlinewidth": 0,
              "ticks": ""
             }
            },
            "type": "scattermapbox"
           }
          ],
          "scatterpolar": [
           {
            "marker": {
             "colorbar": {
              "outlinewidth": 0,
              "ticks": ""
             }
            },
            "type": "scatterpolar"
           }
          ],
          "scatterpolargl": [
           {
            "marker": {
             "colorbar": {
              "outlinewidth": 0,
              "ticks": ""
             }
            },
            "type": "scatterpolargl"
           }
          ],
          "scatterternary": [
           {
            "marker": {
             "colorbar": {
              "outlinewidth": 0,
              "ticks": ""
             }
            },
            "type": "scatterternary"
           }
          ],
          "surface": [
           {
            "colorbar": {
             "outlinewidth": 0,
             "ticks": ""
            },
            "colorscale": [
             [
              0,
              "#0d0887"
             ],
             [
              0.1111111111111111,
              "#46039f"
             ],
             [
              0.2222222222222222,
              "#7201a8"
             ],
             [
              0.3333333333333333,
              "#9c179e"
             ],
             [
              0.4444444444444444,
              "#bd3786"
             ],
             [
              0.5555555555555556,
              "#d8576b"
             ],
             [
              0.6666666666666666,
              "#ed7953"
             ],
             [
              0.7777777777777778,
              "#fb9f3a"
             ],
             [
              0.8888888888888888,
              "#fdca26"
             ],
             [
              1,
              "#f0f921"
             ]
            ],
            "type": "surface"
           }
          ],
          "table": [
           {
            "cells": {
             "fill": {
              "color": "#EBF0F8"
             },
             "line": {
              "color": "white"
             }
            },
            "header": {
             "fill": {
              "color": "#C8D4E3"
             },
             "line": {
              "color": "white"
             }
            },
            "type": "table"
           }
          ]
         },
         "layout": {
          "annotationdefaults": {
           "arrowcolor": "#2a3f5f",
           "arrowhead": 0,
           "arrowwidth": 1
          },
          "autotypenumbers": "strict",
          "coloraxis": {
           "colorbar": {
            "outlinewidth": 0,
            "ticks": ""
           }
          },
          "colorscale": {
           "diverging": [
            [
             0,
             "#8e0152"
            ],
            [
             0.1,
             "#c51b7d"
            ],
            [
             0.2,
             "#de77ae"
            ],
            [
             0.3,
             "#f1b6da"
            ],
            [
             0.4,
             "#fde0ef"
            ],
            [
             0.5,
             "#f7f7f7"
            ],
            [
             0.6,
             "#e6f5d0"
            ],
            [
             0.7,
             "#b8e186"
            ],
            [
             0.8,
             "#7fbc41"
            ],
            [
             0.9,
             "#4d9221"
            ],
            [
             1,
             "#276419"
            ]
           ],
           "sequential": [
            [
             0,
             "#0d0887"
            ],
            [
             0.1111111111111111,
             "#46039f"
            ],
            [
             0.2222222222222222,
             "#7201a8"
            ],
            [
             0.3333333333333333,
             "#9c179e"
            ],
            [
             0.4444444444444444,
             "#bd3786"
            ],
            [
             0.5555555555555556,
             "#d8576b"
            ],
            [
             0.6666666666666666,
             "#ed7953"
            ],
            [
             0.7777777777777778,
             "#fb9f3a"
            ],
            [
             0.8888888888888888,
             "#fdca26"
            ],
            [
             1,
             "#f0f921"
            ]
           ],
           "sequentialminus": [
            [
             0,
             "#0d0887"
            ],
            [
             0.1111111111111111,
             "#46039f"
            ],
            [
             0.2222222222222222,
             "#7201a8"
            ],
            [
             0.3333333333333333,
             "#9c179e"
            ],
            [
             0.4444444444444444,
             "#bd3786"
            ],
            [
             0.5555555555555556,
             "#d8576b"
            ],
            [
             0.6666666666666666,
             "#ed7953"
            ],
            [
             0.7777777777777778,
             "#fb9f3a"
            ],
            [
             0.8888888888888888,
             "#fdca26"
            ],
            [
             1,
             "#f0f921"
            ]
           ]
          },
          "colorway": [
           "#636efa",
           "#EF553B",
           "#00cc96",
           "#ab63fa",
           "#FFA15A",
           "#19d3f3",
           "#FF6692",
           "#B6E880",
           "#FF97FF",
           "#FECB52"
          ],
          "font": {
           "color": "#2a3f5f"
          },
          "geo": {
           "bgcolor": "white",
           "lakecolor": "white",
           "landcolor": "#E5ECF6",
           "showlakes": true,
           "showland": true,
           "subunitcolor": "white"
          },
          "hoverlabel": {
           "align": "left"
          },
          "hovermode": "closest",
          "mapbox": {
           "style": "light"
          },
          "paper_bgcolor": "white",
          "plot_bgcolor": "#E5ECF6",
          "polar": {
           "angularaxis": {
            "gridcolor": "white",
            "linecolor": "white",
            "ticks": ""
           },
           "bgcolor": "#E5ECF6",
           "radialaxis": {
            "gridcolor": "white",
            "linecolor": "white",
            "ticks": ""
           }
          },
          "scene": {
           "xaxis": {
            "backgroundcolor": "#E5ECF6",
            "gridcolor": "white",
            "gridwidth": 2,
            "linecolor": "white",
            "showbackground": true,
            "ticks": "",
            "zerolinecolor": "white"
           },
           "yaxis": {
            "backgroundcolor": "#E5ECF6",
            "gridcolor": "white",
            "gridwidth": 2,
            "linecolor": "white",
            "showbackground": true,
            "ticks": "",
            "zerolinecolor": "white"
           },
           "zaxis": {
            "backgroundcolor": "#E5ECF6",
            "gridcolor": "white",
            "gridwidth": 2,
            "linecolor": "white",
            "showbackground": true,
            "ticks": "",
            "zerolinecolor": "white"
           }
          },
          "shapedefaults": {
           "line": {
            "color": "#2a3f5f"
           }
          },
          "ternary": {
           "aaxis": {
            "gridcolor": "white",
            "linecolor": "white",
            "ticks": ""
           },
           "baxis": {
            "gridcolor": "white",
            "linecolor": "white",
            "ticks": ""
           },
           "bgcolor": "#E5ECF6",
           "caxis": {
            "gridcolor": "white",
            "linecolor": "white",
            "ticks": ""
           }
          },
          "title": {
           "x": 0.05
          },
          "xaxis": {
           "automargin": true,
           "gridcolor": "white",
           "linecolor": "white",
           "ticks": "",
           "title": {
            "standoff": 15
           },
           "zerolinecolor": "white",
           "zerolinewidth": 2
          },
          "yaxis": {
           "automargin": true,
           "gridcolor": "white",
           "linecolor": "white",
           "ticks": "",
           "title": {
            "standoff": 15
           },
           "zerolinecolor": "white",
           "zerolinewidth": 2
          }
         }
        }
       }
      }
     },
     "metadata": {},
     "output_type": "display_data"
    }
   ],
   "source": [
    "up_imbalances, down_imbalances = get_list_of_imbalances(df_higher_tf)\n",
    "\n",
    "\n",
    "fig = go.Figure(data=[go.Candlestick(x=df_higher_tf['date'],\n",
    "                open=df_higher_tf['open'],\n",
    "                high=df_higher_tf['high'],\n",
    "                low=df_higher_tf['low'],\n",
    "                close=df_higher_tf['close'])])\n",
    "\n",
    "# fig1 = go.Figure(data=[go.Candlestick(x=df_lower_tf['date'],\n",
    "#                 open=df_lower_tf['open'],\n",
    "#                 high=df_lower_tf['high'],\n",
    "#                 low=df_lower_tf['low'],\n",
    "#                 close=df_lower_tf['close'])])\n",
    "\n",
    "# buy_orders = []\n",
    "# sell_orders = []\n",
    "# multiplier = 5\n",
    "# for i in range(3, len(df_lower_tf)):\n",
    "#     if df_lower_tf.iloc[i-3]['low'] > df_lower_tf.iloc[i-2]['low'] and df_lower_tf.iloc[i-1]['close'] > df_lower_tf.iloc[i-3]['open'] and df_lower_tf.iloc[i-3]['open'] > df_lower_tf.iloc[i-3]['close']:\n",
    "#         if df_higher_tf.iloc[i//3]['classic_up_divergence'] or df_higher_tf.iloc[(i-1)//3]['classic_up_divergence']:\n",
    "#             buy_orders.append((df_lower_tf.iloc[i]['open'], df_lower_tf.iloc[i-2]['low'],\n",
    "#             round(df_lower_tf.iloc[i]['open'] + (df_lower_tf.iloc[i]['open']-df_lower_tf.iloc[i-2]['low'])*multiplier,2),\n",
    "#             df_lower_tf.iloc[i]['date']))\n",
    "\n",
    "#     if df_lower_tf.iloc[i-3]['high'] < df_lower_tf.iloc[i-2]['high'] and df_lower_tf.iloc[i-1]['close'] < df_lower_tf.iloc[i-3]['open'] and df_lower_tf.iloc[i-3]['open'] < df_lower_tf.iloc[i-3]['close']:\n",
    "#         if df_higher_tf.iloc[i//3]['classic_down_divergence'] or df_higher_tf.iloc[(i-1)//3]['classic_down_divergence']:\n",
    "#             sell_orders.append((df_lower_tf.iloc[i]['open'], df_lower_tf.iloc[i-2]['high'],\n",
    "#             round(df_lower_tf.iloc[i]['open'] - (df_lower_tf.iloc[i-2]['high']-df_lower_tf.iloc[i]['open'])*multiplier,2),\n",
    "#             df_lower_tf.iloc[i]['date']))\n",
    "\n",
    "# backtest(df_lower_tf,buy_orders,sell_orders,100,1)\n",
    "\n",
    "# for order in buy_orders:\n",
    "#     fig.add_trace(go.Scatter(x=[order[3]],y=[order[0]],mode='markers', marker=dict(size=4, color='green')))\n",
    "#     fig.add_trace(go.Scatter(x=[order[3]],y=[order[1]],mode='markers', marker=dict(size=4, color='green')))\n",
    "#     fig.add_trace(go.Scatter(x=[order[3]],y=[order[2]],mode='markers', marker=dict(size=4, color='green')))\n",
    "\n",
    "# for order in sell_orders:\n",
    "#     fig.add_trace(go.Scatter(x=[order[3]],y=[order[0]],mode='markers', marker=dict(size=4, color='red')))\n",
    "#     fig.add_trace(go.Scatter(x=[order[3]],y=[order[1]],mode='markers', marker=dict(size=4, color='red')))\n",
    "#     fig.add_trace(go.Scatter(x=[order[3]],y=[order[2]],mode='markers', marker=dict(size=4, color='red')))\n",
    "\n",
    "for up_imbalance in up_imbalances:\n",
    "    fig.add_trace(go.Scatter(x=[up_imbalance[2]],y=[up_imbalance[0]],mode='markers', marker=dict(size=5, color='blue')))\n",
    "for down_imbalance in down_imbalances:\n",
    "    fig.add_trace(go.Scatter(x=[down_imbalance[2]],y=[down_imbalance[0]],mode='markers', marker=dict(size=5, color='blue')))\n",
    "\n",
    "# for i in range(len(df_higher_tf)):\n",
    "#     if df_higher_tf.iloc[i]['within_up_imbalance']:\n",
    "#         fig.add_vline(x=df_higher_tf.iloc[i]['date'],line=dict(color='green'))\n",
    "#     if df_higher_tf.iloc[i]['within_down_imbalance']:\n",
    "#         fig.add_vline(x=df_higher_tf.iloc[i]['date'],line=dict(color='red'))\n",
    "# rsx = go.Figure(go.Scatter(\n",
    "#         x=df_higher_tf['date'],\n",
    "#         y=df_higher_tf['RSX']\n",
    "#     ))\n",
    "\n",
    "\n",
    "\n",
    "fig.update_layout(showlegend=False)\n",
    "fig.show()\n",
    "# fig1.update_layout(showlegend=False)\n",
    "# fig1.show()\n",
    "# rsx.update_layout(showlegend=False)\n",
    "# rsx.show()"
   ]
  }
 ],
 "metadata": {
  "kernelspec": {
   "display_name": "Python 3",
   "language": "python",
   "name": "python3"
  },
  "language_info": {
   "codemirror_mode": {
    "name": "ipython",
    "version": 3
   },
   "file_extension": ".py",
   "mimetype": "text/x-python",
   "name": "python",
   "nbconvert_exporter": "python",
   "pygments_lexer": "ipython3",
   "version": "3.10.8"
  },
  "orig_nbformat": 4,
  "vscode": {
   "interpreter": {
    "hash": "05a87d0cfdfbb752979dc8c3f53cb6c0c2a7c4b49c718c090facb8fa9d62de1e"
   }
  }
 },
 "nbformat": 4,
 "nbformat_minor": 2
}
