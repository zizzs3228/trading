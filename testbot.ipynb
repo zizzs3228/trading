{
 "cells": [
  {
   "cell_type": "code",
   "execution_count": 155,
   "metadata": {},
   "outputs": [],
   "source": [
    "from binance.client import Client\n",
    "import pandas as pd\n",
    "import plotly.graph_objects as go\n",
    "from pon import api,secret\n",
    "import numpy as np\n",
    "import schedule\n",
    "import time\n",
    "from plotly.subplots import make_subplots\n",
    "import pandas_ta as ta\n",
    "import warnings\n",
    "warnings.filterwarnings(\"ignore\")\n"
   ]
  },
  {
   "cell_type": "code",
   "execution_count": 156,
   "metadata": {},
   "outputs": [],
   "source": [
    "def get_price_data_binance(ticker:str,limit:int,start_str:str, end_str:str,interval = Client.KLINE_INTERVAL_1DAY)->pd.DataFrame:\n",
    "    client = Client(api, secret)\n",
    "    df = pd.DataFrame(client.get_historical_klines(symbol=ticker, interval=interval,start_str=start_str, end_str=end_str))\n",
    "    df.columns=['date','open','high','low','close','volume','close_time','d1','d2','d3','d4','d5']\n",
    "    df = df.drop(['close_time','d1','d2','d3','d4','d5'],axis=1)\n",
    "    df['date'] = pd.to_datetime(df['date']*1000000)\n",
    "    df['open'] = df['open'].astype(float)\n",
    "    df['high'] = df['high'].astype(float)\n",
    "    df['low'] = df['low'].astype(float)\n",
    "    df['close'] = df['close'].astype(float)\n",
    "    return df\n",
    "    \n",
    "def get_list_of_imbalances(df:pd.DataFrame)->list:\n",
    "    up_imbalances = []\n",
    "    down_imbalances = []\n",
    "    df['ATR'] = ta.atr(df['high'],df['low'],df['close'],14)\n",
    "    for i in range(5, len(df)-1):\n",
    "        prev_candle = df.iloc[i-2]\n",
    "        next_candle = df.iloc[i]\n",
    "        #if (df.iloc[i-1]['close'] - df.iloc[i-1]['open'])/3 < (next_candle['low'] - prev_candle['high']):\n",
    "        if (prev_candle['high'] < next_candle['low']) and df.iloc[i]['ATR']/(next_candle['low'] - prev_candle['high'])<20:\n",
    "            up_imbalances.append([round((prev_candle['high']+next_candle['low'])/2,2), \n",
    "            prev_candle['high'],\n",
    "            df.iloc[i-1]['date']])\n",
    "\n",
    "        #if (df.iloc[i-1]['open'] - df.iloc[i]['open'])/3 < (prev_candle['low'] - next_candle['high']):\n",
    "        if (prev_candle['low'] > next_candle['high']) and df.iloc[i]['ATR']/(prev_candle['low'] - next_candle['high'])<20:\n",
    "            down_imbalances.append([round((prev_candle['low']+next_candle['high'])/2,2),\n",
    "            prev_candle['low'],\n",
    "            df.iloc[i-1]['date']])\n",
    "\n",
    "    return up_imbalances, down_imbalances\n",
    "\n",
    "def check_within_imbalances(df:pd.DataFrame, up_imbalances:list, down_imbalances:list)->pd.DataFrame:\n",
    "    df['within_up_imbalance'] = False\n",
    "    df['within_down_imbalance'] = False\n",
    "    up_imbalancesCOPY = up_imbalances.copy()\n",
    "    down_imbalancesCOPY = down_imbalances.copy()\n",
    "    for i in range(5, len(df)):\n",
    "        for imbalance in up_imbalancesCOPY:\n",
    "            if df.iloc[i]['low'] < imbalance[0] and df.iloc[i]['close'] > imbalance[1] and df.iloc[i]['date'] > imbalance[2]:\n",
    "                df.loc[i, 'within_up_imbalance'] = True\n",
    "\n",
    "        for imbalance in down_imbalancesCOPY:\n",
    "            if df.iloc[i]['high'] > imbalance[0] and df.iloc[i]['close'] < imbalance[1] and df.iloc[i]['date'] > imbalance[2]:\n",
    "                df.loc[i, 'within_down_imbalance'] = True\n",
    "\n",
    "        for imbalance in up_imbalancesCOPY:\n",
    "            if df.iloc[i-5]['low'] < imbalance[1] and df.iloc[i-5]['date'] > imbalance[2]:\n",
    "                up_imbalancesCOPY.remove(imbalance)\n",
    "        \n",
    "        for imbalance in down_imbalancesCOPY:\n",
    "            if df.iloc[i-5]['high'] > imbalance[1] and df.iloc[i-5]['date'] > imbalance[2]:\n",
    "                down_imbalancesCOPY.remove(imbalance)\n",
    "\n",
    "    return df\n",
    "\n",
    "def delete_up_imbalance(up_imbalances, df:pd.DataFrame)->list:\n",
    "    for i in range(0, len(df)-10):\n",
    "        for imbalance in up_imbalances:\n",
    "            candle = df.iloc[i]\n",
    "            if candle['date']>imbalance[2]  and (candle['close'] < imbalance[0] or candle['low'] < imbalance[0]):\n",
    "                up_imbalances.remove(imbalance)\n",
    "    return up_imbalances[-3:]\n",
    "\n",
    "def delete_down_imbalance(down_imbalances, df:pd.DataFrame)->list:\n",
    "    for i in range(0, len(df)-10):\n",
    "        for imbalance in down_imbalances:\n",
    "            candle = df.iloc[i]\n",
    "            if candle['date']>imbalance[2] and (candle['close'] > imbalance[0] or candle['high'] > imbalance[0]):\n",
    "                down_imbalances.remove(imbalance)\n",
    "    \n",
    "    return down_imbalances[-3:]\n",
    "\n",
    "def add_moving_average(period:int,df:pd.DataFrame)->pd.DataFrame:\n",
    "    df['SMA'] = df['close'].rolling(period).mean()\n",
    "    df['SMAslope'] = df['SMA'].pct_change()*10000\n",
    "    df['SMAdistance'] = abs(df['SMA']-df['close'])/df['SMA']*10000\n",
    "\n",
    "    df['up_reversal'] = ((df['SMAslope'].shift(1) < 0) & (df['SMAslope'] > 0))\n",
    "    df['down_reversal'] = ((df['SMAslope'].shift(1) > 0) & (df['SMAslope'] < 0)) \n",
    "    # df['charthighest'] = df['high'].rolling(6).max()[df['down_reversal'] == True]\n",
    "    # df['chartlowest'] = df['low'].rolling(6).min()[df['up_reversal'] == True]\n",
    "    # up_imbalances = get_list_of_up_imbalances(df)\n",
    "    # down_imbalances = get_list_of_down_imbalances(df)\n",
    "\n",
    "    # df['up_reversal'] = False\n",
    "    # df['down_reversal'] = False\n",
    "    # for i in range(5, len(df)-3):\n",
    "    #     for imbalance in up_imbalances:\n",
    "    #         if (df.iloc[i-1]['date'] < imbalance[2] < df.iloc[i+3]['date']):\n",
    "    #             if (df.iloc[i-1]['SMAslope'] < 0) & (df.iloc[i]['SMAslope'] > 0):\n",
    "    #                 if not (df.iloc[i-1]['up_reversal'] or df.iloc[i-2]['up_reversal'] or df.iloc[i-3]['up_reversal'] or df.iloc[i-4]['up_reversal']):\n",
    "    #                     df.loc[i, 'up_reversal'] = True\n",
    "    #     for imbalance in down_imbalances:\n",
    "    #         if (df.iloc[i-1]['date'] < imbalance[2] < df.iloc[i+3]['date']):\n",
    "    #             if ((df.iloc[i-1]['SMAslope'] > 0) & (df.iloc[i]['SMAslope'] < 0)):\n",
    "    #                 if not (df.iloc[i-1]['down_reversal'] or df.iloc[i-2]['down_reversal'] or df.iloc[i-3]['down_reversal'] or df.iloc[i-4]['down_reversal']):\n",
    "    #                     df.loc[i, 'down_reversal'] = True\n",
    "\n",
    "\n",
    "    # df['up_reversal'] = ((df['SMAslope'].shift(1) < 0) & (df['SMAslope'] > 0))\n",
    "    # df['down_reversal'] = ((df['SMAslope'].shift(1) > 0) & (df['SMAslope'] < 0))\n",
    "\n",
    "    return df\n",
    "\n",
    "def add_rsx_HF(period:int,df:pd.DataFrame)->pd.DataFrame:\n",
    "    df[\"RSX\"] = ta.rsx(round((df['close']+df['high']+df['low'])/3,2), period)\n",
    "    df['RSXslope'] = df['RSX'].pct_change()*100\n",
    "    df['RSX_up_reversal'] = ((df['RSXslope'].shift(1) < 0) & (df['RSXslope'] > 0)) & (df['RSX'] < 30)\n",
    "    df['RSX_down_reversal'] = ((df['RSXslope'].shift(1) > 0) & (df['RSXslope'] < 0)) & (df['RSX'] > 70)\n",
    "\n",
    "    up_reversals = []\n",
    "    down_reversals = []\n",
    "    # df['hidden_up_divergence'] = False\n",
    "    # df['hidden_down_divergence'] = False\n",
    "    df['classic_up_divergence'] = False\n",
    "    df['classic_down_divergence'] = False\n",
    "\n",
    "    for i in range(0, len(df)):\n",
    "        if df.iloc[i]['RSX_up_reversal']:\n",
    "            up_reversals.append(min((df.iloc[i]['low'],df.iloc[i-1]['RSX'],df.iloc[i]['date']),\n",
    "                (df.iloc[i-1]['low'],df.iloc[i-1]['RSX'],df.iloc[i-1]['date']),\n",
    "                (df.iloc[i-2]['low'],df.iloc[i-1]['RSX'],df.iloc[i-2]['date']),\n",
    "                (df.iloc[i-3]['low'],df.iloc[i-1]['RSX'],df.iloc[i-3]['date']),\n",
    "                (df.iloc[i-4]['low'],df.iloc[i-1]['RSX'],df.iloc[i-4]['date']),\n",
    "                (df.iloc[i-5]['low'],df.iloc[i-1]['RSX'],df.iloc[i-5]['date'])))\n",
    "\n",
    "        if df.iloc[i]['RSX_down_reversal']:\n",
    "            down_reversals.append(max((df.iloc[i]['high'],df.iloc[i-1]['RSX'],df.iloc[i]['date']),\n",
    "                (df.iloc[i-1]['high'],df.iloc[i-1]['RSX'],df.iloc[i-1]['date']),\n",
    "                (df.iloc[i-2]['high'],df.iloc[i-1]['RSX'],df.iloc[i-2]['date']),\n",
    "                (df.iloc[i-3]['high'],df.iloc[i-1]['RSX'],df.iloc[i-3]['date']),\n",
    "                (df.iloc[i-4]['high'],df.iloc[i-1]['RSX'],df.iloc[i-4]['date']),\n",
    "                (df.iloc[i-5]['high'],df.iloc[i-1]['RSX'],df.iloc[i-5]['date'])))\n",
    "\n",
    "        if up_reversals:\n",
    "            if df.iloc[i]['date']>up_reversals[-1][2]:\n",
    "                if df.iloc[i]['low'] < up_reversals[-1][0]:\n",
    "                    if df.iloc[i]['RSX'] > up_reversals[-1][1]:\n",
    "                        df.loc[i, 'classic_up_divergence'] = True\n",
    "\n",
    "        if down_reversals:\n",
    "            if df.iloc[i]['date']>down_reversals[-1][2]:\n",
    "                if df.iloc[i]['high'] > down_reversals[-1][0]:\n",
    "                    if df.iloc[i]['RSX'] < down_reversals[-1][1]:\n",
    "                        df.loc[i, 'classic_down_divergence'] = True\n",
    "\n",
    "        # if (up_reversals and down_reversals):\n",
    "        #     for up_reversal in up_reversals[-5:]:\n",
    "        #         if (up_reversal[0] < df.iloc[i]['low']) and (up_reversal[1] > df.iloc[i]['RSX']) and up_reversal[2] < df.iloc[i]['date']:\n",
    "        #             df.loc[i, 'hidden_up_divergence'] = True\n",
    "                \n",
    "        #     for down_reversal in down_reversals[-5:]:\n",
    "        #         if (down_reversal[0] > df.iloc[i]['high']) and (down_reversal[1] < df.iloc[i]['RSX']) and down_reversal[2] < df.iloc[i]['date']:\n",
    "        #             df.loc[i, 'hidden_down_divergence'] = True\n",
    "    return df\n",
    "\n",
    "def add_rsx_LF(period:int,df:pd.DataFrame)->pd.DataFrame:\n",
    "    df[\"RSX\"] = ta.rsx(round((df['close']+df['high']+df['low'])/3,2), period)\n",
    "    df['RSXslope'] = df['RSX'].pct_change()*100\n",
    "    df['RSX_up_reversal'] = ((df['RSXslope'].shift(1) < 0) & (df['RSXslope'] > 0)) & (df['RSXslope'].shift(1).rolling(5).sum()<-6)\n",
    "    df['RSX_down_reversal'] = ((df['RSXslope'].shift(1) > 0) & (df['RSXslope'] < 0)) & (df['RSXslope'].shift(1).rolling(5).sum()>6)\n",
    "\n",
    "    up_reversals = []\n",
    "    down_reversals = []\n",
    "    df['classic_up_divergence'] = False\n",
    "    df['classic_down_divergence'] = False\n",
    "\n",
    "    for i in range(len(df) - 200, len(df)):\n",
    "        if df.iloc[i]['RSX_up_reversal']:\n",
    "            up_reversals.append(min((df.iloc[i]['low'],df.iloc[i-1]['RSX'],df.iloc[i]['date']),\n",
    "                (df.iloc[i-1]['low'],df.iloc[i-1]['RSX'],df.iloc[i-1]['date']),\n",
    "                (df.iloc[i-2]['low'],df.iloc[i-1]['RSX'],df.iloc[i-2]['date']),\n",
    "                (df.iloc[i-3]['low'],df.iloc[i-1]['RSX'],df.iloc[i-3]['date']),\n",
    "                (df.iloc[i-4]['low'],df.iloc[i-1]['RSX'],df.iloc[i-4]['date']),\n",
    "                (df.iloc[i-5]['low'],df.iloc[i-1]['RSX'],df.iloc[i-5]['date'])))\n",
    "\n",
    "        if df.iloc[i]['RSX_down_reversal']:\n",
    "            down_reversals.append(max((df.iloc[i]['high'],df.iloc[i-1]['RSX'],df.iloc[i]['date']),\n",
    "                (df.iloc[i-1]['high'],df.iloc[i-1]['RSX'],df.iloc[i-1]['date']),\n",
    "                (df.iloc[i-2]['high'],df.iloc[i-1]['RSX'],df.iloc[i-2]['date']),\n",
    "                (df.iloc[i-3]['high'],df.iloc[i-1]['RSX'],df.iloc[i-3]['date']),\n",
    "                (df.iloc[i-4]['high'],df.iloc[i-1]['RSX'],df.iloc[i-4]['date']),\n",
    "                (df.iloc[i-5]['high'],df.iloc[i-1]['RSX'],df.iloc[i-5]['date'])))\n",
    "                \n",
    "        if (up_reversals and down_reversals):\n",
    "            for up_reversal in up_reversals[-1:]:    \n",
    "                if (up_reversal[0] > df.iloc[i]['low']) and (up_reversal[1] < df.iloc[i]['RSX']) and up_reversal[2] < df.iloc[i]['date']:\n",
    "                    df.loc[i, 'classic_up_divergence'] = True\n",
    "\n",
    "            for down_reversal in down_reversals[-1:]:       \n",
    "                if (down_reversal[0] < df.iloc[i]['high']) and (down_reversal[1] > df.iloc[i]['RSX']) and down_reversal[2] < df.iloc[i]['date']:\n",
    "                    df.loc[i, 'classic_down_divergence'] = True\n",
    "                \n",
    "    return df\n",
    "\n",
    "def three_candle_up_fractal(left:list,medium:list,right:list):\n",
    "    #ohlc - 0123\n",
    "    if left[0] > left[3] and right[0] < right[3] and left[0] > medium[3] and left[0] < right[3] and (left[0]-left[3])*2 > (right[3]-right[0]):\n",
    "        return True\n",
    "        \n",
    "def three_candle_down_fractal(left:list,medium:list,right:list):\n",
    "    #ohlc - 0123\n",
    "    if left[0] < left[3] and right[0] > right[3] and left[0] < medium[3] and left[0] > right[3] and (left[3]-left[0])*2 > (right[0]-right[3]):\n",
    "        return True\n",
    "    \n",
    "def hammer_up(current:list):\n",
    "    #ohlc - 0123\n",
    "    #При первом множителе 2 винрейт почти такой же, но сделок больше, что увеличивает прибыль\n",
    "    if current[0]>current[3]:\n",
    "        if (current[0]-current[3])*2 < (current[1]-current[2]) and (current[1]-current[0])*2 < (current[3]-current[2]):\n",
    "            return True\n",
    "    if current[0]<current[3]:\n",
    "        if (current[3]-current[0])*2 < (current[1]-current[2]) and (current[1]-current[3])*2 < (current[0]-current[2]):\n",
    "            return True\n",
    "\n",
    "def falling_star_down(current:list):\n",
    "    if current[0]>current[3]:\n",
    "        if (current[0]-current[3])*2 < (current[1]-current[2]) and (current[3]-current[2])*2 < (current[1]-current[0]):\n",
    "            return True\n",
    "    \n",
    "    if current[0]<current[3]:\n",
    "        if (current[3]-current[0])*2 < (current[1]-current[2]) and (current[0]-current[2])*2 < (current[1]-current[3]):\n",
    "            return True\n",
    "    \n",
    "def down_engulfing(left:list,right:list):\n",
    "    #ohlc - 0123\n",
    "    if left[0]<left[3] and right[3]<left[0] and (left[3]-left[0])*2 > (right[0]-right[3]):\n",
    "        return True\n",
    "    \n",
    "def up_engulfing(left:list,right:list):\n",
    "    #ohlc - 0123\n",
    "    if left[0]>left[3] and right[3]>left[0] and (left[0]-left[3])*2 > (right[3]-right[0]):\n",
    "        return True\n",
    "\n",
    "def backtest(data: pd.DataFrame, buy_orders: list, sell_orders: list,depo:int,risk:int,chart=False):\n",
    "    # Initialize variables to store statistics\n",
    "    startdepo = depo\n",
    "    buy_profit = 0\n",
    "    buy_loss = 0\n",
    "    sell_profit = 0\n",
    "    sell_loss = 0\n",
    "        \n",
    "    win_buy_trades = 0\n",
    "    lose_buy_trades = 0\n",
    "\n",
    "    win_sell_trades = 0\n",
    "    lose_sell_trades = 0\n",
    "    lose = depo*0.01*risk\n",
    "    depolist = [depo]\n",
    "    # Iterate through buy orders\n",
    "    for order in buy_orders:\n",
    "        open_price = order[0]\n",
    "        stop_loss = order[1]\n",
    "        take_profit = order[2]\n",
    "        open_date = order[3]\n",
    "\n",
    "        # Iterate through data starting from the open date\n",
    "        for i in range(1, len(data)):\n",
    "            if data.iloc[i]['date'] > open_date:\n",
    "                if data.iloc[i]['high'] >= take_profit:\n",
    "                    depo += round((take_profit - open_price)/(open_price - stop_loss),2)*lose-(depo*0.01*risk*0.04)\n",
    "                    win_buy_trades += 1\n",
    "                    depolist.append(depo)\n",
    "                    break\n",
    "                elif data.iloc[i]['low'] <= stop_loss:\n",
    "                    depo -= 1*lose+(depo*0.01*0.04)\n",
    "                    lose_buy_trades += 1\n",
    "                    depolist.append(depo)\n",
    "                    break\n",
    "    \n",
    "    # Iterate through sell orders\n",
    "    for order in sell_orders:\n",
    "        open_price = order[0]\n",
    "        stop_loss = order[1]\n",
    "        take_profit = order[2]\n",
    "        open_date = order[3]\n",
    "        \n",
    "        # Iterate through data starting from the open date\n",
    "        for i in range(1, len(data)):\n",
    "            if data.iloc[i]['date'] > open_date:\n",
    "                if data.iloc[i]['low'] <= take_profit:\n",
    "                    depo += round((open_price - take_profit)/(stop_loss - open_price),2)*lose-(depo*0.01*risk*0.04)\n",
    "                    win_sell_trades += 1\n",
    "                    depolist.append(depo)\n",
    "                    break\n",
    "                elif data.iloc[i]['high'] >= stop_loss:\n",
    "                    depo -= 1*lose+(depo*0.01*0.04)\n",
    "                    lose_sell_trades += 1\n",
    "                    depolist.append(depo)\n",
    "                    break\n",
    "    buy_winrate = 0\n",
    "    sell_winrate = 0\n",
    "    if len(buy_orders)>0:\n",
    "        buy_winrate = round((win_buy_trades)/len(buy_orders)*100,2)\n",
    "    if len(sell_orders)>0:\n",
    "        sell_winrate = round((win_sell_trades)/len(sell_orders)*100,2)\n",
    "    total_trades = win_buy_trades + win_sell_trades + lose_buy_trades + lose_sell_trades\n",
    "    \n",
    "    peak = depolist[0]\n",
    "    max_drawdown = 0\n",
    "    maxdrawdownpeak = 0\n",
    "    \n",
    "    for deposit in depolist:\n",
    "        peak = max(peak, deposit)\n",
    "        drawdown = round((peak - deposit)/peak*100,2)\n",
    "        if max_drawdown < drawdown:\n",
    "            max_drawdown = max(max_drawdown, drawdown)\n",
    "            maxdrawdownpeak = peak\n",
    "            \n",
    "    print(f\"\"\"\n",
    "        Total trades: {total_trades},\n",
    "        Total win trades: {win_buy_trades + win_sell_trades}\n",
    "        Total lose trades: {lose_buy_trades + lose_sell_trades}\n",
    "        Total buy trades: {win_buy_trades + lose_buy_trades}\n",
    "        Total sell trades: {win_sell_trades + lose_sell_trades}\n",
    "        Winrate: {round((win_buy_trades+win_sell_trades)/total_trades*100,2)}%\n",
    "        Winrate buy trades: {buy_winrate}%\n",
    "        Winrate sell trades: {sell_winrate}%\n",
    "        Risk: {risk}%\n",
    "        Start deposit: {startdepo}$\n",
    "        Deposit: {round(depo,3)}$\n",
    "        Max Drawdown(%): {max_drawdown}%\n",
    "        Max Drawdown($): {round(maxdrawdownpeak*0.01*max_drawdown,2)}$\"\"\"\n",
    "    )\n",
    "    if chart:\n",
    "        fig = go.Figure(data=[go.Scatter(x=list(range(len(depolist))), y=depolist,mode='lines')])\n",
    "        fig.show()\n"
   ]
  },
  {
   "cell_type": "code",
   "execution_count": 157,
   "metadata": {},
   "outputs": [],
   "source": [
    "df_higher_tf = get_price_data_binance('BTCUSDT',1000,start_str='12:00 22 Jan, 2023', end_str='25 Jan, 2023',interval=Client.KLINE_INTERVAL_30MINUTE)\n",
    "# df_higher_tf2 = get_price_data_binance('BTCUSDT',1000,start_str='18 Dec, 2022', end_str='7 Jan, 2023',interval=Client.KLINE_INTERVAL_30MINUTE)\n",
    "# df_higher_tf3 = get_price_data_binance('BTCUSDT',1000,start_str='28 Nov, 2022', end_str='18 Dec, 2022',interval=Client.KLINE_INTERVAL_30MINUTE)\n",
    "# df_higher_tf4 = get_price_data_binance('BTCUSDT',1000,start_str='7 Nov, 2022', end_str='28 Nov, 2022',interval=Client.KLINE_INTERVAL_30MINUTE)\n",
    "\n",
    "#df_lower_tf = get_price_data_binance('BTCUSDT',1000,interval=Client.KLINE_INTERVAL_5MINUTE)"
   ]
  },
  {
   "cell_type": "code",
   "execution_count": 158,
   "metadata": {},
   "outputs": [],
   "source": [
    "# df_higher_tf = pd.concat([df_higher_tf4, df_higher_tf3, df_higher_tf2, df_higher_tf1], axis=0)\n",
    "# df_higher_tf = df_higher_tf.reset_index(drop=True)"
   ]
  },
  {
   "cell_type": "code",
   "execution_count": 159,
   "metadata": {},
   "outputs": [
    {
     "data": {
      "application/vnd.plotly.v1+json": {
       "config": {
        "plotlyServerURL": "https://plot.ly"
       },
       "data": [
        {
         "close": [
          22718.13,
          22869.56,
          22897.69,
          22897.79,
          22931.95,
          22990.41,
          22778.43,
          22794.51,
          22831.53,
          22819.28,
          22892.04,
          22922.34,
          22876.55,
          22838,
          22807.42,
          22722.15,
          22570.42,
          22459.46,
          22439.79,
          22585.37,
          22566.72,
          22676.48,
          22686.05,
          22707.88,
          22775.68,
          22745.28,
          22784.11,
          22699.37,
          22743.45,
          22752.05,
          22715.19,
          22661.02,
          22690.18,
          22758.32,
          22750.77,
          22723.63,
          22735.28,
          22773.33,
          22680.35,
          22695.9,
          22693.19,
          22719.28,
          22781.65,
          22784.18,
          22895.64,
          22909.95,
          22835.64,
          22904.58,
          22863.55,
          22910.74,
          22873.4,
          22798.41,
          22793.63,
          22622.05,
          22864.28,
          22853.14,
          22811.38,
          22911.17,
          22905.29,
          23065.22,
          23105.33,
          22936.2,
          22845.11,
          22792.47,
          22852.4,
          23022.64,
          22983.75,
          22996,
          22981.37,
          22925.32,
          22923.82,
          22916.45,
          22977.46,
          22986.44,
          22948.14,
          23089.46,
          23116.75,
          23036.68,
          23022.83,
          23079.27,
          23103.37,
          23072.15,
          23070.87,
          23118.17,
          23132.86,
          23095.63,
          23091.23,
          23054.08,
          23073.76,
          23053.12,
          22917.4,
          22852.79,
          22915.24,
          22902.51,
          22922.55,
          22917.66,
          22996.13,
          22964.13,
          22956.13,
          22859.93,
          22851.77,
          22859.1,
          22909.91,
          22931.36,
          22942.92,
          22875.18,
          22900.78,
          22913.49,
          22994.84,
          22999.85,
          22997.44,
          23018.53,
          22981.15,
          23010.34,
          22995.5,
          22902.84,
          22693.13,
          22755.52,
          22621.56,
          22632.89,
          22547.06
         ],
         "high": [
          22800.34,
          22871.68,
          22919.07,
          22930.01,
          22938.12,
          23040,
          23078.71,
          22866.95,
          22836.18,
          22862.27,
          22913.5,
          22959.71,
          22936.84,
          22894.65,
          22856.75,
          22844,
          22736,
          22603.29,
          22490.66,
          22639.71,
          22624.96,
          22698,
          22754.99,
          22773.89,
          22781.05,
          22811.15,
          22826.46,
          22793.27,
          22757.65,
          22756.64,
          22771.14,
          22722,
          22719.83,
          22759.49,
          22769.71,
          22753,
          22760,
          22794.33,
          22786,
          22730.66,
          22769.53,
          22758.9,
          22783.99,
          22788,
          22940.69,
          22957.25,
          22930,
          22916.24,
          22921,
          22978,
          22939.49,
          22892,
          22829,
          23115,
          22873.37,
          22920,
          22935.78,
          22930,
          22923.33,
          23067.86,
          23180,
          23149.55,
          22967.99,
          22880.04,
          22874.97,
          23034.9,
          23044.56,
          23015.03,
          23034.46,
          23005.11,
          22937,
          22959.92,
          22988,
          23009.79,
          23030,
          23105.52,
          23144.76,
          23127.64,
          23058.84,
          23084,
          23121.66,
          23108,
          23078,
          23162.2,
          23155.82,
          23134.47,
          23128.99,
          23098.57,
          23090.25,
          23089.11,
          23058.29,
          22926.46,
          22924.88,
          22942.7,
          22930.38,
          22933.32,
          22999.72,
          23035.31,
          23016.8,
          22975,
          22946.55,
          22961.18,
          22920.67,
          22959.88,
          22949.26,
          22946.7,
          22927.37,
          22922.81,
          23050,
          23042.52,
          23015.94,
          23079,
          23040.27,
          23029.91,
          23080.45,
          23021.33,
          22929.63,
          22851,
          22786.96,
          22660.63,
          22670
         ],
         "low": [
          22700.01,
          22700.01,
          22846.82,
          22872.77,
          22866.81,
          22868.82,
          22645.59,
          22744.11,
          22689.72,
          22786.92,
          22780.5,
          22868.42,
          22870,
          22818.84,
          22766.01,
          22687.13,
          22430.66,
          22292.37,
          22317,
          22434.66,
          22560,
          22536.26,
          22641.11,
          22675.02,
          22660.67,
          22727.11,
          22743.82,
          22690.3,
          22690.3,
          22707.49,
          22692.38,
          22646.43,
          22659.12,
          22682.72,
          22720.57,
          22706.25,
          22691.66,
          22721.01,
          22600.14,
          22657.18,
          22662.38,
          22680,
          22703.26,
          22740.24,
          22764.91,
          22879.36,
          22826.23,
          22827.8,
          22808.9,
          22851.55,
          22834.58,
          22668.43,
          22674.91,
          22500,
          22586.68,
          22802,
          22803.03,
          22765.27,
          22852.59,
          22850.15,
          22990,
          22862.07,
          22796.57,
          22654,
          22753.71,
          22822.55,
          22937.54,
          22942.24,
          22959.72,
          22852.01,
          22869.12,
          22890.46,
          22864.67,
          22937.11,
          22930.14,
          22930.12,
          23068.26,
          23036.27,
          23002.31,
          23015.32,
          23066.23,
          23062.82,
          23026.01,
          23069.5,
          23110.03,
          23062.55,
          23085.76,
          23006.98,
          23033.8,
          23042.29,
          22825,
          22770,
          22846.12,
          22897.81,
          22870,
          22866.23,
          22882.09,
          22957.6,
          22942.36,
          22785.01,
          22800.01,
          22711,
          22750.01,
          22856.13,
          22868.75,
          22841.48,
          22785.59,
          22868.68,
          22877.19,
          22978.97,
          22961.85,
          22987,
          22927.8,
          22879.08,
          22966.83,
          22818.02,
          22669.42,
          22692.24,
          22462.93,
          22543.9,
          22498
         ],
         "open": [
          22784.74,
          22718.22,
          22869.56,
          22897.07,
          22897.79,
          22933.2,
          22990.42,
          22778.43,
          22794.63,
          22830.39,
          22819.38,
          22892.04,
          22922.34,
          22875.4,
          22838,
          22808.12,
          22721.88,
          22569.13,
          22459.46,
          22438.48,
          22585.38,
          22567.63,
          22676.48,
          22686.05,
          22706.02,
          22775.7,
          22744.83,
          22784.12,
          22699.37,
          22742.54,
          22752.71,
          22714.7,
          22661.02,
          22689.68,
          22758.32,
          22749.83,
          22724.48,
          22735.28,
          22773.92,
          22680.35,
          22696.61,
          22693.19,
          22719.28,
          22782.5,
          22784.85,
          22896.46,
          22909.95,
          22835.64,
          22904.58,
          22862.33,
          22911.6,
          22873.4,
          22799.89,
          22793.63,
          22627.71,
          22862.02,
          22855.44,
          22813.04,
          22911.86,
          22905.28,
          23065.22,
          23105.33,
          22935.95,
          22847.31,
          22792.47,
          22852.4,
          23020.53,
          22983.75,
          22996.82,
          22981.69,
          22925.32,
          22923.8,
          22917.81,
          22976.88,
          22985.52,
          22947.29,
          23088.48,
          23116.75,
          23036.68,
          23022.83,
          23079.87,
          23102.44,
          23072.17,
          23070.78,
          23118.44,
          23132.79,
          23094.85,
          23092.3,
          23054.7,
          23072.93,
          23052.67,
          22918.25,
          22852.21,
          22915.24,
          22902.51,
          22923.22,
          22917.11,
          22994.94,
          22963.2,
          22957.52,
          22860.37,
          22853.65,
          22859.1,
          22908.8,
          22931.36,
          22943.63,
          22875.18,
          22900.32,
          22913.49,
          22994.9,
          23000,
          22997.44,
          23017.73,
          22980.34,
          23009.3,
          22995.5,
          22902.84,
          22693.98,
          22755.47,
          22621.56,
          22631.94
         ],
         "type": "candlestick",
         "x": [
          "2023-01-22T12:00:00",
          "2023-01-22T12:30:00",
          "2023-01-22T13:00:00",
          "2023-01-22T13:30:00",
          "2023-01-22T14:00:00",
          "2023-01-22T14:30:00",
          "2023-01-22T15:00:00",
          "2023-01-22T15:30:00",
          "2023-01-22T16:00:00",
          "2023-01-22T16:30:00",
          "2023-01-22T17:00:00",
          "2023-01-22T17:30:00",
          "2023-01-22T18:00:00",
          "2023-01-22T18:30:00",
          "2023-01-22T19:00:00",
          "2023-01-22T19:30:00",
          "2023-01-22T20:00:00",
          "2023-01-22T20:30:00",
          "2023-01-22T21:00:00",
          "2023-01-22T21:30:00",
          "2023-01-22T22:00:00",
          "2023-01-22T22:30:00",
          "2023-01-22T23:00:00",
          "2023-01-22T23:30:00",
          "2023-01-23T00:00:00",
          "2023-01-23T00:30:00",
          "2023-01-23T01:00:00",
          "2023-01-23T01:30:00",
          "2023-01-23T02:00:00",
          "2023-01-23T02:30:00",
          "2023-01-23T03:00:00",
          "2023-01-23T03:30:00",
          "2023-01-23T04:00:00",
          "2023-01-23T04:30:00",
          "2023-01-23T05:00:00",
          "2023-01-23T05:30:00",
          "2023-01-23T06:00:00",
          "2023-01-23T06:30:00",
          "2023-01-23T07:00:00",
          "2023-01-23T07:30:00",
          "2023-01-23T08:00:00",
          "2023-01-23T08:30:00",
          "2023-01-23T09:00:00",
          "2023-01-23T09:30:00",
          "2023-01-23T10:00:00",
          "2023-01-23T10:30:00",
          "2023-01-23T11:00:00",
          "2023-01-23T11:30:00",
          "2023-01-23T12:00:00",
          "2023-01-23T12:30:00",
          "2023-01-23T13:00:00",
          "2023-01-23T13:30:00",
          "2023-01-23T14:00:00",
          "2023-01-23T14:30:00",
          "2023-01-23T15:00:00",
          "2023-01-23T15:30:00",
          "2023-01-23T16:00:00",
          "2023-01-23T16:30:00",
          "2023-01-23T17:00:00",
          "2023-01-23T17:30:00",
          "2023-01-23T18:00:00",
          "2023-01-23T18:30:00",
          "2023-01-23T19:00:00",
          "2023-01-23T19:30:00",
          "2023-01-23T20:00:00",
          "2023-01-23T20:30:00",
          "2023-01-23T21:00:00",
          "2023-01-23T21:30:00",
          "2023-01-23T22:00:00",
          "2023-01-23T22:30:00",
          "2023-01-23T23:00:00",
          "2023-01-23T23:30:00",
          "2023-01-24T00:00:00",
          "2023-01-24T00:30:00",
          "2023-01-24T01:00:00",
          "2023-01-24T01:30:00",
          "2023-01-24T02:00:00",
          "2023-01-24T02:30:00",
          "2023-01-24T03:00:00",
          "2023-01-24T03:30:00",
          "2023-01-24T04:00:00",
          "2023-01-24T04:30:00",
          "2023-01-24T05:00:00",
          "2023-01-24T05:30:00",
          "2023-01-24T06:00:00",
          "2023-01-24T06:30:00",
          "2023-01-24T07:00:00",
          "2023-01-24T07:30:00",
          "2023-01-24T08:00:00",
          "2023-01-24T08:30:00",
          "2023-01-24T09:00:00",
          "2023-01-24T09:30:00",
          "2023-01-24T10:00:00",
          "2023-01-24T10:30:00",
          "2023-01-24T11:00:00",
          "2023-01-24T11:30:00",
          "2023-01-24T12:00:00",
          "2023-01-24T12:30:00",
          "2023-01-24T13:00:00",
          "2023-01-24T13:30:00",
          "2023-01-24T14:00:00",
          "2023-01-24T14:30:00",
          "2023-01-24T15:00:00",
          "2023-01-24T15:30:00",
          "2023-01-24T16:00:00",
          "2023-01-24T16:30:00",
          "2023-01-24T17:00:00",
          "2023-01-24T17:30:00",
          "2023-01-24T18:00:00",
          "2023-01-24T18:30:00",
          "2023-01-24T19:00:00",
          "2023-01-24T19:30:00",
          "2023-01-24T20:00:00",
          "2023-01-24T20:30:00",
          "2023-01-24T21:00:00",
          "2023-01-24T21:30:00",
          "2023-01-24T22:00:00",
          "2023-01-24T22:30:00",
          "2023-01-24T23:00:00",
          "2023-01-24T23:30:00",
          "2023-01-25T00:00:00"
         ]
        },
        {
         "marker": {
          "color": "green",
          "size": 4
         },
         "mode": "markers",
         "type": "scatter",
         "x": [
          "2023-01-22T21:30:00"
         ],
         "y": [
          22525.33
         ]
        },
        {
         "marker": {
          "color": "green",
          "size": 4
         },
         "mode": "markers",
         "type": "scatter",
         "x": [
          "2023-01-22T22:30:00"
         ],
         "y": [
          22633.04
         ]
        },
        {
         "marker": {
          "color": "green",
          "size": 4
         },
         "mode": "markers",
         "type": "scatter",
         "x": [
          "2023-01-23T10:00:00"
         ],
         "y": [
          22833.68
         ]
        },
        {
         "marker": {
          "color": "green",
          "size": 4
         },
         "mode": "markers",
         "type": "scatter",
         "x": [
          "2023-01-23T17:30:00"
         ],
         "y": [
          22956.66
         ]
        },
        {
         "marker": {
          "color": "green",
          "size": 4
         },
         "mode": "markers",
         "type": "scatter",
         "x": [
          "2023-01-23T20:30:00"
         ],
         "y": [
          22906.26
         ]
        },
        {
         "marker": {
          "color": "green",
          "size": 4
         },
         "mode": "markers",
         "type": "scatter",
         "x": [
          "2023-01-24T01:30:00"
         ],
         "y": [
          23049.13
         ]
        },
        {
         "marker": {
          "color": "green",
          "size": 4
         },
         "mode": "markers",
         "type": "scatter",
         "x": [
          "2023-01-24T03:30:00"
         ],
         "y": [
          23062.54
         ]
        },
        {
         "marker": {
          "color": "green",
          "size": 4
         },
         "mode": "markers",
         "type": "scatter",
         "x": [
          "2023-01-24T05:30:00"
         ],
         "y": [
          23094.02
         ]
        },
        {
         "marker": {
          "color": "green",
          "size": 4
         },
         "mode": "markers",
         "type": "scatter",
         "x": [
          "2023-01-24T12:00:00"
         ],
         "y": [
          22945.46
         ]
        },
        {
         "marker": {
          "color": "green",
          "size": 4
         },
         "mode": "markers",
         "type": "scatter",
         "x": [
          "2023-01-24T18:00:00"
         ],
         "y": [
          22950.89
         ]
        },
        {
         "marker": {
          "color": "red",
          "size": 4
         },
         "mode": "markers",
         "type": "scatter",
         "x": [
          "2023-01-22T18:30:00"
         ],
         "y": [
          22863.38
         ]
        },
        {
         "marker": {
          "color": "red",
          "size": 4
         },
         "mode": "markers",
         "type": "scatter",
         "x": [
          "2023-01-22T19:30:00"
         ],
         "y": [
          22751
         ]
        },
        {
         "marker": {
          "color": "red",
          "size": 4
         },
         "mode": "markers",
         "type": "scatter",
         "x": [
          "2023-01-22T20:00:00"
         ],
         "y": [
          22645.21
         ]
        },
        {
         "marker": {
          "color": "red",
          "size": 4
         },
         "mode": "markers",
         "type": "scatter",
         "x": [
          "2023-01-23T18:30:00"
         ],
         "y": [
          22979
         ]
        },
        {
         "marker": {
          "color": "red",
          "size": 4
         },
         "mode": "markers",
         "type": "scatter",
         "x": [
          "2023-01-23T22:30:00"
         ],
         "y": [
          22948.36
         ]
        },
        {
         "marker": {
          "color": "red",
          "size": 4
         },
         "mode": "markers",
         "type": "scatter",
         "x": [
          "2023-01-24T02:30:00"
         ],
         "y": [
          23063.55
         ]
        },
        {
         "marker": {
          "color": "red",
          "size": 4
         },
         "mode": "markers",
         "type": "scatter",
         "x": [
          "2023-01-24T09:00:00"
         ],
         "y": [
          22984.38
         ]
        },
        {
         "marker": {
          "color": "red",
          "size": 4
         },
         "mode": "markers",
         "type": "scatter",
         "x": [
          "2023-01-24T21:30:00"
         ],
         "y": [
          22948.23
         ]
        },
        {
         "marker": {
          "color": "red",
          "size": 4
         },
         "mode": "markers",
         "type": "scatter",
         "x": [
          "2023-01-24T23:00:00"
         ],
         "y": [
          22676.44
         ]
        }
       ],
       "layout": {
        "showlegend": false,
        "template": {
         "data": {
          "bar": [
           {
            "error_x": {
             "color": "#2a3f5f"
            },
            "error_y": {
             "color": "#2a3f5f"
            },
            "marker": {
             "line": {
              "color": "#E5ECF6",
              "width": 0.5
             },
             "pattern": {
              "fillmode": "overlay",
              "size": 10,
              "solidity": 0.2
             }
            },
            "type": "bar"
           }
          ],
          "barpolar": [
           {
            "marker": {
             "line": {
              "color": "#E5ECF6",
              "width": 0.5
             },
             "pattern": {
              "fillmode": "overlay",
              "size": 10,
              "solidity": 0.2
             }
            },
            "type": "barpolar"
           }
          ],
          "carpet": [
           {
            "aaxis": {
             "endlinecolor": "#2a3f5f",
             "gridcolor": "white",
             "linecolor": "white",
             "minorgridcolor": "white",
             "startlinecolor": "#2a3f5f"
            },
            "baxis": {
             "endlinecolor": "#2a3f5f",
             "gridcolor": "white",
             "linecolor": "white",
             "minorgridcolor": "white",
             "startlinecolor": "#2a3f5f"
            },
            "type": "carpet"
           }
          ],
          "choropleth": [
           {
            "colorbar": {
             "outlinewidth": 0,
             "ticks": ""
            },
            "type": "choropleth"
           }
          ],
          "contour": [
           {
            "colorbar": {
             "outlinewidth": 0,
             "ticks": ""
            },
            "colorscale": [
             [
              0,
              "#0d0887"
             ],
             [
              0.1111111111111111,
              "#46039f"
             ],
             [
              0.2222222222222222,
              "#7201a8"
             ],
             [
              0.3333333333333333,
              "#9c179e"
             ],
             [
              0.4444444444444444,
              "#bd3786"
             ],
             [
              0.5555555555555556,
              "#d8576b"
             ],
             [
              0.6666666666666666,
              "#ed7953"
             ],
             [
              0.7777777777777778,
              "#fb9f3a"
             ],
             [
              0.8888888888888888,
              "#fdca26"
             ],
             [
              1,
              "#f0f921"
             ]
            ],
            "type": "contour"
           }
          ],
          "contourcarpet": [
           {
            "colorbar": {
             "outlinewidth": 0,
             "ticks": ""
            },
            "type": "contourcarpet"
           }
          ],
          "heatmap": [
           {
            "colorbar": {
             "outlinewidth": 0,
             "ticks": ""
            },
            "colorscale": [
             [
              0,
              "#0d0887"
             ],
             [
              0.1111111111111111,
              "#46039f"
             ],
             [
              0.2222222222222222,
              "#7201a8"
             ],
             [
              0.3333333333333333,
              "#9c179e"
             ],
             [
              0.4444444444444444,
              "#bd3786"
             ],
             [
              0.5555555555555556,
              "#d8576b"
             ],
             [
              0.6666666666666666,
              "#ed7953"
             ],
             [
              0.7777777777777778,
              "#fb9f3a"
             ],
             [
              0.8888888888888888,
              "#fdca26"
             ],
             [
              1,
              "#f0f921"
             ]
            ],
            "type": "heatmap"
           }
          ],
          "heatmapgl": [
           {
            "colorbar": {
             "outlinewidth": 0,
             "ticks": ""
            },
            "colorscale": [
             [
              0,
              "#0d0887"
             ],
             [
              0.1111111111111111,
              "#46039f"
             ],
             [
              0.2222222222222222,
              "#7201a8"
             ],
             [
              0.3333333333333333,
              "#9c179e"
             ],
             [
              0.4444444444444444,
              "#bd3786"
             ],
             [
              0.5555555555555556,
              "#d8576b"
             ],
             [
              0.6666666666666666,
              "#ed7953"
             ],
             [
              0.7777777777777778,
              "#fb9f3a"
             ],
             [
              0.8888888888888888,
              "#fdca26"
             ],
             [
              1,
              "#f0f921"
             ]
            ],
            "type": "heatmapgl"
           }
          ],
          "histogram": [
           {
            "marker": {
             "pattern": {
              "fillmode": "overlay",
              "size": 10,
              "solidity": 0.2
             }
            },
            "type": "histogram"
           }
          ],
          "histogram2d": [
           {
            "colorbar": {
             "outlinewidth": 0,
             "ticks": ""
            },
            "colorscale": [
             [
              0,
              "#0d0887"
             ],
             [
              0.1111111111111111,
              "#46039f"
             ],
             [
              0.2222222222222222,
              "#7201a8"
             ],
             [
              0.3333333333333333,
              "#9c179e"
             ],
             [
              0.4444444444444444,
              "#bd3786"
             ],
             [
              0.5555555555555556,
              "#d8576b"
             ],
             [
              0.6666666666666666,
              "#ed7953"
             ],
             [
              0.7777777777777778,
              "#fb9f3a"
             ],
             [
              0.8888888888888888,
              "#fdca26"
             ],
             [
              1,
              "#f0f921"
             ]
            ],
            "type": "histogram2d"
           }
          ],
          "histogram2dcontour": [
           {
            "colorbar": {
             "outlinewidth": 0,
             "ticks": ""
            },
            "colorscale": [
             [
              0,
              "#0d0887"
             ],
             [
              0.1111111111111111,
              "#46039f"
             ],
             [
              0.2222222222222222,
              "#7201a8"
             ],
             [
              0.3333333333333333,
              "#9c179e"
             ],
             [
              0.4444444444444444,
              "#bd3786"
             ],
             [
              0.5555555555555556,
              "#d8576b"
             ],
             [
              0.6666666666666666,
              "#ed7953"
             ],
             [
              0.7777777777777778,
              "#fb9f3a"
             ],
             [
              0.8888888888888888,
              "#fdca26"
             ],
             [
              1,
              "#f0f921"
             ]
            ],
            "type": "histogram2dcontour"
           }
          ],
          "mesh3d": [
           {
            "colorbar": {
             "outlinewidth": 0,
             "ticks": ""
            },
            "type": "mesh3d"
           }
          ],
          "parcoords": [
           {
            "line": {
             "colorbar": {
              "outlinewidth": 0,
              "ticks": ""
             }
            },
            "type": "parcoords"
           }
          ],
          "pie": [
           {
            "automargin": true,
            "type": "pie"
           }
          ],
          "scatter": [
           {
            "fillpattern": {
             "fillmode": "overlay",
             "size": 10,
             "solidity": 0.2
            },
            "type": "scatter"
           }
          ],
          "scatter3d": [
           {
            "line": {
             "colorbar": {
              "outlinewidth": 0,
              "ticks": ""
             }
            },
            "marker": {
             "colorbar": {
              "outlinewidth": 0,
              "ticks": ""
             }
            },
            "type": "scatter3d"
           }
          ],
          "scattercarpet": [
           {
            "marker": {
             "colorbar": {
              "outlinewidth": 0,
              "ticks": ""
             }
            },
            "type": "scattercarpet"
           }
          ],
          "scattergeo": [
           {
            "marker": {
             "colorbar": {
              "outlinewidth": 0,
              "ticks": ""
             }
            },
            "type": "scattergeo"
           }
          ],
          "scattergl": [
           {
            "marker": {
             "colorbar": {
              "outlinewidth": 0,
              "ticks": ""
             }
            },
            "type": "scattergl"
           }
          ],
          "scattermapbox": [
           {
            "marker": {
             "colorbar": {
              "outlinewidth": 0,
              "ticks": ""
             }
            },
            "type": "scattermapbox"
           }
          ],
          "scatterpolar": [
           {
            "marker": {
             "colorbar": {
              "outlinewidth": 0,
              "ticks": ""
             }
            },
            "type": "scatterpolar"
           }
          ],
          "scatterpolargl": [
           {
            "marker": {
             "colorbar": {
              "outlinewidth": 0,
              "ticks": ""
             }
            },
            "type": "scatterpolargl"
           }
          ],
          "scatterternary": [
           {
            "marker": {
             "colorbar": {
              "outlinewidth": 0,
              "ticks": ""
             }
            },
            "type": "scatterternary"
           }
          ],
          "surface": [
           {
            "colorbar": {
             "outlinewidth": 0,
             "ticks": ""
            },
            "colorscale": [
             [
              0,
              "#0d0887"
             ],
             [
              0.1111111111111111,
              "#46039f"
             ],
             [
              0.2222222222222222,
              "#7201a8"
             ],
             [
              0.3333333333333333,
              "#9c179e"
             ],
             [
              0.4444444444444444,
              "#bd3786"
             ],
             [
              0.5555555555555556,
              "#d8576b"
             ],
             [
              0.6666666666666666,
              "#ed7953"
             ],
             [
              0.7777777777777778,
              "#fb9f3a"
             ],
             [
              0.8888888888888888,
              "#fdca26"
             ],
             [
              1,
              "#f0f921"
             ]
            ],
            "type": "surface"
           }
          ],
          "table": [
           {
            "cells": {
             "fill": {
              "color": "#EBF0F8"
             },
             "line": {
              "color": "white"
             }
            },
            "header": {
             "fill": {
              "color": "#C8D4E3"
             },
             "line": {
              "color": "white"
             }
            },
            "type": "table"
           }
          ]
         },
         "layout": {
          "annotationdefaults": {
           "arrowcolor": "#2a3f5f",
           "arrowhead": 0,
           "arrowwidth": 1
          },
          "autotypenumbers": "strict",
          "coloraxis": {
           "colorbar": {
            "outlinewidth": 0,
            "ticks": ""
           }
          },
          "colorscale": {
           "diverging": [
            [
             0,
             "#8e0152"
            ],
            [
             0.1,
             "#c51b7d"
            ],
            [
             0.2,
             "#de77ae"
            ],
            [
             0.3,
             "#f1b6da"
            ],
            [
             0.4,
             "#fde0ef"
            ],
            [
             0.5,
             "#f7f7f7"
            ],
            [
             0.6,
             "#e6f5d0"
            ],
            [
             0.7,
             "#b8e186"
            ],
            [
             0.8,
             "#7fbc41"
            ],
            [
             0.9,
             "#4d9221"
            ],
            [
             1,
             "#276419"
            ]
           ],
           "sequential": [
            [
             0,
             "#0d0887"
            ],
            [
             0.1111111111111111,
             "#46039f"
            ],
            [
             0.2222222222222222,
             "#7201a8"
            ],
            [
             0.3333333333333333,
             "#9c179e"
            ],
            [
             0.4444444444444444,
             "#bd3786"
            ],
            [
             0.5555555555555556,
             "#d8576b"
            ],
            [
             0.6666666666666666,
             "#ed7953"
            ],
            [
             0.7777777777777778,
             "#fb9f3a"
            ],
            [
             0.8888888888888888,
             "#fdca26"
            ],
            [
             1,
             "#f0f921"
            ]
           ],
           "sequentialminus": [
            [
             0,
             "#0d0887"
            ],
            [
             0.1111111111111111,
             "#46039f"
            ],
            [
             0.2222222222222222,
             "#7201a8"
            ],
            [
             0.3333333333333333,
             "#9c179e"
            ],
            [
             0.4444444444444444,
             "#bd3786"
            ],
            [
             0.5555555555555556,
             "#d8576b"
            ],
            [
             0.6666666666666666,
             "#ed7953"
            ],
            [
             0.7777777777777778,
             "#fb9f3a"
            ],
            [
             0.8888888888888888,
             "#fdca26"
            ],
            [
             1,
             "#f0f921"
            ]
           ]
          },
          "colorway": [
           "#636efa",
           "#EF553B",
           "#00cc96",
           "#ab63fa",
           "#FFA15A",
           "#19d3f3",
           "#FF6692",
           "#B6E880",
           "#FF97FF",
           "#FECB52"
          ],
          "font": {
           "color": "#2a3f5f"
          },
          "geo": {
           "bgcolor": "white",
           "lakecolor": "white",
           "landcolor": "#E5ECF6",
           "showlakes": true,
           "showland": true,
           "subunitcolor": "white"
          },
          "hoverlabel": {
           "align": "left"
          },
          "hovermode": "closest",
          "mapbox": {
           "style": "light"
          },
          "paper_bgcolor": "white",
          "plot_bgcolor": "#E5ECF6",
          "polar": {
           "angularaxis": {
            "gridcolor": "white",
            "linecolor": "white",
            "ticks": ""
           },
           "bgcolor": "#E5ECF6",
           "radialaxis": {
            "gridcolor": "white",
            "linecolor": "white",
            "ticks": ""
           }
          },
          "scene": {
           "xaxis": {
            "backgroundcolor": "#E5ECF6",
            "gridcolor": "white",
            "gridwidth": 2,
            "linecolor": "white",
            "showbackground": true,
            "ticks": "",
            "zerolinecolor": "white"
           },
           "yaxis": {
            "backgroundcolor": "#E5ECF6",
            "gridcolor": "white",
            "gridwidth": 2,
            "linecolor": "white",
            "showbackground": true,
            "ticks": "",
            "zerolinecolor": "white"
           },
           "zaxis": {
            "backgroundcolor": "#E5ECF6",
            "gridcolor": "white",
            "gridwidth": 2,
            "linecolor": "white",
            "showbackground": true,
            "ticks": "",
            "zerolinecolor": "white"
           }
          },
          "shapedefaults": {
           "line": {
            "color": "#2a3f5f"
           }
          },
          "ternary": {
           "aaxis": {
            "gridcolor": "white",
            "linecolor": "white",
            "ticks": ""
           },
           "baxis": {
            "gridcolor": "white",
            "linecolor": "white",
            "ticks": ""
           },
           "bgcolor": "#E5ECF6",
           "caxis": {
            "gridcolor": "white",
            "linecolor": "white",
            "ticks": ""
           }
          },
          "title": {
           "x": 0.05
          },
          "xaxis": {
           "automargin": true,
           "gridcolor": "white",
           "linecolor": "white",
           "ticks": "",
           "title": {
            "standoff": 15
           },
           "zerolinecolor": "white",
           "zerolinewidth": 2
          },
          "yaxis": {
           "automargin": true,
           "gridcolor": "white",
           "linecolor": "white",
           "ticks": "",
           "title": {
            "standoff": 15
           },
           "zerolinecolor": "white",
           "zerolinewidth": 2
          }
         }
        }
       }
      }
     },
     "metadata": {},
     "output_type": "display_data"
    },
    {
     "data": {
      "application/vnd.plotly.v1+json": {
       "config": {
        "plotlyServerURL": "https://plot.ly"
       },
       "data": [
        {
         "type": "scatter",
         "x": [
          "2023-01-22T12:00:00",
          "2023-01-22T12:30:00",
          "2023-01-22T13:00:00",
          "2023-01-22T13:30:00",
          "2023-01-22T14:00:00",
          "2023-01-22T14:30:00",
          "2023-01-22T15:00:00",
          "2023-01-22T15:30:00",
          "2023-01-22T16:00:00",
          "2023-01-22T16:30:00",
          "2023-01-22T17:00:00",
          "2023-01-22T17:30:00",
          "2023-01-22T18:00:00",
          "2023-01-22T18:30:00",
          "2023-01-22T19:00:00",
          "2023-01-22T19:30:00",
          "2023-01-22T20:00:00",
          "2023-01-22T20:30:00",
          "2023-01-22T21:00:00",
          "2023-01-22T21:30:00",
          "2023-01-22T22:00:00",
          "2023-01-22T22:30:00",
          "2023-01-22T23:00:00",
          "2023-01-22T23:30:00",
          "2023-01-23T00:00:00",
          "2023-01-23T00:30:00",
          "2023-01-23T01:00:00",
          "2023-01-23T01:30:00",
          "2023-01-23T02:00:00",
          "2023-01-23T02:30:00",
          "2023-01-23T03:00:00",
          "2023-01-23T03:30:00",
          "2023-01-23T04:00:00",
          "2023-01-23T04:30:00",
          "2023-01-23T05:00:00",
          "2023-01-23T05:30:00",
          "2023-01-23T06:00:00",
          "2023-01-23T06:30:00",
          "2023-01-23T07:00:00",
          "2023-01-23T07:30:00",
          "2023-01-23T08:00:00",
          "2023-01-23T08:30:00",
          "2023-01-23T09:00:00",
          "2023-01-23T09:30:00",
          "2023-01-23T10:00:00",
          "2023-01-23T10:30:00",
          "2023-01-23T11:00:00",
          "2023-01-23T11:30:00",
          "2023-01-23T12:00:00",
          "2023-01-23T12:30:00",
          "2023-01-23T13:00:00",
          "2023-01-23T13:30:00",
          "2023-01-23T14:00:00",
          "2023-01-23T14:30:00",
          "2023-01-23T15:00:00",
          "2023-01-23T15:30:00",
          "2023-01-23T16:00:00",
          "2023-01-23T16:30:00",
          "2023-01-23T17:00:00",
          "2023-01-23T17:30:00",
          "2023-01-23T18:00:00",
          "2023-01-23T18:30:00",
          "2023-01-23T19:00:00",
          "2023-01-23T19:30:00",
          "2023-01-23T20:00:00",
          "2023-01-23T20:30:00",
          "2023-01-23T21:00:00",
          "2023-01-23T21:30:00",
          "2023-01-23T22:00:00",
          "2023-01-23T22:30:00",
          "2023-01-23T23:00:00",
          "2023-01-23T23:30:00",
          "2023-01-24T00:00:00",
          "2023-01-24T00:30:00",
          "2023-01-24T01:00:00",
          "2023-01-24T01:30:00",
          "2023-01-24T02:00:00",
          "2023-01-24T02:30:00",
          "2023-01-24T03:00:00",
          "2023-01-24T03:30:00",
          "2023-01-24T04:00:00",
          "2023-01-24T04:30:00",
          "2023-01-24T05:00:00",
          "2023-01-24T05:30:00",
          "2023-01-24T06:00:00",
          "2023-01-24T06:30:00",
          "2023-01-24T07:00:00",
          "2023-01-24T07:30:00",
          "2023-01-24T08:00:00",
          "2023-01-24T08:30:00",
          "2023-01-24T09:00:00",
          "2023-01-24T09:30:00",
          "2023-01-24T10:00:00",
          "2023-01-24T10:30:00",
          "2023-01-24T11:00:00",
          "2023-01-24T11:30:00",
          "2023-01-24T12:00:00",
          "2023-01-24T12:30:00",
          "2023-01-24T13:00:00",
          "2023-01-24T13:30:00",
          "2023-01-24T14:00:00",
          "2023-01-24T14:30:00",
          "2023-01-24T15:00:00",
          "2023-01-24T15:30:00",
          "2023-01-24T16:00:00",
          "2023-01-24T16:30:00",
          "2023-01-24T17:00:00",
          "2023-01-24T17:30:00",
          "2023-01-24T18:00:00",
          "2023-01-24T18:30:00",
          "2023-01-24T19:00:00",
          "2023-01-24T19:30:00",
          "2023-01-24T20:00:00",
          "2023-01-24T20:30:00",
          "2023-01-24T21:00:00",
          "2023-01-24T21:30:00",
          "2023-01-24T22:00:00",
          "2023-01-24T22:30:00",
          "2023-01-24T23:00:00",
          "2023-01-24T23:30:00",
          "2023-01-25T00:00:00"
         ],
         "y": [
          null,
          null,
          null,
          null,
          null,
          null,
          null,
          null,
          null,
          null,
          null,
          null,
          null,
          null,
          120.75590536084665,
          124.60043111667193,
          143.1899370711209,
          159.9157924655491,
          161.24864280195558,
          165.390486860035,
          156.10851093672844,
          156.61828203854841,
          152.82202841077384,
          148.11165354674105,
          145.7283363930104,
          140.50255450765493,
          135.6651254524943,
          132.96462002835617,
          127.60493405770184,
          121.2614528801861,
          117.85708520656266,
          114.4990078208801,
          110.26137482703062,
          107.6421022546462,
          103.09761250872674,
          98.74768196995655,
          96.41373153679847,
          94.6505574181256,
          101.58017691188755,
          99.45493333855387,
          100.03448317882666,
          98.44891221589063,
          97.12434837646305,
          93.44638565594506,
          99.56194858206251,
          97.9567766447666,
          98.38621056546096,
          97.65325583731196,
          98.71545917475127,
          100.7503867234107,
          101.05499233540179,
          110.01055523509763,
          113.22729132607726,
          149.78802366044647,
          159.7488413479552,
          156.7152827247399,
          154.97606026183587,
          155.6831199760158,
          149.53214930785967,
          154.46424518903873,
          157.0326140761439,
          166.45280101461407,
          166.8112229063863,
          171.08192397334344,
          167.491934637091,
          170.7222179871856,
          166.13761563968256,
          159.42308612102426,
          153.33485463837843,
          153.31797778785074,
          147.18098612397407,
          141.6005432753461,
          140.28918874925222,
          135.43826684352447,
          132.8863647149216,
          135.9348080644003,
          131.674208839617,
          128.78573286836343,
          123.60862522376502,
          119.67387151382553,
          115.07277494215646,
          110.06806244832518,
          105.9100852484831,
          104.96449226452471,
          100.72936070422624,
          98.6677603843005,
          94.70115116774684,
          94.47857337709685,
          91.75824385673505,
          88.5439774703373,
          98.89611342592504,
          103.01266945462132,
          101.27843870950112,
          97.24659738984894,
          94.61078269851993,
          92.64328917599629,
          94.42950703148027,
          93.23435390026508,
          91.89095793274826,
          98.90259836692145,
          102.3073287132075,
          112.8755964208675,
          117.00520695502406,
          116.05794784519216,
          113.5176666907472,
          112.92472868871309,
          114.98661875848583,
          110.63815219994483,
          115.08048326166079,
          111.39859173548447,
          107.30394084370374,
          106.21050960035265,
          106.65772718824392,
          109.81361773535617,
          110.08556044994685,
          116.74577409203964,
          126.99511233133943,
          129.26442218039145,
          143.17846563168786,
          141.28901002958136,
          143.48295351493817
         ]
        }
       ],
       "layout": {
        "showlegend": false,
        "template": {
         "data": {
          "bar": [
           {
            "error_x": {
             "color": "#2a3f5f"
            },
            "error_y": {
             "color": "#2a3f5f"
            },
            "marker": {
             "line": {
              "color": "#E5ECF6",
              "width": 0.5
             },
             "pattern": {
              "fillmode": "overlay",
              "size": 10,
              "solidity": 0.2
             }
            },
            "type": "bar"
           }
          ],
          "barpolar": [
           {
            "marker": {
             "line": {
              "color": "#E5ECF6",
              "width": 0.5
             },
             "pattern": {
              "fillmode": "overlay",
              "size": 10,
              "solidity": 0.2
             }
            },
            "type": "barpolar"
           }
          ],
          "carpet": [
           {
            "aaxis": {
             "endlinecolor": "#2a3f5f",
             "gridcolor": "white",
             "linecolor": "white",
             "minorgridcolor": "white",
             "startlinecolor": "#2a3f5f"
            },
            "baxis": {
             "endlinecolor": "#2a3f5f",
             "gridcolor": "white",
             "linecolor": "white",
             "minorgridcolor": "white",
             "startlinecolor": "#2a3f5f"
            },
            "type": "carpet"
           }
          ],
          "choropleth": [
           {
            "colorbar": {
             "outlinewidth": 0,
             "ticks": ""
            },
            "type": "choropleth"
           }
          ],
          "contour": [
           {
            "colorbar": {
             "outlinewidth": 0,
             "ticks": ""
            },
            "colorscale": [
             [
              0,
              "#0d0887"
             ],
             [
              0.1111111111111111,
              "#46039f"
             ],
             [
              0.2222222222222222,
              "#7201a8"
             ],
             [
              0.3333333333333333,
              "#9c179e"
             ],
             [
              0.4444444444444444,
              "#bd3786"
             ],
             [
              0.5555555555555556,
              "#d8576b"
             ],
             [
              0.6666666666666666,
              "#ed7953"
             ],
             [
              0.7777777777777778,
              "#fb9f3a"
             ],
             [
              0.8888888888888888,
              "#fdca26"
             ],
             [
              1,
              "#f0f921"
             ]
            ],
            "type": "contour"
           }
          ],
          "contourcarpet": [
           {
            "colorbar": {
             "outlinewidth": 0,
             "ticks": ""
            },
            "type": "contourcarpet"
           }
          ],
          "heatmap": [
           {
            "colorbar": {
             "outlinewidth": 0,
             "ticks": ""
            },
            "colorscale": [
             [
              0,
              "#0d0887"
             ],
             [
              0.1111111111111111,
              "#46039f"
             ],
             [
              0.2222222222222222,
              "#7201a8"
             ],
             [
              0.3333333333333333,
              "#9c179e"
             ],
             [
              0.4444444444444444,
              "#bd3786"
             ],
             [
              0.5555555555555556,
              "#d8576b"
             ],
             [
              0.6666666666666666,
              "#ed7953"
             ],
             [
              0.7777777777777778,
              "#fb9f3a"
             ],
             [
              0.8888888888888888,
              "#fdca26"
             ],
             [
              1,
              "#f0f921"
             ]
            ],
            "type": "heatmap"
           }
          ],
          "heatmapgl": [
           {
            "colorbar": {
             "outlinewidth": 0,
             "ticks": ""
            },
            "colorscale": [
             [
              0,
              "#0d0887"
             ],
             [
              0.1111111111111111,
              "#46039f"
             ],
             [
              0.2222222222222222,
              "#7201a8"
             ],
             [
              0.3333333333333333,
              "#9c179e"
             ],
             [
              0.4444444444444444,
              "#bd3786"
             ],
             [
              0.5555555555555556,
              "#d8576b"
             ],
             [
              0.6666666666666666,
              "#ed7953"
             ],
             [
              0.7777777777777778,
              "#fb9f3a"
             ],
             [
              0.8888888888888888,
              "#fdca26"
             ],
             [
              1,
              "#f0f921"
             ]
            ],
            "type": "heatmapgl"
           }
          ],
          "histogram": [
           {
            "marker": {
             "pattern": {
              "fillmode": "overlay",
              "size": 10,
              "solidity": 0.2
             }
            },
            "type": "histogram"
           }
          ],
          "histogram2d": [
           {
            "colorbar": {
             "outlinewidth": 0,
             "ticks": ""
            },
            "colorscale": [
             [
              0,
              "#0d0887"
             ],
             [
              0.1111111111111111,
              "#46039f"
             ],
             [
              0.2222222222222222,
              "#7201a8"
             ],
             [
              0.3333333333333333,
              "#9c179e"
             ],
             [
              0.4444444444444444,
              "#bd3786"
             ],
             [
              0.5555555555555556,
              "#d8576b"
             ],
             [
              0.6666666666666666,
              "#ed7953"
             ],
             [
              0.7777777777777778,
              "#fb9f3a"
             ],
             [
              0.8888888888888888,
              "#fdca26"
             ],
             [
              1,
              "#f0f921"
             ]
            ],
            "type": "histogram2d"
           }
          ],
          "histogram2dcontour": [
           {
            "colorbar": {
             "outlinewidth": 0,
             "ticks": ""
            },
            "colorscale": [
             [
              0,
              "#0d0887"
             ],
             [
              0.1111111111111111,
              "#46039f"
             ],
             [
              0.2222222222222222,
              "#7201a8"
             ],
             [
              0.3333333333333333,
              "#9c179e"
             ],
             [
              0.4444444444444444,
              "#bd3786"
             ],
             [
              0.5555555555555556,
              "#d8576b"
             ],
             [
              0.6666666666666666,
              "#ed7953"
             ],
             [
              0.7777777777777778,
              "#fb9f3a"
             ],
             [
              0.8888888888888888,
              "#fdca26"
             ],
             [
              1,
              "#f0f921"
             ]
            ],
            "type": "histogram2dcontour"
           }
          ],
          "mesh3d": [
           {
            "colorbar": {
             "outlinewidth": 0,
             "ticks": ""
            },
            "type": "mesh3d"
           }
          ],
          "parcoords": [
           {
            "line": {
             "colorbar": {
              "outlinewidth": 0,
              "ticks": ""
             }
            },
            "type": "parcoords"
           }
          ],
          "pie": [
           {
            "automargin": true,
            "type": "pie"
           }
          ],
          "scatter": [
           {
            "fillpattern": {
             "fillmode": "overlay",
             "size": 10,
             "solidity": 0.2
            },
            "type": "scatter"
           }
          ],
          "scatter3d": [
           {
            "line": {
             "colorbar": {
              "outlinewidth": 0,
              "ticks": ""
             }
            },
            "marker": {
             "colorbar": {
              "outlinewidth": 0,
              "ticks": ""
             }
            },
            "type": "scatter3d"
           }
          ],
          "scattercarpet": [
           {
            "marker": {
             "colorbar": {
              "outlinewidth": 0,
              "ticks": ""
             }
            },
            "type": "scattercarpet"
           }
          ],
          "scattergeo": [
           {
            "marker": {
             "colorbar": {
              "outlinewidth": 0,
              "ticks": ""
             }
            },
            "type": "scattergeo"
           }
          ],
          "scattergl": [
           {
            "marker": {
             "colorbar": {
              "outlinewidth": 0,
              "ticks": ""
             }
            },
            "type": "scattergl"
           }
          ],
          "scattermapbox": [
           {
            "marker": {
             "colorbar": {
              "outlinewidth": 0,
              "ticks": ""
             }
            },
            "type": "scattermapbox"
           }
          ],
          "scatterpolar": [
           {
            "marker": {
             "colorbar": {
              "outlinewidth": 0,
              "ticks": ""
             }
            },
            "type": "scatterpolar"
           }
          ],
          "scatterpolargl": [
           {
            "marker": {
             "colorbar": {
              "outlinewidth": 0,
              "ticks": ""
             }
            },
            "type": "scatterpolargl"
           }
          ],
          "scatterternary": [
           {
            "marker": {
             "colorbar": {
              "outlinewidth": 0,
              "ticks": ""
             }
            },
            "type": "scatterternary"
           }
          ],
          "surface": [
           {
            "colorbar": {
             "outlinewidth": 0,
             "ticks": ""
            },
            "colorscale": [
             [
              0,
              "#0d0887"
             ],
             [
              0.1111111111111111,
              "#46039f"
             ],
             [
              0.2222222222222222,
              "#7201a8"
             ],
             [
              0.3333333333333333,
              "#9c179e"
             ],
             [
              0.4444444444444444,
              "#bd3786"
             ],
             [
              0.5555555555555556,
              "#d8576b"
             ],
             [
              0.6666666666666666,
              "#ed7953"
             ],
             [
              0.7777777777777778,
              "#fb9f3a"
             ],
             [
              0.8888888888888888,
              "#fdca26"
             ],
             [
              1,
              "#f0f921"
             ]
            ],
            "type": "surface"
           }
          ],
          "table": [
           {
            "cells": {
             "fill": {
              "color": "#EBF0F8"
             },
             "line": {
              "color": "white"
             }
            },
            "header": {
             "fill": {
              "color": "#C8D4E3"
             },
             "line": {
              "color": "white"
             }
            },
            "type": "table"
           }
          ]
         },
         "layout": {
          "annotationdefaults": {
           "arrowcolor": "#2a3f5f",
           "arrowhead": 0,
           "arrowwidth": 1
          },
          "autotypenumbers": "strict",
          "coloraxis": {
           "colorbar": {
            "outlinewidth": 0,
            "ticks": ""
           }
          },
          "colorscale": {
           "diverging": [
            [
             0,
             "#8e0152"
            ],
            [
             0.1,
             "#c51b7d"
            ],
            [
             0.2,
             "#de77ae"
            ],
            [
             0.3,
             "#f1b6da"
            ],
            [
             0.4,
             "#fde0ef"
            ],
            [
             0.5,
             "#f7f7f7"
            ],
            [
             0.6,
             "#e6f5d0"
            ],
            [
             0.7,
             "#b8e186"
            ],
            [
             0.8,
             "#7fbc41"
            ],
            [
             0.9,
             "#4d9221"
            ],
            [
             1,
             "#276419"
            ]
           ],
           "sequential": [
            [
             0,
             "#0d0887"
            ],
            [
             0.1111111111111111,
             "#46039f"
            ],
            [
             0.2222222222222222,
             "#7201a8"
            ],
            [
             0.3333333333333333,
             "#9c179e"
            ],
            [
             0.4444444444444444,
             "#bd3786"
            ],
            [
             0.5555555555555556,
             "#d8576b"
            ],
            [
             0.6666666666666666,
             "#ed7953"
            ],
            [
             0.7777777777777778,
             "#fb9f3a"
            ],
            [
             0.8888888888888888,
             "#fdca26"
            ],
            [
             1,
             "#f0f921"
            ]
           ],
           "sequentialminus": [
            [
             0,
             "#0d0887"
            ],
            [
             0.1111111111111111,
             "#46039f"
            ],
            [
             0.2222222222222222,
             "#7201a8"
            ],
            [
             0.3333333333333333,
             "#9c179e"
            ],
            [
             0.4444444444444444,
             "#bd3786"
            ],
            [
             0.5555555555555556,
             "#d8576b"
            ],
            [
             0.6666666666666666,
             "#ed7953"
            ],
            [
             0.7777777777777778,
             "#fb9f3a"
            ],
            [
             0.8888888888888888,
             "#fdca26"
            ],
            [
             1,
             "#f0f921"
            ]
           ]
          },
          "colorway": [
           "#636efa",
           "#EF553B",
           "#00cc96",
           "#ab63fa",
           "#FFA15A",
           "#19d3f3",
           "#FF6692",
           "#B6E880",
           "#FF97FF",
           "#FECB52"
          ],
          "font": {
           "color": "#2a3f5f"
          },
          "geo": {
           "bgcolor": "white",
           "lakecolor": "white",
           "landcolor": "#E5ECF6",
           "showlakes": true,
           "showland": true,
           "subunitcolor": "white"
          },
          "hoverlabel": {
           "align": "left"
          },
          "hovermode": "closest",
          "mapbox": {
           "style": "light"
          },
          "paper_bgcolor": "white",
          "plot_bgcolor": "#E5ECF6",
          "polar": {
           "angularaxis": {
            "gridcolor": "white",
            "linecolor": "white",
            "ticks": ""
           },
           "bgcolor": "#E5ECF6",
           "radialaxis": {
            "gridcolor": "white",
            "linecolor": "white",
            "ticks": ""
           }
          },
          "scene": {
           "xaxis": {
            "backgroundcolor": "#E5ECF6",
            "gridcolor": "white",
            "gridwidth": 2,
            "linecolor": "white",
            "showbackground": true,
            "ticks": "",
            "zerolinecolor": "white"
           },
           "yaxis": {
            "backgroundcolor": "#E5ECF6",
            "gridcolor": "white",
            "gridwidth": 2,
            "linecolor": "white",
            "showbackground": true,
            "ticks": "",
            "zerolinecolor": "white"
           },
           "zaxis": {
            "backgroundcolor": "#E5ECF6",
            "gridcolor": "white",
            "gridwidth": 2,
            "linecolor": "white",
            "showbackground": true,
            "ticks": "",
            "zerolinecolor": "white"
           }
          },
          "shapedefaults": {
           "line": {
            "color": "#2a3f5f"
           }
          },
          "ternary": {
           "aaxis": {
            "gridcolor": "white",
            "linecolor": "white",
            "ticks": ""
           },
           "baxis": {
            "gridcolor": "white",
            "linecolor": "white",
            "ticks": ""
           },
           "bgcolor": "#E5ECF6",
           "caxis": {
            "gridcolor": "white",
            "linecolor": "white",
            "ticks": ""
           }
          },
          "title": {
           "x": 0.05
          },
          "xaxis": {
           "automargin": true,
           "gridcolor": "white",
           "linecolor": "white",
           "ticks": "",
           "title": {
            "standoff": 15
           },
           "zerolinecolor": "white",
           "zerolinewidth": 2
          },
          "yaxis": {
           "automargin": true,
           "gridcolor": "white",
           "linecolor": "white",
           "ticks": "",
           "title": {
            "standoff": 15
           },
           "zerolinecolor": "white",
           "zerolinewidth": 2
          }
         }
        }
       }
      }
     },
     "metadata": {},
     "output_type": "display_data"
    }
   ],
   "source": [
    "up_imbalances, down_imbalances = get_list_of_imbalances(df_higher_tf)\n",
    "df_higher_tf = check_within_imbalances(df_higher_tf,up_imbalances,down_imbalances)\n",
    "# df_higher_tf = add_moving_average(200,df_higher_tf)\n",
    "fig = go.Figure(data=[go.Candlestick(x=df_higher_tf['date'],\n",
    "                open=df_higher_tf['open'],\n",
    "                high=df_higher_tf['high'],\n",
    "                low=df_higher_tf['low'],\n",
    "                close=df_higher_tf['close'])])\n",
    "# df_lower_tf = df_higher_tf\n",
    "# fig.add_trace(go.Scatter(x=df_higher_tf['date'], y=df_higher_tf['SMA']))\n",
    "\n",
    "# fig1 = go.Figure(go.Scatter(x=df_higher_tf['date'],y=df_higher_tf['SMAslope']))\n",
    "\n",
    "# fig2 = go.Figure(go.Scatter(x=df_higher_tf['date'],y=df_higher_tf['SMAdistance']))\n",
    "\n",
    "# fig1 = go.Figure(data=[go.Candlestick(x=df_lower_tf['date'],\n",
    "#                 open=df_lower_tf['open'],\n",
    "#                 high=df_lower_tf['high'],\n",
    "#                 low=df_lower_tf['low'],\n",
    "#                 close=df_lower_tf['close'])])\n",
    "\n",
    "# buy_orders = []\n",
    "# sell_orders = []\n",
    "# multiplier = 2\n",
    "# for i in range(3, len(df_higher_tf)):\n",
    "#     if df_higher_tf.iloc[i-1]['within_down_imbalance']:\n",
    "#         if hammer_up(df_higher_tf.loc[i-1, ['open', 'high', 'low', 'close']]):\n",
    "#             buy_orders.append((df_higher_tf.iloc[i]['open'], df_higher_tf.iloc[i-1]['low'],\n",
    "#             round(df_higher_tf.iloc[i]['open'] + (df_higher_tf.iloc[i]['open']-df_higher_tf.iloc[i-1]['low'])*multiplier,2),\n",
    "#             df_higher_tf.iloc[i]['date']))\n",
    "\n",
    "#     elif df_higher_tf.iloc[i-1]['within_down_imbalance']:\n",
    "#         if falling_star_down(df_higher_tf.loc[i-1, ['open', 'high', 'low', 'close']]):\n",
    "#             sell_orders.append((df_higher_tf.iloc[i]['open'], df_higher_tf.iloc[i-1]['high'],\n",
    "#             round(df_higher_tf.iloc[i]['open'] - (df_higher_tf.iloc[i-1]['high']-df_higher_tf.iloc[i]['open'])*multiplier,2),\n",
    "#             df_higher_tf.iloc[i]['date']))\n",
    "            \n",
    "    # elif df_higher_tf.iloc[i]['SMAslope'] > -0.0002 and df_higher_tf.iloc[i]['SMAslope'] < 0.0002:\n",
    "    #     if hammer_up(df_lower_tf.loc[i-1, ['open', 'high', 'low', 'close']]):\n",
    "    #         buy_orders.append((df_lower_tf.iloc[i]['open'], df_lower_tf.iloc[i-1]['low'],\n",
    "    #         round(df_lower_tf.iloc[i]['open'] + (df_lower_tf.iloc[i]['open']-df_lower_tf.iloc[i-1]['low'])*multiplier,2),\n",
    "    #         df_lower_tf.iloc[i]['date']))\n",
    "        \n",
    "    #     if falling_star_down(df_lower_tf.loc[i-1, ['open', 'high', 'low', 'close']]):\n",
    "    #         sell_orders.append((df_lower_tf.iloc[i]['open'], df_lower_tf.iloc[i-1]['high'],\n",
    "    #         round(df_lower_tf.iloc[i]['open'] - (df_lower_tf.iloc[i-1]['high']-df_lower_tf.iloc[i]['open'])*multiplier,2),\n",
    "    #         df_lower_tf.iloc[i]['date']))\n",
    "            \n",
    "        \n",
    "\n",
    "# backtest(df_higher_tf,buy_orders,sell_orders,100,1,chart=False)\n",
    "\n",
    "# for order in buy_orders:\n",
    "#     fig.add_trace(go.Scatter(x=[order[3]],y=[order[0]],mode='markers', marker=dict(size=4, color='white')))\n",
    "#     fig.add_trace(go.Scatter(x=[order[3]],y=[order[1]],mode='markers', marker=dict(size=4, color='red')))\n",
    "#     fig.add_trace(go.Scatter(x=[order[3]],y=[order[2]],mode='markers', marker=dict(size=4, color='green')))\n",
    "\n",
    "# for order in sell_orders:\n",
    "#     fig.add_trace(go.Scatter(x=[order[3]],y=[order[0]],mode='markers', marker=dict(size=4, color='white')))\n",
    "#     fig.add_trace(go.Scatter(x=[order[3]],y=[order[1]],mode='markers', marker=dict(size=4, color='red')))\n",
    "#     fig.add_trace(go.Scatter(x=[order[3]],y=[order[2]],mode='markers', marker=dict(size=4, color='green')))\n",
    "\n",
    "for imbalance in up_imbalances:\n",
    "    fig.add_trace(go.Scatter(x=[imbalance[2]],y=[imbalance[0]],mode='markers', marker=dict(size=4, color='green')))\n",
    "\n",
    "for imbalance in down_imbalances:\n",
    "    fig.add_trace(go.Scatter(x=[imbalance[2]],y=[imbalance[0]],mode='markers', marker=dict(size=4, color='red')))\n",
    "\n",
    "# for i in range(3, len(df_higher_tf)):\n",
    "#     if hammer_up(df_higher_tf.loc[i-1, ['open', 'high', 'low', 'close']]):\n",
    "#         fig.add_trace(go.Scatter(x=[df_higher_tf.iloc[i-1]['date']],y=[df_higher_tf.iloc[i-1]['low']],mode='markers', marker=dict(size=4, color='green')))\n",
    "#         # fig.add_vline(x=df_higher_tf.iloc[i-1]['date'],line=dict(color='green'))\n",
    "\n",
    "#     if df_higher_tf.iloc[i-1]['within_down_imbalance']:\n",
    "#         fig.add_trace(go.Scatter(x=[df_higher_tf.iloc[i-1]['date']],y=[df_higher_tf.iloc[i-1]['high']],mode='markers', marker=dict(size=4, color='red')))\n",
    "#         # fig.add_vline(x=df_higher_tf.iloc[i-1]['date'],line=dict(color='red'))\n",
    "\n",
    "# for i in range(3, len(df_higher_tf)):\n",
    "#     if df_higher_tf.iloc[i]['within_up_imbalance']:\n",
    "#         fig.add_trace(go.Scatter(x=[df_higher_tf.iloc[i]['date']],y=[df_higher_tf.iloc[i]['low']],mode='markers', marker=dict(size=4, color='green')))\n",
    "        \n",
    "#     if df_higher_tf.iloc[i]['within_down_imbalance']:\n",
    "#         fig.add_trace(go.Scatter(x=[df_higher_tf.iloc[i]['date']],y=[df_higher_tf.iloc[i]['high']],mode='markers', marker=dict(size=4, color='red')))\n",
    "\n",
    "rsx = go.Figure(go.Scatter(\n",
    "        x=df_higher_tf['date'],\n",
    "        y=df_higher_tf['ATR']\n",
    "    ))\n",
    "\n",
    "\n",
    "\n",
    "fig.update_layout(showlegend=False)\n",
    "fig.show()\n",
    "# fig1.update_layout(showlegend=False)\n",
    "# fig1.show()\n",
    "# fig2.update_layout(showlegend=False)\n",
    "# fig2.show()\n",
    "rsx.update_layout(showlegend=False)\n",
    "rsx.show()"
   ]
  }
 ],
 "metadata": {
  "kernelspec": {
   "display_name": "Python 3",
   "language": "python",
   "name": "python3"
  },
  "language_info": {
   "codemirror_mode": {
    "name": "ipython",
    "version": 3
   },
   "file_extension": ".py",
   "mimetype": "text/x-python",
   "name": "python",
   "nbconvert_exporter": "python",
   "pygments_lexer": "ipython3",
   "version": "3.10.8"
  },
  "orig_nbformat": 4,
  "vscode": {
   "interpreter": {
    "hash": "05a87d0cfdfbb752979dc8c3f53cb6c0c2a7c4b49c718c090facb8fa9d62de1e"
   }
  }
 },
 "nbformat": 4,
 "nbformat_minor": 2
}
