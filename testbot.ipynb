{
 "cells": [
  {
   "cell_type": "code",
   "execution_count": 15,
   "metadata": {},
   "outputs": [],
   "source": [
    "from binance.client import Client\n",
    "import pandas as pd\n",
    "import plotly.graph_objects as go\n",
    "from pon import api,secret\n",
    "import numpy as np\n",
    "import schedule\n",
    "import time\n",
    "from plotly.subplots import make_subplots\n",
    "import pandas_ta as ta\n",
    "import warnings\n",
    "warnings.filterwarnings(\"ignore\")\n"
   ]
  },
  {
   "cell_type": "code",
   "execution_count": 16,
   "metadata": {},
   "outputs": [],
   "source": [
    "def get_price_data_binance(ticker:str,limit:int,interval = Client.KLINE_INTERVAL_1DAY)->pd.DataFrame:\n",
    "    client = Client(api, secret)\n",
    "    df = pd.DataFrame(client.get_historical_klines(symbol=ticker, interval=interval, limit=limit,start_str='18 Jun, 2022', end_str='6 Nov, 2022'))\n",
    "    df.columns=['date','open','high','low','close','volume','close_time','d1','d2','d3','d4','d5']\n",
    "    df = df.drop(['close_time','d1','d2','d3','d4','d5'],axis=1)\n",
    "    df['date'] = pd.to_datetime(df['date']*1000000)\n",
    "    df['open'] = df['open'].astype(float)\n",
    "    df['high'] = df['high'].astype(float)\n",
    "    df['low'] = df['low'].astype(float)\n",
    "    df['close'] = df['close'].astype(float)\n",
    "    return df\n",
    "    \n",
    "def get_list_of_up_imbalances(df:pd.DataFrame)->list:\n",
    "    up_imbalances = []\n",
    "    for i in range(2, len(df)):\n",
    "        prev_candle = df.iloc[i-2]\n",
    "        next_candle = df.iloc[i]\n",
    "        if prev_candle['high'] < next_candle['low']:\n",
    "            up_imbalances.append([round((prev_candle['high']+next_candle['low'])/2,2), prev_candle['high'],df.iloc[i-1]['date']])\n",
    "    return up_imbalances\n",
    "\n",
    "def get_list_of_down_imbalances(df:pd.DataFrame)->list:\n",
    "    down_imbalances = []\n",
    "    for i in range(2, len(df)):\n",
    "        prev_candle = df.iloc[i-2]\n",
    "        next_candle = df.iloc[i]\n",
    "        if prev_candle['low'] > next_candle['high']:\n",
    "            down_imbalances.append([round((prev_candle['low']+next_candle['high'])/2,2) , prev_candle['low'] , df.iloc[i-1]['date']])\n",
    "    return down_imbalances\n",
    "\n",
    "\n",
    "def delete_up_imbalance(up_imbalances, df:pd.DataFrame)->list:\n",
    "    for i in range(0, len(df)-10):\n",
    "        for imbalance in up_imbalances:\n",
    "            candle = df.iloc[i]\n",
    "            if candle['date']>imbalance[2]  and (candle['close'] < imbalance[0] or candle['low'] < imbalance[0]):\n",
    "                up_imbalances.remove(imbalance)\n",
    "    return up_imbalances[-3:]\n",
    "\n",
    "def delete_down_imbalance(down_imbalances, df:pd.DataFrame)->list:\n",
    "    for i in range(0, len(df)-10):\n",
    "        for imbalance in down_imbalances:\n",
    "            candle = df.iloc[i]\n",
    "            if candle['date']>imbalance[2] and (candle['close'] > imbalance[0] or candle['high'] > imbalance[0]):\n",
    "                down_imbalances.remove(imbalance)\n",
    "    \n",
    "    return down_imbalances[-3:]\n",
    "\n",
    "def add_moving_average(period:int,df:pd.DataFrame)->pd.DataFrame:\n",
    "    df['SMA'] = df['close'].rolling(period).mean()\n",
    "    df['SMAslope'] = df['SMA'].pct_change()*100\n",
    "\n",
    "    df['up_reversal'] = ((df['SMAslope'].shift(1) < 0) & (df['SMAslope'] > 0))\n",
    "    df['down_reversal'] = ((df['SMAslope'].shift(1) > 0) & (df['SMAslope'] < 0)) \n",
    "    # df['charthighest'] = df['high'].rolling(6).max()[df['down_reversal'] == True]\n",
    "    # df['chartlowest'] = df['low'].rolling(6).min()[df['up_reversal'] == True]\n",
    "    # up_imbalances = get_list_of_up_imbalances(df)\n",
    "    # down_imbalances = get_list_of_down_imbalances(df)\n",
    "\n",
    "    # df['up_reversal'] = False\n",
    "    # df['down_reversal'] = False\n",
    "    # for i in range(5, len(df)-3):\n",
    "    #     for imbalance in up_imbalances:\n",
    "    #         if (df.iloc[i-1]['date'] < imbalance[2] < df.iloc[i+3]['date']):\n",
    "    #             if (df.iloc[i-1]['SMAslope'] < 0) & (df.iloc[i]['SMAslope'] > 0):\n",
    "    #                 if not (df.iloc[i-1]['up_reversal'] or df.iloc[i-2]['up_reversal'] or df.iloc[i-3]['up_reversal'] or df.iloc[i-4]['up_reversal']):\n",
    "    #                     df.loc[i, 'up_reversal'] = True\n",
    "    #     for imbalance in down_imbalances:\n",
    "    #         if (df.iloc[i-1]['date'] < imbalance[2] < df.iloc[i+3]['date']):\n",
    "    #             if ((df.iloc[i-1]['SMAslope'] > 0) & (df.iloc[i]['SMAslope'] < 0)):\n",
    "    #                 if not (df.iloc[i-1]['down_reversal'] or df.iloc[i-2]['down_reversal'] or df.iloc[i-3]['down_reversal'] or df.iloc[i-4]['down_reversal']):\n",
    "    #                     df.loc[i, 'down_reversal'] = True\n",
    "\n",
    "\n",
    "    # df['up_reversal'] = ((df['SMAslope'].shift(1) < 0) & (df['SMAslope'] > 0))\n",
    "    # df['down_reversal'] = ((df['SMAslope'].shift(1) > 0) & (df['SMAslope'] < 0))\n",
    "\n",
    "    return df\n",
    "\n",
    "def add_rsx_HF(period:int,df:pd.DataFrame)->pd.DataFrame:\n",
    "    df[\"RSX\"] = ta.rsx(round((df['close']+df['high']+df['low'])/3,2), period)\n",
    "    df['RSXslope'] = df['RSX'].pct_change()*100\n",
    "    df['RSX_up_reversal'] = ((df['RSXslope'].shift(1) < 0) & (df['RSXslope'] > 0)) & (df['RSXslope'].shift(1).rolling(5).sum()<-6)\n",
    "    df['RSX_down_reversal'] = ((df['RSXslope'].shift(1) > 0) & (df['RSXslope'] < 0)) & (df['RSXslope'].shift(1).rolling(5).sum()>6)\n",
    "\n",
    "    up_reversals = []\n",
    "    down_reversals = []\n",
    "    df['hidden_up_divergence'] = False\n",
    "    df['hidden_down_divergence'] = False\n",
    "\n",
    "    for i in range(0, len(df)):\n",
    "        if df.iloc[i]['RSX_up_reversal']:\n",
    "            up_reversals.append(min((df.iloc[i]['low'],df.iloc[i-1]['RSX'],df.iloc[i]['date']),\n",
    "                (df.iloc[i-1]['low'],df.iloc[i-1]['RSX'],df.iloc[i-1]['date']),\n",
    "                (df.iloc[i-2]['low'],df.iloc[i-1]['RSX'],df.iloc[i-2]['date']),\n",
    "                (df.iloc[i-3]['low'],df.iloc[i-1]['RSX'],df.iloc[i-3]['date']),\n",
    "                (df.iloc[i-4]['low'],df.iloc[i-1]['RSX'],df.iloc[i-4]['date']),\n",
    "                (df.iloc[i-5]['low'],df.iloc[i-1]['RSX'],df.iloc[i-5]['date'])))\n",
    "\n",
    "        if df.iloc[i]['RSX_down_reversal']:\n",
    "            down_reversals.append(max((df.iloc[i]['high'],df.iloc[i-1]['RSX'],df.iloc[i]['date']),\n",
    "                (df.iloc[i-1]['high'],df.iloc[i-1]['RSX'],df.iloc[i-1]['date']),\n",
    "                (df.iloc[i-2]['high'],df.iloc[i-1]['RSX'],df.iloc[i-2]['date']),\n",
    "                (df.iloc[i-3]['high'],df.iloc[i-1]['RSX'],df.iloc[i-3]['date']),\n",
    "                (df.iloc[i-4]['high'],df.iloc[i-1]['RSX'],df.iloc[i-4]['date']),\n",
    "                (df.iloc[i-5]['high'],df.iloc[i-1]['RSX'],df.iloc[i-5]['date'])))\n",
    "\n",
    "        if (up_reversals and down_reversals):\n",
    "            for up_reversal in up_reversals[-5:]:\n",
    "                if (up_reversal[0] < df.iloc[i]['low']) and (up_reversal[1] > df.iloc[i]['RSX']) and up_reversal[2] < df.iloc[i]['date']:\n",
    "                    df.loc[i, 'hidden_up_divergence'] = True\n",
    "                \n",
    "            for down_reversal in down_reversals[-5:]:\n",
    "                if (down_reversal[0] > df.iloc[i]['high']) and (down_reversal[1] < df.iloc[i]['RSX']) and down_reversal[2] < df.iloc[i]['date']:\n",
    "                    df.loc[i, 'hidden_down_divergence'] = True\n",
    "\n",
    "    return df\n",
    "\n",
    "def add_rsx_LF(period:int,df:pd.DataFrame)->pd.DataFrame:\n",
    "    df[\"RSX\"] = ta.rsx(round((df['close']+df['high']+df['low'])/3,2), period)\n",
    "    df['RSXslope'] = df['RSX'].pct_change()*100\n",
    "    df['RSX_up_reversal'] = ((df['RSXslope'].shift(1) < 0) & (df['RSXslope'] > 0)) & (df['RSXslope'].shift(1).rolling(5).sum()<-6)\n",
    "    df['RSX_down_reversal'] = ((df['RSXslope'].shift(1) > 0) & (df['RSXslope'] < 0)) & (df['RSXslope'].shift(1).rolling(5).sum()>6)\n",
    "\n",
    "    up_reversals = []\n",
    "    down_reversals = []\n",
    "    df['classic_up_divergence'] = False\n",
    "    df['classic_down_divergence'] = False\n",
    "\n",
    "    for i in range(len(df) - 200, len(df)):\n",
    "        if df.iloc[i]['RSX_up_reversal']:\n",
    "            up_reversals.append(min((df.iloc[i]['low'],df.iloc[i-1]['RSX'],df.iloc[i]['date']),\n",
    "                (df.iloc[i-1]['low'],df.iloc[i-1]['RSX'],df.iloc[i-1]['date']),\n",
    "                (df.iloc[i-2]['low'],df.iloc[i-1]['RSX'],df.iloc[i-2]['date']),\n",
    "                (df.iloc[i-3]['low'],df.iloc[i-1]['RSX'],df.iloc[i-3]['date']),\n",
    "                (df.iloc[i-4]['low'],df.iloc[i-1]['RSX'],df.iloc[i-4]['date']),\n",
    "                (df.iloc[i-5]['low'],df.iloc[i-1]['RSX'],df.iloc[i-5]['date'])))\n",
    "\n",
    "        if df.iloc[i]['RSX_down_reversal']:\n",
    "            down_reversals.append(max((df.iloc[i]['high'],df.iloc[i-1]['RSX'],df.iloc[i]['date']),\n",
    "                (df.iloc[i-1]['high'],df.iloc[i-1]['RSX'],df.iloc[i-1]['date']),\n",
    "                (df.iloc[i-2]['high'],df.iloc[i-1]['RSX'],df.iloc[i-2]['date']),\n",
    "                (df.iloc[i-3]['high'],df.iloc[i-1]['RSX'],df.iloc[i-3]['date']),\n",
    "                (df.iloc[i-4]['high'],df.iloc[i-1]['RSX'],df.iloc[i-4]['date']),\n",
    "                (df.iloc[i-5]['high'],df.iloc[i-1]['RSX'],df.iloc[i-5]['date'])))\n",
    "                \n",
    "        if (up_reversals and down_reversals):\n",
    "            for up_reversal in up_reversals[-1:]:    \n",
    "                if (up_reversal[0] > df.iloc[i]['low']) and (up_reversal[1] < df.iloc[i]['RSX']) and up_reversal[2] < df.iloc[i]['date']:\n",
    "                    df.loc[i, 'classic_up_divergence'] = True\n",
    "\n",
    "            for down_reversal in down_reversals[-1:]:       \n",
    "                if (down_reversal[0] < df.iloc[i]['high']) and (down_reversal[1] > df.iloc[i]['RSX']) and down_reversal[2] < df.iloc[i]['date']:\n",
    "                    df.loc[i, 'classic_down_divergence'] = True\n",
    "                \n",
    "    return df"
   ]
  },
  {
   "cell_type": "code",
   "execution_count": 17,
   "metadata": {},
   "outputs": [
    {
     "name": "stdout",
     "output_type": "stream",
     "text": [
      "21420.84\n"
     ]
    },
    {
     "data": {
      "application/vnd.plotly.v1+json": {
       "config": {
        "plotlyServerURL": "https://plot.ly"
       },
       "data": [
        {
         "close": [
          18970.79,
          20574,
          20573.89,
          20723.52,
          19987.99,
          21110.13,
          21237.69,
          21491.19,
          21038.07,
          20742.56,
          20281.29,
          20123.01,
          19942.21,
          19279.8,
          19252.81,
          19315.83,
          20236.71,
          20175.83,
          20564.51,
          21624.98,
          21594.75,
          21591.83,
          20862.47,
          19963.61,
          19328.75,
          20234.87,
          20588.84,
          20830.04,
          21195.6,
          20798.16,
          22432.58,
          23396.62,
          23223.3,
          23152.19,
          22684.83,
          22451.07,
          22579.68,
          21310.9,
          21254.67,
          22952.45,
          23842.93,
          23773.75,
          23643.51,
          23293.32,
          23268.01,
          22987.79,
          22818.37,
          22622.98,
          23312.42,
          22954.21,
          23174.39,
          23810,
          23149.95,
          23954.05,
          23934.39,
          24403.68,
          24441.38,
          24305.24,
          24094.82,
          23854.74,
          23342.66,
          23191.2,
          20834.39,
          21140.07,
          21515.61,
          21399.83,
          21529.12,
          21368.08,
          21559.04,
          20241.05,
          20037.6,
          19555.61,
          20285.73,
          19811.66,
          20050.02,
          20131.46,
          19951.86,
          19831.9,
          20000.3,
          19796.84,
          18790.61,
          19292.84,
          19319.77,
          21360.11,
          21648.34,
          21826.87,
          22395.74,
          20173.57,
          20226.71,
          19701.88,
          19803.3,
          20113.62,
          19416.18,
          19537.02,
          18875,
          18461.36,
          19401.63,
          19289.91,
          18920.5,
          18807.38,
          19227.82,
          19079.13,
          19412.82,
          19591.51,
          19422.61,
          19310.95,
          19056.8,
          19629.08,
          20337.82,
          20158.26,
          19960.67,
          19530.09,
          19417.96,
          19439.02,
          19131.87,
          19060,
          19155.53,
          19375.13,
          19176.93,
          19069.39,
          19262.98,
          19549.86,
          19327.44,
          19123.97,
          19041.92,
          19164.37,
          19204.35,
          19570.4,
          19329.72,
          20080.07,
          20771.59,
          20295.11,
          20591.84,
          20809.67,
          20627.48,
          20490.74,
          20483.62,
          20151.84,
          20207.82,
          21148.52,
          21299.37,
          20905.58
         ],
         "high": [
          20792.06,
          20815.95,
          21090,
          21723,
          20900,
          21233,
          21558.41,
          21614.5,
          21888,
          21539.85,
          21212.1,
          20432.31,
          20179.08,
          20918.35,
          19467.39,
          19647.63,
          20354.01,
          20750,
          20675.22,
          21838.1,
          22527.37,
          21980,
          21607.65,
          20868.48,
          20059.42,
          20366.61,
          20900,
          21200,
          21588.94,
          21684.54,
          22777.63,
          23800,
          24276.74,
          23442.77,
          23756.49,
          23000.77,
          23014.64,
          22666,
          21347.82,
          23112.63,
          24199.72,
          24442.66,
          24668,
          24194.82,
          23509.68,
          23459.89,
          23647.68,
          23223.32,
          23472.86,
          23354.36,
          23402,
          24245,
          23933.25,
          24226,
          24918.54,
          24456.5,
          24888,
          25047.56,
          25211.32,
          24247.49,
          24446.71,
          23600,
          23208.67,
          21382.85,
          21800,
          21548.71,
          21684.87,
          21900,
          21819.88,
          21886.77,
          20402.93,
          20171.18,
          20433.62,
          20576.25,
          20490,
          20208.37,
          20441.26,
          20055.93,
          20029.23,
          20057.27,
          20180,
          19464.06,
          19458.25,
          21597.22,
          21810.8,
          21860,
          22488,
          22799,
          20541.48,
          20330.24,
          19890,
          20189,
          20117.26,
          19686.2,
          19634.62,
          19956,
          19550.17,
          19500,
          19316.14,
          19180.21,
          19318.96,
          20385.86,
          19790,
          19645.52,
          20185,
          19484,
          19395.91,
          19719.1,
          20475,
          20365.6,
          20456.6,
          20068.82,
          19627.38,
          19558,
          19525,
          19268.09,
          19238.31,
          19513.79,
          19951.87,
          19227.68,
          19425.84,
          19676.96,
          19706.66,
          19360.16,
          19347.82,
          19250,
          19257,
          19695,
          19601.15,
          20415.87,
          21020,
          20872.21,
          20750,
          21085,
          20931.21,
          20845.92,
          20700,
          20800,
          20393.32,
          21302.05,
          21480.65,
          21365.27
         ],
         "low": [
          17622,
          17960.41,
          19637.03,
          20348.4,
          19770.51,
          19890.07,
          20736.72,
          20906.62,
          20964.73,
          20510,
          20202.01,
          19854.92,
          18626,
          18975,
          18977.01,
          18781,
          19055.31,
          19304.4,
          19761.25,
          20251.68,
          21189.26,
          21322.12,
          20655,
          19875.23,
          19240,
          18910.94,
          19616.07,
          20382.29,
          20478.61,
          20750.01,
          20762.45,
          21579.54,
          22906.19,
          22341.46,
          22500,
          21934.57,
          22257.15,
          21250,
          20706.5,
          21042.53,
          22582.13,
          23414.03,
          23502.25,
          23227.31,
          22850,
          22654.37,
          22681.22,
          22400,
          22586.95,
          22909.52,
          22844.62,
          23154.25,
          22865,
          22664.69,
          23852.13,
          23583,
          24291.22,
          24144,
          23773.22,
          23671.22,
          23180.4,
          23111.04,
          20783.57,
          20761.9,
          21069.11,
          20890.18,
          20890.14,
          21145,
          21310.15,
          20107.9,
          19800,
          19520,
          19550.79,
          19540,
          19797.94,
          19565.66,
          19755.29,
          19652.72,
          19583.1,
          19633.83,
          18649.51,
          18510.77,
          19012,
          19291.75,
          21111.13,
          21350,
          21538.51,
          19860,
          19617.62,
          19497,
          19320.01,
          19748.08,
          19335.62,
          18232.56,
          18711.87,
          18125.98,
          18356.39,
          18531.42,
          18805.34,
          18629.2,
          18680.72,
          18816.32,
          18471.28,
          18843.01,
          19155.36,
          19159.42,
          18920.35,
          18959.68,
          19490.6,
          19730,
          19853,
          19320,
          19237.14,
          19316.04,
          19020.25,
          18860,
          18965.88,
          18190,
          19070.37,
          18975.18,
          19063.74,
          19152.03,
          19091,
          19065.97,
          18900,
          18650,
          19112.72,
          19070.11,
          19157,
          19237,
          20050.41,
          20200,
          20000.09,
          20554.01,
          20515,
          20237.95,
          20330.74,
          20048.04,
          20031.24,
          20180.96,
          21080.65,
          20886.13
         ],
         "open": [
          20468.81,
          18970.79,
          20574,
          20573.9,
          20723.51,
          19988,
          21110.12,
          21237.68,
          21491.18,
          21038.08,
          20742.57,
          20281.28,
          20123,
          19942.21,
          19279.8,
          19252.82,
          19315.83,
          20236.71,
          20175.84,
          20564.51,
          21624.99,
          21594.75,
          21592.15,
          20861.11,
          19963.61,
          19331.28,
          20234.87,
          20588.84,
          20830.04,
          21195.6,
          20799.58,
          22432.58,
          23398.48,
          23223.3,
          23152.19,
          22684.83,
          22448.58,
          22577.13,
          21310.9,
          21254.67,
          22954.31,
          23845.25,
          23777.28,
          23644.64,
          23296.36,
          23266.9,
          22985.93,
          22816.91,
          22622.41,
          23313.56,
          22954.21,
          23174.39,
          23810.98,
          23151.32,
          23954.05,
          23933.09,
          24401.7,
          24443.06,
          24305.25,
          24093.04,
          23856.15,
          23342.66,
          23191.45,
          20834.39,
          21140.07,
          21516.7,
          21400.75,
          21529.11,
          21368.05,
          21559.04,
          20239.14,
          20037.6,
          19555.61,
          20287.2,
          19813.03,
          20048.44,
          20132.64,
          19950.98,
          19832.45,
          20000.3,
          19795.34,
          18790.61,
          19292.85,
          19320.54,
          21361.62,
          21647.21,
          21826.87,
          22395.44,
          20173.62,
          20227.17,
          19701.88,
          19803.3,
          20112.61,
          19417.45,
          19537.02,
          18874.31,
          18461.36,
          19401.63,
          19288.57,
          18921.99,
          18809.13,
          19226.68,
          19078.1,
          19412.82,
          19590.54,
          19422.61,
          19312.24,
          19057.74,
          19629.08,
          20337.82,
          20158.26,
          19960.67,
          19530.09,
          19416.52,
          19439.96,
          19131.87,
          19060,
          19155.1,
          19375.58,
          19176.93,
          19068.4,
          19262.98,
          19548.48,
          19327.44,
          19123.35,
          19041.92,
          19164.37,
          19204.29,
          19570.4,
          19330.6,
          20079.02,
          20771.61,
          20295.11,
          20591.84,
          20809.68,
          20627.48,
          20490.74,
          20482.81,
          20151.84,
          20207.12,
          21148.52,
          21299.37
         ],
         "type": "candlestick",
         "x": [
          "2022-06-18T00:00:00",
          "2022-06-19T00:00:00",
          "2022-06-20T00:00:00",
          "2022-06-21T00:00:00",
          "2022-06-22T00:00:00",
          "2022-06-23T00:00:00",
          "2022-06-24T00:00:00",
          "2022-06-25T00:00:00",
          "2022-06-26T00:00:00",
          "2022-06-27T00:00:00",
          "2022-06-28T00:00:00",
          "2022-06-29T00:00:00",
          "2022-06-30T00:00:00",
          "2022-07-01T00:00:00",
          "2022-07-02T00:00:00",
          "2022-07-03T00:00:00",
          "2022-07-04T00:00:00",
          "2022-07-05T00:00:00",
          "2022-07-06T00:00:00",
          "2022-07-07T00:00:00",
          "2022-07-08T00:00:00",
          "2022-07-09T00:00:00",
          "2022-07-10T00:00:00",
          "2022-07-11T00:00:00",
          "2022-07-12T00:00:00",
          "2022-07-13T00:00:00",
          "2022-07-14T00:00:00",
          "2022-07-15T00:00:00",
          "2022-07-16T00:00:00",
          "2022-07-17T00:00:00",
          "2022-07-18T00:00:00",
          "2022-07-19T00:00:00",
          "2022-07-20T00:00:00",
          "2022-07-21T00:00:00",
          "2022-07-22T00:00:00",
          "2022-07-23T00:00:00",
          "2022-07-24T00:00:00",
          "2022-07-25T00:00:00",
          "2022-07-26T00:00:00",
          "2022-07-27T00:00:00",
          "2022-07-28T00:00:00",
          "2022-07-29T00:00:00",
          "2022-07-30T00:00:00",
          "2022-07-31T00:00:00",
          "2022-08-01T00:00:00",
          "2022-08-02T00:00:00",
          "2022-08-03T00:00:00",
          "2022-08-04T00:00:00",
          "2022-08-05T00:00:00",
          "2022-08-06T00:00:00",
          "2022-08-07T00:00:00",
          "2022-08-08T00:00:00",
          "2022-08-09T00:00:00",
          "2022-08-10T00:00:00",
          "2022-08-11T00:00:00",
          "2022-08-12T00:00:00",
          "2022-08-13T00:00:00",
          "2022-08-14T00:00:00",
          "2022-08-15T00:00:00",
          "2022-08-16T00:00:00",
          "2022-08-17T00:00:00",
          "2022-08-18T00:00:00",
          "2022-08-19T00:00:00",
          "2022-08-20T00:00:00",
          "2022-08-21T00:00:00",
          "2022-08-22T00:00:00",
          "2022-08-23T00:00:00",
          "2022-08-24T00:00:00",
          "2022-08-25T00:00:00",
          "2022-08-26T00:00:00",
          "2022-08-27T00:00:00",
          "2022-08-28T00:00:00",
          "2022-08-29T00:00:00",
          "2022-08-30T00:00:00",
          "2022-08-31T00:00:00",
          "2022-09-01T00:00:00",
          "2022-09-02T00:00:00",
          "2022-09-03T00:00:00",
          "2022-09-04T00:00:00",
          "2022-09-05T00:00:00",
          "2022-09-06T00:00:00",
          "2022-09-07T00:00:00",
          "2022-09-08T00:00:00",
          "2022-09-09T00:00:00",
          "2022-09-10T00:00:00",
          "2022-09-11T00:00:00",
          "2022-09-12T00:00:00",
          "2022-09-13T00:00:00",
          "2022-09-14T00:00:00",
          "2022-09-15T00:00:00",
          "2022-09-16T00:00:00",
          "2022-09-17T00:00:00",
          "2022-09-18T00:00:00",
          "2022-09-19T00:00:00",
          "2022-09-20T00:00:00",
          "2022-09-21T00:00:00",
          "2022-09-22T00:00:00",
          "2022-09-23T00:00:00",
          "2022-09-24T00:00:00",
          "2022-09-25T00:00:00",
          "2022-09-26T00:00:00",
          "2022-09-27T00:00:00",
          "2022-09-28T00:00:00",
          "2022-09-29T00:00:00",
          "2022-09-30T00:00:00",
          "2022-10-01T00:00:00",
          "2022-10-02T00:00:00",
          "2022-10-03T00:00:00",
          "2022-10-04T00:00:00",
          "2022-10-05T00:00:00",
          "2022-10-06T00:00:00",
          "2022-10-07T00:00:00",
          "2022-10-08T00:00:00",
          "2022-10-09T00:00:00",
          "2022-10-10T00:00:00",
          "2022-10-11T00:00:00",
          "2022-10-12T00:00:00",
          "2022-10-13T00:00:00",
          "2022-10-14T00:00:00",
          "2022-10-15T00:00:00",
          "2022-10-16T00:00:00",
          "2022-10-17T00:00:00",
          "2022-10-18T00:00:00",
          "2022-10-19T00:00:00",
          "2022-10-20T00:00:00",
          "2022-10-21T00:00:00",
          "2022-10-22T00:00:00",
          "2022-10-23T00:00:00",
          "2022-10-24T00:00:00",
          "2022-10-25T00:00:00",
          "2022-10-26T00:00:00",
          "2022-10-27T00:00:00",
          "2022-10-28T00:00:00",
          "2022-10-29T00:00:00",
          "2022-10-30T00:00:00",
          "2022-10-31T00:00:00",
          "2022-11-01T00:00:00",
          "2022-11-02T00:00:00",
          "2022-11-03T00:00:00",
          "2022-11-04T00:00:00",
          "2022-11-05T00:00:00",
          "2022-11-06T00:00:00"
         ]
        }
       ],
       "layout": {
        "showlegend": false,
        "template": {
         "data": {
          "bar": [
           {
            "error_x": {
             "color": "#2a3f5f"
            },
            "error_y": {
             "color": "#2a3f5f"
            },
            "marker": {
             "line": {
              "color": "#E5ECF6",
              "width": 0.5
             },
             "pattern": {
              "fillmode": "overlay",
              "size": 10,
              "solidity": 0.2
             }
            },
            "type": "bar"
           }
          ],
          "barpolar": [
           {
            "marker": {
             "line": {
              "color": "#E5ECF6",
              "width": 0.5
             },
             "pattern": {
              "fillmode": "overlay",
              "size": 10,
              "solidity": 0.2
             }
            },
            "type": "barpolar"
           }
          ],
          "carpet": [
           {
            "aaxis": {
             "endlinecolor": "#2a3f5f",
             "gridcolor": "white",
             "linecolor": "white",
             "minorgridcolor": "white",
             "startlinecolor": "#2a3f5f"
            },
            "baxis": {
             "endlinecolor": "#2a3f5f",
             "gridcolor": "white",
             "linecolor": "white",
             "minorgridcolor": "white",
             "startlinecolor": "#2a3f5f"
            },
            "type": "carpet"
           }
          ],
          "choropleth": [
           {
            "colorbar": {
             "outlinewidth": 0,
             "ticks": ""
            },
            "type": "choropleth"
           }
          ],
          "contour": [
           {
            "colorbar": {
             "outlinewidth": 0,
             "ticks": ""
            },
            "colorscale": [
             [
              0,
              "#0d0887"
             ],
             [
              0.1111111111111111,
              "#46039f"
             ],
             [
              0.2222222222222222,
              "#7201a8"
             ],
             [
              0.3333333333333333,
              "#9c179e"
             ],
             [
              0.4444444444444444,
              "#bd3786"
             ],
             [
              0.5555555555555556,
              "#d8576b"
             ],
             [
              0.6666666666666666,
              "#ed7953"
             ],
             [
              0.7777777777777778,
              "#fb9f3a"
             ],
             [
              0.8888888888888888,
              "#fdca26"
             ],
             [
              1,
              "#f0f921"
             ]
            ],
            "type": "contour"
           }
          ],
          "contourcarpet": [
           {
            "colorbar": {
             "outlinewidth": 0,
             "ticks": ""
            },
            "type": "contourcarpet"
           }
          ],
          "heatmap": [
           {
            "colorbar": {
             "outlinewidth": 0,
             "ticks": ""
            },
            "colorscale": [
             [
              0,
              "#0d0887"
             ],
             [
              0.1111111111111111,
              "#46039f"
             ],
             [
              0.2222222222222222,
              "#7201a8"
             ],
             [
              0.3333333333333333,
              "#9c179e"
             ],
             [
              0.4444444444444444,
              "#bd3786"
             ],
             [
              0.5555555555555556,
              "#d8576b"
             ],
             [
              0.6666666666666666,
              "#ed7953"
             ],
             [
              0.7777777777777778,
              "#fb9f3a"
             ],
             [
              0.8888888888888888,
              "#fdca26"
             ],
             [
              1,
              "#f0f921"
             ]
            ],
            "type": "heatmap"
           }
          ],
          "heatmapgl": [
           {
            "colorbar": {
             "outlinewidth": 0,
             "ticks": ""
            },
            "colorscale": [
             [
              0,
              "#0d0887"
             ],
             [
              0.1111111111111111,
              "#46039f"
             ],
             [
              0.2222222222222222,
              "#7201a8"
             ],
             [
              0.3333333333333333,
              "#9c179e"
             ],
             [
              0.4444444444444444,
              "#bd3786"
             ],
             [
              0.5555555555555556,
              "#d8576b"
             ],
             [
              0.6666666666666666,
              "#ed7953"
             ],
             [
              0.7777777777777778,
              "#fb9f3a"
             ],
             [
              0.8888888888888888,
              "#fdca26"
             ],
             [
              1,
              "#f0f921"
             ]
            ],
            "type": "heatmapgl"
           }
          ],
          "histogram": [
           {
            "marker": {
             "pattern": {
              "fillmode": "overlay",
              "size": 10,
              "solidity": 0.2
             }
            },
            "type": "histogram"
           }
          ],
          "histogram2d": [
           {
            "colorbar": {
             "outlinewidth": 0,
             "ticks": ""
            },
            "colorscale": [
             [
              0,
              "#0d0887"
             ],
             [
              0.1111111111111111,
              "#46039f"
             ],
             [
              0.2222222222222222,
              "#7201a8"
             ],
             [
              0.3333333333333333,
              "#9c179e"
             ],
             [
              0.4444444444444444,
              "#bd3786"
             ],
             [
              0.5555555555555556,
              "#d8576b"
             ],
             [
              0.6666666666666666,
              "#ed7953"
             ],
             [
              0.7777777777777778,
              "#fb9f3a"
             ],
             [
              0.8888888888888888,
              "#fdca26"
             ],
             [
              1,
              "#f0f921"
             ]
            ],
            "type": "histogram2d"
           }
          ],
          "histogram2dcontour": [
           {
            "colorbar": {
             "outlinewidth": 0,
             "ticks": ""
            },
            "colorscale": [
             [
              0,
              "#0d0887"
             ],
             [
              0.1111111111111111,
              "#46039f"
             ],
             [
              0.2222222222222222,
              "#7201a8"
             ],
             [
              0.3333333333333333,
              "#9c179e"
             ],
             [
              0.4444444444444444,
              "#bd3786"
             ],
             [
              0.5555555555555556,
              "#d8576b"
             ],
             [
              0.6666666666666666,
              "#ed7953"
             ],
             [
              0.7777777777777778,
              "#fb9f3a"
             ],
             [
              0.8888888888888888,
              "#fdca26"
             ],
             [
              1,
              "#f0f921"
             ]
            ],
            "type": "histogram2dcontour"
           }
          ],
          "mesh3d": [
           {
            "colorbar": {
             "outlinewidth": 0,
             "ticks": ""
            },
            "type": "mesh3d"
           }
          ],
          "parcoords": [
           {
            "line": {
             "colorbar": {
              "outlinewidth": 0,
              "ticks": ""
             }
            },
            "type": "parcoords"
           }
          ],
          "pie": [
           {
            "automargin": true,
            "type": "pie"
           }
          ],
          "scatter": [
           {
            "fillpattern": {
             "fillmode": "overlay",
             "size": 10,
             "solidity": 0.2
            },
            "type": "scatter"
           }
          ],
          "scatter3d": [
           {
            "line": {
             "colorbar": {
              "outlinewidth": 0,
              "ticks": ""
             }
            },
            "marker": {
             "colorbar": {
              "outlinewidth": 0,
              "ticks": ""
             }
            },
            "type": "scatter3d"
           }
          ],
          "scattercarpet": [
           {
            "marker": {
             "colorbar": {
              "outlinewidth": 0,
              "ticks": ""
             }
            },
            "type": "scattercarpet"
           }
          ],
          "scattergeo": [
           {
            "marker": {
             "colorbar": {
              "outlinewidth": 0,
              "ticks": ""
             }
            },
            "type": "scattergeo"
           }
          ],
          "scattergl": [
           {
            "marker": {
             "colorbar": {
              "outlinewidth": 0,
              "ticks": ""
             }
            },
            "type": "scattergl"
           }
          ],
          "scattermapbox": [
           {
            "marker": {
             "colorbar": {
              "outlinewidth": 0,
              "ticks": ""
             }
            },
            "type": "scattermapbox"
           }
          ],
          "scatterpolar": [
           {
            "marker": {
             "colorbar": {
              "outlinewidth": 0,
              "ticks": ""
             }
            },
            "type": "scatterpolar"
           }
          ],
          "scatterpolargl": [
           {
            "marker": {
             "colorbar": {
              "outlinewidth": 0,
              "ticks": ""
             }
            },
            "type": "scatterpolargl"
           }
          ],
          "scatterternary": [
           {
            "marker": {
             "colorbar": {
              "outlinewidth": 0,
              "ticks": ""
             }
            },
            "type": "scatterternary"
           }
          ],
          "surface": [
           {
            "colorbar": {
             "outlinewidth": 0,
             "ticks": ""
            },
            "colorscale": [
             [
              0,
              "#0d0887"
             ],
             [
              0.1111111111111111,
              "#46039f"
             ],
             [
              0.2222222222222222,
              "#7201a8"
             ],
             [
              0.3333333333333333,
              "#9c179e"
             ],
             [
              0.4444444444444444,
              "#bd3786"
             ],
             [
              0.5555555555555556,
              "#d8576b"
             ],
             [
              0.6666666666666666,
              "#ed7953"
             ],
             [
              0.7777777777777778,
              "#fb9f3a"
             ],
             [
              0.8888888888888888,
              "#fdca26"
             ],
             [
              1,
              "#f0f921"
             ]
            ],
            "type": "surface"
           }
          ],
          "table": [
           {
            "cells": {
             "fill": {
              "color": "#EBF0F8"
             },
             "line": {
              "color": "white"
             }
            },
            "header": {
             "fill": {
              "color": "#C8D4E3"
             },
             "line": {
              "color": "white"
             }
            },
            "type": "table"
           }
          ]
         },
         "layout": {
          "annotationdefaults": {
           "arrowcolor": "#2a3f5f",
           "arrowhead": 0,
           "arrowwidth": 1
          },
          "autotypenumbers": "strict",
          "coloraxis": {
           "colorbar": {
            "outlinewidth": 0,
            "ticks": ""
           }
          },
          "colorscale": {
           "diverging": [
            [
             0,
             "#8e0152"
            ],
            [
             0.1,
             "#c51b7d"
            ],
            [
             0.2,
             "#de77ae"
            ],
            [
             0.3,
             "#f1b6da"
            ],
            [
             0.4,
             "#fde0ef"
            ],
            [
             0.5,
             "#f7f7f7"
            ],
            [
             0.6,
             "#e6f5d0"
            ],
            [
             0.7,
             "#b8e186"
            ],
            [
             0.8,
             "#7fbc41"
            ],
            [
             0.9,
             "#4d9221"
            ],
            [
             1,
             "#276419"
            ]
           ],
           "sequential": [
            [
             0,
             "#0d0887"
            ],
            [
             0.1111111111111111,
             "#46039f"
            ],
            [
             0.2222222222222222,
             "#7201a8"
            ],
            [
             0.3333333333333333,
             "#9c179e"
            ],
            [
             0.4444444444444444,
             "#bd3786"
            ],
            [
             0.5555555555555556,
             "#d8576b"
            ],
            [
             0.6666666666666666,
             "#ed7953"
            ],
            [
             0.7777777777777778,
             "#fb9f3a"
            ],
            [
             0.8888888888888888,
             "#fdca26"
            ],
            [
             1,
             "#f0f921"
            ]
           ],
           "sequentialminus": [
            [
             0,
             "#0d0887"
            ],
            [
             0.1111111111111111,
             "#46039f"
            ],
            [
             0.2222222222222222,
             "#7201a8"
            ],
            [
             0.3333333333333333,
             "#9c179e"
            ],
            [
             0.4444444444444444,
             "#bd3786"
            ],
            [
             0.5555555555555556,
             "#d8576b"
            ],
            [
             0.6666666666666666,
             "#ed7953"
            ],
            [
             0.7777777777777778,
             "#fb9f3a"
            ],
            [
             0.8888888888888888,
             "#fdca26"
            ],
            [
             1,
             "#f0f921"
            ]
           ]
          },
          "colorway": [
           "#636efa",
           "#EF553B",
           "#00cc96",
           "#ab63fa",
           "#FFA15A",
           "#19d3f3",
           "#FF6692",
           "#B6E880",
           "#FF97FF",
           "#FECB52"
          ],
          "font": {
           "color": "#2a3f5f"
          },
          "geo": {
           "bgcolor": "white",
           "lakecolor": "white",
           "landcolor": "#E5ECF6",
           "showlakes": true,
           "showland": true,
           "subunitcolor": "white"
          },
          "hoverlabel": {
           "align": "left"
          },
          "hovermode": "closest",
          "mapbox": {
           "style": "light"
          },
          "paper_bgcolor": "white",
          "plot_bgcolor": "#E5ECF6",
          "polar": {
           "angularaxis": {
            "gridcolor": "white",
            "linecolor": "white",
            "ticks": ""
           },
           "bgcolor": "#E5ECF6",
           "radialaxis": {
            "gridcolor": "white",
            "linecolor": "white",
            "ticks": ""
           }
          },
          "scene": {
           "xaxis": {
            "backgroundcolor": "#E5ECF6",
            "gridcolor": "white",
            "gridwidth": 2,
            "linecolor": "white",
            "showbackground": true,
            "ticks": "",
            "zerolinecolor": "white"
           },
           "yaxis": {
            "backgroundcolor": "#E5ECF6",
            "gridcolor": "white",
            "gridwidth": 2,
            "linecolor": "white",
            "showbackground": true,
            "ticks": "",
            "zerolinecolor": "white"
           },
           "zaxis": {
            "backgroundcolor": "#E5ECF6",
            "gridcolor": "white",
            "gridwidth": 2,
            "linecolor": "white",
            "showbackground": true,
            "ticks": "",
            "zerolinecolor": "white"
           }
          },
          "shapedefaults": {
           "line": {
            "color": "#2a3f5f"
           }
          },
          "ternary": {
           "aaxis": {
            "gridcolor": "white",
            "linecolor": "white",
            "ticks": ""
           },
           "baxis": {
            "gridcolor": "white",
            "linecolor": "white",
            "ticks": ""
           },
           "bgcolor": "#E5ECF6",
           "caxis": {
            "gridcolor": "white",
            "linecolor": "white",
            "ticks": ""
           }
          },
          "title": {
           "x": 0.05
          },
          "xaxis": {
           "automargin": true,
           "gridcolor": "white",
           "linecolor": "white",
           "ticks": "",
           "title": {
            "standoff": 15
           },
           "zerolinecolor": "white",
           "zerolinewidth": 2
          },
          "yaxis": {
           "automargin": true,
           "gridcolor": "white",
           "linecolor": "white",
           "ticks": "",
           "title": {
            "standoff": 15
           },
           "zerolinecolor": "white",
           "zerolinewidth": 2
          }
         }
        }
       }
      }
     },
     "metadata": {},
     "output_type": "display_data"
    },
    {
     "data": {
      "application/vnd.plotly.v1+json": {
       "config": {
        "plotlyServerURL": "https://plot.ly"
       },
       "data": [
        {
         "close": [
          20424.05,
          19243.98,
          18621.13,
          18970.79,
          18126.08,
          19692.5,
          19445.99,
          20574,
          20107.81,
          20801.79,
          19977.6,
          20573.89,
          20890.77,
          20962.42,
          21242.94,
          20723.52,
          20368.76,
          20506.3,
          20267.42,
          19987.99,
          20349.16,
          20638.79,
          20319.32,
          21110.13,
          20910.89,
          21169.53,
          20972.4,
          21237.69,
          21216.88,
          21340.22,
          21096.77,
          21491.19,
          21442.01,
          21708.6,
          21260.66,
          21038.07,
          21182.6,
          21304.55,
          20726.78,
          20742.56,
          20741.3,
          20998.13,
          20630.01,
          20281.29,
          20182.8,
          20104.8,
          20081.37,
          20123.01,
          20001.75,
          19101.36,
          19105.67,
          19942.21,
          19465.37,
          19191.03,
          19487.94,
          19279.8,
          19238.26,
          19195.21,
          19299.36,
          19252.81,
          19043.6,
          19089.8,
          19221.77,
          19315.83,
          19137.19,
          19806.49,
          19899.41,
          20236.71,
          20296.3,
          19520.39,
          19703.85,
          20175.83,
          20048.08,
          20103.43,
          20266.09,
          20564.51,
          20302.18,
          20507.83,
          20910.65,
          21624.98,
          21843.33,
          21583.98,
          21767.47,
          21594.75,
          21517.76,
          21447.29,
          21880.69,
          21591.83,
          21358.75,
          21301.84,
          20902.05,
          20862.47,
          20506.53,
          20473.06,
          20616.23,
          19963.61,
          19956.82,
          19773.9,
          19878.25,
          19328.75,
          19520,
          19843.89,
          19884.07,
          20234.87,
          20114.33,
          19738.13,
          20738.17,
          20588.84,
          20666.1,
          20769.74,
          20786.11,
          20830.04,
          20595.04,
          20616.69,
          21246.65,
          21195.6,
          21357.66,
          21456.79,
          20921.42,
          20798.16,
          21862.01,
          22133.31,
          21878.06,
          22432.58,
          21997.23,
          21974.49,
          23460.08,
          23396.62,
          23498.44,
          23728.55,
          23515.48,
          23223.3,
          22942,
          22606.04,
          22852.28,
          23152.19,
          23146.46,
          23610.58,
          23017.79,
          22684.83,
          22902.46,
          22227.53,
          22033.92,
          22451.07,
          22749.98,
          22657.63,
          22772.14,
          22579.68,
          21913.69,
          21941.25,
          21863.12,
          21310.9,
          21145.03,
          21090.22,
          20919.36,
          21254.67,
          21247.25,
          21200.23,
          21620.55,
          22952.45,
          23242.79,
          23114.52,
          23999.83,
          23842.93,
          23987.26,
          23720.56,
          23777.89,
          23773.75,
          23793.25,
          23956.38,
          24492.24,
          23643.51,
          23710.66,
          23801.07,
          23736.21,
          23293.32,
          23327.47,
          23227.79,
          22963.69,
          23268.01,
          22852.71,
          22882.61,
          23186.84,
          22987.79,
          22916.75,
          23402.83,
          23448.59,
          22818.37,
          23123.82,
          22885.01,
          22633.95,
          22622.98,
          23189.78,
          23405.13,
          22828.26,
          23312.42,
          23195.99,
          23157.42,
          23128.83,
          22954.21,
          22969.39,
          23038.48,
          23240.4,
          23174.39,
          23430.31,
          24166.12,
          23964.99,
          23810,
          23873.74,
          23263.92,
          23053.98,
          23149.95,
          22900.86,
          23123.95,
          23915.64,
          23954.05,
          24559.66,
          24559.37,
          24342.78,
          23934.39,
          23949.96,
          23672.99,
          24009.06,
          24403.68,
          24710.86,
          24435.91,
          24572.21,
          24441.38,
          24588.64,
          24564.49,
          24226.46,
          24305.24,
          24817.62,
          24049.48,
          24116.79,
          24094.82,
          23948.01,
          24038.03,
          23867.04,
          23854.74,
          24165.26,
          23746.65,
          23472.13,
          23342.66,
          23391.82,
          23534.43,
          23272.8,
          23191.2,
          22808.73,
          21467.91,
          21463.41,
          20834.39,
          21128.68,
          21233.66,
          21257.33,
          21140.07,
          21229.52,
          21524.39,
          21459.14,
          21515.61,
          21428.66,
          21248.71,
          21233.01,
          21399.83,
          20965.89,
          21456.34,
          21414.72,
          21529.12,
          21421.18,
          21438.92,
          21633.24,
          21368.08,
          21559.17,
          21720.31,
          21571.16,
          21559.04,
          21404.25,
          21189.77,
          20651.75,
          20241.05,
          20128.38,
          20211.21,
          19985.67,
          20037.6,
          20054.75,
          20034.97,
          19982.09,
          19555.61,
          19753.84,
          19825.09,
          20276.3,
          20285.73,
          20417.59,
          20403.8,
          19685.99,
          19811.66,
          20353.21,
          20314.78,
          19982.31,
          20050.02,
          20038.97,
          20074.01,
          19724.43,
          20131.46,
          20125.29,
          20090.81,
          19802.27,
          19951.86,
          19944.32,
          19798.76,
          19816,
          19831.9,
          19768.97,
          19850.79,
          19838.47,
          20000.3,
          19726.04,
          19701.95,
          19826.49,
          19796.84,
          19780.9,
          19918.33,
          19102.32,
          18790.61,
          18759.07,
          18739.59,
          18998.95,
          19292.84,
          19302.79,
          19311.15,
          19199.28,
          19319.77,
          20534,
          20937.72,
          21246.72,
          21360.11,
          21543.98,
          21285.11,
          21287.12,
          21648.34,
          21590.3,
          21613.03,
          21628.35,
          21826.87,
          21785.59,
          22312.75,
          22355.8,
          22395.74,
          22385.33,
          22522.74,
          20764.12,
          20173.57,
          20315.56,
          20225.35,
          20105.17,
          20226.71,
          20145.89,
          20148.35,
          19829.86,
          19701.88,
          19752.75,
          19867.82,
          19441.99,
          19803.3,
          19860.26,
          19810.22,
          20079.74,
          20113.62,
          20071.8,
          19922.92,
          19632.42,
          19416.18,
          18459.71,
          18684.87,
          18964.59,
          19537.02,
          19372.87,
          19219.49,
          18766.83,
          18875,
          18923.1,
          19165.93,
          19867.93,
          18461.36,
          18669.21,
          19229.81,
          19068.84,
          19401.63,
          19357.39,
          18862.72,
          18770,
          19289.91,
          19136.04,
          19051.63,
          19085.65,
          18920.5,
          18992.75,
          19117.94,
          19004.01,
          18807.38,
          18769.81,
          18876.62,
          19115.53,
          19227.82,
          20210.99,
          20229.26,
          18957.2,
          19079.13,
          18824.26,
          18955.43,
          19345.55,
          19412.82,
          19453.94,
          19463.04,
          19261.58,
          19591.51,
          19446.01,
          19436.29,
          19679.33,
          19422.61,
          19317.92,
          19312.04,
          19277.7,
          19310.95,
          19330.58,
          19192.43,
          19196.21,
          19056.8,
          19244.02,
          19245.41,
          19547,
          19629.08,
          19611.12,
          19939,
          20025.79,
          20337.82,
          20198.72,
          20027.43,
          20164.57,
          20158.26,
          20301.01,
          20245.22,
          20112.9,
          19960.67,
          19968.38,
          19998.9,
          19418.05,
          19530.09,
          19509.48,
          19534.21,
          19499.84,
          19417.96,
          19409.07,
          19468.35,
          19485.68,
          19439.02,
          19411.46,
          19331.62,
          19321.78,
          19131.87,
          19031.94,
          19153.68,
          19130.08,
          19060,
          19114.43,
          19114.62,
          19091.68,
          19155.53,
          19090.96,
          18753.2,
          19157.9,
          19375.13,
          19804.01,
          19596.25,
          19362.83,
          19176.93,
          19175.92,
          19167.33,
          19108.47,
          19069.39,
          19150.56,
          19144.69,
          19132.13,
          19262.98,
          19272.2,
          19457.58,
          19521.21,
          19549.86,
          19553.5,
          19563.59,
          19406.73,
          19327.44,
          19255.11,
          19200.84,
          19183.19,
          19123.97,
          19141.23,
          19208.09,
          19099.11,
          19041.92,
          19043.53,
          18945.65,
          19150.98,
          19164.37,
          19141.13,
          19178.66,
          19152.02,
          19204.35,
          19178.98,
          19151.78,
          19476.02,
          19570.4,
          19336.43,
          19423.63,
          19285.52,
          19329.72,
          19336.61,
          19302.13,
          20118.55,
          20080.07,
          20187.92,
          20607.81,
          20823.72,
          20771.59,
          20804,
          20622.84,
          20583.69,
          20295.11,
          20287.01,
          20173.74,
          20629.63,
          20591.84,
          20655.56,
          20698.89,
          20808.78,
          20809.67,
          20805.06,
          20769.84,
          20657.96,
          20627.48,
          20543.51,
          20730.54,
          20373.64,
          20490.74,
          20530.41,
          20522.79,
          20439.83,
          20483.62,
          20487.39,
          20431.33,
          20436.67,
          20151.84,
          20377.49,
          20130.64,
          20226.18,
          20207.82,
          20444,
          20558.46,
          20774.22,
          21148.52,
          21389.9,
          21404.63,
          21319.29,
          21299.37,
          21155.41
         ],
         "high": [
          20792.06,
          20446.52,
          19291.99,
          19493.23,
          19198,
          20150,
          19945.88,
          20815.95,
          20687.99,
          21022,
          21090,
          20784.77,
          21029.93,
          21500.01,
          21723,
          21306.51,
          20736.68,
          20676.7,
          20900,
          20378.47,
          20612.22,
          20812.12,
          20829.21,
          21233,
          21369.85,
          21326.52,
          21457,
          21558.41,
          21379.65,
          21614.5,
          21372.89,
          21588.43,
          21544.49,
          21777,
          21888,
          21425,
          21318.66,
          21539.85,
          21343.83,
          20966.73,
          20873.82,
          21212.1,
          21129.19,
          20638.7,
          20398,
          20233.98,
          20254.2,
          20432.31,
          20179.08,
          20028.47,
          19341.26,
          19980,
          20918.35,
          19821.28,
          19669.22,
          19686.71,
          19387.44,
          19285.01,
          19467.39,
          19408.01,
          19400,
          19245.58,
          19247.38,
          19647.63,
          19343.43,
          19855.7,
          20143.02,
          20354.01,
          20478.4,
          20437.86,
          19788,
          20750,
          20414.01,
          20303.65,
          20396.72,
          20675.22,
          20594.77,
          20619.5,
          21200,
          21838.1,
          22527.37,
          21873.63,
          22130,
          22045.91,
          21696.39,
          21778.73,
          21980,
          21916.61,
          21607.65,
          21424.67,
          21345.14,
          21180.92,
          20868.48,
          20632.59,
          20762.02,
          20716.29,
          20059.42,
          19956.82,
          20010,
          19890.65,
          19582.51,
          19930,
          20128.39,
          20366.61,
          20435.72,
          20149.83,
          20786.12,
          20900,
          20833,
          21059.32,
          21090,
          21200,
          20865.38,
          20685.9,
          21588.94,
          21394.04,
          21475.64,
          21684.54,
          21500,
          21082.11,
          21880.04,
          22515,
          22777.63,
          22650,
          22961.72,
          22230,
          23529,
          23800,
          23562,
          23888.04,
          24276.74,
          23950,
          23442.77,
          23099.51,
          23207.94,
          23308.8,
          23352.53,
          23634.4,
          23756.49,
          23138.45,
          23000.77,
          22935.97,
          22389.53,
          22559,
          22787.21,
          22839.99,
          22911.31,
          23014.64,
          22666,
          22110.98,
          22021.47,
          22259.98,
          21347.82,
          21167.05,
          21196.58,
          21300,
          21284,
          21451.33,
          21740,
          23112.63,
          23460.58,
          23273.81,
          24106.96,
          24199.72,
          24112,
          24442.66,
          24222,
          24138.69,
          23968.9,
          24073.05,
          24668,
          24567.89,
          23886.92,
          23860,
          23861.83,
          24194.82,
          23466.55,
          23379,
          23509.68,
          23417.11,
          23447.62,
          22973.08,
          23459.89,
          23282.33,
          23079.39,
          23471.5,
          23647.68,
          23541.85,
          23223.32,
          23185.35,
          23148.99,
          22719.99,
          23247.84,
          23441.1,
          23472.86,
          23329,
          23354.36,
          23258.61,
          23256.37,
          23220,
          23051.92,
          23055,
          23300,
          23402,
          23467,
          24189.43,
          24245,
          24104.55,
          23933.25,
          23906.78,
          23327.07,
          23265,
          23151.32,
          23204,
          24178,
          24226,
          24660,
          24745,
          24918.54,
          24344.57,
          24097.97,
          24143,
          24085.17,
          24456.5,
          24839.95,
          24888,
          24600.88,
          24593.37,
          24641.97,
          25047.56,
          24593.43,
          24435,
          25211.32,
          24826,
          24281.1,
          24192.83,
          24247.49,
          24150,
          24094.13,
          24058,
          24171.48,
          24446.71,
          23760.68,
          23638.84,
          23516.44,
          23582.35,
          23600,
          23448,
          23208.67,
          22819.27,
          21660.73,
          21466.1,
          21284.71,
          21370,
          21382.85,
          21325,
          21330.55,
          21570,
          21587.74,
          21800,
          21530.03,
          21445.98,
          21548.71,
          21423.74,
          21468.51,
          21550,
          21684.87,
          21654.91,
          21555.84,
          21476.23,
          21900,
          21809,
          21637.89,
          21819.88,
          21779,
          21685,
          21614.89,
          21468.76,
          21886.77,
          20749.98,
          20402.93,
          20279.61,
          20242.02,
          20103.57,
          20171.18,
          20107.52,
          20155.62,
          20065.99,
          19966.56,
          19923.63,
          20433.62,
          20351.53,
          20548,
          20576.25,
          20450,
          20099.81,
          20459.32,
          20490,
          20423.38,
          20328.46,
          20208.37,
          20126.23,
          20096.39,
          20180,
          20298,
          20179.19,
          20441.26,
          20078.9,
          20055.93,
          19949.99,
          19904.68,
          19850,
          19861.94,
          19852.92,
          19956.54,
          20029.23,
          20057.27,
          19805.47,
          19950.7,
          19870.8,
          20180,
          20030.82,
          19993.67,
          19135.48,
          18873.17,
          18859.98,
          19031.88,
          19464.06,
          19391.22,
          19397.71,
          19378.19,
          19458.25,
          20688,
          21200,
          21437.9,
          21597.22,
          21672.24,
          21585,
          21446.97,
          21810.8,
          21682.6,
          21726.6,
          21860,
          21850,
          22374,
          22472.68,
          22488,
          22480.71,
          22445.86,
          22713.92,
          22799,
          20790.41,
          20541.48,
          20419.83,
          20389.99,
          20393.37,
          20270.61,
          20330.24,
          20194.12,
          19894.99,
          19859.99,
          19890,
          19875.61,
          19819.22,
          20071.09,
          19916.61,
          20189,
          20145.76,
          20117.26,
          20102.16,
          20029.81,
          19753.95,
          19518.17,
          18800,
          19433.48,
          19686.2,
          19634.62,
          19589,
          19319.28,
          19103,
          19135.57,
          19205.93,
          19897,
          19956,
          18808.34,
          19285.12,
          19317.66,
          19550.17,
          19500,
          19417.99,
          19077.02,
          19406.73,
          19316.14,
          19164.25,
          19225.92,
          19150.81,
          19070.1,
          19180.21,
          19144.23,
          19013.34,
          18948.11,
          19318.96,
          19280,
          19269.69,
          20300,
          20350,
          20385.86,
          19180,
          19238.28,
          19155.08,
          19666.66,
          19790,
          19629,
          19550,
          19645.52,
          19620,
          19700,
          19640,
          20185,
          19838.36,
          19484,
          19367.98,
          19400.02,
          19342.63,
          19395.91,
          19383.61,
          19247,
          19341.58,
          19291.69,
          19315,
          19598,
          19719.1,
          19722.6,
          20152,
          20270,
          20475,
          20365.6,
          20299.99,
          20323.24,
          20350,
          20456.6,
          20304.9,
          20324.94,
          20118.38,
          20054.41,
          20024.7,
          20068.82,
          19645,
          19627.38,
          19548,
          19543.23,
          19513.3,
          19455,
          19558,
          19555.89,
          19538.23,
          19525,
          19441.39,
          19441.99,
          19332.73,
          19133.52,
          19158.93,
          19268.09,
          19136.58,
          19149.6,
          19203.14,
          19182.18,
          19238.31,
          19175.13,
          19100.48,
          19228,
          19513.79,
          19951.87,
          19830,
          19854.48,
          19363.27,
          19227.68,
          19187.2,
          19199,
          19139.22,
          19170.82,
          19195,
          19172.55,
          19425.84,
          19309.06,
          19545.22,
          19676.96,
          19626.91,
          19624.03,
          19706.66,
          19680.49,
          19433.43,
          19360.16,
          19281.81,
          19301.69,
          19249.51,
          19210,
          19253.33,
          19347.82,
          19117.87,
          19131.39,
          19084.17,
          19229,
          19250,
          19183.39,
          19188,
          19257,
          19224.99,
          19221.71,
          19188.7,
          19500,
          19695,
          19601.15,
          19444.44,
          19450.9,
          19425.05,
          19377.1,
          19366.31,
          20192.97,
          20415.87,
          20308,
          20783.27,
          21020,
          20907,
          20872.21,
          20836,
          20780,
          20679.51,
          20337.8,
          20312.32,
          20750,
          20735.86,
          20823.81,
          21085,
          20982.86,
          20899.99,
          20841.11,
          20931.21,
          20781.5,
          20739,
          20675,
          20845.92,
          20755.73,
          20524.76,
          20589.67,
          20700,
          20570.07,
          20503.51,
          20563.36,
          20539.9,
          20548.31,
          20800,
          20393.32,
          20386.37,
          20339.86,
          20279,
          20490.1,
          20688,
          21302.05,
          21209.16,
          21480.65,
          21443.8,
          21420.84,
          21380,
          21365.27
         ],
         "low": [
          20322.08,
          18742.5,
          18511,
          17622,
          17960.41,
          18053.13,
          19130.84,
          19413.44,
          19637.03,
          19876.01,
          19967.01,
          19832.95,
          20348.4,
          20890.77,
          20853.36,
          20551,
          20253.96,
          19950.34,
          19840.86,
          19770.51,
          19890.07,
          20303.76,
          20170,
          20288.91,
          20864.84,
          20736.72,
          20784.76,
          20904.02,
          21121.72,
          21180.4,
          20906.62,
          21043.75,
          21282.13,
          21336.96,
          21128.41,
          20964.73,
          20926.01,
          21166.42,
          20590,
          20510,
          20510,
          20741.29,
          20552,
          20202.01,
          20071.64,
          19854.92,
          19892.97,
          20036.3,
          19951.08,
          18921.59,
          18756.71,
          18626,
          19315.91,
          18975,
          19130.21,
          19221.03,
          19063.52,
          18977.01,
          19152.13,
          19196,
          18781,
          18930.19,
          18964,
          19182.64,
          19055.31,
          19084.19,
          19496.84,
          19733.95,
          20159.59,
          19478,
          19304.4,
          19673.12,
          19761.25,
          19864.45,
          19961.02,
          20185.85,
          20251.68,
          20280.4,
          20378.16,
          20880.58,
          21578.14,
          21317,
          21189.26,
          21580.71,
          21403.24,
          21322.12,
          21379.64,
          21517.87,
          21091.81,
          21161.67,
          20655,
          20698.9,
          20425,
          20353.72,
          20271.1,
          19875.23,
          19786.46,
          19558.12,
          19695.3,
          19240,
          19265.4,
          19469.84,
          18910.94,
          19584.37,
          20048.99,
          19635.22,
          19616.07,
          20438.12,
          20382.29,
          20562.53,
          20636.7,
          20760,
          20557.77,
          20478.61,
          20588.72,
          20911.64,
          21082.8,
          21209.71,
          20824,
          20750.01,
          20762.45,
          21771.53,
          21821.05,
          21388,
          21701.32,
          21579.54,
          21971.84,
          23147.14,
          22922,
          23313.9,
          23400,
          22906.19,
          22638.53,
          22466.34,
          22341.46,
          22818.01,
          22805.89,
          23015,
          22887,
          22500,
          22550.14,
          22210.67,
          21947.22,
          21934.57,
          22257.15,
          22480,
          22444,
          22513.7,
          21737.82,
          21820.15,
          21683.4,
          21250,
          20856.48,
          20932.7,
          20706.5,
          20805,
          21042.53,
          21129.65,
          21157.07,
          21617.24,
          22701.44,
          22816.26,
          22582.13,
          23675.34,
          23701,
          23530.96,
          23414.03,
          23700,
          23650,
          23732.56,
          23916.97,
          23502.25,
          23520,
          23558.21,
          23605.21,
          23227.31,
          23257.37,
          22939.57,
          22876.74,
          22850,
          22750,
          22654.37,
          22666.05,
          22870.1,
          22681.22,
          22913.66,
          23207.29,
          22720,
          22791.46,
          22767.86,
          22527,
          22400,
          22586.95,
          23095.17,
          22800,
          22754.13,
          23141.22,
          23100,
          22982.49,
          22909.52,
          22844.62,
          22890.52,
          22994,
          23051.71,
          23154.25,
          23430.31,
          23841.6,
          23670.88,
          23626.87,
          23182.55,
          22865,
          22986,
          22664.69,
          22829.17,
          23004.58,
          23475.4,
          23912.39,
          24345.08,
          24245,
          23852.13,
          23761.84,
          23583,
          23653.66,
          23980.3,
          24334.37,
          24291.22,
          24300,
          24319.09,
          24343.3,
          24524.32,
          24174.03,
          24144,
          24164.1,
          23869.46,
          23900,
          23773.22,
          23795.67,
          23911.53,
          23671.22,
          23710.19,
          23824.99,
          23690.79,
          23321.6,
          23180.4,
          23285.23,
          23325.01,
          23249.66,
          23111.04,
          22711.11,
          21261.96,
          21265.77,
          20783.57,
          20792.92,
          21118.5,
          21164.18,
          20761.9,
          21118.71,
          21069.11,
          21314.88,
          21277.73,
          21341.91,
          20890.18,
          21086.54,
          20963,
          20932.37,
          20890.14,
          21327.95,
          21394.19,
          21145,
          21243.29,
          21373.43,
          21361.6,
          21310.15,
          21550,
          21422.43,
          21496.67,
          21343.01,
          21106.31,
          20529.74,
          20107.9,
          19920,
          20092.22,
          19800,
          19858.43,
          19926.78,
          19943,
          19811,
          19520,
          19550.79,
          19752.66,
          19805,
          20075,
          20110,
          20331.99,
          19540,
          19673.41,
          19797.94,
          20123.09,
          19870,
          19939.53,
          19917.01,
          19801.38,
          19565.66,
          19703.7,
          19957.78,
          19991,
          19761.03,
          19755.29,
          19866.77,
          19726.1,
          19748.88,
          19652.72,
          19740.07,
          19583.1,
          19650,
          19800,
          19681.22,
          19633.83,
          19667.02,
          19670.14,
          19673.44,
          19763.54,
          18900,
          18649.51,
          18510.77,
          18691.22,
          18674.33,
          18960,
          19151.48,
          19056,
          19012,
          19168,
          19291.75,
          20470.78,
          20912.37,
          21129,
          21163.25,
          21251.59,
          21111.13,
          21281.1,
          21450.01,
          21350,
          21455,
          21456.67,
          21538.51,
          21699.2,
          22000,
          22252.37,
          22054.07,
          22182.09,
          20678.07,
          19860,
          20042.15,
          20091.19,
          20070,
          19617.62,
          19920,
          19980,
          19497,
          19578,
          19582.05,
          19610.13,
          19320.01,
          19378.68,
          19770,
          19785.49,
          19748.08,
          19940,
          19949.95,
          19765.01,
          19607.26,
          19335.62,
          18386,
          18232.56,
          18676.47,
          18877,
          19174.74,
          19150,
          18711.87,
          18753.17,
          18829.3,
          18791.2,
          19084.17,
          18125.98,
          18356.39,
          18661.07,
          18780.01,
          18969.17,
          19225.73,
          18835,
          18531.42,
          18620.28,
          19029.8,
          18925.94,
          19012.49,
          18805.34,
          18913.43,
          18982,
          18841.91,
          18629.2,
          18721.02,
          18680.72,
          18817.62,
          19067.53,
          19187.63,
          20091.3,
          18863.01,
          18816.32,
          18471.28,
          18565,
          18940.02,
          19281,
          19277.01,
          19267,
          18843.01,
          19117.5,
          19311.99,
          19393.55,
          19155.36,
          19240.44,
          19270.59,
          19159.42,
          19240.08,
          19200,
          19236,
          19036,
          19070,
          18920.35,
          18959.68,
          19122.67,
          19134.23,
          19431.06,
          19490.6,
          19598.23,
          19872.02,
          20018,
          20074.91,
          19952.12,
          19730,
          19975.42,
          20140.38,
          20080.01,
          19874.81,
          19853,
          19905.87,
          19810,
          19320,
          19375.16,
          19415.6,
          19450,
          19415,
          19237.14,
          19316.04,
          19373.49,
          19460.8,
          19353,
          19384.31,
          19107,
          19098.21,
          19020.25,
          18950.01,
          19010,
          18860,
          18918.01,
          19024.65,
          19080.01,
          18965.88,
          19041.74,
          19017.8,
          18566.66,
          18190,
          19142.07,
          19338.07,
          19530,
          19220.73,
          19070.37,
          19133.24,
          19037.39,
          19094.01,
          18975.18,
          19063.74,
          19087.37,
          19104.16,
          19101,
          19152.03,
          19223.65,
          19419.6,
          19441.87,
          19480,
          19470,
          19280.11,
          19091,
          19213.99,
          19140.01,
          19065.97,
          19084.23,
          18900,
          19092.95,
          19063.89,
          18929.38,
          18999,
          18900,
          18650,
          19120.35,
          19112.72,
          19132.71,
          19140.3,
          19134,
          19163.32,
          19125.63,
          19070.11,
          19399.65,
          19260,
          19250.59,
          19157,
          19281.85,
          19250,
          19237,
          19260.82,
          19981.12,
          20050.41,
          20168.57,
          20338.75,
          20639.98,
          20581.49,
          20451.71,
          20430,
          20200,
          20160,
          20026,
          20000.09,
          20542,
          20554.01,
          20647.89,
          20676.54,
          20704.12,
          20701.15,
          20632.73,
          20550,
          20515,
          20427.23,
          20449.86,
          20237.95,
          20353.77,
          20440.64,
          20489.92,
          20330.74,
          20407.7,
          20407.66,
          20339.99,
          20355.37,
          20048.04,
          20120,
          20052,
          20031.24,
          20157.86,
          20180.96,
          20443.75,
          20350,
          20715.64,
          21080.65,
          21234.9,
          21210.98,
          21233.33,
          21143.27
         ],
         "open": [
          20468.81,
          20424.04,
          19243.99,
          18621.12,
          18970.79,
          18126.08,
          19692.49,
          19445.6,
          20574,
          20107.81,
          20801.79,
          19977.59,
          20573.9,
          20890.77,
          20962.42,
          21242.93,
          20723.51,
          20368.77,
          20506.3,
          20267.43,
          19988,
          20349.16,
          20638.89,
          20319.32,
          21110.12,
          20910.89,
          21169.53,
          20972.41,
          21237.68,
          21216.87,
          21340.22,
          21096.76,
          21491.18,
          21442.01,
          21708.6,
          21260.66,
          21038.08,
          21182.6,
          21304.56,
          20726.77,
          20742.57,
          20741.29,
          20998.14,
          20630.02,
          20281.28,
          20182.81,
          20104.81,
          20081.38,
          20123,
          20001.75,
          19101.35,
          19105.67,
          19942.21,
          19465.37,
          19191.02,
          19487.93,
          19279.8,
          19238.26,
          19195.21,
          19299.37,
          19252.82,
          19043.59,
          19089.79,
          19221.76,
          19315.83,
          19137.19,
          19806.48,
          19899.41,
          20236.71,
          20296.3,
          19520.4,
          19703.85,
          20175.84,
          20048.08,
          20103.44,
          20266.09,
          20564.51,
          20302.18,
          20507.83,
          20910.65,
          21624.99,
          21843.34,
          21583.99,
          21758.71,
          21594.75,
          21517.13,
          21447.29,
          21880.69,
          21592.15,
          21360.14,
          21301.84,
          20902.05,
          20861.11,
          20504.4,
          20474.55,
          20616.23,
          19963.61,
          19954.48,
          19775.56,
          19879.21,
          19331.28,
          19518.92,
          19845.33,
          19882.94,
          20234.87,
          20116.44,
          19738.13,
          20738.17,
          20588.84,
          20667.43,
          20769.74,
          20786.09,
          20830.04,
          20595.04,
          20616.69,
          21246.65,
          21195.6,
          21356.25,
          21459.35,
          20921.43,
          20799.58,
          21862,
          22132.08,
          21876.3,
          22432.58,
          21997.23,
          21977.19,
          23460.08,
          23398.48,
          23498.44,
          23728.55,
          23515.48,
          23223.3,
          22943.15,
          22607.92,
          22852.28,
          23152.19,
          23148.46,
          23612.15,
          23017.79,
          22684.83,
          22902.46,
          22230.28,
          22031.84,
          22448.58,
          22748.92,
          22657.63,
          22772.14,
          22577.13,
          21915.22,
          21942.18,
          21863.12,
          21310.9,
          21146.64,
          21090.22,
          20919.36,
          21254.67,
          21248.63,
          21200.6,
          21618.72,
          22954.31,
          23242.79,
          23116.19,
          23999.83,
          23845.25,
          23987.47,
          23718.71,
          23775.26,
          23777.28,
          23793.25,
          23956.38,
          24494.36,
          23644.64,
          23710.67,
          23802.56,
          23738,
          23296.36,
          23329.99,
          23227.79,
          22963.75,
          23266.9,
          22852.71,
          22882.61,
          23186.84,
          22985.93,
          22915.59,
          23405.14,
          23448.59,
          22816.91,
          23122.44,
          22885.01,
          22632.97,
          22622.41,
          23189.77,
          23403.67,
          22828.26,
          23313.56,
          23194.7,
          23157.42,
          23130.69,
          22954.21,
          22969.39,
          23038.48,
          23238.33,
          23174.39,
          23430.31,
          24166.12,
          23963.73,
          23810.98,
          23873.74,
          23263.34,
          23053.98,
          23151.32,
          22899.26,
          23122.36,
          23915.5,
          23954.05,
          24558.36,
          24559.37,
          24342.78,
          23933.09,
          23949.96,
          23672.98,
          24009.06,
          24401.7,
          24711.58,
          24435.91,
          24570.63,
          24443.06,
          24588.64,
          24564.5,
          24229.1,
          24305.25,
          24817.62,
          24048.91,
          24116.79,
          24093.04,
          23948.01,
          24036.86,
          23867.04,
          23856.15,
          24165.26,
          23746.65,
          23472.13,
          23342.66,
          23392.72,
          23534.43,
          23271.57,
          23191.45,
          22808.73,
          21467.91,
          21463.41,
          20834.39,
          21127.77,
          21233.66,
          21255.86,
          21140.07,
          21229.52,
          21525.57,
          21460.34,
          21516.7,
          21428.66,
          21249.78,
          21233.01,
          21400.75,
          20964.1,
          21455.97,
          21414.72,
          21529.11,
          21421.18,
          21439.84,
          21633.24,
          21368.05,
          21559.17,
          21720.31,
          21572.44,
          21559.04,
          21403.11,
          21191.27,
          20651.75,
          20239.14,
          20128.38,
          20211.21,
          19985.67,
          20037.6,
          20054.75,
          20033.87,
          19983.19,
          19555.61,
          19753.84,
          19824.2,
          20276.3,
          20287.2,
          20416.36,
          20403.8,
          19684.69,
          19813.03,
          20353.66,
          20314.78,
          19982.31,
          20048.44,
          20038.97,
          20074.91,
          19724.43,
          20132.64,
          20125.29,
          20090.81,
          19802.19,
          19950.98,
          19943.93,
          19798.73,
          19816,
          19832.45,
          19768.94,
          19849.89,
          19838.47,
          20000.3,
          19726.04,
          19701.95,
          19826.49,
          19795.34,
          19782.1,
          19918.33,
          19102.3,
          18790.61,
          18759.31,
          18739.78,
          18998.95,
          19292.85,
          19302.6,
          19311.6,
          19198.57,
          19320.54,
          20533.97,
          20937.72,
          21245.55,
          21361.62,
          21544.66,
          21285.11,
          21287.84,
          21647.21,
          21590.3,
          21613.03,
          21628.35,
          21826.87,
          21785.59,
          22313.57,
          22355.8,
          22395.44,
          22384.52,
          22522.74,
          20763.31,
          20173.62,
          20314.81,
          20224.74,
          20104.16,
          20227.17,
          20145.82,
          20149.59,
          19829.86,
          19701.88,
          19752.75,
          19868.75,
          19441,
          19803.3,
          19860.26,
          19810.22,
          20080.78,
          20112.61,
          20071.8,
          19922.29,
          19632.33,
          19417.45,
          18459.1,
          18685.77,
          18963.78,
          19537.02,
          19372.3,
          19219.49,
          18767.91,
          18874.31,
          18923.1,
          19165.18,
          19867.91,
          18461.36,
          18669.13,
          19229.81,
          19069.37,
          19401.63,
          19357.39,
          18862.72,
          18770,
          19288.57,
          19136.9,
          19052.24,
          19085.65,
          18921.99,
          18992.75,
          19117.95,
          19004.01,
          18809.13,
          18769.14,
          18876.62,
          19114.21,
          19226.68,
          20210.06,
          20230.35,
          18957.95,
          19078.1,
          18822.61,
          18954.96,
          19345.55,
          19412.82,
          19454.78,
          19463.04,
          19263.5,
          19590.54,
          19446.01,
          19435.79,
          19679.33,
          19422.61,
          19316.82,
          19312.04,
          19276.83,
          19312.24,
          19330.58,
          19193.05,
          19197.18,
          19057.74,
          19244.02,
          19246.81,
          19547,
          19629.08,
          19610.39,
          19939,
          20025.79,
          20337.82,
          20198.72,
          20028.74,
          20165.62,
          20158.26,
          20301.01,
          20244.46,
          20112.9,
          19960.67,
          19969.31,
          20000.15,
          19418.05,
          19530.09,
          19509.48,
          19534.21,
          19498.57,
          19416.52,
          19409.11,
          19468.35,
          19484.74,
          19439.96,
          19410.38,
          19333.02,
          19321.78,
          19131.87,
          19031.94,
          19153.68,
          19130.08,
          19060,
          19114.03,
          19114.62,
          19091.68,
          19155.1,
          19090.69,
          18754.09,
          19157.9,
          19375.58,
          19804.01,
          19596.25,
          19362.83,
          19176.93,
          19175.92,
          19167.33,
          19108.47,
          19068.4,
          19150.9,
          19144.69,
          19131.6,
          19262.98,
          19272.2,
          19457.58,
          19521.21,
          19548.48,
          19553.5,
          19563.59,
          19407.67,
          19327.44,
          19254.29,
          19201.42,
          19183.19,
          19123.35,
          19140.67,
          19208.09,
          19099.3,
          19041.92,
          19043.53,
          18944.99,
          19150.98,
          19164.37,
          19140.56,
          19178.99,
          19152.05,
          19204.29,
          19178.98,
          19151.24,
          19474.75,
          19570.4,
          19335.76,
          19422.9,
          19284.65,
          19330.6,
          19336.61,
          19301.39,
          20118.55,
          20079.02,
          20187.92,
          20606.86,
          20822.6,
          20771.61,
          20803.58,
          20622.11,
          20583.69,
          20295.11,
          20287.01,
          20174,
          20629.63,
          20591.84,
          20655.56,
          20698.06,
          20809.7,
          20809.68,
          20803.86,
          20770.81,
          20657.96,
          20627.48,
          20542.58,
          20731.53,
          20373.64,
          20490.74,
          20530.41,
          20522.23,
          20439.83,
          20482.81,
          20487.39,
          20432.38,
          20438.28,
          20151.84,
          20377.49,
          20129.8,
          20226.18,
          20207.12,
          20444.79,
          20558.03,
          20773.94,
          21148.52,
          21389.9,
          21404.63,
          21319.29,
          21299.37
         ],
         "type": "candlestick",
         "x": [
          "2022-06-18T00:00:00",
          "2022-06-18T06:00:00",
          "2022-06-18T12:00:00",
          "2022-06-18T18:00:00",
          "2022-06-19T00:00:00",
          "2022-06-19T06:00:00",
          "2022-06-19T12:00:00",
          "2022-06-19T18:00:00",
          "2022-06-20T00:00:00",
          "2022-06-20T06:00:00",
          "2022-06-20T12:00:00",
          "2022-06-20T18:00:00",
          "2022-06-21T00:00:00",
          "2022-06-21T06:00:00",
          "2022-06-21T12:00:00",
          "2022-06-21T18:00:00",
          "2022-06-22T00:00:00",
          "2022-06-22T06:00:00",
          "2022-06-22T12:00:00",
          "2022-06-22T18:00:00",
          "2022-06-23T00:00:00",
          "2022-06-23T06:00:00",
          "2022-06-23T12:00:00",
          "2022-06-23T18:00:00",
          "2022-06-24T00:00:00",
          "2022-06-24T06:00:00",
          "2022-06-24T12:00:00",
          "2022-06-24T18:00:00",
          "2022-06-25T00:00:00",
          "2022-06-25T06:00:00",
          "2022-06-25T12:00:00",
          "2022-06-25T18:00:00",
          "2022-06-26T00:00:00",
          "2022-06-26T06:00:00",
          "2022-06-26T12:00:00",
          "2022-06-26T18:00:00",
          "2022-06-27T00:00:00",
          "2022-06-27T06:00:00",
          "2022-06-27T12:00:00",
          "2022-06-27T18:00:00",
          "2022-06-28T00:00:00",
          "2022-06-28T06:00:00",
          "2022-06-28T12:00:00",
          "2022-06-28T18:00:00",
          "2022-06-29T00:00:00",
          "2022-06-29T06:00:00",
          "2022-06-29T12:00:00",
          "2022-06-29T18:00:00",
          "2022-06-30T00:00:00",
          "2022-06-30T06:00:00",
          "2022-06-30T12:00:00",
          "2022-06-30T18:00:00",
          "2022-07-01T00:00:00",
          "2022-07-01T06:00:00",
          "2022-07-01T12:00:00",
          "2022-07-01T18:00:00",
          "2022-07-02T00:00:00",
          "2022-07-02T06:00:00",
          "2022-07-02T12:00:00",
          "2022-07-02T18:00:00",
          "2022-07-03T00:00:00",
          "2022-07-03T06:00:00",
          "2022-07-03T12:00:00",
          "2022-07-03T18:00:00",
          "2022-07-04T00:00:00",
          "2022-07-04T06:00:00",
          "2022-07-04T12:00:00",
          "2022-07-04T18:00:00",
          "2022-07-05T00:00:00",
          "2022-07-05T06:00:00",
          "2022-07-05T12:00:00",
          "2022-07-05T18:00:00",
          "2022-07-06T00:00:00",
          "2022-07-06T06:00:00",
          "2022-07-06T12:00:00",
          "2022-07-06T18:00:00",
          "2022-07-07T00:00:00",
          "2022-07-07T06:00:00",
          "2022-07-07T12:00:00",
          "2022-07-07T18:00:00",
          "2022-07-08T00:00:00",
          "2022-07-08T06:00:00",
          "2022-07-08T12:00:00",
          "2022-07-08T18:00:00",
          "2022-07-09T00:00:00",
          "2022-07-09T06:00:00",
          "2022-07-09T12:00:00",
          "2022-07-09T18:00:00",
          "2022-07-10T00:00:00",
          "2022-07-10T06:00:00",
          "2022-07-10T12:00:00",
          "2022-07-10T18:00:00",
          "2022-07-11T00:00:00",
          "2022-07-11T06:00:00",
          "2022-07-11T12:00:00",
          "2022-07-11T18:00:00",
          "2022-07-12T00:00:00",
          "2022-07-12T06:00:00",
          "2022-07-12T12:00:00",
          "2022-07-12T18:00:00",
          "2022-07-13T00:00:00",
          "2022-07-13T06:00:00",
          "2022-07-13T12:00:00",
          "2022-07-13T18:00:00",
          "2022-07-14T00:00:00",
          "2022-07-14T06:00:00",
          "2022-07-14T12:00:00",
          "2022-07-14T18:00:00",
          "2022-07-15T00:00:00",
          "2022-07-15T06:00:00",
          "2022-07-15T12:00:00",
          "2022-07-15T18:00:00",
          "2022-07-16T00:00:00",
          "2022-07-16T06:00:00",
          "2022-07-16T12:00:00",
          "2022-07-16T18:00:00",
          "2022-07-17T00:00:00",
          "2022-07-17T06:00:00",
          "2022-07-17T12:00:00",
          "2022-07-17T18:00:00",
          "2022-07-18T00:00:00",
          "2022-07-18T06:00:00",
          "2022-07-18T12:00:00",
          "2022-07-18T18:00:00",
          "2022-07-19T00:00:00",
          "2022-07-19T06:00:00",
          "2022-07-19T12:00:00",
          "2022-07-19T18:00:00",
          "2022-07-20T00:00:00",
          "2022-07-20T06:00:00",
          "2022-07-20T12:00:00",
          "2022-07-20T18:00:00",
          "2022-07-21T00:00:00",
          "2022-07-21T06:00:00",
          "2022-07-21T12:00:00",
          "2022-07-21T18:00:00",
          "2022-07-22T00:00:00",
          "2022-07-22T06:00:00",
          "2022-07-22T12:00:00",
          "2022-07-22T18:00:00",
          "2022-07-23T00:00:00",
          "2022-07-23T06:00:00",
          "2022-07-23T12:00:00",
          "2022-07-23T18:00:00",
          "2022-07-24T00:00:00",
          "2022-07-24T06:00:00",
          "2022-07-24T12:00:00",
          "2022-07-24T18:00:00",
          "2022-07-25T00:00:00",
          "2022-07-25T06:00:00",
          "2022-07-25T12:00:00",
          "2022-07-25T18:00:00",
          "2022-07-26T00:00:00",
          "2022-07-26T06:00:00",
          "2022-07-26T12:00:00",
          "2022-07-26T18:00:00",
          "2022-07-27T00:00:00",
          "2022-07-27T06:00:00",
          "2022-07-27T12:00:00",
          "2022-07-27T18:00:00",
          "2022-07-28T00:00:00",
          "2022-07-28T06:00:00",
          "2022-07-28T12:00:00",
          "2022-07-28T18:00:00",
          "2022-07-29T00:00:00",
          "2022-07-29T06:00:00",
          "2022-07-29T12:00:00",
          "2022-07-29T18:00:00",
          "2022-07-30T00:00:00",
          "2022-07-30T06:00:00",
          "2022-07-30T12:00:00",
          "2022-07-30T18:00:00",
          "2022-07-31T00:00:00",
          "2022-07-31T06:00:00",
          "2022-07-31T12:00:00",
          "2022-07-31T18:00:00",
          "2022-08-01T00:00:00",
          "2022-08-01T06:00:00",
          "2022-08-01T12:00:00",
          "2022-08-01T18:00:00",
          "2022-08-02T00:00:00",
          "2022-08-02T06:00:00",
          "2022-08-02T12:00:00",
          "2022-08-02T18:00:00",
          "2022-08-03T00:00:00",
          "2022-08-03T06:00:00",
          "2022-08-03T12:00:00",
          "2022-08-03T18:00:00",
          "2022-08-04T00:00:00",
          "2022-08-04T06:00:00",
          "2022-08-04T12:00:00",
          "2022-08-04T18:00:00",
          "2022-08-05T00:00:00",
          "2022-08-05T06:00:00",
          "2022-08-05T12:00:00",
          "2022-08-05T18:00:00",
          "2022-08-06T00:00:00",
          "2022-08-06T06:00:00",
          "2022-08-06T12:00:00",
          "2022-08-06T18:00:00",
          "2022-08-07T00:00:00",
          "2022-08-07T06:00:00",
          "2022-08-07T12:00:00",
          "2022-08-07T18:00:00",
          "2022-08-08T00:00:00",
          "2022-08-08T06:00:00",
          "2022-08-08T12:00:00",
          "2022-08-08T18:00:00",
          "2022-08-09T00:00:00",
          "2022-08-09T06:00:00",
          "2022-08-09T12:00:00",
          "2022-08-09T18:00:00",
          "2022-08-10T00:00:00",
          "2022-08-10T06:00:00",
          "2022-08-10T12:00:00",
          "2022-08-10T18:00:00",
          "2022-08-11T00:00:00",
          "2022-08-11T06:00:00",
          "2022-08-11T12:00:00",
          "2022-08-11T18:00:00",
          "2022-08-12T00:00:00",
          "2022-08-12T06:00:00",
          "2022-08-12T12:00:00",
          "2022-08-12T18:00:00",
          "2022-08-13T00:00:00",
          "2022-08-13T06:00:00",
          "2022-08-13T12:00:00",
          "2022-08-13T18:00:00",
          "2022-08-14T00:00:00",
          "2022-08-14T06:00:00",
          "2022-08-14T12:00:00",
          "2022-08-14T18:00:00",
          "2022-08-15T00:00:00",
          "2022-08-15T06:00:00",
          "2022-08-15T12:00:00",
          "2022-08-15T18:00:00",
          "2022-08-16T00:00:00",
          "2022-08-16T06:00:00",
          "2022-08-16T12:00:00",
          "2022-08-16T18:00:00",
          "2022-08-17T00:00:00",
          "2022-08-17T06:00:00",
          "2022-08-17T12:00:00",
          "2022-08-17T18:00:00",
          "2022-08-18T00:00:00",
          "2022-08-18T06:00:00",
          "2022-08-18T12:00:00",
          "2022-08-18T18:00:00",
          "2022-08-19T00:00:00",
          "2022-08-19T06:00:00",
          "2022-08-19T12:00:00",
          "2022-08-19T18:00:00",
          "2022-08-20T00:00:00",
          "2022-08-20T06:00:00",
          "2022-08-20T12:00:00",
          "2022-08-20T18:00:00",
          "2022-08-21T00:00:00",
          "2022-08-21T06:00:00",
          "2022-08-21T12:00:00",
          "2022-08-21T18:00:00",
          "2022-08-22T00:00:00",
          "2022-08-22T06:00:00",
          "2022-08-22T12:00:00",
          "2022-08-22T18:00:00",
          "2022-08-23T00:00:00",
          "2022-08-23T06:00:00",
          "2022-08-23T12:00:00",
          "2022-08-23T18:00:00",
          "2022-08-24T00:00:00",
          "2022-08-24T06:00:00",
          "2022-08-24T12:00:00",
          "2022-08-24T18:00:00",
          "2022-08-25T00:00:00",
          "2022-08-25T06:00:00",
          "2022-08-25T12:00:00",
          "2022-08-25T18:00:00",
          "2022-08-26T00:00:00",
          "2022-08-26T06:00:00",
          "2022-08-26T12:00:00",
          "2022-08-26T18:00:00",
          "2022-08-27T00:00:00",
          "2022-08-27T06:00:00",
          "2022-08-27T12:00:00",
          "2022-08-27T18:00:00",
          "2022-08-28T00:00:00",
          "2022-08-28T06:00:00",
          "2022-08-28T12:00:00",
          "2022-08-28T18:00:00",
          "2022-08-29T00:00:00",
          "2022-08-29T06:00:00",
          "2022-08-29T12:00:00",
          "2022-08-29T18:00:00",
          "2022-08-30T00:00:00",
          "2022-08-30T06:00:00",
          "2022-08-30T12:00:00",
          "2022-08-30T18:00:00",
          "2022-08-31T00:00:00",
          "2022-08-31T06:00:00",
          "2022-08-31T12:00:00",
          "2022-08-31T18:00:00",
          "2022-09-01T00:00:00",
          "2022-09-01T06:00:00",
          "2022-09-01T12:00:00",
          "2022-09-01T18:00:00",
          "2022-09-02T00:00:00",
          "2022-09-02T06:00:00",
          "2022-09-02T12:00:00",
          "2022-09-02T18:00:00",
          "2022-09-03T00:00:00",
          "2022-09-03T06:00:00",
          "2022-09-03T12:00:00",
          "2022-09-03T18:00:00",
          "2022-09-04T00:00:00",
          "2022-09-04T06:00:00",
          "2022-09-04T12:00:00",
          "2022-09-04T18:00:00",
          "2022-09-05T00:00:00",
          "2022-09-05T06:00:00",
          "2022-09-05T12:00:00",
          "2022-09-05T18:00:00",
          "2022-09-06T00:00:00",
          "2022-09-06T06:00:00",
          "2022-09-06T12:00:00",
          "2022-09-06T18:00:00",
          "2022-09-07T00:00:00",
          "2022-09-07T06:00:00",
          "2022-09-07T12:00:00",
          "2022-09-07T18:00:00",
          "2022-09-08T00:00:00",
          "2022-09-08T06:00:00",
          "2022-09-08T12:00:00",
          "2022-09-08T18:00:00",
          "2022-09-09T00:00:00",
          "2022-09-09T06:00:00",
          "2022-09-09T12:00:00",
          "2022-09-09T18:00:00",
          "2022-09-10T00:00:00",
          "2022-09-10T06:00:00",
          "2022-09-10T12:00:00",
          "2022-09-10T18:00:00",
          "2022-09-11T00:00:00",
          "2022-09-11T06:00:00",
          "2022-09-11T12:00:00",
          "2022-09-11T18:00:00",
          "2022-09-12T00:00:00",
          "2022-09-12T06:00:00",
          "2022-09-12T12:00:00",
          "2022-09-12T18:00:00",
          "2022-09-13T00:00:00",
          "2022-09-13T06:00:00",
          "2022-09-13T12:00:00",
          "2022-09-13T18:00:00",
          "2022-09-14T00:00:00",
          "2022-09-14T06:00:00",
          "2022-09-14T12:00:00",
          "2022-09-14T18:00:00",
          "2022-09-15T00:00:00",
          "2022-09-15T06:00:00",
          "2022-09-15T12:00:00",
          "2022-09-15T18:00:00",
          "2022-09-16T00:00:00",
          "2022-09-16T06:00:00",
          "2022-09-16T12:00:00",
          "2022-09-16T18:00:00",
          "2022-09-17T00:00:00",
          "2022-09-17T06:00:00",
          "2022-09-17T12:00:00",
          "2022-09-17T18:00:00",
          "2022-09-18T00:00:00",
          "2022-09-18T06:00:00",
          "2022-09-18T12:00:00",
          "2022-09-18T18:00:00",
          "2022-09-19T00:00:00",
          "2022-09-19T06:00:00",
          "2022-09-19T12:00:00",
          "2022-09-19T18:00:00",
          "2022-09-20T00:00:00",
          "2022-09-20T06:00:00",
          "2022-09-20T12:00:00",
          "2022-09-20T18:00:00",
          "2022-09-21T00:00:00",
          "2022-09-21T06:00:00",
          "2022-09-21T12:00:00",
          "2022-09-21T18:00:00",
          "2022-09-22T00:00:00",
          "2022-09-22T06:00:00",
          "2022-09-22T12:00:00",
          "2022-09-22T18:00:00",
          "2022-09-23T00:00:00",
          "2022-09-23T06:00:00",
          "2022-09-23T12:00:00",
          "2022-09-23T18:00:00",
          "2022-09-24T00:00:00",
          "2022-09-24T06:00:00",
          "2022-09-24T12:00:00",
          "2022-09-24T18:00:00",
          "2022-09-25T00:00:00",
          "2022-09-25T06:00:00",
          "2022-09-25T12:00:00",
          "2022-09-25T18:00:00",
          "2022-09-26T00:00:00",
          "2022-09-26T06:00:00",
          "2022-09-26T12:00:00",
          "2022-09-26T18:00:00",
          "2022-09-27T00:00:00",
          "2022-09-27T06:00:00",
          "2022-09-27T12:00:00",
          "2022-09-27T18:00:00",
          "2022-09-28T00:00:00",
          "2022-09-28T06:00:00",
          "2022-09-28T12:00:00",
          "2022-09-28T18:00:00",
          "2022-09-29T00:00:00",
          "2022-09-29T06:00:00",
          "2022-09-29T12:00:00",
          "2022-09-29T18:00:00",
          "2022-09-30T00:00:00",
          "2022-09-30T06:00:00",
          "2022-09-30T12:00:00",
          "2022-09-30T18:00:00",
          "2022-10-01T00:00:00",
          "2022-10-01T06:00:00",
          "2022-10-01T12:00:00",
          "2022-10-01T18:00:00",
          "2022-10-02T00:00:00",
          "2022-10-02T06:00:00",
          "2022-10-02T12:00:00",
          "2022-10-02T18:00:00",
          "2022-10-03T00:00:00",
          "2022-10-03T06:00:00",
          "2022-10-03T12:00:00",
          "2022-10-03T18:00:00",
          "2022-10-04T00:00:00",
          "2022-10-04T06:00:00",
          "2022-10-04T12:00:00",
          "2022-10-04T18:00:00",
          "2022-10-05T00:00:00",
          "2022-10-05T06:00:00",
          "2022-10-05T12:00:00",
          "2022-10-05T18:00:00",
          "2022-10-06T00:00:00",
          "2022-10-06T06:00:00",
          "2022-10-06T12:00:00",
          "2022-10-06T18:00:00",
          "2022-10-07T00:00:00",
          "2022-10-07T06:00:00",
          "2022-10-07T12:00:00",
          "2022-10-07T18:00:00",
          "2022-10-08T00:00:00",
          "2022-10-08T06:00:00",
          "2022-10-08T12:00:00",
          "2022-10-08T18:00:00",
          "2022-10-09T00:00:00",
          "2022-10-09T06:00:00",
          "2022-10-09T12:00:00",
          "2022-10-09T18:00:00",
          "2022-10-10T00:00:00",
          "2022-10-10T06:00:00",
          "2022-10-10T12:00:00",
          "2022-10-10T18:00:00",
          "2022-10-11T00:00:00",
          "2022-10-11T06:00:00",
          "2022-10-11T12:00:00",
          "2022-10-11T18:00:00",
          "2022-10-12T00:00:00",
          "2022-10-12T06:00:00",
          "2022-10-12T12:00:00",
          "2022-10-12T18:00:00",
          "2022-10-13T00:00:00",
          "2022-10-13T06:00:00",
          "2022-10-13T12:00:00",
          "2022-10-13T18:00:00",
          "2022-10-14T00:00:00",
          "2022-10-14T06:00:00",
          "2022-10-14T12:00:00",
          "2022-10-14T18:00:00",
          "2022-10-15T00:00:00",
          "2022-10-15T06:00:00",
          "2022-10-15T12:00:00",
          "2022-10-15T18:00:00",
          "2022-10-16T00:00:00",
          "2022-10-16T06:00:00",
          "2022-10-16T12:00:00",
          "2022-10-16T18:00:00",
          "2022-10-17T00:00:00",
          "2022-10-17T06:00:00",
          "2022-10-17T12:00:00",
          "2022-10-17T18:00:00",
          "2022-10-18T00:00:00",
          "2022-10-18T06:00:00",
          "2022-10-18T12:00:00",
          "2022-10-18T18:00:00",
          "2022-10-19T00:00:00",
          "2022-10-19T06:00:00",
          "2022-10-19T12:00:00",
          "2022-10-19T18:00:00",
          "2022-10-20T00:00:00",
          "2022-10-20T06:00:00",
          "2022-10-20T12:00:00",
          "2022-10-20T18:00:00",
          "2022-10-21T00:00:00",
          "2022-10-21T06:00:00",
          "2022-10-21T12:00:00",
          "2022-10-21T18:00:00",
          "2022-10-22T00:00:00",
          "2022-10-22T06:00:00",
          "2022-10-22T12:00:00",
          "2022-10-22T18:00:00",
          "2022-10-23T00:00:00",
          "2022-10-23T06:00:00",
          "2022-10-23T12:00:00",
          "2022-10-23T18:00:00",
          "2022-10-24T00:00:00",
          "2022-10-24T06:00:00",
          "2022-10-24T12:00:00",
          "2022-10-24T18:00:00",
          "2022-10-25T00:00:00",
          "2022-10-25T06:00:00",
          "2022-10-25T12:00:00",
          "2022-10-25T18:00:00",
          "2022-10-26T00:00:00",
          "2022-10-26T06:00:00",
          "2022-10-26T12:00:00",
          "2022-10-26T18:00:00",
          "2022-10-27T00:00:00",
          "2022-10-27T06:00:00",
          "2022-10-27T12:00:00",
          "2022-10-27T18:00:00",
          "2022-10-28T00:00:00",
          "2022-10-28T06:00:00",
          "2022-10-28T12:00:00",
          "2022-10-28T18:00:00",
          "2022-10-29T00:00:00",
          "2022-10-29T06:00:00",
          "2022-10-29T12:00:00",
          "2022-10-29T18:00:00",
          "2022-10-30T00:00:00",
          "2022-10-30T06:00:00",
          "2022-10-30T12:00:00",
          "2022-10-30T18:00:00",
          "2022-10-31T00:00:00",
          "2022-10-31T06:00:00",
          "2022-10-31T12:00:00",
          "2022-10-31T18:00:00",
          "2022-11-01T00:00:00",
          "2022-11-01T06:00:00",
          "2022-11-01T12:00:00",
          "2022-11-01T18:00:00",
          "2022-11-02T00:00:00",
          "2022-11-02T06:00:00",
          "2022-11-02T12:00:00",
          "2022-11-02T18:00:00",
          "2022-11-03T00:00:00",
          "2022-11-03T06:00:00",
          "2022-11-03T12:00:00",
          "2022-11-03T18:00:00",
          "2022-11-04T00:00:00",
          "2022-11-04T06:00:00",
          "2022-11-04T12:00:00",
          "2022-11-04T18:00:00",
          "2022-11-05T00:00:00",
          "2022-11-05T06:00:00",
          "2022-11-05T12:00:00",
          "2022-11-05T18:00:00",
          "2022-11-06T00:00:00"
         ]
        }
       ],
       "layout": {
        "shapes": [
         {
          "line": {
           "color": "red"
          },
          "type": "line",
          "x0": "2022-11-05T18:00:00",
          "x1": "2022-11-05T18:00:00",
          "xref": "x",
          "y0": 0,
          "y1": 1,
          "yref": "y domain"
         }
        ],
        "showlegend": false,
        "template": {
         "data": {
          "bar": [
           {
            "error_x": {
             "color": "#2a3f5f"
            },
            "error_y": {
             "color": "#2a3f5f"
            },
            "marker": {
             "line": {
              "color": "#E5ECF6",
              "width": 0.5
             },
             "pattern": {
              "fillmode": "overlay",
              "size": 10,
              "solidity": 0.2
             }
            },
            "type": "bar"
           }
          ],
          "barpolar": [
           {
            "marker": {
             "line": {
              "color": "#E5ECF6",
              "width": 0.5
             },
             "pattern": {
              "fillmode": "overlay",
              "size": 10,
              "solidity": 0.2
             }
            },
            "type": "barpolar"
           }
          ],
          "carpet": [
           {
            "aaxis": {
             "endlinecolor": "#2a3f5f",
             "gridcolor": "white",
             "linecolor": "white",
             "minorgridcolor": "white",
             "startlinecolor": "#2a3f5f"
            },
            "baxis": {
             "endlinecolor": "#2a3f5f",
             "gridcolor": "white",
             "linecolor": "white",
             "minorgridcolor": "white",
             "startlinecolor": "#2a3f5f"
            },
            "type": "carpet"
           }
          ],
          "choropleth": [
           {
            "colorbar": {
             "outlinewidth": 0,
             "ticks": ""
            },
            "type": "choropleth"
           }
          ],
          "contour": [
           {
            "colorbar": {
             "outlinewidth": 0,
             "ticks": ""
            },
            "colorscale": [
             [
              0,
              "#0d0887"
             ],
             [
              0.1111111111111111,
              "#46039f"
             ],
             [
              0.2222222222222222,
              "#7201a8"
             ],
             [
              0.3333333333333333,
              "#9c179e"
             ],
             [
              0.4444444444444444,
              "#bd3786"
             ],
             [
              0.5555555555555556,
              "#d8576b"
             ],
             [
              0.6666666666666666,
              "#ed7953"
             ],
             [
              0.7777777777777778,
              "#fb9f3a"
             ],
             [
              0.8888888888888888,
              "#fdca26"
             ],
             [
              1,
              "#f0f921"
             ]
            ],
            "type": "contour"
           }
          ],
          "contourcarpet": [
           {
            "colorbar": {
             "outlinewidth": 0,
             "ticks": ""
            },
            "type": "contourcarpet"
           }
          ],
          "heatmap": [
           {
            "colorbar": {
             "outlinewidth": 0,
             "ticks": ""
            },
            "colorscale": [
             [
              0,
              "#0d0887"
             ],
             [
              0.1111111111111111,
              "#46039f"
             ],
             [
              0.2222222222222222,
              "#7201a8"
             ],
             [
              0.3333333333333333,
              "#9c179e"
             ],
             [
              0.4444444444444444,
              "#bd3786"
             ],
             [
              0.5555555555555556,
              "#d8576b"
             ],
             [
              0.6666666666666666,
              "#ed7953"
             ],
             [
              0.7777777777777778,
              "#fb9f3a"
             ],
             [
              0.8888888888888888,
              "#fdca26"
             ],
             [
              1,
              "#f0f921"
             ]
            ],
            "type": "heatmap"
           }
          ],
          "heatmapgl": [
           {
            "colorbar": {
             "outlinewidth": 0,
             "ticks": ""
            },
            "colorscale": [
             [
              0,
              "#0d0887"
             ],
             [
              0.1111111111111111,
              "#46039f"
             ],
             [
              0.2222222222222222,
              "#7201a8"
             ],
             [
              0.3333333333333333,
              "#9c179e"
             ],
             [
              0.4444444444444444,
              "#bd3786"
             ],
             [
              0.5555555555555556,
              "#d8576b"
             ],
             [
              0.6666666666666666,
              "#ed7953"
             ],
             [
              0.7777777777777778,
              "#fb9f3a"
             ],
             [
              0.8888888888888888,
              "#fdca26"
             ],
             [
              1,
              "#f0f921"
             ]
            ],
            "type": "heatmapgl"
           }
          ],
          "histogram": [
           {
            "marker": {
             "pattern": {
              "fillmode": "overlay",
              "size": 10,
              "solidity": 0.2
             }
            },
            "type": "histogram"
           }
          ],
          "histogram2d": [
           {
            "colorbar": {
             "outlinewidth": 0,
             "ticks": ""
            },
            "colorscale": [
             [
              0,
              "#0d0887"
             ],
             [
              0.1111111111111111,
              "#46039f"
             ],
             [
              0.2222222222222222,
              "#7201a8"
             ],
             [
              0.3333333333333333,
              "#9c179e"
             ],
             [
              0.4444444444444444,
              "#bd3786"
             ],
             [
              0.5555555555555556,
              "#d8576b"
             ],
             [
              0.6666666666666666,
              "#ed7953"
             ],
             [
              0.7777777777777778,
              "#fb9f3a"
             ],
             [
              0.8888888888888888,
              "#fdca26"
             ],
             [
              1,
              "#f0f921"
             ]
            ],
            "type": "histogram2d"
           }
          ],
          "histogram2dcontour": [
           {
            "colorbar": {
             "outlinewidth": 0,
             "ticks": ""
            },
            "colorscale": [
             [
              0,
              "#0d0887"
             ],
             [
              0.1111111111111111,
              "#46039f"
             ],
             [
              0.2222222222222222,
              "#7201a8"
             ],
             [
              0.3333333333333333,
              "#9c179e"
             ],
             [
              0.4444444444444444,
              "#bd3786"
             ],
             [
              0.5555555555555556,
              "#d8576b"
             ],
             [
              0.6666666666666666,
              "#ed7953"
             ],
             [
              0.7777777777777778,
              "#fb9f3a"
             ],
             [
              0.8888888888888888,
              "#fdca26"
             ],
             [
              1,
              "#f0f921"
             ]
            ],
            "type": "histogram2dcontour"
           }
          ],
          "mesh3d": [
           {
            "colorbar": {
             "outlinewidth": 0,
             "ticks": ""
            },
            "type": "mesh3d"
           }
          ],
          "parcoords": [
           {
            "line": {
             "colorbar": {
              "outlinewidth": 0,
              "ticks": ""
             }
            },
            "type": "parcoords"
           }
          ],
          "pie": [
           {
            "automargin": true,
            "type": "pie"
           }
          ],
          "scatter": [
           {
            "fillpattern": {
             "fillmode": "overlay",
             "size": 10,
             "solidity": 0.2
            },
            "type": "scatter"
           }
          ],
          "scatter3d": [
           {
            "line": {
             "colorbar": {
              "outlinewidth": 0,
              "ticks": ""
             }
            },
            "marker": {
             "colorbar": {
              "outlinewidth": 0,
              "ticks": ""
             }
            },
            "type": "scatter3d"
           }
          ],
          "scattercarpet": [
           {
            "marker": {
             "colorbar": {
              "outlinewidth": 0,
              "ticks": ""
             }
            },
            "type": "scattercarpet"
           }
          ],
          "scattergeo": [
           {
            "marker": {
             "colorbar": {
              "outlinewidth": 0,
              "ticks": ""
             }
            },
            "type": "scattergeo"
           }
          ],
          "scattergl": [
           {
            "marker": {
             "colorbar": {
              "outlinewidth": 0,
              "ticks": ""
             }
            },
            "type": "scattergl"
           }
          ],
          "scattermapbox": [
           {
            "marker": {
             "colorbar": {
              "outlinewidth": 0,
              "ticks": ""
             }
            },
            "type": "scattermapbox"
           }
          ],
          "scatterpolar": [
           {
            "marker": {
             "colorbar": {
              "outlinewidth": 0,
              "ticks": ""
             }
            },
            "type": "scatterpolar"
           }
          ],
          "scatterpolargl": [
           {
            "marker": {
             "colorbar": {
              "outlinewidth": 0,
              "ticks": ""
             }
            },
            "type": "scatterpolargl"
           }
          ],
          "scatterternary": [
           {
            "marker": {
             "colorbar": {
              "outlinewidth": 0,
              "ticks": ""
             }
            },
            "type": "scatterternary"
           }
          ],
          "surface": [
           {
            "colorbar": {
             "outlinewidth": 0,
             "ticks": ""
            },
            "colorscale": [
             [
              0,
              "#0d0887"
             ],
             [
              0.1111111111111111,
              "#46039f"
             ],
             [
              0.2222222222222222,
              "#7201a8"
             ],
             [
              0.3333333333333333,
              "#9c179e"
             ],
             [
              0.4444444444444444,
              "#bd3786"
             ],
             [
              0.5555555555555556,
              "#d8576b"
             ],
             [
              0.6666666666666666,
              "#ed7953"
             ],
             [
              0.7777777777777778,
              "#fb9f3a"
             ],
             [
              0.8888888888888888,
              "#fdca26"
             ],
             [
              1,
              "#f0f921"
             ]
            ],
            "type": "surface"
           }
          ],
          "table": [
           {
            "cells": {
             "fill": {
              "color": "#EBF0F8"
             },
             "line": {
              "color": "white"
             }
            },
            "header": {
             "fill": {
              "color": "#C8D4E3"
             },
             "line": {
              "color": "white"
             }
            },
            "type": "table"
           }
          ]
         },
         "layout": {
          "annotationdefaults": {
           "arrowcolor": "#2a3f5f",
           "arrowhead": 0,
           "arrowwidth": 1
          },
          "autotypenumbers": "strict",
          "coloraxis": {
           "colorbar": {
            "outlinewidth": 0,
            "ticks": ""
           }
          },
          "colorscale": {
           "diverging": [
            [
             0,
             "#8e0152"
            ],
            [
             0.1,
             "#c51b7d"
            ],
            [
             0.2,
             "#de77ae"
            ],
            [
             0.3,
             "#f1b6da"
            ],
            [
             0.4,
             "#fde0ef"
            ],
            [
             0.5,
             "#f7f7f7"
            ],
            [
             0.6,
             "#e6f5d0"
            ],
            [
             0.7,
             "#b8e186"
            ],
            [
             0.8,
             "#7fbc41"
            ],
            [
             0.9,
             "#4d9221"
            ],
            [
             1,
             "#276419"
            ]
           ],
           "sequential": [
            [
             0,
             "#0d0887"
            ],
            [
             0.1111111111111111,
             "#46039f"
            ],
            [
             0.2222222222222222,
             "#7201a8"
            ],
            [
             0.3333333333333333,
             "#9c179e"
            ],
            [
             0.4444444444444444,
             "#bd3786"
            ],
            [
             0.5555555555555556,
             "#d8576b"
            ],
            [
             0.6666666666666666,
             "#ed7953"
            ],
            [
             0.7777777777777778,
             "#fb9f3a"
            ],
            [
             0.8888888888888888,
             "#fdca26"
            ],
            [
             1,
             "#f0f921"
            ]
           ],
           "sequentialminus": [
            [
             0,
             "#0d0887"
            ],
            [
             0.1111111111111111,
             "#46039f"
            ],
            [
             0.2222222222222222,
             "#7201a8"
            ],
            [
             0.3333333333333333,
             "#9c179e"
            ],
            [
             0.4444444444444444,
             "#bd3786"
            ],
            [
             0.5555555555555556,
             "#d8576b"
            ],
            [
             0.6666666666666666,
             "#ed7953"
            ],
            [
             0.7777777777777778,
             "#fb9f3a"
            ],
            [
             0.8888888888888888,
             "#fdca26"
            ],
            [
             1,
             "#f0f921"
            ]
           ]
          },
          "colorway": [
           "#636efa",
           "#EF553B",
           "#00cc96",
           "#ab63fa",
           "#FFA15A",
           "#19d3f3",
           "#FF6692",
           "#B6E880",
           "#FF97FF",
           "#FECB52"
          ],
          "font": {
           "color": "#2a3f5f"
          },
          "geo": {
           "bgcolor": "white",
           "lakecolor": "white",
           "landcolor": "#E5ECF6",
           "showlakes": true,
           "showland": true,
           "subunitcolor": "white"
          },
          "hoverlabel": {
           "align": "left"
          },
          "hovermode": "closest",
          "mapbox": {
           "style": "light"
          },
          "paper_bgcolor": "white",
          "plot_bgcolor": "#E5ECF6",
          "polar": {
           "angularaxis": {
            "gridcolor": "white",
            "linecolor": "white",
            "ticks": ""
           },
           "bgcolor": "#E5ECF6",
           "radialaxis": {
            "gridcolor": "white",
            "linecolor": "white",
            "ticks": ""
           }
          },
          "scene": {
           "xaxis": {
            "backgroundcolor": "#E5ECF6",
            "gridcolor": "white",
            "gridwidth": 2,
            "linecolor": "white",
            "showbackground": true,
            "ticks": "",
            "zerolinecolor": "white"
           },
           "yaxis": {
            "backgroundcolor": "#E5ECF6",
            "gridcolor": "white",
            "gridwidth": 2,
            "linecolor": "white",
            "showbackground": true,
            "ticks": "",
            "zerolinecolor": "white"
           },
           "zaxis": {
            "backgroundcolor": "#E5ECF6",
            "gridcolor": "white",
            "gridwidth": 2,
            "linecolor": "white",
            "showbackground": true,
            "ticks": "",
            "zerolinecolor": "white"
           }
          },
          "shapedefaults": {
           "line": {
            "color": "#2a3f5f"
           }
          },
          "ternary": {
           "aaxis": {
            "gridcolor": "white",
            "linecolor": "white",
            "ticks": ""
           },
           "baxis": {
            "gridcolor": "white",
            "linecolor": "white",
            "ticks": ""
           },
           "bgcolor": "#E5ECF6",
           "caxis": {
            "gridcolor": "white",
            "linecolor": "white",
            "ticks": ""
           }
          },
          "title": {
           "x": 0.05
          },
          "xaxis": {
           "automargin": true,
           "gridcolor": "white",
           "linecolor": "white",
           "ticks": "",
           "title": {
            "standoff": 15
           },
           "zerolinecolor": "white",
           "zerolinewidth": 2
          },
          "yaxis": {
           "automargin": true,
           "gridcolor": "white",
           "linecolor": "white",
           "ticks": "",
           "title": {
            "standoff": 15
           },
           "zerolinecolor": "white",
           "zerolinewidth": 2
          }
         }
        }
       }
      }
     },
     "metadata": {},
     "output_type": "display_data"
    },
    {
     "data": {
      "application/vnd.plotly.v1+json": {
       "config": {
        "plotlyServerURL": "https://plot.ly"
       },
       "data": [
        {
         "type": "scatter",
         "x": [
          "2022-06-18T00:00:00",
          "2022-06-19T00:00:00",
          "2022-06-20T00:00:00",
          "2022-06-21T00:00:00",
          "2022-06-22T00:00:00",
          "2022-06-23T00:00:00",
          "2022-06-24T00:00:00",
          "2022-06-25T00:00:00",
          "2022-06-26T00:00:00",
          "2022-06-27T00:00:00",
          "2022-06-28T00:00:00",
          "2022-06-29T00:00:00",
          "2022-06-30T00:00:00",
          "2022-07-01T00:00:00",
          "2022-07-02T00:00:00",
          "2022-07-03T00:00:00",
          "2022-07-04T00:00:00",
          "2022-07-05T00:00:00",
          "2022-07-06T00:00:00",
          "2022-07-07T00:00:00",
          "2022-07-08T00:00:00",
          "2022-07-09T00:00:00",
          "2022-07-10T00:00:00",
          "2022-07-11T00:00:00",
          "2022-07-12T00:00:00",
          "2022-07-13T00:00:00",
          "2022-07-14T00:00:00",
          "2022-07-15T00:00:00",
          "2022-07-16T00:00:00",
          "2022-07-17T00:00:00",
          "2022-07-18T00:00:00",
          "2022-07-19T00:00:00",
          "2022-07-20T00:00:00",
          "2022-07-21T00:00:00",
          "2022-07-22T00:00:00",
          "2022-07-23T00:00:00",
          "2022-07-24T00:00:00",
          "2022-07-25T00:00:00",
          "2022-07-26T00:00:00",
          "2022-07-27T00:00:00",
          "2022-07-28T00:00:00",
          "2022-07-29T00:00:00",
          "2022-07-30T00:00:00",
          "2022-07-31T00:00:00",
          "2022-08-01T00:00:00",
          "2022-08-02T00:00:00",
          "2022-08-03T00:00:00",
          "2022-08-04T00:00:00",
          "2022-08-05T00:00:00",
          "2022-08-06T00:00:00",
          "2022-08-07T00:00:00",
          "2022-08-08T00:00:00",
          "2022-08-09T00:00:00",
          "2022-08-10T00:00:00",
          "2022-08-11T00:00:00",
          "2022-08-12T00:00:00",
          "2022-08-13T00:00:00",
          "2022-08-14T00:00:00",
          "2022-08-15T00:00:00",
          "2022-08-16T00:00:00",
          "2022-08-17T00:00:00",
          "2022-08-18T00:00:00",
          "2022-08-19T00:00:00",
          "2022-08-20T00:00:00",
          "2022-08-21T00:00:00",
          "2022-08-22T00:00:00",
          "2022-08-23T00:00:00",
          "2022-08-24T00:00:00",
          "2022-08-25T00:00:00",
          "2022-08-26T00:00:00",
          "2022-08-27T00:00:00",
          "2022-08-28T00:00:00",
          "2022-08-29T00:00:00",
          "2022-08-30T00:00:00",
          "2022-08-31T00:00:00",
          "2022-09-01T00:00:00",
          "2022-09-02T00:00:00",
          "2022-09-03T00:00:00",
          "2022-09-04T00:00:00",
          "2022-09-05T00:00:00",
          "2022-09-06T00:00:00",
          "2022-09-07T00:00:00",
          "2022-09-08T00:00:00",
          "2022-09-09T00:00:00",
          "2022-09-10T00:00:00",
          "2022-09-11T00:00:00",
          "2022-09-12T00:00:00",
          "2022-09-13T00:00:00",
          "2022-09-14T00:00:00",
          "2022-09-15T00:00:00",
          "2022-09-16T00:00:00",
          "2022-09-17T00:00:00",
          "2022-09-18T00:00:00",
          "2022-09-19T00:00:00",
          "2022-09-20T00:00:00",
          "2022-09-21T00:00:00",
          "2022-09-22T00:00:00",
          "2022-09-23T00:00:00",
          "2022-09-24T00:00:00",
          "2022-09-25T00:00:00",
          "2022-09-26T00:00:00",
          "2022-09-27T00:00:00",
          "2022-09-28T00:00:00",
          "2022-09-29T00:00:00",
          "2022-09-30T00:00:00",
          "2022-10-01T00:00:00",
          "2022-10-02T00:00:00",
          "2022-10-03T00:00:00",
          "2022-10-04T00:00:00",
          "2022-10-05T00:00:00",
          "2022-10-06T00:00:00",
          "2022-10-07T00:00:00",
          "2022-10-08T00:00:00",
          "2022-10-09T00:00:00",
          "2022-10-10T00:00:00",
          "2022-10-11T00:00:00",
          "2022-10-12T00:00:00",
          "2022-10-13T00:00:00",
          "2022-10-14T00:00:00",
          "2022-10-15T00:00:00",
          "2022-10-16T00:00:00",
          "2022-10-17T00:00:00",
          "2022-10-18T00:00:00",
          "2022-10-19T00:00:00",
          "2022-10-20T00:00:00",
          "2022-10-21T00:00:00",
          "2022-10-22T00:00:00",
          "2022-10-23T00:00:00",
          "2022-10-24T00:00:00",
          "2022-10-25T00:00:00",
          "2022-10-26T00:00:00",
          "2022-10-27T00:00:00",
          "2022-10-28T00:00:00",
          "2022-10-29T00:00:00",
          "2022-10-30T00:00:00",
          "2022-10-31T00:00:00",
          "2022-11-01T00:00:00",
          "2022-11-02T00:00:00",
          "2022-11-03T00:00:00",
          "2022-11-04T00:00:00",
          "2022-11-05T00:00:00",
          "2022-11-06T00:00:00"
         ],
         "y": [
          null,
          null,
          null,
          null,
          null,
          null,
          null,
          null,
          null,
          null,
          null,
          null,
          null,
          null,
          null,
          null,
          null,
          null,
          null,
          null,
          0,
          50,
          50,
          50,
          50,
          50,
          50,
          50,
          50,
          50,
          50,
          50,
          50,
          50,
          50,
          50,
          50,
          50,
          50,
          50,
          50,
          59.35076627395928,
          60.16648208923686,
          60.78985581675303,
          60.996718982368606,
          60.83849686226658,
          60.49511339154012,
          59.842703627549,
          59.22733223689984,
          58.626266330931976,
          58.09581354893826,
          57.9768498957022,
          57.78040735346348,
          57.73254976513817,
          58.18574608259737,
          58.847148240906456,
          59.86322416173414,
          61.000649081118205,
          62.009388684924936,
          62.397506836754005,
          62.056725783372016,
          60.8514724188526,
          57.2458230353789,
          52.17035402888993,
          47.24467011698863,
          42.7860351776375,
          39.06815349790458,
          36.132447702748,
          33.91031305354208,
          31.752988188073083,
          29.44348292504715,
          27.0788910359564,
          25.293056886033728,
          23.914863835365786,
          23.02754925018497,
          22.411519953271426,
          22.089359759297356,
          21.87065596197343,
          21.75107045192714,
          21.671228913146184,
          21.331310481169858,
          20.77434102096522,
          20.405173913946523,
          22.882744298167324,
          28.06698163038312,
          34.29528503521402,
          40.97131634611692,
          46.040824523151784,
          48.87543008379166,
          50.010303497661745,
          50.06671257508969,
          49.87028998111409,
          49.26910700654595,
          48.16826839226198,
          46.83641386962935,
          45.31468867300064,
          43.98594704850105,
          42.84758571739526,
          41.813818043016546,
          40.790935335345644,
          40.01334225795769,
          39.79397514246501,
          39.804481480591406,
          40.122854542588264,
          40.90772419425448,
          41.73218261230728,
          42.360551443034325,
          43.243300821989195,
          45.133619484273716,
          47.488096299952055,
          49.983739032326234,
          51.83323628372537,
          52.86750188247026,
          53.35378308736068,
          53.175480517699725,
          52.364598464687106,
          51.29211854288622,
          49.97156687900377,
          49.141213828842076,
          48.20466400505969,
          47.54053189569546,
          47.447887266004805,
          47.57647871150543,
          47.526325516409294,
          47.23240891590379,
          46.68526681264702,
          46.336363032789734,
          46.62686309478358,
          47.148536560493795,
          48.855106603527645,
          52.36590953638643,
          56.09306993880121,
          59.49324368732941,
          62.88181667021004,
          65.67724070338669,
          67.57439283704933,
          68.80484497810566,
          69.22706755525613,
          68.90694808600288,
          68.83584716575719,
          69.30933107444841,
          69.55413227300295
         ]
        }
       ],
       "layout": {
        "showlegend": false,
        "template": {
         "data": {
          "bar": [
           {
            "error_x": {
             "color": "#2a3f5f"
            },
            "error_y": {
             "color": "#2a3f5f"
            },
            "marker": {
             "line": {
              "color": "#E5ECF6",
              "width": 0.5
             },
             "pattern": {
              "fillmode": "overlay",
              "size": 10,
              "solidity": 0.2
             }
            },
            "type": "bar"
           }
          ],
          "barpolar": [
           {
            "marker": {
             "line": {
              "color": "#E5ECF6",
              "width": 0.5
             },
             "pattern": {
              "fillmode": "overlay",
              "size": 10,
              "solidity": 0.2
             }
            },
            "type": "barpolar"
           }
          ],
          "carpet": [
           {
            "aaxis": {
             "endlinecolor": "#2a3f5f",
             "gridcolor": "white",
             "linecolor": "white",
             "minorgridcolor": "white",
             "startlinecolor": "#2a3f5f"
            },
            "baxis": {
             "endlinecolor": "#2a3f5f",
             "gridcolor": "white",
             "linecolor": "white",
             "minorgridcolor": "white",
             "startlinecolor": "#2a3f5f"
            },
            "type": "carpet"
           }
          ],
          "choropleth": [
           {
            "colorbar": {
             "outlinewidth": 0,
             "ticks": ""
            },
            "type": "choropleth"
           }
          ],
          "contour": [
           {
            "colorbar": {
             "outlinewidth": 0,
             "ticks": ""
            },
            "colorscale": [
             [
              0,
              "#0d0887"
             ],
             [
              0.1111111111111111,
              "#46039f"
             ],
             [
              0.2222222222222222,
              "#7201a8"
             ],
             [
              0.3333333333333333,
              "#9c179e"
             ],
             [
              0.4444444444444444,
              "#bd3786"
             ],
             [
              0.5555555555555556,
              "#d8576b"
             ],
             [
              0.6666666666666666,
              "#ed7953"
             ],
             [
              0.7777777777777778,
              "#fb9f3a"
             ],
             [
              0.8888888888888888,
              "#fdca26"
             ],
             [
              1,
              "#f0f921"
             ]
            ],
            "type": "contour"
           }
          ],
          "contourcarpet": [
           {
            "colorbar": {
             "outlinewidth": 0,
             "ticks": ""
            },
            "type": "contourcarpet"
           }
          ],
          "heatmap": [
           {
            "colorbar": {
             "outlinewidth": 0,
             "ticks": ""
            },
            "colorscale": [
             [
              0,
              "#0d0887"
             ],
             [
              0.1111111111111111,
              "#46039f"
             ],
             [
              0.2222222222222222,
              "#7201a8"
             ],
             [
              0.3333333333333333,
              "#9c179e"
             ],
             [
              0.4444444444444444,
              "#bd3786"
             ],
             [
              0.5555555555555556,
              "#d8576b"
             ],
             [
              0.6666666666666666,
              "#ed7953"
             ],
             [
              0.7777777777777778,
              "#fb9f3a"
             ],
             [
              0.8888888888888888,
              "#fdca26"
             ],
             [
              1,
              "#f0f921"
             ]
            ],
            "type": "heatmap"
           }
          ],
          "heatmapgl": [
           {
            "colorbar": {
             "outlinewidth": 0,
             "ticks": ""
            },
            "colorscale": [
             [
              0,
              "#0d0887"
             ],
             [
              0.1111111111111111,
              "#46039f"
             ],
             [
              0.2222222222222222,
              "#7201a8"
             ],
             [
              0.3333333333333333,
              "#9c179e"
             ],
             [
              0.4444444444444444,
              "#bd3786"
             ],
             [
              0.5555555555555556,
              "#d8576b"
             ],
             [
              0.6666666666666666,
              "#ed7953"
             ],
             [
              0.7777777777777778,
              "#fb9f3a"
             ],
             [
              0.8888888888888888,
              "#fdca26"
             ],
             [
              1,
              "#f0f921"
             ]
            ],
            "type": "heatmapgl"
           }
          ],
          "histogram": [
           {
            "marker": {
             "pattern": {
              "fillmode": "overlay",
              "size": 10,
              "solidity": 0.2
             }
            },
            "type": "histogram"
           }
          ],
          "histogram2d": [
           {
            "colorbar": {
             "outlinewidth": 0,
             "ticks": ""
            },
            "colorscale": [
             [
              0,
              "#0d0887"
             ],
             [
              0.1111111111111111,
              "#46039f"
             ],
             [
              0.2222222222222222,
              "#7201a8"
             ],
             [
              0.3333333333333333,
              "#9c179e"
             ],
             [
              0.4444444444444444,
              "#bd3786"
             ],
             [
              0.5555555555555556,
              "#d8576b"
             ],
             [
              0.6666666666666666,
              "#ed7953"
             ],
             [
              0.7777777777777778,
              "#fb9f3a"
             ],
             [
              0.8888888888888888,
              "#fdca26"
             ],
             [
              1,
              "#f0f921"
             ]
            ],
            "type": "histogram2d"
           }
          ],
          "histogram2dcontour": [
           {
            "colorbar": {
             "outlinewidth": 0,
             "ticks": ""
            },
            "colorscale": [
             [
              0,
              "#0d0887"
             ],
             [
              0.1111111111111111,
              "#46039f"
             ],
             [
              0.2222222222222222,
              "#7201a8"
             ],
             [
              0.3333333333333333,
              "#9c179e"
             ],
             [
              0.4444444444444444,
              "#bd3786"
             ],
             [
              0.5555555555555556,
              "#d8576b"
             ],
             [
              0.6666666666666666,
              "#ed7953"
             ],
             [
              0.7777777777777778,
              "#fb9f3a"
             ],
             [
              0.8888888888888888,
              "#fdca26"
             ],
             [
              1,
              "#f0f921"
             ]
            ],
            "type": "histogram2dcontour"
           }
          ],
          "mesh3d": [
           {
            "colorbar": {
             "outlinewidth": 0,
             "ticks": ""
            },
            "type": "mesh3d"
           }
          ],
          "parcoords": [
           {
            "line": {
             "colorbar": {
              "outlinewidth": 0,
              "ticks": ""
             }
            },
            "type": "parcoords"
           }
          ],
          "pie": [
           {
            "automargin": true,
            "type": "pie"
           }
          ],
          "scatter": [
           {
            "fillpattern": {
             "fillmode": "overlay",
             "size": 10,
             "solidity": 0.2
            },
            "type": "scatter"
           }
          ],
          "scatter3d": [
           {
            "line": {
             "colorbar": {
              "outlinewidth": 0,
              "ticks": ""
             }
            },
            "marker": {
             "colorbar": {
              "outlinewidth": 0,
              "ticks": ""
             }
            },
            "type": "scatter3d"
           }
          ],
          "scattercarpet": [
           {
            "marker": {
             "colorbar": {
              "outlinewidth": 0,
              "ticks": ""
             }
            },
            "type": "scattercarpet"
           }
          ],
          "scattergeo": [
           {
            "marker": {
             "colorbar": {
              "outlinewidth": 0,
              "ticks": ""
             }
            },
            "type": "scattergeo"
           }
          ],
          "scattergl": [
           {
            "marker": {
             "colorbar": {
              "outlinewidth": 0,
              "ticks": ""
             }
            },
            "type": "scattergl"
           }
          ],
          "scattermapbox": [
           {
            "marker": {
             "colorbar": {
              "outlinewidth": 0,
              "ticks": ""
             }
            },
            "type": "scattermapbox"
           }
          ],
          "scatterpolar": [
           {
            "marker": {
             "colorbar": {
              "outlinewidth": 0,
              "ticks": ""
             }
            },
            "type": "scatterpolar"
           }
          ],
          "scatterpolargl": [
           {
            "marker": {
             "colorbar": {
              "outlinewidth": 0,
              "ticks": ""
             }
            },
            "type": "scatterpolargl"
           }
          ],
          "scatterternary": [
           {
            "marker": {
             "colorbar": {
              "outlinewidth": 0,
              "ticks": ""
             }
            },
            "type": "scatterternary"
           }
          ],
          "surface": [
           {
            "colorbar": {
             "outlinewidth": 0,
             "ticks": ""
            },
            "colorscale": [
             [
              0,
              "#0d0887"
             ],
             [
              0.1111111111111111,
              "#46039f"
             ],
             [
              0.2222222222222222,
              "#7201a8"
             ],
             [
              0.3333333333333333,
              "#9c179e"
             ],
             [
              0.4444444444444444,
              "#bd3786"
             ],
             [
              0.5555555555555556,
              "#d8576b"
             ],
             [
              0.6666666666666666,
              "#ed7953"
             ],
             [
              0.7777777777777778,
              "#fb9f3a"
             ],
             [
              0.8888888888888888,
              "#fdca26"
             ],
             [
              1,
              "#f0f921"
             ]
            ],
            "type": "surface"
           }
          ],
          "table": [
           {
            "cells": {
             "fill": {
              "color": "#EBF0F8"
             },
             "line": {
              "color": "white"
             }
            },
            "header": {
             "fill": {
              "color": "#C8D4E3"
             },
             "line": {
              "color": "white"
             }
            },
            "type": "table"
           }
          ]
         },
         "layout": {
          "annotationdefaults": {
           "arrowcolor": "#2a3f5f",
           "arrowhead": 0,
           "arrowwidth": 1
          },
          "autotypenumbers": "strict",
          "coloraxis": {
           "colorbar": {
            "outlinewidth": 0,
            "ticks": ""
           }
          },
          "colorscale": {
           "diverging": [
            [
             0,
             "#8e0152"
            ],
            [
             0.1,
             "#c51b7d"
            ],
            [
             0.2,
             "#de77ae"
            ],
            [
             0.3,
             "#f1b6da"
            ],
            [
             0.4,
             "#fde0ef"
            ],
            [
             0.5,
             "#f7f7f7"
            ],
            [
             0.6,
             "#e6f5d0"
            ],
            [
             0.7,
             "#b8e186"
            ],
            [
             0.8,
             "#7fbc41"
            ],
            [
             0.9,
             "#4d9221"
            ],
            [
             1,
             "#276419"
            ]
           ],
           "sequential": [
            [
             0,
             "#0d0887"
            ],
            [
             0.1111111111111111,
             "#46039f"
            ],
            [
             0.2222222222222222,
             "#7201a8"
            ],
            [
             0.3333333333333333,
             "#9c179e"
            ],
            [
             0.4444444444444444,
             "#bd3786"
            ],
            [
             0.5555555555555556,
             "#d8576b"
            ],
            [
             0.6666666666666666,
             "#ed7953"
            ],
            [
             0.7777777777777778,
             "#fb9f3a"
            ],
            [
             0.8888888888888888,
             "#fdca26"
            ],
            [
             1,
             "#f0f921"
            ]
           ],
           "sequentialminus": [
            [
             0,
             "#0d0887"
            ],
            [
             0.1111111111111111,
             "#46039f"
            ],
            [
             0.2222222222222222,
             "#7201a8"
            ],
            [
             0.3333333333333333,
             "#9c179e"
            ],
            [
             0.4444444444444444,
             "#bd3786"
            ],
            [
             0.5555555555555556,
             "#d8576b"
            ],
            [
             0.6666666666666666,
             "#ed7953"
            ],
            [
             0.7777777777777778,
             "#fb9f3a"
            ],
            [
             0.8888888888888888,
             "#fdca26"
            ],
            [
             1,
             "#f0f921"
            ]
           ]
          },
          "colorway": [
           "#636efa",
           "#EF553B",
           "#00cc96",
           "#ab63fa",
           "#FFA15A",
           "#19d3f3",
           "#FF6692",
           "#B6E880",
           "#FF97FF",
           "#FECB52"
          ],
          "font": {
           "color": "#2a3f5f"
          },
          "geo": {
           "bgcolor": "white",
           "lakecolor": "white",
           "landcolor": "#E5ECF6",
           "showlakes": true,
           "showland": true,
           "subunitcolor": "white"
          },
          "hoverlabel": {
           "align": "left"
          },
          "hovermode": "closest",
          "mapbox": {
           "style": "light"
          },
          "paper_bgcolor": "white",
          "plot_bgcolor": "#E5ECF6",
          "polar": {
           "angularaxis": {
            "gridcolor": "white",
            "linecolor": "white",
            "ticks": ""
           },
           "bgcolor": "#E5ECF6",
           "radialaxis": {
            "gridcolor": "white",
            "linecolor": "white",
            "ticks": ""
           }
          },
          "scene": {
           "xaxis": {
            "backgroundcolor": "#E5ECF6",
            "gridcolor": "white",
            "gridwidth": 2,
            "linecolor": "white",
            "showbackground": true,
            "ticks": "",
            "zerolinecolor": "white"
           },
           "yaxis": {
            "backgroundcolor": "#E5ECF6",
            "gridcolor": "white",
            "gridwidth": 2,
            "linecolor": "white",
            "showbackground": true,
            "ticks": "",
            "zerolinecolor": "white"
           },
           "zaxis": {
            "backgroundcolor": "#E5ECF6",
            "gridcolor": "white",
            "gridwidth": 2,
            "linecolor": "white",
            "showbackground": true,
            "ticks": "",
            "zerolinecolor": "white"
           }
          },
          "shapedefaults": {
           "line": {
            "color": "#2a3f5f"
           }
          },
          "ternary": {
           "aaxis": {
            "gridcolor": "white",
            "linecolor": "white",
            "ticks": ""
           },
           "baxis": {
            "gridcolor": "white",
            "linecolor": "white",
            "ticks": ""
           },
           "bgcolor": "#E5ECF6",
           "caxis": {
            "gridcolor": "white",
            "linecolor": "white",
            "ticks": ""
           }
          },
          "title": {
           "x": 0.05
          },
          "xaxis": {
           "automargin": true,
           "gridcolor": "white",
           "linecolor": "white",
           "ticks": "",
           "title": {
            "standoff": 15
           },
           "zerolinecolor": "white",
           "zerolinewidth": 2
          },
          "yaxis": {
           "automargin": true,
           "gridcolor": "white",
           "linecolor": "white",
           "ticks": "",
           "title": {
            "standoff": 15
           },
           "zerolinecolor": "white",
           "zerolinewidth": 2
          }
         }
        }
       }
      }
     },
     "metadata": {},
     "output_type": "display_data"
    }
   ],
   "source": [
    "# up_imbalances = get_list_of_up_imbalances(df_higher_tf)\n",
    "# down_imbalances = get_list_of_down_imbalances(df_higher_tf)\n",
    "# up_imbalances = delete_up_imbalance(up_imbalances,df_higher_tf)\n",
    "# down_imbalances = delete_down_imbalance(down_imbalances,df_higher_tf)\n",
    "df_higher_tf = get_price_data_binance('BTCUSDT',200,interval=Client.KLINE_INTERVAL_1DAY)\n",
    "df_lower_tf = get_price_data_binance('BTCUSDT',200,interval=Client.KLINE_INTERVAL_6HOUR)\n",
    "df_lower_tf = add_rsx_LF(21,df_lower_tf)\n",
    "df_lower_tf = add_moving_average(3,df_lower_tf)\n",
    "df_higher_tf = add_rsx_HF(21,df_higher_tf)\n",
    "\n",
    "fig = go.Figure(data=[go.Candlestick(x=df_higher_tf['date'],\n",
    "                open=df_higher_tf['open'],\n",
    "                high=df_higher_tf['high'],\n",
    "                low=df_higher_tf['low'],\n",
    "                close=df_higher_tf['close'])])\n",
    "\n",
    "fig1 = go.Figure(data=[go.Candlestick(x=df_lower_tf['date'],\n",
    "                open=df_lower_tf['open'],\n",
    "                high=df_lower_tf['high'],\n",
    "                low=df_lower_tf['low'],\n",
    "                close=df_lower_tf['close'])])\n",
    "\n",
    "for i in range(1, 10):\n",
    "    if df_lower_tf.iloc[-i]['up_reversal']:\n",
    "        if df_higher_tf.iloc[-i]['hidden_up_divergence']:\n",
    "            if df_lower_tf.iloc[-i]['classic_up_divergence']:\n",
    "                print(df_lower_tf.iloc[-i-1]['low'])\n",
    "                fig1.add_vline(df_lower_tf.iloc[-i]['date'],line_color=\"green\")\n",
    "\n",
    "    if df_lower_tf.iloc[-i]['down_reversal']:\n",
    "        if df_higher_tf.iloc[-i]['hidden_down_divergence']:\n",
    "            if df_lower_tf.iloc[-i]['classic_down_divergence']:\n",
    "                print(df_lower_tf.iloc[-i-1]['high'])\n",
    "                fig1.add_vline(df_lower_tf.iloc[-i]['date'],line_color=\"red\")\n",
    "\n",
    "rsx = go.Figure(go.Scatter(\n",
    "        x=df_higher_tf['date'],\n",
    "        y=df_higher_tf['RSX']\n",
    "    ))\n",
    "\n",
    "fig.update_layout(showlegend=False)\n",
    "fig.show()\n",
    "fig1.update_layout(showlegend=False)\n",
    "fig1.show()\n",
    "rsx.update_layout(showlegend=False)\n",
    "rsx.show()"
   ]
  }
 ],
 "metadata": {
  "kernelspec": {
   "display_name": "Python 3",
   "language": "python",
   "name": "python3"
  },
  "language_info": {
   "codemirror_mode": {
    "name": "ipython",
    "version": 3
   },
   "file_extension": ".py",
   "mimetype": "text/x-python",
   "name": "python",
   "nbconvert_exporter": "python",
   "pygments_lexer": "ipython3",
   "version": "3.10.8 (tags/v3.10.8:aaaf517, Oct 11 2022, 16:50:30) [MSC v.1933 64 bit (AMD64)]"
  },
  "orig_nbformat": 4,
  "vscode": {
   "interpreter": {
    "hash": "05a87d0cfdfbb752979dc8c3f53cb6c0c2a7c4b49c718c090facb8fa9d62de1e"
   }
  }
 },
 "nbformat": 4,
 "nbformat_minor": 2
}
