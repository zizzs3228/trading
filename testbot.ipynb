{
 "cells": [
  {
   "cell_type": "code",
   "execution_count": 126,
   "metadata": {},
   "outputs": [],
   "source": [
    "from binance.client import Client\n",
    "import pandas as pd\n",
    "import plotly.graph_objects as go\n",
    "from pon import api,secret\n",
    "import numpy as np\n",
    "import schedule\n",
    "import time\n",
    "from plotly.subplots import make_subplots\n",
    "import pandas_ta as ta\n",
    "import warnings\n",
    "warnings.filterwarnings(\"ignore\")\n"
   ]
  },
  {
   "cell_type": "code",
   "execution_count": 127,
   "metadata": {},
   "outputs": [],
   "source": [
    "def get_price_data_binance(ticker:str,limit:int,start_str:str, end_str:str,interval = Client.KLINE_INTERVAL_1DAY)->pd.DataFrame:\n",
    "    client = Client(api, secret)\n",
    "    df = pd.DataFrame(client.get_historical_klines(symbol=ticker, interval=interval,start_str=start_str, end_str=end_str))\n",
    "    df.columns=['date','open','high','low','close','volume','close_time','d1','d2','d3','d4','d5']\n",
    "    df = df.drop(['close_time','d1','d2','d3','d4','d5'],axis=1)\n",
    "    df['date'] = pd.to_datetime(df['date']*1000000)\n",
    "    df['open'] = df['open'].astype(float)\n",
    "    df['high'] = df['high'].astype(float)\n",
    "    df['low'] = df['low'].astype(float)\n",
    "    df['close'] = df['close'].astype(float)\n",
    "    return df\n",
    "    \n",
    "def get_list_of_imbalances(df:pd.DataFrame)->list:\n",
    "    up_imbalances = []\n",
    "    down_imbalances = []\n",
    "    df['ATR'] = ta.atr(df['high'],df['low'],df['close'],14)\n",
    "    for i in range(5, len(df)-2):\n",
    "        prev_candle = df.iloc[i-2]\n",
    "        next_candle = df.iloc[i]\n",
    "        #if (df.iloc[i-1]['close'] - df.iloc[i-1]['open'])/3 < (next_candle['low'] - prev_candle['high']):\n",
    "        if (prev_candle['high'] < next_candle['low']) and df.iloc[i]['ATR']/(next_candle['low'] - prev_candle['high'])<20:\n",
    "            middle = round((prev_candle['high']+next_candle['low'])/2,2)\n",
    "            if df.iloc[i+1]['low'] > middle:\n",
    "                if df.iloc[i+2]['low'] > middle:\n",
    "                    if (df.iloc[i-1]['close']-next_candle['low']) > (next_candle['low']-middle) or (next_candle['close']-next_candle['low']) > (next_candle['low']-middle):\n",
    "                        up_imbalances.append([middle, \n",
    "                        prev_candle['high'],\n",
    "                        df.iloc[i-1]['date']])\n",
    "\n",
    "        #if (df.iloc[i-1]['open'] - df.iloc[i]['open'])/3 < (prev_candle['low'] - next_candle['high']):\n",
    "        if (prev_candle['low'] > next_candle['high']) and df.iloc[i]['ATR']/(prev_candle['low'] - next_candle['high'])<20:\n",
    "            middle = round((prev_candle['low']+next_candle['high'])/2,2)\n",
    "            if df.iloc[i+1]['high'] < middle:\n",
    "                if df.iloc[i+2]['high'] < middle:\n",
    "                    if (next_candle['high']-df.iloc[i-1]['close']) > (middle-next_candle['high']) or (next_candle['high']-next_candle['close']) > (middle-next_candle['high']):\n",
    "                        down_imbalances.append([middle,\n",
    "                        prev_candle['low'],\n",
    "                        df.iloc[i-1]['date']])\n",
    "\n",
    "    return up_imbalances, down_imbalances\n",
    "\n",
    "def check_within_imbalances(df:pd.DataFrame, up_imbalances:list, down_imbalances:list)->pd.DataFrame:\n",
    "    df['within_up_imbalance'] = False\n",
    "    df['within_down_imbalance'] = False\n",
    "    up_imbalancesCOPY = up_imbalances.copy()\n",
    "    down_imbalancesCOPY = down_imbalances.copy()\n",
    "    for i in range(15, len(df)):\n",
    "        for imbalance in up_imbalancesCOPY:\n",
    "            # if df.iloc[i]['low'] < imbalance[0] and df.iloc[i]['close'] > imbalance[1] and df.iloc[i]['date'] > imbalance[2]:\n",
    "            if hammer_up(df.loc[i, ['open', 'high', 'low', 'close']]) and df.iloc[i]['low']<imbalance[0] and df.iloc[i]['close']>imbalance[1] and df.iloc[i]['open']>imbalance[1] and df.iloc[i]['date'] > imbalance[2]:\n",
    "                df.loc[i, 'within_up_imbalance'] = True\n",
    "\n",
    "        for imbalance in down_imbalancesCOPY:\n",
    "            # if df.iloc[i]['high'] > imbalance[0] and df.iloc[i]['close'] < imbalance[1] and df.iloc[i]['date'] > imbalance[2]:\n",
    "            if falling_star_down(df.loc[i, ['open', 'high', 'low', 'close']]) and df.iloc[i]['high']>imbalance[0] and df.iloc[i]['close']<imbalance[1] and df.iloc[i]['open']<imbalance[1] and df.iloc[i]['date']>imbalance[2]:\n",
    "                df.loc[i, 'within_down_imbalance'] = True\n",
    "\n",
    "        for imbalance in up_imbalancesCOPY:\n",
    "            if df.iloc[i-15]['low'] < imbalance[1] and df.iloc[i-15]['date'] > imbalance[2]:\n",
    "                up_imbalancesCOPY.remove(imbalance)\n",
    "        \n",
    "        for imbalance in down_imbalancesCOPY:\n",
    "            if df.iloc[i-15]['high'] > imbalance[1] and df.iloc[i-15]['date'] > imbalance[2]:\n",
    "                down_imbalancesCOPY.remove(imbalance)\n",
    "\n",
    "    return df\n",
    "\n",
    "def delete_up_imbalance(up_imbalances, df:pd.DataFrame)->list:\n",
    "    for i in range(0, len(df)-10):\n",
    "        for imbalance in up_imbalances:\n",
    "            candle = df.iloc[i]\n",
    "            if candle['date']>imbalance[2]  and (candle['close'] < imbalance[0] or candle['low'] < imbalance[0]):\n",
    "                up_imbalances.remove(imbalance)\n",
    "    return up_imbalances[-3:]\n",
    "\n",
    "def delete_down_imbalance(down_imbalances, df:pd.DataFrame)->list:\n",
    "    for i in range(0, len(df)-10):\n",
    "        for imbalance in down_imbalances:\n",
    "            candle = df.iloc[i]\n",
    "            if candle['date']>imbalance[2] and (candle['close'] > imbalance[0] or candle['high'] > imbalance[0]):\n",
    "                down_imbalances.remove(imbalance)\n",
    "    \n",
    "    return down_imbalances[-3:]\n",
    "\n",
    "def add_moving_average(period:int,df:pd.DataFrame)->pd.DataFrame:\n",
    "    df['SMA'] = df['close'].rolling(period).mean()\n",
    "    df['SMAslope'] = df['SMA'].pct_change()*10000\n",
    "    df['SMAdistance'] = abs(df['SMA']-df['close'])/df['SMA']*10000\n",
    "\n",
    "    df['up_reversal'] = ((df['SMAslope'].shift(1) < 0) & (df['SMAslope'] > 0))\n",
    "    df['down_reversal'] = ((df['SMAslope'].shift(1) > 0) & (df['SMAslope'] < 0)) \n",
    "    # df['charthighest'] = df['high'].rolling(6).max()[df['down_reversal'] == True]\n",
    "    # df['chartlowest'] = df['low'].rolling(6).min()[df['up_reversal'] == True]\n",
    "    # up_imbalances = get_list_of_up_imbalances(df)\n",
    "    # down_imbalances = get_list_of_down_imbalances(df)\n",
    "\n",
    "    # df['up_reversal'] = False\n",
    "    # df['down_reversal'] = False\n",
    "    # for i in range(5, len(df)-3):\n",
    "    #     for imbalance in up_imbalances:\n",
    "    #         if (df.iloc[i-1]['date'] < imbalance[2] < df.iloc[i+3]['date']):\n",
    "    #             if (df.iloc[i-1]['SMAslope'] < 0) & (df.iloc[i]['SMAslope'] > 0):\n",
    "    #                 if not (df.iloc[i-1]['up_reversal'] or df.iloc[i-2]['up_reversal'] or df.iloc[i-3]['up_reversal'] or df.iloc[i-4]['up_reversal']):\n",
    "    #                     df.loc[i, 'up_reversal'] = True\n",
    "    #     for imbalance in down_imbalances:\n",
    "    #         if (df.iloc[i-1]['date'] < imbalance[2] < df.iloc[i+3]['date']):\n",
    "    #             if ((df.iloc[i-1]['SMAslope'] > 0) & (df.iloc[i]['SMAslope'] < 0)):\n",
    "    #                 if not (df.iloc[i-1]['down_reversal'] or df.iloc[i-2]['down_reversal'] or df.iloc[i-3]['down_reversal'] or df.iloc[i-4]['down_reversal']):\n",
    "    #                     df.loc[i, 'down_reversal'] = True\n",
    "\n",
    "\n",
    "    # df['up_reversal'] = ((df['SMAslope'].shift(1) < 0) & (df['SMAslope'] > 0))\n",
    "    # df['down_reversal'] = ((df['SMAslope'].shift(1) > 0) & (df['SMAslope'] < 0))\n",
    "\n",
    "    return df\n",
    "\n",
    "def add_rsx_HF(period:int,df:pd.DataFrame)->pd.DataFrame:\n",
    "    df[\"RSX\"] = ta.rsx(round((df['close']+df['high']+df['low'])/3,2), period)\n",
    "    df['RSXslope'] = df['RSX'].pct_change()*100\n",
    "    df['RSX_up_reversal'] = ((df['RSXslope'].shift(1) < 0) & (df['RSXslope'] > 0)) & (df['RSX'] < 30)\n",
    "    df['RSX_down_reversal'] = ((df['RSXslope'].shift(1) > 0) & (df['RSXslope'] < 0)) & (df['RSX'] > 70)\n",
    "\n",
    "    up_reversals = []\n",
    "    down_reversals = []\n",
    "    # df['hidden_up_divergence'] = False\n",
    "    # df['hidden_down_divergence'] = False\n",
    "    df['classic_up_divergence'] = False\n",
    "    df['classic_down_divergence'] = False\n",
    "\n",
    "    for i in range(0, len(df)):\n",
    "        if df.iloc[i]['RSX_up_reversal']:\n",
    "            up_reversals.append(min((df.iloc[i]['low'],df.iloc[i-1]['RSX'],df.iloc[i]['date']),\n",
    "                (df.iloc[i-1]['low'],df.iloc[i-1]['RSX'],df.iloc[i-1]['date']),\n",
    "                (df.iloc[i-2]['low'],df.iloc[i-1]['RSX'],df.iloc[i-2]['date']),\n",
    "                (df.iloc[i-3]['low'],df.iloc[i-1]['RSX'],df.iloc[i-3]['date']),\n",
    "                (df.iloc[i-4]['low'],df.iloc[i-1]['RSX'],df.iloc[i-4]['date']),\n",
    "                (df.iloc[i-5]['low'],df.iloc[i-1]['RSX'],df.iloc[i-5]['date'])))\n",
    "\n",
    "        if df.iloc[i]['RSX_down_reversal']:\n",
    "            down_reversals.append(max((df.iloc[i]['high'],df.iloc[i-1]['RSX'],df.iloc[i]['date']),\n",
    "                (df.iloc[i-1]['high'],df.iloc[i-1]['RSX'],df.iloc[i-1]['date']),\n",
    "                (df.iloc[i-2]['high'],df.iloc[i-1]['RSX'],df.iloc[i-2]['date']),\n",
    "                (df.iloc[i-3]['high'],df.iloc[i-1]['RSX'],df.iloc[i-3]['date']),\n",
    "                (df.iloc[i-4]['high'],df.iloc[i-1]['RSX'],df.iloc[i-4]['date']),\n",
    "                (df.iloc[i-5]['high'],df.iloc[i-1]['RSX'],df.iloc[i-5]['date'])))\n",
    "\n",
    "        if up_reversals:\n",
    "            if df.iloc[i]['date']>up_reversals[-1][2]:\n",
    "                if df.iloc[i]['low'] < up_reversals[-1][0]:\n",
    "                    if df.iloc[i]['RSX'] > up_reversals[-1][1]:\n",
    "                        df.loc[i, 'classic_up_divergence'] = True\n",
    "\n",
    "        if down_reversals:\n",
    "            if df.iloc[i]['date']>down_reversals[-1][2]:\n",
    "                if df.iloc[i]['high'] > down_reversals[-1][0]:\n",
    "                    if df.iloc[i]['RSX'] < down_reversals[-1][1]:\n",
    "                        df.loc[i, 'classic_down_divergence'] = True\n",
    "\n",
    "        # if (up_reversals and down_reversals):\n",
    "        #     for up_reversal in up_reversals[-5:]:\n",
    "        #         if (up_reversal[0] < df.iloc[i]['low']) and (up_reversal[1] > df.iloc[i]['RSX']) and up_reversal[2] < df.iloc[i]['date']:\n",
    "        #             df.loc[i, 'hidden_up_divergence'] = True\n",
    "                \n",
    "        #     for down_reversal in down_reversals[-5:]:\n",
    "        #         if (down_reversal[0] > df.iloc[i]['high']) and (down_reversal[1] < df.iloc[i]['RSX']) and down_reversal[2] < df.iloc[i]['date']:\n",
    "        #             df.loc[i, 'hidden_down_divergence'] = True\n",
    "    return df\n",
    "\n",
    "def add_rsx_LF(period:int,df:pd.DataFrame)->pd.DataFrame:\n",
    "    df[\"RSX\"] = ta.rsx(round((df['close']+df['high']+df['low'])/3,2), period)\n",
    "    df['RSXslope'] = df['RSX'].pct_change()*100\n",
    "    df['RSX_up_reversal'] = ((df['RSXslope'].shift(1) < 0) & (df['RSXslope'] > 0)) & (df['RSXslope'].shift(1).rolling(5).sum()<-6)\n",
    "    df['RSX_down_reversal'] = ((df['RSXslope'].shift(1) > 0) & (df['RSXslope'] < 0)) & (df['RSXslope'].shift(1).rolling(5).sum()>6)\n",
    "\n",
    "    up_reversals = []\n",
    "    down_reversals = []\n",
    "    df['classic_up_divergence'] = False\n",
    "    df['classic_down_divergence'] = False\n",
    "\n",
    "    for i in range(len(df) - 200, len(df)):\n",
    "        if df.iloc[i]['RSX_up_reversal']:\n",
    "            up_reversals.append(min((df.iloc[i]['low'],df.iloc[i-1]['RSX'],df.iloc[i]['date']),\n",
    "                (df.iloc[i-1]['low'],df.iloc[i-1]['RSX'],df.iloc[i-1]['date']),\n",
    "                (df.iloc[i-2]['low'],df.iloc[i-1]['RSX'],df.iloc[i-2]['date']),\n",
    "                (df.iloc[i-3]['low'],df.iloc[i-1]['RSX'],df.iloc[i-3]['date']),\n",
    "                (df.iloc[i-4]['low'],df.iloc[i-1]['RSX'],df.iloc[i-4]['date']),\n",
    "                (df.iloc[i-5]['low'],df.iloc[i-1]['RSX'],df.iloc[i-5]['date'])))\n",
    "\n",
    "        if df.iloc[i]['RSX_down_reversal']:\n",
    "            down_reversals.append(max((df.iloc[i]['high'],df.iloc[i-1]['RSX'],df.iloc[i]['date']),\n",
    "                (df.iloc[i-1]['high'],df.iloc[i-1]['RSX'],df.iloc[i-1]['date']),\n",
    "                (df.iloc[i-2]['high'],df.iloc[i-1]['RSX'],df.iloc[i-2]['date']),\n",
    "                (df.iloc[i-3]['high'],df.iloc[i-1]['RSX'],df.iloc[i-3]['date']),\n",
    "                (df.iloc[i-4]['high'],df.iloc[i-1]['RSX'],df.iloc[i-4]['date']),\n",
    "                (df.iloc[i-5]['high'],df.iloc[i-1]['RSX'],df.iloc[i-5]['date'])))\n",
    "                \n",
    "        if (up_reversals and down_reversals):\n",
    "            for up_reversal in up_reversals[-1:]:    \n",
    "                if (up_reversal[0] > df.iloc[i]['low']) and (up_reversal[1] < df.iloc[i]['RSX']) and up_reversal[2] < df.iloc[i]['date']:\n",
    "                    df.loc[i, 'classic_up_divergence'] = True\n",
    "\n",
    "            for down_reversal in down_reversals[-1:]:       \n",
    "                if (down_reversal[0] < df.iloc[i]['high']) and (down_reversal[1] > df.iloc[i]['RSX']) and down_reversal[2] < df.iloc[i]['date']:\n",
    "                    df.loc[i, 'classic_down_divergence'] = True\n",
    "                \n",
    "    return df\n",
    "\n",
    "def three_candle_up_fractal(left:list,medium:list,right:list):\n",
    "    #ohlc - 0123\n",
    "    if left[0] > left[3] and right[0] < right[3] and left[0] > medium[3] and left[0] < right[3] and (left[0]-left[3])*2 > (right[3]-right[0]):\n",
    "        return True\n",
    "        \n",
    "def three_candle_down_fractal(left:list,medium:list,right:list):\n",
    "    #ohlc - 0123\n",
    "    if left[0] < left[3] and right[0] > right[3] and left[0] < medium[3] and left[0] > right[3] and (left[3]-left[0])*2 > (right[0]-right[3]):\n",
    "        return True\n",
    "    \n",
    "def hammer_up(current:list):\n",
    "    #ohlc - 0123\n",
    "    #При первом множителе 2 винрейт почти такой же, но сделок больше, что увеличивает прибыль\n",
    "    if current[0]>current[3]:\n",
    "        if (current[0]-current[3])*3 < (current[1]-current[2]) and (current[1]-current[0])*2 < (current[0]-current[2]):\n",
    "            return True\n",
    "    if current[0]<current[3]:\n",
    "        if (current[3]-current[0])*3 < (current[1]-current[2]) and (current[1]-current[3])*2 < (current[3]-current[2]):\n",
    "            return True\n",
    "\n",
    "def falling_star_down(current:list):\n",
    "    if current[0]>current[3]:\n",
    "        if (current[0]-current[3])*3 < (current[1]-current[2]) and (current[3]-current[2])*2 < (current[1]-current[3]):\n",
    "            return True\n",
    "    \n",
    "    if current[0]<current[3]:\n",
    "        if (current[3]-current[0])*3 < (current[1]-current[2]) and (current[0]-current[2])*2 < (current[1]-current[0]):\n",
    "            return True\n",
    "    \n",
    "def down_engulfing(left:list,right:list):\n",
    "    #ohlc - 0123\n",
    "    if left[0]<left[3] and right[3]<left[0] and (left[3]-left[0])*2 > (right[0]-right[3]):\n",
    "        return True\n",
    "    \n",
    "def up_engulfing(left:list,right:list):\n",
    "    #ohlc - 0123\n",
    "    if left[0]>left[3] and right[3]>left[0] and (left[0]-left[3])*2 > (right[3]-right[0]):\n",
    "        return True\n",
    "\n",
    "def backtest(data: pd.DataFrame, buy_orders: list, sell_orders: list,depo:int,risk:int,chart=False):\n",
    "    # Initialize variables to store statistics\n",
    "    startdepo = depo\n",
    "    buy_profit = 0\n",
    "    buy_loss = 0\n",
    "    sell_profit = 0\n",
    "    sell_loss = 0\n",
    "        \n",
    "    win_buy_trades = 0\n",
    "    lose_buy_trades = 0\n",
    "\n",
    "    win_sell_trades = 0\n",
    "    lose_sell_trades = 0\n",
    "    lose = depo*0.01*risk\n",
    "    depolist = [depo]\n",
    "    # Iterate through buy orders\n",
    "    for order in buy_orders:\n",
    "        open_price = order[0]\n",
    "        stop_loss = order[1]\n",
    "        take_profit = order[2]\n",
    "        open_date = order[3]\n",
    "\n",
    "        # Iterate through data starting from the open date\n",
    "        for i in range(1, len(data)):\n",
    "            if data.iloc[i]['date'] > open_date:\n",
    "                if data.iloc[i]['high'] >= take_profit:\n",
    "                    depo += round((take_profit - open_price)/(open_price - stop_loss),2)*lose-(depo*0.01*risk*0.04)\n",
    "                    win_buy_trades += 1\n",
    "                    depolist.append(depo)\n",
    "                    break\n",
    "                elif data.iloc[i]['low'] <= stop_loss:\n",
    "                    depo -= 1*lose+(depo*0.01*0.04)\n",
    "                    lose_buy_trades += 1\n",
    "                    depolist.append(depo)\n",
    "                    break\n",
    "    \n",
    "    # Iterate through sell orders\n",
    "    for order in sell_orders:\n",
    "        open_price = order[0]\n",
    "        stop_loss = order[1]\n",
    "        take_profit = order[2]\n",
    "        open_date = order[3]\n",
    "        \n",
    "        # Iterate through data starting from the open date\n",
    "        for i in range(1, len(data)):\n",
    "            if data.iloc[i]['date'] > open_date:\n",
    "                if data.iloc[i]['low'] <= take_profit:\n",
    "                    depo += round((open_price - take_profit)/(stop_loss - open_price),2)*lose-(depo*0.01*risk*0.04)\n",
    "                    win_sell_trades += 1\n",
    "                    depolist.append(depo)\n",
    "                    break\n",
    "                elif data.iloc[i]['high'] >= stop_loss:\n",
    "                    depo -= 1*lose+(depo*0.01*0.04)\n",
    "                    lose_sell_trades += 1\n",
    "                    depolist.append(depo)\n",
    "                    break\n",
    "    buy_winrate = 0\n",
    "    sell_winrate = 0\n",
    "    if len(buy_orders)>0:\n",
    "        buy_winrate = round((win_buy_trades)/len(buy_orders)*100,2)\n",
    "    if len(sell_orders)>0:\n",
    "        sell_winrate = round((win_sell_trades)/len(sell_orders)*100,2)\n",
    "    total_trades = win_buy_trades + win_sell_trades + lose_buy_trades + lose_sell_trades\n",
    "    \n",
    "    peak = depolist[0]\n",
    "    max_drawdown = 0\n",
    "    maxdrawdownpeak = 0\n",
    "    \n",
    "    for deposit in depolist:\n",
    "        peak = max(peak, deposit)\n",
    "        drawdown = round((peak - deposit)/peak*100,2)\n",
    "        if max_drawdown < drawdown:\n",
    "            max_drawdown = max(max_drawdown, drawdown)\n",
    "            maxdrawdownpeak = peak\n",
    "            \n",
    "    print(f\"\"\"\n",
    "        Total trades: {total_trades},\n",
    "        Total win trades: {win_buy_trades + win_sell_trades}\n",
    "        Total lose trades: {lose_buy_trades + lose_sell_trades}\n",
    "        Total buy trades: {win_buy_trades + lose_buy_trades}\n",
    "        Total sell trades: {win_sell_trades + lose_sell_trades}\n",
    "        Winrate: {round((win_buy_trades+win_sell_trades)/total_trades*100,2)}%\n",
    "        Winrate buy trades: {buy_winrate}%\n",
    "        Winrate sell trades: {sell_winrate}%\n",
    "        Risk: {risk}%\n",
    "        Start deposit: {startdepo}$\n",
    "        Deposit: {round(depo,3)}$\n",
    "        Max Drawdown(%): {max_drawdown}%\n",
    "        Max Drawdown($): {round(maxdrawdownpeak*0.01*max_drawdown,2)}$\"\"\"\n",
    "    )\n",
    "    if chart:\n",
    "        fig = go.Figure(data=[go.Scatter(x=list(range(len(depolist))), y=depolist,mode='lines')])\n",
    "        fig.show()\n"
   ]
  },
  {
   "cell_type": "code",
   "execution_count": 128,
   "metadata": {},
   "outputs": [],
   "source": [
    "df_higher_tf = get_price_data_binance('BTCUSDT',1000,start_str='12:00 22 Jan, 2023', end_str='25 Jan, 2023',interval=Client.KLINE_INTERVAL_30MINUTE)\n",
    "df_lower_tf = get_price_data_binance('BTCUSDT',1000,start_str='12:00 22 Jan, 2023', end_str='25 Jan, 2023',interval=Client.KLINE_INTERVAL_15MINUTE)\n",
    "# df_higher_tf2 = get_price_data_binance('BTCUSDT',1000,start_str='18 Dec, 2022', end_str='7 Jan, 2023',interval=Client.KLINE_INTERVAL_30MINUTE)\n",
    "# df_higher_tf3 = get_price_data_binance('BTCUSDT',1000,start_str='28 Nov, 2022', end_str='18 Dec, 2022',interval=Client.KLINE_INTERVAL_30MINUTE)\n",
    "# df_higher_tf4 = get_price_data_binance('BTCUSDT',1000,start_str='7 Nov, 2022', end_str='28 Nov, 2022',interval=Client.KLINE_INTERVAL_30MINUTE)\n",
    "\n",
    "#df_lower_tf = get_price_data_binance('BTCUSDT',1000,interval=Client.KLINE_INTERVAL_5MINUTE)"
   ]
  },
  {
   "cell_type": "code",
   "execution_count": 129,
   "metadata": {},
   "outputs": [],
   "source": [
    "# df_higher_tf = pd.concat([df_higher_tf4, df_higher_tf3, df_higher_tf2, df_higher_tf1], axis=0)\n",
    "# df_higher_tf = df_higher_tf.reset_index(drop=True)"
   ]
  },
  {
   "cell_type": "code",
   "execution_count": 130,
   "metadata": {},
   "outputs": [
    {
     "data": {
      "application/vnd.plotly.v1+json": {
       "config": {
        "plotlyServerURL": "https://plot.ly"
       },
       "data": [
        {
         "close": [
          22718.13,
          22869.56,
          22897.69,
          22897.79,
          22931.95,
          22990.41,
          22778.43,
          22794.51,
          22831.53,
          22819.28,
          22892.04,
          22922.34,
          22876.55,
          22838,
          22807.42,
          22722.15,
          22570.42,
          22459.46,
          22439.79,
          22585.37,
          22566.72,
          22676.48,
          22686.05,
          22707.88,
          22775.68,
          22745.28,
          22784.11,
          22699.37,
          22743.45,
          22752.05,
          22715.19,
          22661.02,
          22690.18,
          22758.32,
          22750.77,
          22723.63,
          22735.28,
          22773.33,
          22680.35,
          22695.9,
          22693.19,
          22719.28,
          22781.65,
          22784.18,
          22895.64,
          22909.95,
          22835.64,
          22904.58,
          22863.55,
          22910.74,
          22873.4,
          22798.41,
          22793.63,
          22622.05,
          22864.28,
          22853.14,
          22811.38,
          22911.17,
          22905.29,
          23065.22,
          23105.33,
          22936.2,
          22845.11,
          22792.47,
          22852.4,
          23022.64,
          22983.75,
          22996,
          22981.37,
          22925.32,
          22923.82,
          22916.45,
          22977.46,
          22986.44,
          22948.14,
          23089.46,
          23116.75,
          23036.68,
          23022.83,
          23079.27,
          23103.37,
          23072.15,
          23070.87,
          23118.17,
          23132.86,
          23095.63,
          23091.23,
          23054.08,
          23073.76,
          23053.12,
          22917.4,
          22852.79,
          22915.24,
          22902.51,
          22922.55,
          22917.66,
          22996.13,
          22964.13,
          22956.13,
          22859.93,
          22851.77,
          22859.1,
          22909.91,
          22931.36,
          22942.92,
          22875.18,
          22900.78,
          22913.49,
          22994.84,
          22999.85,
          22997.44,
          23018.53,
          22981.15,
          23010.34,
          22995.5,
          22902.84,
          22693.13,
          22755.52,
          22621.56,
          22632.89,
          22547.06
         ],
         "high": [
          22800.34,
          22871.68,
          22919.07,
          22930.01,
          22938.12,
          23040,
          23078.71,
          22866.95,
          22836.18,
          22862.27,
          22913.5,
          22959.71,
          22936.84,
          22894.65,
          22856.75,
          22844,
          22736,
          22603.29,
          22490.66,
          22639.71,
          22624.96,
          22698,
          22754.99,
          22773.89,
          22781.05,
          22811.15,
          22826.46,
          22793.27,
          22757.65,
          22756.64,
          22771.14,
          22722,
          22719.83,
          22759.49,
          22769.71,
          22753,
          22760,
          22794.33,
          22786,
          22730.66,
          22769.53,
          22758.9,
          22783.99,
          22788,
          22940.69,
          22957.25,
          22930,
          22916.24,
          22921,
          22978,
          22939.49,
          22892,
          22829,
          23115,
          22873.37,
          22920,
          22935.78,
          22930,
          22923.33,
          23067.86,
          23180,
          23149.55,
          22967.99,
          22880.04,
          22874.97,
          23034.9,
          23044.56,
          23015.03,
          23034.46,
          23005.11,
          22937,
          22959.92,
          22988,
          23009.79,
          23030,
          23105.52,
          23144.76,
          23127.64,
          23058.84,
          23084,
          23121.66,
          23108,
          23078,
          23162.2,
          23155.82,
          23134.47,
          23128.99,
          23098.57,
          23090.25,
          23089.11,
          23058.29,
          22926.46,
          22924.88,
          22942.7,
          22930.38,
          22933.32,
          22999.72,
          23035.31,
          23016.8,
          22975,
          22946.55,
          22961.18,
          22920.67,
          22959.88,
          22949.26,
          22946.7,
          22927.37,
          22922.81,
          23050,
          23042.52,
          23015.94,
          23079,
          23040.27,
          23029.91,
          23080.45,
          23021.33,
          22929.63,
          22851,
          22786.96,
          22660.63,
          22670
         ],
         "low": [
          22700.01,
          22700.01,
          22846.82,
          22872.77,
          22866.81,
          22868.82,
          22645.59,
          22744.11,
          22689.72,
          22786.92,
          22780.5,
          22868.42,
          22870,
          22818.84,
          22766.01,
          22687.13,
          22430.66,
          22292.37,
          22317,
          22434.66,
          22560,
          22536.26,
          22641.11,
          22675.02,
          22660.67,
          22727.11,
          22743.82,
          22690.3,
          22690.3,
          22707.49,
          22692.38,
          22646.43,
          22659.12,
          22682.72,
          22720.57,
          22706.25,
          22691.66,
          22721.01,
          22600.14,
          22657.18,
          22662.38,
          22680,
          22703.26,
          22740.24,
          22764.91,
          22879.36,
          22826.23,
          22827.8,
          22808.9,
          22851.55,
          22834.58,
          22668.43,
          22674.91,
          22500,
          22586.68,
          22802,
          22803.03,
          22765.27,
          22852.59,
          22850.15,
          22990,
          22862.07,
          22796.57,
          22654,
          22753.71,
          22822.55,
          22937.54,
          22942.24,
          22959.72,
          22852.01,
          22869.12,
          22890.46,
          22864.67,
          22937.11,
          22930.14,
          22930.12,
          23068.26,
          23036.27,
          23002.31,
          23015.32,
          23066.23,
          23062.82,
          23026.01,
          23069.5,
          23110.03,
          23062.55,
          23085.76,
          23006.98,
          23033.8,
          23042.29,
          22825,
          22770,
          22846.12,
          22897.81,
          22870,
          22866.23,
          22882.09,
          22957.6,
          22942.36,
          22785.01,
          22800.01,
          22711,
          22750.01,
          22856.13,
          22868.75,
          22841.48,
          22785.59,
          22868.68,
          22877.19,
          22978.97,
          22961.85,
          22987,
          22927.8,
          22879.08,
          22966.83,
          22818.02,
          22669.42,
          22692.24,
          22462.93,
          22543.9,
          22498
         ],
         "open": [
          22784.74,
          22718.22,
          22869.56,
          22897.07,
          22897.79,
          22933.2,
          22990.42,
          22778.43,
          22794.63,
          22830.39,
          22819.38,
          22892.04,
          22922.34,
          22875.4,
          22838,
          22808.12,
          22721.88,
          22569.13,
          22459.46,
          22438.48,
          22585.38,
          22567.63,
          22676.48,
          22686.05,
          22706.02,
          22775.7,
          22744.83,
          22784.12,
          22699.37,
          22742.54,
          22752.71,
          22714.7,
          22661.02,
          22689.68,
          22758.32,
          22749.83,
          22724.48,
          22735.28,
          22773.92,
          22680.35,
          22696.61,
          22693.19,
          22719.28,
          22782.5,
          22784.85,
          22896.46,
          22909.95,
          22835.64,
          22904.58,
          22862.33,
          22911.6,
          22873.4,
          22799.89,
          22793.63,
          22627.71,
          22862.02,
          22855.44,
          22813.04,
          22911.86,
          22905.28,
          23065.22,
          23105.33,
          22935.95,
          22847.31,
          22792.47,
          22852.4,
          23020.53,
          22983.75,
          22996.82,
          22981.69,
          22925.32,
          22923.8,
          22917.81,
          22976.88,
          22985.52,
          22947.29,
          23088.48,
          23116.75,
          23036.68,
          23022.83,
          23079.87,
          23102.44,
          23072.17,
          23070.78,
          23118.44,
          23132.79,
          23094.85,
          23092.3,
          23054.7,
          23072.93,
          23052.67,
          22918.25,
          22852.21,
          22915.24,
          22902.51,
          22923.22,
          22917.11,
          22994.94,
          22963.2,
          22957.52,
          22860.37,
          22853.65,
          22859.1,
          22908.8,
          22931.36,
          22943.63,
          22875.18,
          22900.32,
          22913.49,
          22994.9,
          23000,
          22997.44,
          23017.73,
          22980.34,
          23009.3,
          22995.5,
          22902.84,
          22693.98,
          22755.47,
          22621.56,
          22631.94
         ],
         "type": "candlestick",
         "x": [
          "2023-01-22T12:00:00",
          "2023-01-22T12:30:00",
          "2023-01-22T13:00:00",
          "2023-01-22T13:30:00",
          "2023-01-22T14:00:00",
          "2023-01-22T14:30:00",
          "2023-01-22T15:00:00",
          "2023-01-22T15:30:00",
          "2023-01-22T16:00:00",
          "2023-01-22T16:30:00",
          "2023-01-22T17:00:00",
          "2023-01-22T17:30:00",
          "2023-01-22T18:00:00",
          "2023-01-22T18:30:00",
          "2023-01-22T19:00:00",
          "2023-01-22T19:30:00",
          "2023-01-22T20:00:00",
          "2023-01-22T20:30:00",
          "2023-01-22T21:00:00",
          "2023-01-22T21:30:00",
          "2023-01-22T22:00:00",
          "2023-01-22T22:30:00",
          "2023-01-22T23:00:00",
          "2023-01-22T23:30:00",
          "2023-01-23T00:00:00",
          "2023-01-23T00:30:00",
          "2023-01-23T01:00:00",
          "2023-01-23T01:30:00",
          "2023-01-23T02:00:00",
          "2023-01-23T02:30:00",
          "2023-01-23T03:00:00",
          "2023-01-23T03:30:00",
          "2023-01-23T04:00:00",
          "2023-01-23T04:30:00",
          "2023-01-23T05:00:00",
          "2023-01-23T05:30:00",
          "2023-01-23T06:00:00",
          "2023-01-23T06:30:00",
          "2023-01-23T07:00:00",
          "2023-01-23T07:30:00",
          "2023-01-23T08:00:00",
          "2023-01-23T08:30:00",
          "2023-01-23T09:00:00",
          "2023-01-23T09:30:00",
          "2023-01-23T10:00:00",
          "2023-01-23T10:30:00",
          "2023-01-23T11:00:00",
          "2023-01-23T11:30:00",
          "2023-01-23T12:00:00",
          "2023-01-23T12:30:00",
          "2023-01-23T13:00:00",
          "2023-01-23T13:30:00",
          "2023-01-23T14:00:00",
          "2023-01-23T14:30:00",
          "2023-01-23T15:00:00",
          "2023-01-23T15:30:00",
          "2023-01-23T16:00:00",
          "2023-01-23T16:30:00",
          "2023-01-23T17:00:00",
          "2023-01-23T17:30:00",
          "2023-01-23T18:00:00",
          "2023-01-23T18:30:00",
          "2023-01-23T19:00:00",
          "2023-01-23T19:30:00",
          "2023-01-23T20:00:00",
          "2023-01-23T20:30:00",
          "2023-01-23T21:00:00",
          "2023-01-23T21:30:00",
          "2023-01-23T22:00:00",
          "2023-01-23T22:30:00",
          "2023-01-23T23:00:00",
          "2023-01-23T23:30:00",
          "2023-01-24T00:00:00",
          "2023-01-24T00:30:00",
          "2023-01-24T01:00:00",
          "2023-01-24T01:30:00",
          "2023-01-24T02:00:00",
          "2023-01-24T02:30:00",
          "2023-01-24T03:00:00",
          "2023-01-24T03:30:00",
          "2023-01-24T04:00:00",
          "2023-01-24T04:30:00",
          "2023-01-24T05:00:00",
          "2023-01-24T05:30:00",
          "2023-01-24T06:00:00",
          "2023-01-24T06:30:00",
          "2023-01-24T07:00:00",
          "2023-01-24T07:30:00",
          "2023-01-24T08:00:00",
          "2023-01-24T08:30:00",
          "2023-01-24T09:00:00",
          "2023-01-24T09:30:00",
          "2023-01-24T10:00:00",
          "2023-01-24T10:30:00",
          "2023-01-24T11:00:00",
          "2023-01-24T11:30:00",
          "2023-01-24T12:00:00",
          "2023-01-24T12:30:00",
          "2023-01-24T13:00:00",
          "2023-01-24T13:30:00",
          "2023-01-24T14:00:00",
          "2023-01-24T14:30:00",
          "2023-01-24T15:00:00",
          "2023-01-24T15:30:00",
          "2023-01-24T16:00:00",
          "2023-01-24T16:30:00",
          "2023-01-24T17:00:00",
          "2023-01-24T17:30:00",
          "2023-01-24T18:00:00",
          "2023-01-24T18:30:00",
          "2023-01-24T19:00:00",
          "2023-01-24T19:30:00",
          "2023-01-24T20:00:00",
          "2023-01-24T20:30:00",
          "2023-01-24T21:00:00",
          "2023-01-24T21:30:00",
          "2023-01-24T22:00:00",
          "2023-01-24T22:30:00",
          "2023-01-24T23:00:00",
          "2023-01-24T23:30:00",
          "2023-01-25T00:00:00"
         ]
        },
        {
         "marker": {
          "color": "green",
          "size": 4
         },
         "mode": "markers",
         "type": "scatter",
         "x": [
          "2023-01-22T22:30:00"
         ],
         "y": [
          22633.04
         ]
        },
        {
         "marker": {
          "color": "green",
          "size": 4
         },
         "mode": "markers",
         "type": "scatter",
         "x": [
          "2023-01-23T20:30:00"
         ],
         "y": [
          22906.26
         ]
        },
        {
         "marker": {
          "color": "red",
          "size": 4
         },
         "mode": "markers",
         "type": "scatter",
         "x": [
          "2023-01-22T18:30:00"
         ],
         "y": [
          22863.38
         ]
        },
        {
         "marker": {
          "color": "red",
          "size": 4
         },
         "mode": "markers",
         "type": "scatter",
         "x": [
          "2023-01-22T19:30:00"
         ],
         "y": [
          22751
         ]
        },
        {
         "marker": {
          "color": "red",
          "size": 4
         },
         "mode": "markers",
         "type": "scatter",
         "x": [
          "2023-01-22T20:00:00"
         ],
         "y": [
          22645.21
         ]
        },
        {
         "marker": {
          "color": "red",
          "size": 4
         },
         "mode": "markers",
         "type": "scatter",
         "x": [
          "2023-01-23T18:30:00"
         ],
         "y": [
          22979
         ]
        },
        {
         "marker": {
          "color": "red",
          "size": 4
         },
         "mode": "markers",
         "type": "scatter",
         "x": [
          "2023-01-24T09:00:00"
         ],
         "y": [
          22984.38
         ]
        },
        {
         "marker": {
          "color": "red",
          "size": 4
         },
         "mode": "markers",
         "type": "scatter",
         "x": [
          "2023-01-24T21:30:00"
         ],
         "y": [
          22948.23
         ]
        }
       ],
       "layout": {
        "showlegend": false,
        "template": {
         "data": {
          "bar": [
           {
            "error_x": {
             "color": "#2a3f5f"
            },
            "error_y": {
             "color": "#2a3f5f"
            },
            "marker": {
             "line": {
              "color": "#E5ECF6",
              "width": 0.5
             },
             "pattern": {
              "fillmode": "overlay",
              "size": 10,
              "solidity": 0.2
             }
            },
            "type": "bar"
           }
          ],
          "barpolar": [
           {
            "marker": {
             "line": {
              "color": "#E5ECF6",
              "width": 0.5
             },
             "pattern": {
              "fillmode": "overlay",
              "size": 10,
              "solidity": 0.2
             }
            },
            "type": "barpolar"
           }
          ],
          "carpet": [
           {
            "aaxis": {
             "endlinecolor": "#2a3f5f",
             "gridcolor": "white",
             "linecolor": "white",
             "minorgridcolor": "white",
             "startlinecolor": "#2a3f5f"
            },
            "baxis": {
             "endlinecolor": "#2a3f5f",
             "gridcolor": "white",
             "linecolor": "white",
             "minorgridcolor": "white",
             "startlinecolor": "#2a3f5f"
            },
            "type": "carpet"
           }
          ],
          "choropleth": [
           {
            "colorbar": {
             "outlinewidth": 0,
             "ticks": ""
            },
            "type": "choropleth"
           }
          ],
          "contour": [
           {
            "colorbar": {
             "outlinewidth": 0,
             "ticks": ""
            },
            "colorscale": [
             [
              0,
              "#0d0887"
             ],
             [
              0.1111111111111111,
              "#46039f"
             ],
             [
              0.2222222222222222,
              "#7201a8"
             ],
             [
              0.3333333333333333,
              "#9c179e"
             ],
             [
              0.4444444444444444,
              "#bd3786"
             ],
             [
              0.5555555555555556,
              "#d8576b"
             ],
             [
              0.6666666666666666,
              "#ed7953"
             ],
             [
              0.7777777777777778,
              "#fb9f3a"
             ],
             [
              0.8888888888888888,
              "#fdca26"
             ],
             [
              1,
              "#f0f921"
             ]
            ],
            "type": "contour"
           }
          ],
          "contourcarpet": [
           {
            "colorbar": {
             "outlinewidth": 0,
             "ticks": ""
            },
            "type": "contourcarpet"
           }
          ],
          "heatmap": [
           {
            "colorbar": {
             "outlinewidth": 0,
             "ticks": ""
            },
            "colorscale": [
             [
              0,
              "#0d0887"
             ],
             [
              0.1111111111111111,
              "#46039f"
             ],
             [
              0.2222222222222222,
              "#7201a8"
             ],
             [
              0.3333333333333333,
              "#9c179e"
             ],
             [
              0.4444444444444444,
              "#bd3786"
             ],
             [
              0.5555555555555556,
              "#d8576b"
             ],
             [
              0.6666666666666666,
              "#ed7953"
             ],
             [
              0.7777777777777778,
              "#fb9f3a"
             ],
             [
              0.8888888888888888,
              "#fdca26"
             ],
             [
              1,
              "#f0f921"
             ]
            ],
            "type": "heatmap"
           }
          ],
          "heatmapgl": [
           {
            "colorbar": {
             "outlinewidth": 0,
             "ticks": ""
            },
            "colorscale": [
             [
              0,
              "#0d0887"
             ],
             [
              0.1111111111111111,
              "#46039f"
             ],
             [
              0.2222222222222222,
              "#7201a8"
             ],
             [
              0.3333333333333333,
              "#9c179e"
             ],
             [
              0.4444444444444444,
              "#bd3786"
             ],
             [
              0.5555555555555556,
              "#d8576b"
             ],
             [
              0.6666666666666666,
              "#ed7953"
             ],
             [
              0.7777777777777778,
              "#fb9f3a"
             ],
             [
              0.8888888888888888,
              "#fdca26"
             ],
             [
              1,
              "#f0f921"
             ]
            ],
            "type": "heatmapgl"
           }
          ],
          "histogram": [
           {
            "marker": {
             "pattern": {
              "fillmode": "overlay",
              "size": 10,
              "solidity": 0.2
             }
            },
            "type": "histogram"
           }
          ],
          "histogram2d": [
           {
            "colorbar": {
             "outlinewidth": 0,
             "ticks": ""
            },
            "colorscale": [
             [
              0,
              "#0d0887"
             ],
             [
              0.1111111111111111,
              "#46039f"
             ],
             [
              0.2222222222222222,
              "#7201a8"
             ],
             [
              0.3333333333333333,
              "#9c179e"
             ],
             [
              0.4444444444444444,
              "#bd3786"
             ],
             [
              0.5555555555555556,
              "#d8576b"
             ],
             [
              0.6666666666666666,
              "#ed7953"
             ],
             [
              0.7777777777777778,
              "#fb9f3a"
             ],
             [
              0.8888888888888888,
              "#fdca26"
             ],
             [
              1,
              "#f0f921"
             ]
            ],
            "type": "histogram2d"
           }
          ],
          "histogram2dcontour": [
           {
            "colorbar": {
             "outlinewidth": 0,
             "ticks": ""
            },
            "colorscale": [
             [
              0,
              "#0d0887"
             ],
             [
              0.1111111111111111,
              "#46039f"
             ],
             [
              0.2222222222222222,
              "#7201a8"
             ],
             [
              0.3333333333333333,
              "#9c179e"
             ],
             [
              0.4444444444444444,
              "#bd3786"
             ],
             [
              0.5555555555555556,
              "#d8576b"
             ],
             [
              0.6666666666666666,
              "#ed7953"
             ],
             [
              0.7777777777777778,
              "#fb9f3a"
             ],
             [
              0.8888888888888888,
              "#fdca26"
             ],
             [
              1,
              "#f0f921"
             ]
            ],
            "type": "histogram2dcontour"
           }
          ],
          "mesh3d": [
           {
            "colorbar": {
             "outlinewidth": 0,
             "ticks": ""
            },
            "type": "mesh3d"
           }
          ],
          "parcoords": [
           {
            "line": {
             "colorbar": {
              "outlinewidth": 0,
              "ticks": ""
             }
            },
            "type": "parcoords"
           }
          ],
          "pie": [
           {
            "automargin": true,
            "type": "pie"
           }
          ],
          "scatter": [
           {
            "fillpattern": {
             "fillmode": "overlay",
             "size": 10,
             "solidity": 0.2
            },
            "type": "scatter"
           }
          ],
          "scatter3d": [
           {
            "line": {
             "colorbar": {
              "outlinewidth": 0,
              "ticks": ""
             }
            },
            "marker": {
             "colorbar": {
              "outlinewidth": 0,
              "ticks": ""
             }
            },
            "type": "scatter3d"
           }
          ],
          "scattercarpet": [
           {
            "marker": {
             "colorbar": {
              "outlinewidth": 0,
              "ticks": ""
             }
            },
            "type": "scattercarpet"
           }
          ],
          "scattergeo": [
           {
            "marker": {
             "colorbar": {
              "outlinewidth": 0,
              "ticks": ""
             }
            },
            "type": "scattergeo"
           }
          ],
          "scattergl": [
           {
            "marker": {
             "colorbar": {
              "outlinewidth": 0,
              "ticks": ""
             }
            },
            "type": "scattergl"
           }
          ],
          "scattermapbox": [
           {
            "marker": {
             "colorbar": {
              "outlinewidth": 0,
              "ticks": ""
             }
            },
            "type": "scattermapbox"
           }
          ],
          "scatterpolar": [
           {
            "marker": {
             "colorbar": {
              "outlinewidth": 0,
              "ticks": ""
             }
            },
            "type": "scatterpolar"
           }
          ],
          "scatterpolargl": [
           {
            "marker": {
             "colorbar": {
              "outlinewidth": 0,
              "ticks": ""
             }
            },
            "type": "scatterpolargl"
           }
          ],
          "scatterternary": [
           {
            "marker": {
             "colorbar": {
              "outlinewidth": 0,
              "ticks": ""
             }
            },
            "type": "scatterternary"
           }
          ],
          "surface": [
           {
            "colorbar": {
             "outlinewidth": 0,
             "ticks": ""
            },
            "colorscale": [
             [
              0,
              "#0d0887"
             ],
             [
              0.1111111111111111,
              "#46039f"
             ],
             [
              0.2222222222222222,
              "#7201a8"
             ],
             [
              0.3333333333333333,
              "#9c179e"
             ],
             [
              0.4444444444444444,
              "#bd3786"
             ],
             [
              0.5555555555555556,
              "#d8576b"
             ],
             [
              0.6666666666666666,
              "#ed7953"
             ],
             [
              0.7777777777777778,
              "#fb9f3a"
             ],
             [
              0.8888888888888888,
              "#fdca26"
             ],
             [
              1,
              "#f0f921"
             ]
            ],
            "type": "surface"
           }
          ],
          "table": [
           {
            "cells": {
             "fill": {
              "color": "#EBF0F8"
             },
             "line": {
              "color": "white"
             }
            },
            "header": {
             "fill": {
              "color": "#C8D4E3"
             },
             "line": {
              "color": "white"
             }
            },
            "type": "table"
           }
          ]
         },
         "layout": {
          "annotationdefaults": {
           "arrowcolor": "#2a3f5f",
           "arrowhead": 0,
           "arrowwidth": 1
          },
          "autotypenumbers": "strict",
          "coloraxis": {
           "colorbar": {
            "outlinewidth": 0,
            "ticks": ""
           }
          },
          "colorscale": {
           "diverging": [
            [
             0,
             "#8e0152"
            ],
            [
             0.1,
             "#c51b7d"
            ],
            [
             0.2,
             "#de77ae"
            ],
            [
             0.3,
             "#f1b6da"
            ],
            [
             0.4,
             "#fde0ef"
            ],
            [
             0.5,
             "#f7f7f7"
            ],
            [
             0.6,
             "#e6f5d0"
            ],
            [
             0.7,
             "#b8e186"
            ],
            [
             0.8,
             "#7fbc41"
            ],
            [
             0.9,
             "#4d9221"
            ],
            [
             1,
             "#276419"
            ]
           ],
           "sequential": [
            [
             0,
             "#0d0887"
            ],
            [
             0.1111111111111111,
             "#46039f"
            ],
            [
             0.2222222222222222,
             "#7201a8"
            ],
            [
             0.3333333333333333,
             "#9c179e"
            ],
            [
             0.4444444444444444,
             "#bd3786"
            ],
            [
             0.5555555555555556,
             "#d8576b"
            ],
            [
             0.6666666666666666,
             "#ed7953"
            ],
            [
             0.7777777777777778,
             "#fb9f3a"
            ],
            [
             0.8888888888888888,
             "#fdca26"
            ],
            [
             1,
             "#f0f921"
            ]
           ],
           "sequentialminus": [
            [
             0,
             "#0d0887"
            ],
            [
             0.1111111111111111,
             "#46039f"
            ],
            [
             0.2222222222222222,
             "#7201a8"
            ],
            [
             0.3333333333333333,
             "#9c179e"
            ],
            [
             0.4444444444444444,
             "#bd3786"
            ],
            [
             0.5555555555555556,
             "#d8576b"
            ],
            [
             0.6666666666666666,
             "#ed7953"
            ],
            [
             0.7777777777777778,
             "#fb9f3a"
            ],
            [
             0.8888888888888888,
             "#fdca26"
            ],
            [
             1,
             "#f0f921"
            ]
           ]
          },
          "colorway": [
           "#636efa",
           "#EF553B",
           "#00cc96",
           "#ab63fa",
           "#FFA15A",
           "#19d3f3",
           "#FF6692",
           "#B6E880",
           "#FF97FF",
           "#FECB52"
          ],
          "font": {
           "color": "#2a3f5f"
          },
          "geo": {
           "bgcolor": "white",
           "lakecolor": "white",
           "landcolor": "#E5ECF6",
           "showlakes": true,
           "showland": true,
           "subunitcolor": "white"
          },
          "hoverlabel": {
           "align": "left"
          },
          "hovermode": "closest",
          "mapbox": {
           "style": "light"
          },
          "paper_bgcolor": "white",
          "plot_bgcolor": "#E5ECF6",
          "polar": {
           "angularaxis": {
            "gridcolor": "white",
            "linecolor": "white",
            "ticks": ""
           },
           "bgcolor": "#E5ECF6",
           "radialaxis": {
            "gridcolor": "white",
            "linecolor": "white",
            "ticks": ""
           }
          },
          "scene": {
           "xaxis": {
            "backgroundcolor": "#E5ECF6",
            "gridcolor": "white",
            "gridwidth": 2,
            "linecolor": "white",
            "showbackground": true,
            "ticks": "",
            "zerolinecolor": "white"
           },
           "yaxis": {
            "backgroundcolor": "#E5ECF6",
            "gridcolor": "white",
            "gridwidth": 2,
            "linecolor": "white",
            "showbackground": true,
            "ticks": "",
            "zerolinecolor": "white"
           },
           "zaxis": {
            "backgroundcolor": "#E5ECF6",
            "gridcolor": "white",
            "gridwidth": 2,
            "linecolor": "white",
            "showbackground": true,
            "ticks": "",
            "zerolinecolor": "white"
           }
          },
          "shapedefaults": {
           "line": {
            "color": "#2a3f5f"
           }
          },
          "ternary": {
           "aaxis": {
            "gridcolor": "white",
            "linecolor": "white",
            "ticks": ""
           },
           "baxis": {
            "gridcolor": "white",
            "linecolor": "white",
            "ticks": ""
           },
           "bgcolor": "#E5ECF6",
           "caxis": {
            "gridcolor": "white",
            "linecolor": "white",
            "ticks": ""
           }
          },
          "title": {
           "x": 0.05
          },
          "xaxis": {
           "automargin": true,
           "gridcolor": "white",
           "linecolor": "white",
           "ticks": "",
           "title": {
            "standoff": 15
           },
           "zerolinecolor": "white",
           "zerolinewidth": 2
          },
          "yaxis": {
           "automargin": true,
           "gridcolor": "white",
           "linecolor": "white",
           "ticks": "",
           "title": {
            "standoff": 15
           },
           "zerolinecolor": "white",
           "zerolinewidth": 2
          }
         }
        }
       }
      }
     },
     "metadata": {},
     "output_type": "display_data"
    },
    {
     "data": {
      "application/vnd.plotly.v1+json": {
       "config": {
        "plotlyServerURL": "https://plot.ly"
       },
       "data": [
        {
         "close": [
          22739.53,
          22718.13,
          22800.52,
          22869.56,
          22893.88,
          22897.69,
          22908.85,
          22897.79,
          22882.4,
          22931.95,
          22905.29,
          22990.41,
          23039.94,
          22778.43,
          22814.96,
          22794.51,
          22748.27,
          22831.53,
          22831.88,
          22819.28,
          22864.02,
          22892.04,
          22896.4,
          22922.34,
          22910.64,
          22876.55,
          22854.78,
          22838,
          22777.1,
          22807.42,
          22838.34,
          22722.15,
          22531.56,
          22570.42,
          22516.1,
          22459.46,
          22418.11,
          22439.79,
          22555.52,
          22585.37,
          22600.55,
          22566.72,
          22561.05,
          22676.48,
          22731.84,
          22686.05,
          22727.8,
          22707.88,
          22684.11,
          22775.68,
          22765.6,
          22745.28,
          22800,
          22784.11,
          22757.73,
          22699.37,
          22732.45,
          22743.45,
          22714.26,
          22752.05,
          22756.08,
          22715.19,
          22694.42,
          22661.02,
          22701.99,
          22690.18,
          22731.8,
          22758.32,
          22742.19,
          22750.77,
          22741.28,
          22723.63,
          22738.44,
          22735.28,
          22769.69,
          22773.33,
          22743.44,
          22680.35,
          22707.07,
          22695.9,
          22742.25,
          22693.19,
          22746.08,
          22719.28,
          22744.48,
          22781.65,
          22763.14,
          22784.18,
          22856.97,
          22895.64,
          22902.09,
          22909.95,
          22872.8,
          22835.64,
          22883.63,
          22904.58,
          22869.86,
          22863.55,
          22907,
          22910.74,
          22890.44,
          22873.4,
          22869.23,
          22798.41,
          22731.15,
          22793.63,
          22803.53,
          22622.05,
          22775,
          22864.28,
          22864.33,
          22853.14,
          22874.57,
          22811.38,
          22867.3,
          22911.17,
          22880.98,
          22905.29,
          22884.99,
          23065.22,
          23120.79,
          23105.33,
          23110.1,
          22936.2,
          22930.74,
          22845.11,
          22746.61,
          22792.47,
          22836.9,
          22852.4,
          22884.68,
          23022.64,
          22957.27,
          22983.75,
          23012.93,
          22996,
          22967.77,
          22981.37,
          22947.12,
          22925.32,
          22906.04,
          22923.82,
          22935.82,
          22916.45,
          22942.09,
          22977.46,
          22974.17,
          22986.44,
          22980.7,
          22948.14,
          22972.4,
          23089.46,
          23095.21,
          23116.75,
          23085.46,
          23036.68,
          23034.26,
          23022.83,
          23048.82,
          23079.27,
          23090.09,
          23103.37,
          23092.13,
          23072.15,
          23050.38,
          23070.87,
          23151.44,
          23118.17,
          23125.19,
          23132.86,
          23108.67,
          23095.63,
          23105.29,
          23091.23,
          23059.15,
          23054.08,
          23043.55,
          23073.76,
          23078.19,
          23053.12,
          22919.43,
          22917.4,
          22809.93,
          22852.79,
          22884.56,
          22915.24,
          22931.49,
          22902.51,
          22904.61,
          22922.55,
          22901.73,
          22917.66,
          22890.01,
          22996.13,
          22987.43,
          22964.13,
          23000.22,
          22956.13,
          22826.18,
          22859.93,
          22937.04,
          22851.77,
          22843.16,
          22859.1,
          22890.44,
          22909.91,
          22907.63,
          22931.36,
          22892.77,
          22942.92,
          22902.79,
          22875.18,
          22876.83,
          22900.78,
          22897.71,
          22913.49,
          22995.35,
          22994.84,
          23012.28,
          22999.85,
          22988.75,
          22997.44,
          23029.87,
          23018.53,
          22975.78,
          22981.15,
          22907.49,
          23010.34,
          22995.87,
          22995.5,
          22994.6,
          22902.84,
          22897.15,
          22693.13,
          22825.99,
          22755.52,
          22688.52,
          22621.56,
          22605.96,
          22632.89,
          22639.46
         ],
         "high": [
          22800.34,
          22767.86,
          22810,
          22871.68,
          22919.07,
          22903.09,
          22930.01,
          22926.54,
          22914.08,
          22938.12,
          22943.31,
          23040,
          23078.71,
          23063.39,
          22829.74,
          22866.95,
          22814.05,
          22836.18,
          22840.95,
          22862.27,
          22887,
          22913.5,
          22950,
          22959.71,
          22936.84,
          22920,
          22894.65,
          22862.56,
          22856.75,
          22830.98,
          22844,
          22844,
          22736,
          22630,
          22603.29,
          22539.64,
          22490.66,
          22456.89,
          22569.38,
          22639.71,
          22624.96,
          22606.31,
          22586.88,
          22698,
          22754.99,
          22734.6,
          22773.89,
          22734.05,
          22745.8,
          22781.05,
          22811.15,
          22778.03,
          22826.46,
          22802.8,
          22793.27,
          22774,
          22743.27,
          22757.65,
          22754.1,
          22756.64,
          22771.14,
          22757.23,
          22722,
          22708.41,
          22704.61,
          22719.83,
          22740,
          22759.49,
          22769.71,
          22751.89,
          22753,
          22750.44,
          22749.41,
          22760,
          22779.04,
          22794.33,
          22786,
          22775.72,
          22730.66,
          22712.99,
          22755.55,
          22769.53,
          22749.96,
          22758.9,
          22746.71,
          22783.99,
          22788,
          22787.99,
          22900,
          22940.69,
          22925.78,
          22957.25,
          22930,
          22895.26,
          22911.52,
          22916.24,
          22921,
          22906.97,
          22913.01,
          22978,
          22939.49,
          22925.39,
          22892,
          22872.98,
          22829,
          22800,
          22821.29,
          23115,
          22799,
          22873.37,
          22899.99,
          22920,
          22935.78,
          22926.43,
          22891.48,
          22930,
          22914.58,
          22923.33,
          22909.04,
          23067.86,
          23127,
          23180,
          23149.55,
          23122.21,
          22967.99,
          22936.38,
          22880.04,
          22796.98,
          22862.98,
          22874.97,
          22893.36,
          23034.9,
          23044.56,
          22991.58,
          23015.03,
          23014.52,
          23034.46,
          22995,
          23005.11,
          22975,
          22937,
          22931.15,
          22947.66,
          22959.92,
          22946.69,
          22988,
          23009.79,
          22990.95,
          23030,
          23005.9,
          22990.46,
          23105.52,
          23120,
          23144.76,
          23127.64,
          23092.27,
          23058.84,
          23052.91,
          23066.51,
          23084,
          23094.29,
          23121.66,
          23108,
          23097.5,
          23077.37,
          23078,
          23162.2,
          23160.99,
          23155.82,
          23145.44,
          23134.47,
          23117.86,
          23112.18,
          23128.99,
          23098.57,
          23066.37,
          23069,
          23090.25,
          23089.11,
          23081.64,
          23058.29,
          22958,
          22926.46,
          22889.41,
          22906.93,
          22924.88,
          22942.7,
          22941.08,
          22920,
          22930.38,
          22933.32,
          22926.75,
          22931.65,
          22999.72,
          23035.31,
          22990.13,
          23016.8,
          23012.68,
          22975,
          22883,
          22946.55,
          22939.69,
          22886.4,
          22961.18,
          22894.08,
          22920.67,
          22924.14,
          22959.88,
          22943.26,
          22949.26,
          22946.7,
          22915.51,
          22889.52,
          22927.37,
          22922.81,
          22922.72,
          23002.64,
          23050,
          23042.52,
          23033.35,
          23003.04,
          23015.94,
          23079,
          23064.98,
          23040.27,
          22988.81,
          23010,
          23029.91,
          23080.45,
          23031.6,
          23021.33,
          22994.62,
          22929.63,
          22914.9,
          22851,
          22838.63,
          22786.96,
          22690.1,
          22660.63,
          22641.48,
          22670
         ],
         "low": [
          22719.24,
          22700.01,
          22700.01,
          22779.45,
          22846.82,
          22859.86,
          22872.77,
          22887.55,
          22866.81,
          22868.39,
          22894.99,
          22868.82,
          22967.56,
          22645.59,
          22744.11,
          22775.32,
          22689.72,
          22743.02,
          22786.92,
          22807.92,
          22780.5,
          22832.45,
          22868.42,
          22895.28,
          22882.34,
          22870,
          22818.84,
          22819.78,
          22766.01,
          22772.54,
          22800,
          22687.13,
          22430.66,
          22500.01,
          22433.19,
          22292.37,
          22350.82,
          22317,
          22434.66,
          22510,
          22560,
          22562.99,
          22536.26,
          22548.6,
          22641.11,
          22675.17,
          22675.02,
          22687.7,
          22666.48,
          22660.67,
          22751.42,
          22727.11,
          22743.82,
          22748.36,
          22742.53,
          22690.3,
          22690.3,
          22708.94,
          22708.01,
          22707.49,
          22740.01,
          22692.38,
          22646.43,
          22657.16,
          22659.12,
          22679.02,
          22682.72,
          22730.52,
          22733.42,
          22720.57,
          22710.43,
          22706.25,
          22691.66,
          22725.5,
          22721.01,
          22755.5,
          22738.04,
          22600.14,
          22657.18,
          22670.76,
          22662.38,
          22686.26,
          22680,
          22716.73,
          22703.26,
          22732.19,
          22752.74,
          22740.24,
          22764.91,
          22829.37,
          22879.36,
          22890.88,
          22835.93,
          22826.23,
          22834.65,
          22827.8,
          22808.9,
          22849.88,
          22851.55,
          22898.78,
          22834.58,
          22854.83,
          22836.07,
          22668.43,
          22674.91,
          22681.43,
          22734.43,
          22500,
          22586.68,
          22737.49,
          22802,
          22831.38,
          22851.03,
          22803.03,
          22765.27,
          22856.97,
          22852.59,
          22871.08,
          22868.43,
          22850.15,
          22990,
          23074.77,
          23073.84,
          22862.07,
          22796.57,
          22797.36,
          22670,
          22654,
          22753.71,
          22814.5,
          22822.55,
          22863.69,
          22937.54,
          22937.87,
          22958.77,
          22942.24,
          22959.72,
          22966.58,
          22931.31,
          22852.01,
          22885,
          22869.12,
          22890.46,
          22904.25,
          22864.67,
          22926.01,
          22962.01,
          22937.11,
          22976.04,
          22930.14,
          22930.12,
          22971.1,
          23068.26,
          23087.3,
          23040.5,
          23036.27,
          23015.61,
          23002.31,
          23015.32,
          23035.85,
          23067.18,
          23066.23,
          23062.82,
          23064.23,
          23026.01,
          23036,
          23069.5,
          23089.97,
          23114.44,
          23110.03,
          23090.17,
          23062.55,
          23085.76,
          23086.01,
          23040.06,
          23006.98,
          23033.8,
          23042.24,
          23042.29,
          23045,
          22825,
          22886.87,
          22770,
          22801.86,
          22846.12,
          22859.52,
          22897.81,
          22901.01,
          22870,
          22885.73,
          22900,
          22866.23,
          22882.09,
          22885.62,
          22966.31,
          22957.6,
          22958.22,
          22942.36,
          22785.01,
          22816.79,
          22803.74,
          22800.01,
          22711,
          22803.4,
          22750.01,
          22843.2,
          22856.13,
          22894.57,
          22873.31,
          22868.75,
          22875.24,
          22841.48,
          22785.59,
          22856.74,
          22868.68,
          22887.92,
          22877.19,
          22944.79,
          22978.97,
          22980.02,
          22961.85,
          22980.14,
          22987,
          22990.3,
          22959,
          22927.8,
          22887,
          22879.08,
          22966.83,
          22993.73,
          22966.61,
          22818.02,
          22835.24,
          22669.42,
          22692.24,
          22738.83,
          22626.21,
          22462.93,
          22543.9,
          22545.15,
          22601.62
         ],
         "open": [
          22784.74,
          22740.32,
          22718.22,
          22800.28,
          22869.56,
          22894.85,
          22897.07,
          22908.85,
          22897.79,
          22882.4,
          22933.2,
          22905.29,
          22990.42,
          23039.94,
          22778.43,
          22814.96,
          22794.63,
          22748.27,
          22830.39,
          22831.88,
          22819.38,
          22863.7,
          22892.04,
          22896.4,
          22922.34,
          22910.64,
          22875.4,
          22854.78,
          22838,
          22775.95,
          22808.12,
          22838.34,
          22721.88,
          22531.62,
          22569.13,
          22516.11,
          22459.46,
          22417.09,
          22438.48,
          22553.94,
          22585.38,
          22600.55,
          22567.63,
          22562.34,
          22676.48,
          22731.84,
          22686.05,
          22727.8,
          22706.02,
          22683.03,
          22775.7,
          22766.42,
          22744.83,
          22800,
          22784.12,
          22757.73,
          22699.37,
          22732.45,
          22742.54,
          22714.26,
          22752.71,
          22756.08,
          22714.7,
          22695.65,
          22661.02,
          22701.99,
          22689.68,
          22731.41,
          22758.32,
          22742.75,
          22749.83,
          22741.94,
          22724.48,
          22738.44,
          22735.28,
          22769.69,
          22773.92,
          22743.44,
          22680.35,
          22705.94,
          22696.61,
          22742.25,
          22693.19,
          22745.24,
          22719.28,
          22744.48,
          22782.5,
          22763.14,
          22784.85,
          22856.97,
          22896.46,
          22902.09,
          22909.95,
          22872.15,
          22835.64,
          22883.09,
          22904.58,
          22869.9,
          22862.33,
          22907,
          22911.6,
          22890.44,
          22873.4,
          22868.25,
          22799.89,
          22729.76,
          22793.63,
          22801.73,
          22627.71,
          22774.37,
          22862.02,
          22863.81,
          22855.44,
          22873.2,
          22813.04,
          22866.07,
          22911.86,
          22882.18,
          22905.28,
          22885.67,
          23065.22,
          23120.16,
          23105.33,
          23111.25,
          22935.95,
          22929.56,
          22847.31,
          22746.6,
          22792.47,
          22838.01,
          22852.4,
          22884.68,
          23020.53,
          22958.06,
          22983.75,
          23012.93,
          22996.82,
          22967.77,
          22981.69,
          22945.72,
          22925.32,
          22907.01,
          22923.8,
          22936.65,
          22917.81,
          22942.09,
          22976.88,
          22974.13,
          22985.52,
          22979.92,
          22947.29,
          22972.4,
          23088.48,
          23096.18,
          23116.75,
          23086.25,
          23036.68,
          23033.72,
          23022.83,
          23048.82,
          23079.87,
          23091.1,
          23102.44,
          23092.79,
          23072.17,
          23050.52,
          23070.78,
          23152.61,
          23118.44,
          23124.68,
          23132.79,
          23107.89,
          23094.85,
          23104.99,
          23092.3,
          23059.83,
          23054.7,
          23042.69,
          23072.93,
          23078.19,
          23052.67,
          22920.56,
          22918.25,
          22809.93,
          22852.21,
          22884.56,
          22915.24,
          22931.49,
          22902.51,
          22904.17,
          22923.22,
          22902.47,
          22917.11,
          22891.01,
          22994.94,
          22988.01,
          22963.2,
          23000.97,
          22957.52,
          22827.04,
          22860.37,
          22937.04,
          22853.65,
          22843.16,
          22859.1,
          22887.22,
          22908.8,
          22909.13,
          22931.36,
          22892.77,
          22943.63,
          22902.06,
          22875.18,
          22877.52,
          22900.32,
          22898.14,
          22913.49,
          22995.36,
          22994.9,
          23012.28,
          23000,
          22988.75,
          22997.44,
          23029.88,
          23017.73,
          22974.54,
          22980.34,
          22907.49,
          23009.3,
          22996.59,
          22995.5,
          22993.6,
          22902.84,
          22898.13,
          22693.98,
          22825.99,
          22755.47,
          22688.52,
          22621.56,
          22607.94,
          22631.94
         ],
         "type": "candlestick",
         "x": [
          "2023-01-22T12:00:00",
          "2023-01-22T12:15:00",
          "2023-01-22T12:30:00",
          "2023-01-22T12:45:00",
          "2023-01-22T13:00:00",
          "2023-01-22T13:15:00",
          "2023-01-22T13:30:00",
          "2023-01-22T13:45:00",
          "2023-01-22T14:00:00",
          "2023-01-22T14:15:00",
          "2023-01-22T14:30:00",
          "2023-01-22T14:45:00",
          "2023-01-22T15:00:00",
          "2023-01-22T15:15:00",
          "2023-01-22T15:30:00",
          "2023-01-22T15:45:00",
          "2023-01-22T16:00:00",
          "2023-01-22T16:15:00",
          "2023-01-22T16:30:00",
          "2023-01-22T16:45:00",
          "2023-01-22T17:00:00",
          "2023-01-22T17:15:00",
          "2023-01-22T17:30:00",
          "2023-01-22T17:45:00",
          "2023-01-22T18:00:00",
          "2023-01-22T18:15:00",
          "2023-01-22T18:30:00",
          "2023-01-22T18:45:00",
          "2023-01-22T19:00:00",
          "2023-01-22T19:15:00",
          "2023-01-22T19:30:00",
          "2023-01-22T19:45:00",
          "2023-01-22T20:00:00",
          "2023-01-22T20:15:00",
          "2023-01-22T20:30:00",
          "2023-01-22T20:45:00",
          "2023-01-22T21:00:00",
          "2023-01-22T21:15:00",
          "2023-01-22T21:30:00",
          "2023-01-22T21:45:00",
          "2023-01-22T22:00:00",
          "2023-01-22T22:15:00",
          "2023-01-22T22:30:00",
          "2023-01-22T22:45:00",
          "2023-01-22T23:00:00",
          "2023-01-22T23:15:00",
          "2023-01-22T23:30:00",
          "2023-01-22T23:45:00",
          "2023-01-23T00:00:00",
          "2023-01-23T00:15:00",
          "2023-01-23T00:30:00",
          "2023-01-23T00:45:00",
          "2023-01-23T01:00:00",
          "2023-01-23T01:15:00",
          "2023-01-23T01:30:00",
          "2023-01-23T01:45:00",
          "2023-01-23T02:00:00",
          "2023-01-23T02:15:00",
          "2023-01-23T02:30:00",
          "2023-01-23T02:45:00",
          "2023-01-23T03:00:00",
          "2023-01-23T03:15:00",
          "2023-01-23T03:30:00",
          "2023-01-23T03:45:00",
          "2023-01-23T04:00:00",
          "2023-01-23T04:15:00",
          "2023-01-23T04:30:00",
          "2023-01-23T04:45:00",
          "2023-01-23T05:00:00",
          "2023-01-23T05:15:00",
          "2023-01-23T05:30:00",
          "2023-01-23T05:45:00",
          "2023-01-23T06:00:00",
          "2023-01-23T06:15:00",
          "2023-01-23T06:30:00",
          "2023-01-23T06:45:00",
          "2023-01-23T07:00:00",
          "2023-01-23T07:15:00",
          "2023-01-23T07:30:00",
          "2023-01-23T07:45:00",
          "2023-01-23T08:00:00",
          "2023-01-23T08:15:00",
          "2023-01-23T08:30:00",
          "2023-01-23T08:45:00",
          "2023-01-23T09:00:00",
          "2023-01-23T09:15:00",
          "2023-01-23T09:30:00",
          "2023-01-23T09:45:00",
          "2023-01-23T10:00:00",
          "2023-01-23T10:15:00",
          "2023-01-23T10:30:00",
          "2023-01-23T10:45:00",
          "2023-01-23T11:00:00",
          "2023-01-23T11:15:00",
          "2023-01-23T11:30:00",
          "2023-01-23T11:45:00",
          "2023-01-23T12:00:00",
          "2023-01-23T12:15:00",
          "2023-01-23T12:30:00",
          "2023-01-23T12:45:00",
          "2023-01-23T13:00:00",
          "2023-01-23T13:15:00",
          "2023-01-23T13:30:00",
          "2023-01-23T13:45:00",
          "2023-01-23T14:00:00",
          "2023-01-23T14:15:00",
          "2023-01-23T14:30:00",
          "2023-01-23T14:45:00",
          "2023-01-23T15:00:00",
          "2023-01-23T15:15:00",
          "2023-01-23T15:30:00",
          "2023-01-23T15:45:00",
          "2023-01-23T16:00:00",
          "2023-01-23T16:15:00",
          "2023-01-23T16:30:00",
          "2023-01-23T16:45:00",
          "2023-01-23T17:00:00",
          "2023-01-23T17:15:00",
          "2023-01-23T17:30:00",
          "2023-01-23T17:45:00",
          "2023-01-23T18:00:00",
          "2023-01-23T18:15:00",
          "2023-01-23T18:30:00",
          "2023-01-23T18:45:00",
          "2023-01-23T19:00:00",
          "2023-01-23T19:15:00",
          "2023-01-23T19:30:00",
          "2023-01-23T19:45:00",
          "2023-01-23T20:00:00",
          "2023-01-23T20:15:00",
          "2023-01-23T20:30:00",
          "2023-01-23T20:45:00",
          "2023-01-23T21:00:00",
          "2023-01-23T21:15:00",
          "2023-01-23T21:30:00",
          "2023-01-23T21:45:00",
          "2023-01-23T22:00:00",
          "2023-01-23T22:15:00",
          "2023-01-23T22:30:00",
          "2023-01-23T22:45:00",
          "2023-01-23T23:00:00",
          "2023-01-23T23:15:00",
          "2023-01-23T23:30:00",
          "2023-01-23T23:45:00",
          "2023-01-24T00:00:00",
          "2023-01-24T00:15:00",
          "2023-01-24T00:30:00",
          "2023-01-24T00:45:00",
          "2023-01-24T01:00:00",
          "2023-01-24T01:15:00",
          "2023-01-24T01:30:00",
          "2023-01-24T01:45:00",
          "2023-01-24T02:00:00",
          "2023-01-24T02:15:00",
          "2023-01-24T02:30:00",
          "2023-01-24T02:45:00",
          "2023-01-24T03:00:00",
          "2023-01-24T03:15:00",
          "2023-01-24T03:30:00",
          "2023-01-24T03:45:00",
          "2023-01-24T04:00:00",
          "2023-01-24T04:15:00",
          "2023-01-24T04:30:00",
          "2023-01-24T04:45:00",
          "2023-01-24T05:00:00",
          "2023-01-24T05:15:00",
          "2023-01-24T05:30:00",
          "2023-01-24T05:45:00",
          "2023-01-24T06:00:00",
          "2023-01-24T06:15:00",
          "2023-01-24T06:30:00",
          "2023-01-24T06:45:00",
          "2023-01-24T07:00:00",
          "2023-01-24T07:15:00",
          "2023-01-24T07:30:00",
          "2023-01-24T07:45:00",
          "2023-01-24T08:00:00",
          "2023-01-24T08:15:00",
          "2023-01-24T08:30:00",
          "2023-01-24T08:45:00",
          "2023-01-24T09:00:00",
          "2023-01-24T09:15:00",
          "2023-01-24T09:30:00",
          "2023-01-24T09:45:00",
          "2023-01-24T10:00:00",
          "2023-01-24T10:15:00",
          "2023-01-24T10:30:00",
          "2023-01-24T10:45:00",
          "2023-01-24T11:00:00",
          "2023-01-24T11:15:00",
          "2023-01-24T11:30:00",
          "2023-01-24T11:45:00",
          "2023-01-24T12:00:00",
          "2023-01-24T12:15:00",
          "2023-01-24T12:30:00",
          "2023-01-24T12:45:00",
          "2023-01-24T13:00:00",
          "2023-01-24T13:15:00",
          "2023-01-24T13:30:00",
          "2023-01-24T13:45:00",
          "2023-01-24T14:00:00",
          "2023-01-24T14:15:00",
          "2023-01-24T14:30:00",
          "2023-01-24T14:45:00",
          "2023-01-24T15:00:00",
          "2023-01-24T15:15:00",
          "2023-01-24T15:30:00",
          "2023-01-24T15:45:00",
          "2023-01-24T16:00:00",
          "2023-01-24T16:15:00",
          "2023-01-24T16:30:00",
          "2023-01-24T16:45:00",
          "2023-01-24T17:00:00",
          "2023-01-24T17:15:00",
          "2023-01-24T17:30:00",
          "2023-01-24T17:45:00",
          "2023-01-24T18:00:00",
          "2023-01-24T18:15:00",
          "2023-01-24T18:30:00",
          "2023-01-24T18:45:00",
          "2023-01-24T19:00:00",
          "2023-01-24T19:15:00",
          "2023-01-24T19:30:00",
          "2023-01-24T19:45:00",
          "2023-01-24T20:00:00",
          "2023-01-24T20:15:00",
          "2023-01-24T20:30:00",
          "2023-01-24T20:45:00",
          "2023-01-24T21:00:00",
          "2023-01-24T21:15:00",
          "2023-01-24T21:30:00",
          "2023-01-24T21:45:00",
          "2023-01-24T22:00:00",
          "2023-01-24T22:15:00",
          "2023-01-24T22:30:00",
          "2023-01-24T22:45:00",
          "2023-01-24T23:00:00",
          "2023-01-24T23:15:00",
          "2023-01-24T23:30:00",
          "2023-01-24T23:45:00",
          "2023-01-25T00:00:00"
         ]
        },
        {
         "marker": {
          "color": "red",
          "size": 4
         },
         "mode": "markers",
         "type": "scatter",
         "x": [
          "2023-01-23T12:15:00"
         ],
         "y": [
          22906.97
         ]
        },
        {
         "marker": {
          "color": "green",
          "size": 4
         },
         "mode": "markers",
         "type": "scatter",
         "x": [
          "2023-01-23T22:45:00"
         ],
         "y": [
          22852.01
         ]
        },
        {
         "marker": {
          "color": "green",
          "size": 4
         },
         "mode": "markers",
         "type": "scatter",
         "x": [
          "2023-01-23T23:15:00"
         ],
         "y": [
          22869.12
         ]
        },
        {
         "marker": {
          "color": "green",
          "size": 4
         },
         "mode": "markers",
         "type": "scatter",
         "x": [
          "2023-01-23T23:30:00"
         ],
         "y": [
          22890.46
         ]
        },
        {
         "marker": {
          "color": "green",
          "size": 4
         },
         "mode": "markers",
         "type": "scatter",
         "x": [
          "2023-01-24T00:00:00"
         ],
         "y": [
          22864.67
         ]
        },
        {
         "marker": {
          "color": "red",
          "size": 4
         },
         "mode": "markers",
         "type": "scatter",
         "x": [
          "2023-01-24T12:30:00"
         ],
         "y": [
          23035.31
         ]
        },
        {
         "marker": {
          "color": "red",
          "size": 4
         },
         "mode": "markers",
         "type": "scatter",
         "x": [
          "2023-01-24T18:30:00"
         ],
         "y": [
          23042.52
         ]
        },
        {
         "marker": {
          "color": "red",
          "size": 4
         },
         "mode": "markers",
         "type": "scatter",
         "x": [
          "2023-01-24T19:15:00"
         ],
         "y": [
          23015.94
         ]
        },
        {
         "marker": {
          "color": "red",
          "size": 4
         },
         "mode": "markers",
         "type": "scatter",
         "x": [
          "2023-01-24T21:00:00"
         ],
         "y": [
          23080.45
         ]
        },
        {
         "marker": {
          "color": "red",
          "size": 4
         },
         "mode": "markers",
         "type": "scatter",
         "x": [
          "2023-01-24T21:15:00"
         ],
         "y": [
          23031.6
         ]
        }
       ],
       "layout": {
        "showlegend": false,
        "template": {
         "data": {
          "bar": [
           {
            "error_x": {
             "color": "#2a3f5f"
            },
            "error_y": {
             "color": "#2a3f5f"
            },
            "marker": {
             "line": {
              "color": "#E5ECF6",
              "width": 0.5
             },
             "pattern": {
              "fillmode": "overlay",
              "size": 10,
              "solidity": 0.2
             }
            },
            "type": "bar"
           }
          ],
          "barpolar": [
           {
            "marker": {
             "line": {
              "color": "#E5ECF6",
              "width": 0.5
             },
             "pattern": {
              "fillmode": "overlay",
              "size": 10,
              "solidity": 0.2
             }
            },
            "type": "barpolar"
           }
          ],
          "carpet": [
           {
            "aaxis": {
             "endlinecolor": "#2a3f5f",
             "gridcolor": "white",
             "linecolor": "white",
             "minorgridcolor": "white",
             "startlinecolor": "#2a3f5f"
            },
            "baxis": {
             "endlinecolor": "#2a3f5f",
             "gridcolor": "white",
             "linecolor": "white",
             "minorgridcolor": "white",
             "startlinecolor": "#2a3f5f"
            },
            "type": "carpet"
           }
          ],
          "choropleth": [
           {
            "colorbar": {
             "outlinewidth": 0,
             "ticks": ""
            },
            "type": "choropleth"
           }
          ],
          "contour": [
           {
            "colorbar": {
             "outlinewidth": 0,
             "ticks": ""
            },
            "colorscale": [
             [
              0,
              "#0d0887"
             ],
             [
              0.1111111111111111,
              "#46039f"
             ],
             [
              0.2222222222222222,
              "#7201a8"
             ],
             [
              0.3333333333333333,
              "#9c179e"
             ],
             [
              0.4444444444444444,
              "#bd3786"
             ],
             [
              0.5555555555555556,
              "#d8576b"
             ],
             [
              0.6666666666666666,
              "#ed7953"
             ],
             [
              0.7777777777777778,
              "#fb9f3a"
             ],
             [
              0.8888888888888888,
              "#fdca26"
             ],
             [
              1,
              "#f0f921"
             ]
            ],
            "type": "contour"
           }
          ],
          "contourcarpet": [
           {
            "colorbar": {
             "outlinewidth": 0,
             "ticks": ""
            },
            "type": "contourcarpet"
           }
          ],
          "heatmap": [
           {
            "colorbar": {
             "outlinewidth": 0,
             "ticks": ""
            },
            "colorscale": [
             [
              0,
              "#0d0887"
             ],
             [
              0.1111111111111111,
              "#46039f"
             ],
             [
              0.2222222222222222,
              "#7201a8"
             ],
             [
              0.3333333333333333,
              "#9c179e"
             ],
             [
              0.4444444444444444,
              "#bd3786"
             ],
             [
              0.5555555555555556,
              "#d8576b"
             ],
             [
              0.6666666666666666,
              "#ed7953"
             ],
             [
              0.7777777777777778,
              "#fb9f3a"
             ],
             [
              0.8888888888888888,
              "#fdca26"
             ],
             [
              1,
              "#f0f921"
             ]
            ],
            "type": "heatmap"
           }
          ],
          "heatmapgl": [
           {
            "colorbar": {
             "outlinewidth": 0,
             "ticks": ""
            },
            "colorscale": [
             [
              0,
              "#0d0887"
             ],
             [
              0.1111111111111111,
              "#46039f"
             ],
             [
              0.2222222222222222,
              "#7201a8"
             ],
             [
              0.3333333333333333,
              "#9c179e"
             ],
             [
              0.4444444444444444,
              "#bd3786"
             ],
             [
              0.5555555555555556,
              "#d8576b"
             ],
             [
              0.6666666666666666,
              "#ed7953"
             ],
             [
              0.7777777777777778,
              "#fb9f3a"
             ],
             [
              0.8888888888888888,
              "#fdca26"
             ],
             [
              1,
              "#f0f921"
             ]
            ],
            "type": "heatmapgl"
           }
          ],
          "histogram": [
           {
            "marker": {
             "pattern": {
              "fillmode": "overlay",
              "size": 10,
              "solidity": 0.2
             }
            },
            "type": "histogram"
           }
          ],
          "histogram2d": [
           {
            "colorbar": {
             "outlinewidth": 0,
             "ticks": ""
            },
            "colorscale": [
             [
              0,
              "#0d0887"
             ],
             [
              0.1111111111111111,
              "#46039f"
             ],
             [
              0.2222222222222222,
              "#7201a8"
             ],
             [
              0.3333333333333333,
              "#9c179e"
             ],
             [
              0.4444444444444444,
              "#bd3786"
             ],
             [
              0.5555555555555556,
              "#d8576b"
             ],
             [
              0.6666666666666666,
              "#ed7953"
             ],
             [
              0.7777777777777778,
              "#fb9f3a"
             ],
             [
              0.8888888888888888,
              "#fdca26"
             ],
             [
              1,
              "#f0f921"
             ]
            ],
            "type": "histogram2d"
           }
          ],
          "histogram2dcontour": [
           {
            "colorbar": {
             "outlinewidth": 0,
             "ticks": ""
            },
            "colorscale": [
             [
              0,
              "#0d0887"
             ],
             [
              0.1111111111111111,
              "#46039f"
             ],
             [
              0.2222222222222222,
              "#7201a8"
             ],
             [
              0.3333333333333333,
              "#9c179e"
             ],
             [
              0.4444444444444444,
              "#bd3786"
             ],
             [
              0.5555555555555556,
              "#d8576b"
             ],
             [
              0.6666666666666666,
              "#ed7953"
             ],
             [
              0.7777777777777778,
              "#fb9f3a"
             ],
             [
              0.8888888888888888,
              "#fdca26"
             ],
             [
              1,
              "#f0f921"
             ]
            ],
            "type": "histogram2dcontour"
           }
          ],
          "mesh3d": [
           {
            "colorbar": {
             "outlinewidth": 0,
             "ticks": ""
            },
            "type": "mesh3d"
           }
          ],
          "parcoords": [
           {
            "line": {
             "colorbar": {
              "outlinewidth": 0,
              "ticks": ""
             }
            },
            "type": "parcoords"
           }
          ],
          "pie": [
           {
            "automargin": true,
            "type": "pie"
           }
          ],
          "scatter": [
           {
            "fillpattern": {
             "fillmode": "overlay",
             "size": 10,
             "solidity": 0.2
            },
            "type": "scatter"
           }
          ],
          "scatter3d": [
           {
            "line": {
             "colorbar": {
              "outlinewidth": 0,
              "ticks": ""
             }
            },
            "marker": {
             "colorbar": {
              "outlinewidth": 0,
              "ticks": ""
             }
            },
            "type": "scatter3d"
           }
          ],
          "scattercarpet": [
           {
            "marker": {
             "colorbar": {
              "outlinewidth": 0,
              "ticks": ""
             }
            },
            "type": "scattercarpet"
           }
          ],
          "scattergeo": [
           {
            "marker": {
             "colorbar": {
              "outlinewidth": 0,
              "ticks": ""
             }
            },
            "type": "scattergeo"
           }
          ],
          "scattergl": [
           {
            "marker": {
             "colorbar": {
              "outlinewidth": 0,
              "ticks": ""
             }
            },
            "type": "scattergl"
           }
          ],
          "scattermapbox": [
           {
            "marker": {
             "colorbar": {
              "outlinewidth": 0,
              "ticks": ""
             }
            },
            "type": "scattermapbox"
           }
          ],
          "scatterpolar": [
           {
            "marker": {
             "colorbar": {
              "outlinewidth": 0,
              "ticks": ""
             }
            },
            "type": "scatterpolar"
           }
          ],
          "scatterpolargl": [
           {
            "marker": {
             "colorbar": {
              "outlinewidth": 0,
              "ticks": ""
             }
            },
            "type": "scatterpolargl"
           }
          ],
          "scatterternary": [
           {
            "marker": {
             "colorbar": {
              "outlinewidth": 0,
              "ticks": ""
             }
            },
            "type": "scatterternary"
           }
          ],
          "surface": [
           {
            "colorbar": {
             "outlinewidth": 0,
             "ticks": ""
            },
            "colorscale": [
             [
              0,
              "#0d0887"
             ],
             [
              0.1111111111111111,
              "#46039f"
             ],
             [
              0.2222222222222222,
              "#7201a8"
             ],
             [
              0.3333333333333333,
              "#9c179e"
             ],
             [
              0.4444444444444444,
              "#bd3786"
             ],
             [
              0.5555555555555556,
              "#d8576b"
             ],
             [
              0.6666666666666666,
              "#ed7953"
             ],
             [
              0.7777777777777778,
              "#fb9f3a"
             ],
             [
              0.8888888888888888,
              "#fdca26"
             ],
             [
              1,
              "#f0f921"
             ]
            ],
            "type": "surface"
           }
          ],
          "table": [
           {
            "cells": {
             "fill": {
              "color": "#EBF0F8"
             },
             "line": {
              "color": "white"
             }
            },
            "header": {
             "fill": {
              "color": "#C8D4E3"
             },
             "line": {
              "color": "white"
             }
            },
            "type": "table"
           }
          ]
         },
         "layout": {
          "annotationdefaults": {
           "arrowcolor": "#2a3f5f",
           "arrowhead": 0,
           "arrowwidth": 1
          },
          "autotypenumbers": "strict",
          "coloraxis": {
           "colorbar": {
            "outlinewidth": 0,
            "ticks": ""
           }
          },
          "colorscale": {
           "diverging": [
            [
             0,
             "#8e0152"
            ],
            [
             0.1,
             "#c51b7d"
            ],
            [
             0.2,
             "#de77ae"
            ],
            [
             0.3,
             "#f1b6da"
            ],
            [
             0.4,
             "#fde0ef"
            ],
            [
             0.5,
             "#f7f7f7"
            ],
            [
             0.6,
             "#e6f5d0"
            ],
            [
             0.7,
             "#b8e186"
            ],
            [
             0.8,
             "#7fbc41"
            ],
            [
             0.9,
             "#4d9221"
            ],
            [
             1,
             "#276419"
            ]
           ],
           "sequential": [
            [
             0,
             "#0d0887"
            ],
            [
             0.1111111111111111,
             "#46039f"
            ],
            [
             0.2222222222222222,
             "#7201a8"
            ],
            [
             0.3333333333333333,
             "#9c179e"
            ],
            [
             0.4444444444444444,
             "#bd3786"
            ],
            [
             0.5555555555555556,
             "#d8576b"
            ],
            [
             0.6666666666666666,
             "#ed7953"
            ],
            [
             0.7777777777777778,
             "#fb9f3a"
            ],
            [
             0.8888888888888888,
             "#fdca26"
            ],
            [
             1,
             "#f0f921"
            ]
           ],
           "sequentialminus": [
            [
             0,
             "#0d0887"
            ],
            [
             0.1111111111111111,
             "#46039f"
            ],
            [
             0.2222222222222222,
             "#7201a8"
            ],
            [
             0.3333333333333333,
             "#9c179e"
            ],
            [
             0.4444444444444444,
             "#bd3786"
            ],
            [
             0.5555555555555556,
             "#d8576b"
            ],
            [
             0.6666666666666666,
             "#ed7953"
            ],
            [
             0.7777777777777778,
             "#fb9f3a"
            ],
            [
             0.8888888888888888,
             "#fdca26"
            ],
            [
             1,
             "#f0f921"
            ]
           ]
          },
          "colorway": [
           "#636efa",
           "#EF553B",
           "#00cc96",
           "#ab63fa",
           "#FFA15A",
           "#19d3f3",
           "#FF6692",
           "#B6E880",
           "#FF97FF",
           "#FECB52"
          ],
          "font": {
           "color": "#2a3f5f"
          },
          "geo": {
           "bgcolor": "white",
           "lakecolor": "white",
           "landcolor": "#E5ECF6",
           "showlakes": true,
           "showland": true,
           "subunitcolor": "white"
          },
          "hoverlabel": {
           "align": "left"
          },
          "hovermode": "closest",
          "mapbox": {
           "style": "light"
          },
          "paper_bgcolor": "white",
          "plot_bgcolor": "#E5ECF6",
          "polar": {
           "angularaxis": {
            "gridcolor": "white",
            "linecolor": "white",
            "ticks": ""
           },
           "bgcolor": "#E5ECF6",
           "radialaxis": {
            "gridcolor": "white",
            "linecolor": "white",
            "ticks": ""
           }
          },
          "scene": {
           "xaxis": {
            "backgroundcolor": "#E5ECF6",
            "gridcolor": "white",
            "gridwidth": 2,
            "linecolor": "white",
            "showbackground": true,
            "ticks": "",
            "zerolinecolor": "white"
           },
           "yaxis": {
            "backgroundcolor": "#E5ECF6",
            "gridcolor": "white",
            "gridwidth": 2,
            "linecolor": "white",
            "showbackground": true,
            "ticks": "",
            "zerolinecolor": "white"
           },
           "zaxis": {
            "backgroundcolor": "#E5ECF6",
            "gridcolor": "white",
            "gridwidth": 2,
            "linecolor": "white",
            "showbackground": true,
            "ticks": "",
            "zerolinecolor": "white"
           }
          },
          "shapedefaults": {
           "line": {
            "color": "#2a3f5f"
           }
          },
          "ternary": {
           "aaxis": {
            "gridcolor": "white",
            "linecolor": "white",
            "ticks": ""
           },
           "baxis": {
            "gridcolor": "white",
            "linecolor": "white",
            "ticks": ""
           },
           "bgcolor": "#E5ECF6",
           "caxis": {
            "gridcolor": "white",
            "linecolor": "white",
            "ticks": ""
           }
          },
          "title": {
           "x": 0.05
          },
          "xaxis": {
           "automargin": true,
           "gridcolor": "white",
           "linecolor": "white",
           "ticks": "",
           "title": {
            "standoff": 15
           },
           "zerolinecolor": "white",
           "zerolinewidth": 2
          },
          "yaxis": {
           "automargin": true,
           "gridcolor": "white",
           "linecolor": "white",
           "ticks": "",
           "title": {
            "standoff": 15
           },
           "zerolinecolor": "white",
           "zerolinewidth": 2
          }
         }
        }
       }
      }
     },
     "metadata": {},
     "output_type": "display_data"
    }
   ],
   "source": [
    "up_imbalances, down_imbalances = get_list_of_imbalances(df_higher_tf)\n",
    "df_lower_tf = check_within_imbalances(df_lower_tf,up_imbalances,down_imbalances)\n",
    "# df_higher_tf = add_moving_average(200,df_higher_tf)\n",
    "fig = go.Figure(data=[go.Candlestick(x=df_higher_tf['date'],\n",
    "                open=df_higher_tf['open'],\n",
    "                high=df_higher_tf['high'],\n",
    "                low=df_higher_tf['low'],\n",
    "                close=df_higher_tf['close'])])\n",
    "\n",
    "fig1 = go.Figure(data=[go.Candlestick(x=df_lower_tf['date'],\n",
    "                open=df_lower_tf['open'],\n",
    "                high=df_lower_tf['high'],\n",
    "                low=df_lower_tf['low'],\n",
    "                close=df_lower_tf['close'])])\n",
    "# fig.add_trace(go.Scatter(x=df_higher_tf['date'], y=df_higher_tf['SMA']))\n",
    "\n",
    "# fig1 = go.Figure(go.Scatter(x=df_higher_tf['date'],y=df_higher_tf['SMAslope']))\n",
    "\n",
    "# fig2 = go.Figure(go.Scatter(x=df_higher_tf['date'],y=df_higher_tf['SMAdistance']))\n",
    "\n",
    "# fig1 = go.Figure(data=[go.Candlestick(x=df_lower_tf['date'],\n",
    "#                 open=df_lower_tf['open'],\n",
    "#                 high=df_lower_tf['high'],\n",
    "#                 low=df_lower_tf['low'],\n",
    "#                 close=df_lower_tf['close'])])\n",
    "\n",
    "# buy_orders = []\n",
    "# sell_orders = []\n",
    "# multiplier = 2\n",
    "# for i in range(3, len(df_higher_tf)):\n",
    "#     if df_higher_tf.iloc[i-1]['within_down_imbalance']:\n",
    "#         if hammer_up(df_higher_tf.loc[i-1, ['open', 'high', 'low', 'close']]):\n",
    "#             buy_orders.append((df_higher_tf.iloc[i]['open'], df_higher_tf.iloc[i-1]['low'],\n",
    "#             round(df_higher_tf.iloc[i]['open'] + (df_higher_tf.iloc[i]['open']-df_higher_tf.iloc[i-1]['low'])*multiplier,2),\n",
    "#             df_higher_tf.iloc[i]['date']))\n",
    "\n",
    "#     elif df_higher_tf.iloc[i-1]['within_down_imbalance']:\n",
    "#         if falling_star_down(df_higher_tf.loc[i-1, ['open', 'high', 'low', 'close']]):\n",
    "#             sell_orders.append((df_higher_tf.iloc[i]['open'], df_higher_tf.iloc[i-1]['high'],\n",
    "#             round(df_higher_tf.iloc[i]['open'] - (df_higher_tf.iloc[i-1]['high']-df_higher_tf.iloc[i]['open'])*multiplier,2),\n",
    "#             df_higher_tf.iloc[i]['date']))\n",
    "            \n",
    "    # elif df_higher_tf.iloc[i]['SMAslope'] > -0.0002 and df_higher_tf.iloc[i]['SMAslope'] < 0.0002:\n",
    "    #     if hammer_up(df_lower_tf.loc[i-1, ['open', 'high', 'low', 'close']]):\n",
    "    #         buy_orders.append((df_lower_tf.iloc[i]['open'], df_lower_tf.iloc[i-1]['low'],\n",
    "    #         round(df_lower_tf.iloc[i]['open'] + (df_lower_tf.iloc[i]['open']-df_lower_tf.iloc[i-1]['low'])*multiplier,2),\n",
    "    #         df_lower_tf.iloc[i]['date']))\n",
    "        \n",
    "    #     if falling_star_down(df_lower_tf.loc[i-1, ['open', 'high', 'low', 'close']]):\n",
    "    #         sell_orders.append((df_lower_tf.iloc[i]['open'], df_lower_tf.iloc[i-1]['high'],\n",
    "    #         round(df_lower_tf.iloc[i]['open'] - (df_lower_tf.iloc[i-1]['high']-df_lower_tf.iloc[i]['open'])*multiplier,2),\n",
    "    #         df_lower_tf.iloc[i]['date']))\n",
    "            \n",
    "        \n",
    "\n",
    "# backtest(df_higher_tf,buy_orders,sell_orders,100,1,chart=False)\n",
    "\n",
    "# for order in buy_orders:\n",
    "#     fig.add_trace(go.Scatter(x=[order[3]],y=[order[0]],mode='markers', marker=dict(size=4, color='white')))\n",
    "#     fig.add_trace(go.Scatter(x=[order[3]],y=[order[1]],mode='markers', marker=dict(size=4, color='red')))\n",
    "#     fig.add_trace(go.Scatter(x=[order[3]],y=[order[2]],mode='markers', marker=dict(size=4, color='green')))\n",
    "\n",
    "# for order in sell_orders:\n",
    "#     fig.add_trace(go.Scatter(x=[order[3]],y=[order[0]],mode='markers', marker=dict(size=4, color='white')))\n",
    "#     fig.add_trace(go.Scatter(x=[order[3]],y=[order[1]],mode='markers', marker=dict(size=4, color='red')))\n",
    "#     fig.add_trace(go.Scatter(x=[order[3]],y=[order[2]],mode='markers', marker=dict(size=4, color='green')))\n",
    "\n",
    "for imbalance in up_imbalances:\n",
    "    fig.add_trace(go.Scatter(x=[imbalance[2]],y=[imbalance[0]],mode='markers', marker=dict(size=4, color='green')))\n",
    "\n",
    "for imbalance in down_imbalances:\n",
    "    fig.add_trace(go.Scatter(x=[imbalance[2]],y=[imbalance[0]],mode='markers', marker=dict(size=4, color='red')))\n",
    "\n",
    "# for i in range(3, len(df_lower_tf)):\n",
    "#     if hammer_up(df_lower_tf.loc[i-1, ['open', 'high', 'low', 'close']]):\n",
    "#         fig1.add_trace(go.Scatter(x=[df_lower_tf.iloc[i-1]['date']],y=[df_lower_tf.iloc[i-1]['low']],mode='markers', marker=dict(size=4, color='green')))\n",
    "#         # fig.add_vline(x=df_higher_tf.iloc[i-1]['date'],line=dict(color='green'))\n",
    "\n",
    "#     if falling_star_down(df_lower_tf.loc[i-1, ['open', 'high', 'low', 'close']]):\n",
    "#         fig1.add_trace(go.Scatter(x=[df_lower_tf.iloc[i-1]['date']],y=[df_lower_tf.iloc[i-1]['high']],mode='markers', marker=dict(size=4, color='red')))\n",
    "#         # fig.add_vline(x=df_higher_tf.iloc[i-1]['date'],line=dict(color='red'))\n",
    "\n",
    "for i in range(3, len(df_lower_tf)):\n",
    "    if df_lower_tf.iloc[i]['within_up_imbalance']:\n",
    "        fig1.add_trace(go.Scatter(x=[df_lower_tf.iloc[i]['date']],y=[df_lower_tf.iloc[i]['low']],mode='markers', marker=dict(size=4, color='green')))\n",
    "        \n",
    "    if df_lower_tf.iloc[i]['within_down_imbalance']:\n",
    "        fig1.add_trace(go.Scatter(x=[df_lower_tf.iloc[i]['date']],y=[df_lower_tf.iloc[i]['high']],mode='markers', marker=dict(size=4, color='red')))\n",
    "\n",
    "# atr = go.Figure(go.Scatter(\n",
    "#         x=df_higher_tf['date'],\n",
    "#         y=df_higher_tf['ATR']\n",
    "#     ))\n",
    "\n",
    "\n",
    "\n",
    "fig.update_layout(showlegend=False)\n",
    "fig.show()\n",
    "fig1.update_layout(showlegend=False)\n",
    "fig1.show()\n",
    "# fig2.update_layout(showlegend=False)\n",
    "# fig2.show()\n",
    "# atr.update_layout(showlegend=False)\n",
    "# atr.show()"
   ]
  }
 ],
 "metadata": {
  "kernelspec": {
   "display_name": "Python 3",
   "language": "python",
   "name": "python3"
  },
  "language_info": {
   "codemirror_mode": {
    "name": "ipython",
    "version": 3
   },
   "file_extension": ".py",
   "mimetype": "text/x-python",
   "name": "python",
   "nbconvert_exporter": "python",
   "pygments_lexer": "ipython3",
   "version": "3.10.8"
  },
  "orig_nbformat": 4,
  "vscode": {
   "interpreter": {
    "hash": "05a87d0cfdfbb752979dc8c3f53cb6c0c2a7c4b49c718c090facb8fa9d62de1e"
   }
  }
 },
 "nbformat": 4,
 "nbformat_minor": 2
}
